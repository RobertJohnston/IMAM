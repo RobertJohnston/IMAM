{
 "cells": [
  {
   "cell_type": "code",
   "execution_count": 1,
   "metadata": {
    "collapsed": true,
    "deletable": true,
    "editable": true
   },
   "outputs": [],
   "source": [
    "%matplotlib inline  \n",
    "\n",
    "import pandas as pd\n",
    "import numpy as np\n",
    "import pandas_highcharts.core\n",
    "from sqlalchemy import create_engine\n",
    "import psycopg2\n",
    "import matplotlib.pyplot \n",
    "\n",
    "import os\n",
    "\n",
    "os.environ.setdefault(\"DJANGO_SETTINGS_MODULE\", \"IMAM.settings\")\n",
    "\n",
    "from django.conf import settings\n",
    "from home.management.commands.load_data import rename_cols, assign_state_lga_num\n",
    "\n",
    "import django\n",
    "django.setup()\n",
    "\n",
    "from home.models import Stock, Site"
   ]
  },
  {
   "cell_type": "code",
   "execution_count": 2,
   "metadata": {
    "collapsed": true,
    "deletable": true,
    "editable": true
   },
   "outputs": [],
   "source": [
    "engine = create_engine(\n",
    "    'postgresql://{USER}:{PASSWORD}@{HOST}:{PORT}/{NAME}'.format(**settings.DATABASES['default']))\n",
    "df = pd.read_sql_query(\"select * from stock;\", con=engine)"
   ]
  },
  {
   "cell_type": "code",
   "execution_count": 3,
   "metadata": {
    "collapsed": false,
    "deletable": true,
    "editable": true
   },
   "outputs": [
    {
     "data": {
      "text/html": [
       "<div>\n",
       "<table border=\"1\" class=\"dataframe\">\n",
       "  <thead>\n",
       "    <tr style=\"text-align: right;\">\n",
       "      <th></th>\n",
       "      <th>index</th>\n",
       "      <th>contact_uuid</th>\n",
       "      <th>urn</th>\n",
       "      <th>name</th>\n",
       "      <th>groups</th>\n",
       "      <th>siteid</th>\n",
       "      <th>first_seen</th>\n",
       "      <th>last_seen</th>\n",
       "      <th>weeknum</th>\n",
       "      <th>level</th>\n",
       "      <th>...</th>\n",
       "      <th>rutf_bal_carton</th>\n",
       "      <th>rutf_bal_sachet</th>\n",
       "      <th>rutf_out</th>\n",
       "      <th>rutf_bal</th>\n",
       "      <th>f75_bal_carton</th>\n",
       "      <th>f75_bal_sachet</th>\n",
       "      <th>f100_bal_carton</th>\n",
       "      <th>f100_bal_sachet</th>\n",
       "      <th>confirm</th>\n",
       "      <th>unique</th>\n",
       "    </tr>\n",
       "  </thead>\n",
       "  <tbody>\n",
       "    <tr>\n",
       "      <th>0</th>\n",
       "      <td>0</td>\n",
       "      <td>acf7f7a2-393b-4a13-bdb5-4ca4aab05353</td>\n",
       "      <td>2347035678763</td>\n",
       "      <td>Hauwa Zoakah.</td>\n",
       "      <td>Imam Supervision, Imam Supervision 2, Imam Sup...</td>\n",
       "      <td>2</td>\n",
       "      <td>2016-11-30 13:11:23</td>\n",
       "      <td>2016-11-30 13:11:23</td>\n",
       "      <td>None</td>\n",
       "      <td>First</td>\n",
       "      <td>...</td>\n",
       "      <td>None</td>\n",
       "      <td>None</td>\n",
       "      <td>None</td>\n",
       "      <td>None</td>\n",
       "      <td>None</td>\n",
       "      <td>None</td>\n",
       "      <td>None</td>\n",
       "      <td>NaN</td>\n",
       "      <td>None</td>\n",
       "      <td>2347035678763 2016-11-30 13:11:23</td>\n",
       "    </tr>\n",
       "    <tr>\n",
       "      <th>1</th>\n",
       "      <td>1</td>\n",
       "      <td>acf7f7a2-393b-4a13-bdb5-4ca4aab05353</td>\n",
       "      <td>2347035678763</td>\n",
       "      <td>Hauwa Zoakah.</td>\n",
       "      <td>Imam Supervision, Imam Supervision 2, Imam Sup...</td>\n",
       "      <td>2</td>\n",
       "      <td>2016-11-30 13:16:31</td>\n",
       "      <td>2016-11-30 13:16:31</td>\n",
       "      <td>None</td>\n",
       "      <td>First</td>\n",
       "      <td>...</td>\n",
       "      <td>None</td>\n",
       "      <td>None</td>\n",
       "      <td>None</td>\n",
       "      <td>None</td>\n",
       "      <td>None</td>\n",
       "      <td>None</td>\n",
       "      <td>None</td>\n",
       "      <td>NaN</td>\n",
       "      <td>None</td>\n",
       "      <td>2347035678763 2016-11-30 13:16:31</td>\n",
       "    </tr>\n",
       "    <tr>\n",
       "      <th>2</th>\n",
       "      <td>2</td>\n",
       "      <td>acf7f7a2-393b-4a13-bdb5-4ca4aab05353</td>\n",
       "      <td>2347035678763</td>\n",
       "      <td>Hauwa Zoakah.</td>\n",
       "      <td>Imam Supervision, Imam Supervision 2, Imam Sup...</td>\n",
       "      <td>2</td>\n",
       "      <td>2016-11-30 13:21:14</td>\n",
       "      <td>2016-11-30 13:21:15</td>\n",
       "      <td>None</td>\n",
       "      <td>First</td>\n",
       "      <td>...</td>\n",
       "      <td>None</td>\n",
       "      <td>None</td>\n",
       "      <td>None</td>\n",
       "      <td>None</td>\n",
       "      <td>None</td>\n",
       "      <td>None</td>\n",
       "      <td>None</td>\n",
       "      <td>NaN</td>\n",
       "      <td>None</td>\n",
       "      <td>2347035678763 2016-11-30 13:21:14</td>\n",
       "    </tr>\n",
       "    <tr>\n",
       "      <th>3</th>\n",
       "      <td>3</td>\n",
       "      <td>acf7f7a2-393b-4a13-bdb5-4ca4aab05353</td>\n",
       "      <td>2347035678763</td>\n",
       "      <td>Hauwa Zoakah.</td>\n",
       "      <td>Imam Supervision, Imam Supervision 2, Imam Sup...</td>\n",
       "      <td>2</td>\n",
       "      <td>2016-11-30 13:25:01</td>\n",
       "      <td>2016-11-30 13:25:01</td>\n",
       "      <td>None</td>\n",
       "      <td>First</td>\n",
       "      <td>...</td>\n",
       "      <td>None</td>\n",
       "      <td>None</td>\n",
       "      <td>None</td>\n",
       "      <td>None</td>\n",
       "      <td>None</td>\n",
       "      <td>None</td>\n",
       "      <td>None</td>\n",
       "      <td>NaN</td>\n",
       "      <td>None</td>\n",
       "      <td>2347035678763 2016-11-30 13:25:01</td>\n",
       "    </tr>\n",
       "    <tr>\n",
       "      <th>4</th>\n",
       "      <td>4</td>\n",
       "      <td>acf7f7a2-393b-4a13-bdb5-4ca4aab05353</td>\n",
       "      <td>2347035678763</td>\n",
       "      <td>Hauwa Zoakah.</td>\n",
       "      <td>Imam Supervision, Imam Supervision 2, Imam Sup...</td>\n",
       "      <td>2</td>\n",
       "      <td>2016-11-30 13:28:36</td>\n",
       "      <td>2016-11-30 13:28:37</td>\n",
       "      <td>None</td>\n",
       "      <td>First</td>\n",
       "      <td>...</td>\n",
       "      <td>None</td>\n",
       "      <td>None</td>\n",
       "      <td>None</td>\n",
       "      <td>None</td>\n",
       "      <td>None</td>\n",
       "      <td>None</td>\n",
       "      <td>None</td>\n",
       "      <td>NaN</td>\n",
       "      <td>None</td>\n",
       "      <td>2347035678763 2016-11-30 13:28:36</td>\n",
       "    </tr>\n",
       "  </tbody>\n",
       "</table>\n",
       "<p>5 rows × 27 columns</p>\n",
       "</div>"
      ],
      "text/plain": [
       "   index                          contact_uuid            urn           name  \\\n",
       "0      0  acf7f7a2-393b-4a13-bdb5-4ca4aab05353  2347035678763  Hauwa Zoakah.   \n",
       "1      1  acf7f7a2-393b-4a13-bdb5-4ca4aab05353  2347035678763  Hauwa Zoakah.   \n",
       "2      2  acf7f7a2-393b-4a13-bdb5-4ca4aab05353  2347035678763  Hauwa Zoakah.   \n",
       "3      3  acf7f7a2-393b-4a13-bdb5-4ca4aab05353  2347035678763  Hauwa Zoakah.   \n",
       "4      4  acf7f7a2-393b-4a13-bdb5-4ca4aab05353  2347035678763  Hauwa Zoakah.   \n",
       "\n",
       "                                              groups siteid  \\\n",
       "0  Imam Supervision, Imam Supervision 2, Imam Sup...      2   \n",
       "1  Imam Supervision, Imam Supervision 2, Imam Sup...      2   \n",
       "2  Imam Supervision, Imam Supervision 2, Imam Sup...      2   \n",
       "3  Imam Supervision, Imam Supervision 2, Imam Sup...      2   \n",
       "4  Imam Supervision, Imam Supervision 2, Imam Sup...      2   \n",
       "\n",
       "           first_seen           last_seen weeknum  level  \\\n",
       "0 2016-11-30 13:11:23 2016-11-30 13:11:23    None  First   \n",
       "1 2016-11-30 13:16:31 2016-11-30 13:16:31    None  First   \n",
       "2 2016-11-30 13:21:14 2016-11-30 13:21:15    None  First   \n",
       "3 2016-11-30 13:25:01 2016-11-30 13:25:01    None  First   \n",
       "4 2016-11-30 13:28:36 2016-11-30 13:28:37    None  First   \n",
       "\n",
       "                 ...                 rutf_bal_carton rutf_bal_sachet rutf_out  \\\n",
       "0                ...                            None            None     None   \n",
       "1                ...                            None            None     None   \n",
       "2                ...                            None            None     None   \n",
       "3                ...                            None            None     None   \n",
       "4                ...                            None            None     None   \n",
       "\n",
       "  rutf_bal f75_bal_carton f75_bal_sachet f100_bal_carton f100_bal_sachet  \\\n",
       "0     None           None           None            None             NaN   \n",
       "1     None           None           None            None             NaN   \n",
       "2     None           None           None            None             NaN   \n",
       "3     None           None           None            None             NaN   \n",
       "4     None           None           None            None             NaN   \n",
       "\n",
       "  confirm                             unique  \n",
       "0    None  2347035678763 2016-11-30 13:11:23  \n",
       "1    None  2347035678763 2016-11-30 13:16:31  \n",
       "2    None  2347035678763 2016-11-30 13:21:14  \n",
       "3    None  2347035678763 2016-11-30 13:25:01  \n",
       "4    None  2347035678763 2016-11-30 13:28:36  \n",
       "\n",
       "[5 rows x 27 columns]"
      ]
     },
     "execution_count": 3,
     "metadata": {},
     "output_type": "execute_result"
    }
   ],
   "source": [
    "df.head()"
   ]
  },
  {
   "cell_type": "code",
   "execution_count": 4,
   "metadata": {
    "collapsed": false,
    "deletable": true,
    "editable": true
   },
   "outputs": [
    {
     "data": {
      "text/plain": [
       "array([None, u'26', u'23', u'22', u'24', u'25', u'27', u'28', u'29', u'30',\n",
       "       u'31', u'32', u'33', u'34', u'35', u'36', u'37', u'38', u'39',\n",
       "       u'40', u'41', u'42', u'43', u'44', u'45', u'46', u'47', u'48',\n",
       "       u'49', u'50', u'51', u'52', u'1', u'2', u'3', u'4', u'5', u'6',\n",
       "       u'7', u'8', u'9', u'10', u'11', u'20', u'53', u'0', u'3308', u'YES',\n",
       "       u'N', u'12', u'PRO', u'STO', u'14', u'18', u'St0', u'KDM', u'19',\n",
       "       u'16', u'15', u'PRO    ', u'STO     ', u'21', u'STOCK', u'Pro',\n",
       "       u'Sto', u'NO', u'N0', u'Y', u'I Y C F', u'No', u'Yes', u'17',\n",
       "       u'SHEHU ABDU', u'yes', u'85', u'No ', u'X', u'N ', u'O',\n",
       "       u'Stock report', u'Week31', u'Yes ', u'13', u'101110001', u'St',\n",
       "       u'REG ', u'821110009', u'Wk50', u'Wk49', u'IYCM', u'y', u'PRo',\n",
       "       u'PR0', u'ST0', u'0.', u'6.69', u'52.1', u'STOCKS', u'Oky',\n",
       "       u'Week6', u'1.0', u'YES COMFRIM', u'PRO   ', u'NFP', u'YE', u'300',\n",
       "       u'STO '], dtype=object)"
      ]
     },
     "execution_count": 4,
     "metadata": {},
     "output_type": "execute_result"
    }
   ],
   "source": [
    "# Missing data for weeknum\n",
    "df.weeknum.unique()"
   ]
  },
  {
   "cell_type": "code",
   "execution_count": null,
   "metadata": {
    "collapsed": true
   },
   "outputs": [],
   "source": [
    "# Make sure that supervision staff can submit reports for sites. "
   ]
  },
  {
   "cell_type": "code",
   "execution_count": 2,
   "metadata": {
    "collapsed": false,
    "deletable": true,
    "editable": true
   },
   "outputs": [],
   "source": [
    "# Do not need to import data when it is directly available from postgres\n",
    "\n",
    "# df = pd.ExcelFile('/home/robert/Downloads/sto.xlsx').parse('Runs')\n"
   ]
  },
  {
   "cell_type": "code",
   "execution_count": 5,
   "metadata": {
    "collapsed": false,
    "deletable": true,
    "editable": true
   },
   "outputs": [],
   "source": [
    "# rename_cols(df)"
   ]
  },
  {
   "cell_type": "code",
   "execution_count": 5,
   "metadata": {
    "collapsed": false,
    "deletable": true,
    "editable": true
   },
   "outputs": [
    {
     "data": {
      "text/plain": [
       "Index([u'index', u'contact_uuid', u'urn', u'name', u'groups', u'siteid',\n",
       "       u'first_seen', u'last_seen', u'weeknum', u'level', u'self_report',\n",
       "       u'sto_siteid', u'sto_type', u'type', u'rutf_in', u'rutf_used_carton',\n",
       "       u'rutf_used_sachet', u'rutf_bal_carton', u'rutf_bal_sachet',\n",
       "       u'rutf_out', u'rutf_bal', u'f75_bal_carton', u'f75_bal_sachet',\n",
       "       u'f100_bal_carton', u'f100_bal_sachet', u'confirm', u'unique'],\n",
       "      dtype='object')"
      ]
     },
     "execution_count": 5,
     "metadata": {},
     "output_type": "execute_result"
    }
   ],
   "source": [
    "df.keys()"
   ]
  },
  {
   "cell_type": "code",
   "execution_count": 6,
   "metadata": {
    "collapsed": true,
    "deletable": true,
    "editable": true
   },
   "outputs": [],
   "source": [
    "df['siteid'] = pd.to_numeric(df.siteid, errors='coerce')\n",
    "df['weeknum'] = pd.to_numeric(df.weeknum, errors='coerce')\n",
    "df['rutf_bal_carton'] = pd.to_numeric(df.rutf_bal_carton, errors='coerce')\n",
    "df['rutf_bal_sachet'] = pd.to_numeric(df.rutf_bal_sachet, errors='coerce')\n",
    "\n",
    "df = df.query('siteid==siteid').query('0<siteid<3999990999')\n",
    "# 2015 had 53 weeks\n",
    "# 2016 had 52 weeks - current data is only for weeknumbers from 22-2016 to present\n",
    "df = df.query('weeknum==weeknum').query('0.99<weeknum<53')\n",
    "df = df.query('rutf_bal_carton==rutf_bal_carton').query('0<=rutf_bal_carton<9999')\n",
    "df = df.query('rutf_bal_sachet==rutf_bal_sachet').query('0<=rutf_bal_sachet<9999')\n",
    "\n",
    "df['siteid'] = df.siteid.astype('int')\n",
    "df['weeknum'] = df.weeknum.astype('int')\n",
    "df['rutf_bal_carton'] = df.rutf_bal_carton.astype('int')\n",
    "df['rutf_bal_sachet'] = df.rutf_bal_sachet.astype('int')"
   ]
  },
  {
   "cell_type": "code",
   "execution_count": 7,
   "metadata": {
    "collapsed": false,
    "deletable": true,
    "editable": true
   },
   "outputs": [
    {
     "data": {
      "text/plain": [
       "28048"
      ]
     },
     "execution_count": 7,
     "metadata": {},
     "output_type": "execute_result"
    }
   ],
   "source": [
    "len(df)"
   ]
  },
  {
   "cell_type": "code",
   "execution_count": 8,
   "metadata": {
    "collapsed": false,
    "deletable": true,
    "editable": true
   },
   "outputs": [],
   "source": [
    "# Drop unvalidated data\n",
    "df = df.query('confirm==\"Yes\"')"
   ]
  },
  {
   "cell_type": "code",
   "execution_count": 9,
   "metadata": {
    "collapsed": false,
    "deletable": true,
    "editable": true
   },
   "outputs": [
    {
     "data": {
      "text/plain": [
       "21295"
      ]
     },
     "execution_count": 9,
     "metadata": {},
     "output_type": "execute_result"
    }
   ],
   "source": [
    "# Before filter - Sort data\n",
    "df = df.sort_values(by='last_seen', ascending = False)\n",
    "df = df.drop_duplicates(['siteid', 'weeknum', 'type'], keep ='first')\n",
    "\n",
    "len(df)"
   ]
  },
  {
   "cell_type": "code",
   "execution_count": 10,
   "metadata": {
    "collapsed": false,
    "deletable": true,
    "editable": true
   },
   "outputs": [],
   "source": [
    "df['year'] = df['last_seen'].map(lambda x: x.year)\n",
    "\n",
    "df['last_seen_weeknum'] = df['last_seen'].map(lambda x: x.week)\n",
    "df['year'] = np.where(df['last_seen_weeknum'] < df['weeknum'],\n",
    "                                        df['year'] - 1, df['year'])"
   ]
  },
  {
   "cell_type": "code",
   "execution_count": 16,
   "metadata": {
    "collapsed": false
   },
   "outputs": [
    {
     "data": {
      "text/plain": [
       "array(['17', '33', '35', '20', '16', '36', '2', '8', '21', '19', '18', '5',\n",
       "       '3', '1', '80'], dtype=object)"
      ]
     },
     "execution_count": 16,
     "metadata": {},
     "output_type": "execute_result"
    }
   ],
   "source": [
    "assign_state_lga_num(df)\n",
    "df.state_num.unique()"
   ]
  },
  {
   "cell_type": "code",
   "execution_count": 11,
   "metadata": {
    "collapsed": false,
    "deletable": true,
    "editable": true
   },
   "outputs": [
    {
     "data": {
      "text/plain": [
       "[0,\n",
       " 1,\n",
       " 2,\n",
       " 3,\n",
       " 4,\n",
       " 5,\n",
       " 6,\n",
       " 7,\n",
       " 8,\n",
       " 9,\n",
       " 10,\n",
       " 11,\n",
       " 12,\n",
       " 13,\n",
       " 14,\n",
       " 15,\n",
       " 16,\n",
       " 17,\n",
       " 18,\n",
       " 19,\n",
       " 20,\n",
       " 21,\n",
       " 22,\n",
       " 23,\n",
       " 24,\n",
       " 25,\n",
       " 26,\n",
       " 27,\n",
       " 28,\n",
       " 29,\n",
       " 30,\n",
       " 31,\n",
       " 32,\n",
       " 33,\n",
       " 34,\n",
       " 35,\n",
       " 36,\n",
       " 37,\n",
       " 38,\n",
       " 39,\n",
       " 40,\n",
       " 41,\n",
       " 42,\n",
       " 43,\n",
       " 44,\n",
       " 46,\n",
       " 47,\n",
       " 48,\n",
       " 49,\n",
       " 50,\n",
       " 51,\n",
       " 53,\n",
       " 54,\n",
       " 55,\n",
       " 56,\n",
       " 57,\n",
       " 58,\n",
       " 60,\n",
       " 62,\n",
       " 63,\n",
       " 66,\n",
       " 67,\n",
       " 68,\n",
       " 69,\n",
       " 70,\n",
       " 71,\n",
       " 74,\n",
       " 77,\n",
       " 79,\n",
       " 81,\n",
       " 84,\n",
       " 85,\n",
       " 86,\n",
       " 91,\n",
       " 94,\n",
       " 95,\n",
       " 96,\n",
       " 103,\n",
       " 109,\n",
       " 112,\n",
       " 118,\n",
       " 123,\n",
       " 127,\n",
       " 130,\n",
       " 133,\n",
       " 140,\n",
       " 150,\n",
       " 174,\n",
       " 175,\n",
       " 180,\n",
       " 181,\n",
       " 183,\n",
       " 258,\n",
       " 269,\n",
       " 499]"
      ]
     },
     "execution_count": 11,
     "metadata": {},
     "output_type": "execute_result"
    }
   ],
   "source": [
    "# Quantity of RUTF in last (most recent) stock report\n",
    "\n",
    "sorted(df.query('year==2017').sort_values(by='weeknum', ascending = False).drop_duplicates(['siteid'], keep ='last')['rutf_bal_carton'].unique())"
   ]
  },
  {
   "cell_type": "code",
   "execution_count": 28,
   "metadata": {
    "collapsed": false,
    "deletable": true,
    "editable": true
   },
   "outputs": [
    {
     "data": {
      "text/plain": [
       "<matplotlib.axes._subplots.AxesSubplot at 0x7f4bc7038290>"
      ]
     },
     "execution_count": 28,
     "metadata": {},
     "output_type": "execute_result"
    },
    {
     "data": {
      "image/png": "[encoded data removed]",
      "text/plain": [
       "<matplotlib.figure.Figure at 0x7f4bc7b4bf90>"
      ]
     },
     "metadata": {},
     "output_type": "display_data"
    }
   ],
   "source": [
    "# most recent stock report for sites\n",
    "df.query('year==2017').sort_values(by='weeknum', ascending = False).drop_duplicates(['siteid'], keep ='last')['rutf_bal_carton'].plot.hist()"
   ]
  },
  {
   "cell_type": "code",
   "execution_count": 37,
   "metadata": {
    "collapsed": false,
    "deletable": true,
    "editable": true
   },
   "outputs": [
    {
     "name": "stdout",
     "output_type": "stream",
     "text": [
      "28659    24\n",
      "Name: rutf_bal_carton, dtype: int64\n",
      "28659    43\n",
      "Name: rutf_bal_sachet, dtype: int64\n"
     ]
    }
   ],
   "source": [
    "# most recent stock report for sites\n",
    "print df.query('year==2017').query('siteid==3613110051').sort_values(by='weeknum', ascending = False).drop_duplicates(['siteid'], keep ='last')['rutf_bal_carton']\n",
    "print df.query('year==2017').query('siteid==3613110051').sort_values(by='weeknum', ascending = False).drop_duplicates(['siteid'], keep ='last')['rutf_bal_sachet']"
   ]
  },
  {
   "cell_type": "code",
   "execution_count": 43,
   "metadata": {
    "collapsed": false,
    "deletable": true,
    "editable": true
   },
   "outputs": [
    {
     "data": {
      "text/plain": [
       "Series([], Name: rutf_bal_sachet, dtype: int64)"
      ]
     },
     "execution_count": 43,
     "metadata": {},
     "output_type": "execute_result"
    }
   ],
   "source": [
    " df.query('year==2017').query('siteid==3613110051').sort_values(by='weeknum', ascending = False).drop_duplicates(['siteid'], keep ='last')['rutf_bal_sachet']"
   ]
  },
  {
   "cell_type": "code",
   "execution_count": 45,
   "metadata": {
    "collapsed": false,
    "deletable": true,
    "editable": true
   },
   "outputs": [
    {
     "data": {
      "text/plain": [
       "28659    1\n",
       "Name: weeknum, dtype: int64"
      ]
     },
     "execution_count": 45,
     "metadata": {},
     "output_type": "execute_result"
    }
   ],
   "source": [
    " df.query('year==2017').query('siteid==3613110051').sort_values(by='weeknum', ascending = False).drop_duplicates(['siteid'], keep ='last')['weeknum']"
   ]
  }
 ],
 "metadata": {
  "kernelspec": {
   "display_name": "Python 2",
   "language": "python",
   "name": "python2"
  },
  "language_info": {
   "codemirror_mode": {
    "name": "ipython",
    "version": 2
   },
   "file_extension": ".py",
   "mimetype": "text/x-python",
   "name": "python",
   "nbconvert_exporter": "python",
   "pygments_lexer": "ipython2",
   "version": "2.7.12"
  }
 },
 "nbformat": 4,
 "nbformat_minor": 2
}
