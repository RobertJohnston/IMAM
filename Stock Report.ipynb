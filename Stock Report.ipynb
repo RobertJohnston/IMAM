{
 "cells": [
  {
   "cell_type": "code",
   "execution_count": 1,
   "metadata": {
    "collapsed": true,
    "deletable": true,
    "editable": true
   },
   "outputs": [],
   "source": [
    "%matplotlib inline  \n",
    "\n",
    "import pandas as pd\n",
    "import numpy as np\n",
    "import pandas_highcharts.core\n",
    "from sqlalchemy import create_engine\n",
    "import psycopg2\n",
    "import matplotlib.pyplot \n",
    "\n",
    "#import datetime \n",
    "from datetime import datetime, date, timedelta\n",
    "\n",
    "from isoweek import Week\n",
    "\n",
    "import os\n",
    "\n",
    "os.environ.setdefault(\"DJANGO_SETTINGS_MODULE\", \"IMAM.settings\")\n",
    "\n",
    "from django.conf import settings\n",
    "from home.management.commands.load_data import rename_cols, assign_state_lga_num\n",
    "\n",
    "import django\n",
    "django.setup()\n",
    "\n",
    "from home.models import Stock, Site"
   ]
  },
  {
   "cell_type": "code",
   "execution_count": 2,
   "metadata": {
    "collapsed": true,
    "deletable": true,
    "editable": true
   },
   "outputs": [],
   "source": [
    "engine = create_engine(\n",
    "    'postgresql://{USER}:{PASSWORD}@{HOST}:{PORT}/{NAME}'.format(**settings.DATABASES['default']))\n",
    "df = pd.read_sql_query(\"select * from stock;\", con=engine)"
   ]
  },
  {
   "cell_type": "code",
   "execution_count": 190,
   "metadata": {
    "collapsed": false,
    "deletable": true,
    "editable": true
   },
   "outputs": [
    {
     "data": {
      "text/html": [
       "<div>\n",
       "<table border=\"1\" class=\"dataframe\">\n",
       "  <thead>\n",
       "    <tr style=\"text-align: right;\">\n",
       "      <th></th>\n",
       "      <th>index</th>\n",
       "      <th>contact_uuid</th>\n",
       "      <th>urn</th>\n",
       "      <th>name</th>\n",
       "      <th>groups</th>\n",
       "      <th>siteid</th>\n",
       "      <th>first_seen</th>\n",
       "      <th>last_seen</th>\n",
       "      <th>weeknum</th>\n",
       "      <th>year</th>\n",
       "      <th>rutf_in</th>\n",
       "      <th>rutf_used_carton</th>\n",
       "      <th>rutf_used_sachet</th>\n",
       "      <th>rutf_bal_carton</th>\n",
       "      <th>rutf_bal_sachet</th>\n",
       "      <th>f75_bal_carton</th>\n",
       "      <th>f75_bal_sachet</th>\n",
       "      <th>f100_bal_carton</th>\n",
       "      <th>f100_bal_sachet</th>\n",
       "      <th>type</th>\n",
       "    </tr>\n",
       "  </thead>\n",
       "  <tbody>\n",
       "    <tr>\n",
       "      <th>0</th>\n",
       "      <td>356919933</td>\n",
       "      <td>37953e19-a15b-486f-b540-fe4bda579414</td>\n",
       "      <td>+2347035432969</td>\n",
       "      <td>Liti Nuhu.</td>\n",
       "      <td></td>\n",
       "      <td>1940110003</td>\n",
       "      <td>2016-11-02 15:21:57.473048+01:00</td>\n",
       "      <td>2016-11-02 15:30:49.667305+01:00</td>\n",
       "      <td>36</td>\n",
       "      <td>2016</td>\n",
       "      <td>30.0</td>\n",
       "      <td>20.0</td>\n",
       "      <td>80.0</td>\n",
       "      <td>60.0</td>\n",
       "      <td>16.0</td>\n",
       "      <td>NaN</td>\n",
       "      <td>NaN</td>\n",
       "      <td>NaN</td>\n",
       "      <td>NaN</td>\n",
       "      <td>OTP</td>\n",
       "    </tr>\n",
       "    <tr>\n",
       "      <th>1</th>\n",
       "      <td>428595444</td>\n",
       "      <td>729cdead-65f6-410a-aa27-5f02ec352cff</td>\n",
       "      <td>+2347033311675</td>\n",
       "      <td>Abdullahi Zubairu.</td>\n",
       "      <td></td>\n",
       "      <td>2004110034</td>\n",
       "      <td>2017-02-09 11:46:12.559349+01:00</td>\n",
       "      <td>2017-02-09 11:54:45.917427+01:00</td>\n",
       "      <td>6</td>\n",
       "      <td>2017</td>\n",
       "      <td>0.0</td>\n",
       "      <td>0.0</td>\n",
       "      <td>0.0</td>\n",
       "      <td>0.0</td>\n",
       "      <td>0.0</td>\n",
       "      <td>NaN</td>\n",
       "      <td>NaN</td>\n",
       "      <td>NaN</td>\n",
       "      <td>NaN</td>\n",
       "      <td>OTP</td>\n",
       "    </tr>\n",
       "    <tr>\n",
       "      <th>2</th>\n",
       "      <td>432291171</td>\n",
       "      <td>75922589-9b7c-46cf-9dfd-54d606c42a89</td>\n",
       "      <td>+2348086487183</td>\n",
       "      <td>Mohammed Hussaini.</td>\n",
       "      <td></td>\n",
       "      <td>837110010</td>\n",
       "      <td>2017-02-19 18:42:05.395577+01:00</td>\n",
       "      <td>2017-02-19 18:49:20.223206+01:00</td>\n",
       "      <td>3</td>\n",
       "      <td>2017</td>\n",
       "      <td>34.0</td>\n",
       "      <td>7.0</td>\n",
       "      <td>74.0</td>\n",
       "      <td>27.0</td>\n",
       "      <td>8.0</td>\n",
       "      <td>NaN</td>\n",
       "      <td>NaN</td>\n",
       "      <td>NaN</td>\n",
       "      <td>NaN</td>\n",
       "      <td>OTP</td>\n",
       "    </tr>\n",
       "    <tr>\n",
       "      <th>3</th>\n",
       "      <td>356919914</td>\n",
       "      <td>2dc00036-fc9b-4b21-8634-26e00e481743</td>\n",
       "      <td>+2348036832379</td>\n",
       "      <td>Binta Rabo.</td>\n",
       "      <td></td>\n",
       "      <td>2016110029</td>\n",
       "      <td>2016-11-02 15:21:37.376357+01:00</td>\n",
       "      <td>2016-11-02 15:29:15.100709+01:00</td>\n",
       "      <td>36</td>\n",
       "      <td>2016</td>\n",
       "      <td>50.0</td>\n",
       "      <td>42.0</td>\n",
       "      <td>56.0</td>\n",
       "      <td>7.0</td>\n",
       "      <td>94.0</td>\n",
       "      <td>NaN</td>\n",
       "      <td>NaN</td>\n",
       "      <td>NaN</td>\n",
       "      <td>NaN</td>\n",
       "      <td>OTP</td>\n",
       "    </tr>\n",
       "    <tr>\n",
       "      <th>4</th>\n",
       "      <td>407944698</td>\n",
       "      <td>c6229de2-68b3-4fea-9e26-e2cd90f064ff</td>\n",
       "      <td>+2348020762648</td>\n",
       "      <td>Fati Baba Gana.</td>\n",
       "      <td></td>\n",
       "      <td>816110028</td>\n",
       "      <td>2017-01-09 11:55:05.538947+01:00</td>\n",
       "      <td>2017-01-09 12:00:41.311426+01:00</td>\n",
       "      <td>52</td>\n",
       "      <td>2016</td>\n",
       "      <td>0.0</td>\n",
       "      <td>3.0</td>\n",
       "      <td>145.0</td>\n",
       "      <td>37.0</td>\n",
       "      <td>35.0</td>\n",
       "      <td>NaN</td>\n",
       "      <td>NaN</td>\n",
       "      <td>NaN</td>\n",
       "      <td>NaN</td>\n",
       "      <td>OTP</td>\n",
       "    </tr>\n",
       "  </tbody>\n",
       "</table>\n",
       "</div>"
      ],
      "text/plain": [
       "       index                          contact_uuid             urn  \\\n",
       "0  356919933  37953e19-a15b-486f-b540-fe4bda579414  +2347035432969   \n",
       "1  428595444  729cdead-65f6-410a-aa27-5f02ec352cff  +2347033311675   \n",
       "2  432291171  75922589-9b7c-46cf-9dfd-54d606c42a89  +2348086487183   \n",
       "3  356919914  2dc00036-fc9b-4b21-8634-26e00e481743  +2348036832379   \n",
       "4  407944698  c6229de2-68b3-4fea-9e26-e2cd90f064ff  +2348020762648   \n",
       "\n",
       "                 name groups      siteid                        first_seen  \\\n",
       "0          Liti Nuhu.         1940110003  2016-11-02 15:21:57.473048+01:00   \n",
       "1  Abdullahi Zubairu.         2004110034  2017-02-09 11:46:12.559349+01:00   \n",
       "2  Mohammed Hussaini.          837110010  2017-02-19 18:42:05.395577+01:00   \n",
       "3         Binta Rabo.         2016110029  2016-11-02 15:21:37.376357+01:00   \n",
       "4     Fati Baba Gana.          816110028  2017-01-09 11:55:05.538947+01:00   \n",
       "\n",
       "                          last_seen  weeknum  year  rutf_in  rutf_used_carton  \\\n",
       "0  2016-11-02 15:30:49.667305+01:00       36  2016     30.0              20.0   \n",
       "1  2017-02-09 11:54:45.917427+01:00        6  2017      0.0               0.0   \n",
       "2  2017-02-19 18:49:20.223206+01:00        3  2017     34.0               7.0   \n",
       "3  2016-11-02 15:29:15.100709+01:00       36  2016     50.0              42.0   \n",
       "4  2017-01-09 12:00:41.311426+01:00       52  2016      0.0               3.0   \n",
       "\n",
       "   rutf_used_sachet  rutf_bal_carton  rutf_bal_sachet  f75_bal_carton  \\\n",
       "0              80.0             60.0             16.0             NaN   \n",
       "1               0.0              0.0              0.0             NaN   \n",
       "2              74.0             27.0              8.0             NaN   \n",
       "3              56.0              7.0             94.0             NaN   \n",
       "4             145.0             37.0             35.0             NaN   \n",
       "\n",
       "   f75_bal_sachet  f100_bal_carton  f100_bal_sachet type  \n",
       "0             NaN              NaN              NaN  OTP  \n",
       "1             NaN              NaN              NaN  OTP  \n",
       "2             NaN              NaN              NaN  OTP  \n",
       "3             NaN              NaN              NaN  OTP  \n",
       "4             NaN              NaN              NaN  OTP  "
      ]
     },
     "execution_count": 190,
     "metadata": {},
     "output_type": "execute_result"
    }
   ],
   "source": [
    "df.head()"
   ]
  },
  {
   "cell_type": "code",
   "execution_count": 191,
   "metadata": {
    "collapsed": false,
    "deletable": true,
    "editable": true
   },
   "outputs": [
    {
     "name": "stdout",
     "output_type": "stream",
     "text": [
      "[1, 2, 3, 4, 5]\n"
     ]
    }
   ],
   "source": [
    "# Missing data for weeknum\n",
    "print sorted(df.weeknum.unique())[0:5]\n",
    "#df.weeknum.value_counts()\n",
    "\n",
    "# Still week number 53 is included.\n",
    "# it is deleted below in data cleaning"
   ]
  },
  {
   "cell_type": "code",
   "execution_count": null,
   "metadata": {
    "collapsed": true,
    "deletable": true,
    "editable": true
   },
   "outputs": [],
   "source": [
    "# Make sure that supervision staff can submit reports for sites. "
   ]
  },
  {
   "cell_type": "code",
   "execution_count": 2,
   "metadata": {
    "collapsed": false,
    "deletable": true,
    "editable": true
   },
   "outputs": [],
   "source": [
    "# Do not need to import data when it is directly available from postgres\n",
    "\n",
    "# df = pd.ExcelFile('/home/robert/Downloads/sto.xlsx').parse('Runs')\n"
   ]
  },
  {
   "cell_type": "code",
   "execution_count": 5,
   "metadata": {
    "collapsed": false,
    "deletable": true,
    "editable": true
   },
   "outputs": [],
   "source": [
    "# rename_cols(df)"
   ]
  },
  {
   "cell_type": "code",
   "execution_count": 32,
   "metadata": {
    "collapsed": false,
    "deletable": true,
    "editable": true
   },
   "outputs": [
    {
     "data": {
      "text/plain": [
       "Index([u'index', u'contact_uuid', u'urn', u'name', u'groups', u'siteid',\n",
       "       u'first_seen', u'last_seen', u'weeknum', u'year', u'rutf_in',\n",
       "       u'rutf_used_carton', u'rutf_used_sachet', u'rutf_bal_carton',\n",
       "       u'rutf_bal_sachet', u'f75_bal_carton', u'f75_bal_sachet',\n",
       "       u'f100_bal_carton', u'f100_bal_sachet', u'type'],\n",
       "      dtype='object')"
      ]
     },
     "execution_count": 32,
     "metadata": {},
     "output_type": "execute_result"
    }
   ],
   "source": [
    "df.keys()"
   ]
  },
  {
   "cell_type": "code",
   "execution_count": 3,
   "metadata": {
    "collapsed": true,
    "deletable": true,
    "editable": true
   },
   "outputs": [],
   "source": [
    "df['siteid'] = pd.to_numeric(df.siteid, errors='coerce')\n",
    "df['weeknum'] = pd.to_numeric(df.weeknum, errors='coerce')\n",
    "df['rutf_bal_carton'] = pd.to_numeric(df.rutf_bal_carton, errors='coerce')\n",
    "df['rutf_bal_sachet'] = pd.to_numeric(df.rutf_bal_sachet, errors='coerce')\n",
    "\n",
    "df = df.query('siteid==siteid').query('0<siteid<3999990999')\n",
    "# 2015 had 53 weeks\n",
    "# 2016 had 52 weeks - current data is only for weeknumbers from 22-2016 to present\n",
    "df = df.query('weeknum==weeknum').query('0.99<weeknum<53')\n",
    "df = df.query('rutf_bal_carton==rutf_bal_carton').query('0<=rutf_bal_carton<9999')\n",
    "df = df.query('rutf_bal_sachet==rutf_bal_sachet').query('0<=rutf_bal_sachet<9999')\n",
    "\n",
    "df['siteid'] = df.siteid.astype('int')\n",
    "df['weeknum'] = df.weeknum.astype('int')\n",
    "df['rutf_bal_carton'] = df.rutf_bal_carton.astype('int')\n",
    "df['rutf_bal_sachet'] = df.rutf_bal_sachet.astype('int')"
   ]
  },
  {
   "cell_type": "code",
   "execution_count": 4,
   "metadata": {
    "collapsed": false,
    "deletable": true,
    "editable": true
   },
   "outputs": [
    {
     "data": {
      "text/plain": [
       "28395"
      ]
     },
     "execution_count": 4,
     "metadata": {},
     "output_type": "execute_result"
    }
   ],
   "source": [
    "len(df)"
   ]
  },
  {
   "cell_type": "code",
   "execution_count": 194,
   "metadata": {
    "collapsed": false,
    "deletable": true,
    "editable": true
   },
   "outputs": [],
   "source": [
    "# Drop unvalidated data\n",
    "# df = df.query('confirm==\"Yes\"')\n",
    "\n",
    "# all unvalidated data are not imported"
   ]
  },
  {
   "cell_type": "code",
   "execution_count": 5,
   "metadata": {
    "collapsed": false,
    "deletable": true,
    "editable": true
   },
   "outputs": [
    {
     "data": {
      "text/plain": [
       "28394"
      ]
     },
     "execution_count": 5,
     "metadata": {},
     "output_type": "execute_result"
    }
   ],
   "source": [
    "# all duplicates should have been dropped in importation\n",
    "# check if this is correct - did we forget type in importation? \n",
    "\n",
    "# Before filter - Sort data\n",
    "df = df.sort_values(by='last_seen', ascending = False)\n",
    "df = df.drop_duplicates(['siteid', 'weeknum', 'type','year'], keep ='first')\n",
    "\n",
    "len(df)"
   ]
  },
  {
   "cell_type": "code",
   "execution_count": null,
   "metadata": {
    "collapsed": true,
    "deletable": true,
    "editable": true
   },
   "outputs": [],
   "source": []
  },
  {
   "cell_type": "code",
   "execution_count": 6,
   "metadata": {
    "collapsed": false,
    "deletable": true,
    "editable": true
   },
   "outputs": [],
   "source": [
    "df['year_weeknum'] = zip(df['year'], df['weeknum'])\n",
    "\n",
    "#the variable 'iso_year_weeknum' is an isoweek object\n",
    "df['iso_year_weeknum'] = df['year_weeknum'].map(lambda x: Week(x[0], x[1]))\n",
    "\n",
    "year, week, _ = date.today().isocalendar()\n",
    "current_week = Week(year, week)\n",
    "\n",
    "# Number of weeks from current week until report week (weeknum)\n",
    "df['since_x_weeks'] = df['iso_year_weeknum'].map(lambda x: current_week - x)"
   ]
  },
  {
   "cell_type": "code",
   "execution_count": 7,
   "metadata": {
    "collapsed": false,
    "deletable": true,
    "editable": true
   },
   "outputs": [],
   "source": [
    "df = df.query('not (weeknum < 22 & year <=2016)')\n",
    "df = df.query('not (weeknum > %s & year ==%s)' % (week, year)) \n",
    "df = df.query('year >= 2016')"
   ]
  },
  {
   "cell_type": "code",
   "execution_count": 8,
   "metadata": {
    "collapsed": false,
    "deletable": true,
    "editable": true
   },
   "outputs": [
    {
     "data": {
      "text/plain": [
       "2016    13922\n",
       "2017    13893\n",
       "Name: year, dtype: int64"
      ]
     },
     "execution_count": 8,
     "metadata": {},
     "output_type": "execute_result"
    }
   ],
   "source": [
    "# Year is added and corrected in importation\n",
    "df['year'].value_counts()"
   ]
  },
  {
   "cell_type": "code",
   "execution_count": 166,
   "metadata": {
    "collapsed": false,
    "deletable": true,
    "editable": true,
    "scrolled": true
   },
   "outputs": [
    {
     "name": "stdout",
     "output_type": "stream",
     "text": [
      "13727    True\n",
      "25629    True\n",
      "6626     True\n",
      "7940     True\n",
      "7942     True\n",
      "1163     True\n",
      "7972     True\n",
      "1178     True\n",
      "24856    True\n",
      "1204     True\n",
      "1260     True\n",
      "1271     True\n",
      "7372     True\n",
      "1275     True\n",
      "8269     True\n",
      "1738     True\n",
      "6440     True\n",
      "398      True\n",
      "1668     True\n",
      "4973     True\n",
      "6128     True\n",
      "6944     True\n",
      "4937     True\n",
      "25623    True\n",
      "6911     True\n",
      "4930     True\n",
      "651      True\n",
      "428      True\n",
      "6865     True\n",
      "233      True\n",
      "         ... \n",
      "15576    True\n",
      "15621    True\n",
      "13711    True\n",
      "20559    True\n",
      "13411    True\n",
      "19925    True\n",
      "19921    True\n",
      "19913    True\n",
      "15923    True\n",
      "19912    True\n",
      "13650    True\n",
      "15631    True\n",
      "15629    True\n",
      "13709    True\n",
      "20082    True\n",
      "15058    True\n",
      "15074    True\n",
      "15071    True\n",
      "15069    True\n",
      "18511    True\n",
      "16428    True\n",
      "20024    True\n",
      "19922    True\n",
      "12670    True\n",
      "16427    True\n",
      "10879    True\n",
      "17124    True\n",
      "13717    True\n",
      "26133    True\n",
      "17156    True\n",
      "dtype: bool\n",
      "<class 'pandas.core.series.Series'>\n",
      "<class 'pandas.core.series.Series'>\n"
     ]
    }
   ],
   "source": [
    "# are year_weeknum and iso_year_weeknum the same? \n",
    "#df.plot.scatter('year_weeknum', 'iso_year_weeknum')\n",
    "\n",
    "print (df['year_weeknum']) == (df['iso_year_weeknum'])\n",
    "\n",
    "#First is tuple, second is isocalendar object\n",
    "print type(df['year_weeknum'])\n",
    "print type(df['iso_year_weeknum'])"
   ]
  },
  {
   "cell_type": "code",
   "execution_count": 185,
   "metadata": {
    "collapsed": false,
    "deletable": true,
    "editable": true
   },
   "outputs": [
    {
     "data": {
      "image/png": "[encoded data removed]",
      "text/plain": [
       "<matplotlib.figure.Figure at 0x7f3faa8e2e90>"
      ]
     },
     "metadata": {},
     "output_type": "display_data"
    }
   ],
   "source": [
    "# review year_weeknum in table sorted by date\n",
    "\n",
    "# all implementation level RUTF stock balance by week\n",
    "stock_by_week = df['rutf_bal_carton'].groupby(df['year_weeknum']).sum().plot(kind = 'bar', figsize=(20,10))\n",
    "\n",
    "\n",
    "# value counts is not easily sortable by date\n",
    "#(df['year_weeknum'].value_counts().plot(kind = 'bar')\n",
    "\n",
    "# sort data\n",
    "#df = df.sort_values(by=['iso_year_weeknum'])    \n",
    "    \n",
    "#df['year_weeknum'].value_counts().plot(kind = 'bar')\n",
    "# value counts always presents data as distribution sorted by number of counts"
   ]
  },
  {
   "cell_type": "code",
   "execution_count": 183,
   "metadata": {
    "collapsed": false,
    "deletable": true,
    "editable": true
   },
   "outputs": [
    {
     "data": {
      "text/plain": [
       "array(['3503', '3609', '812', '821', '513', '2010', '1712', '2109', '2004',\n",
       "       '1940', '2112', '813', '3605', '816', '1823', '1921', '1905', '819',\n",
       "       '208', '818', '2018', '218', '3313', '3513', '2011', '2034', '3317',\n",
       "       '1719', '2104', '1805', '804', '2016', '1936', '3517', '212',\n",
       "       '3504', '3514', '1704', '221', '3501', '814', '2027', '806', '3602',\n",
       "       '2106', '802', '3301', '3319', '202', '3611', '1727', '805', '1710',\n",
       "       '2113', '3305', '1714', '3308', '2026', '217', '3509', '3505',\n",
       "       '2118', '3508', '2119', '825', '1944', '2115', '3510', '1606',\n",
       "       '2001', '2105', '3502', '3304', '1724', '1801', '3511', '203',\n",
       "       '1928', '2003', '512', '3306', '213', '1604', '827', '1716', '2117',\n",
       "       '807', '3321', '2033', '220', '1703', '2015', '2108', '2114', '201',\n",
       "       '206', '2103', '3607', '209', '210', '504', '3507', '1702', '809',\n",
       "       '215', '2005', '1818', '2007', '1717', '3512', '3506', '3516',\n",
       "       '207', '2111', '219', '2024', '3603', '1731', '1609', '1720', '820',\n",
       "       '204', '811', '3613', '1809', '216', '205', '803', '3515', '1808',\n",
       "       '2102', '211', '214', '824', '507', '1807', '837', None, '101',\n",
       "       '808', '1930'], dtype=object)"
      ]
     },
     "execution_count": 183,
     "metadata": {},
     "output_type": "execute_result"
    }
   ],
   "source": [
    "# For state and LGA queries\n",
    "# Use LGA database\n",
    "assign_state_lga_num(df)\n",
    "df.lga_num.unique()\n"
   ]
  },
  {
   "cell_type": "code",
   "execution_count": 150,
   "metadata": {
    "collapsed": false,
    "deletable": true,
    "editable": true
   },
   "outputs": [
    {
     "ename": "TypeError",
     "evalue": "Empty 'DataFrame': no numeric data to plot",
     "output_type": "error",
     "traceback": [
      "\u001b[0;31m---------------------------------------------------------------------------\u001b[0m",
      "\u001b[0;31mTypeError\u001b[0m                                 Traceback (most recent call last)",
      "\u001b[0;32m<ipython-input-150-d0ccefc0362f>\u001b[0m in \u001b[0;36m<module>\u001b[0;34m()\u001b[0m\n\u001b[1;32m      2\u001b[0m \u001b[0;34m\u001b[0m\u001b[0m\n\u001b[1;32m      3\u001b[0m \u001b[0;31m# Calculate median stock use over time.\u001b[0m\u001b[0;34m\u001b[0m\u001b[0;34m\u001b[0m\u001b[0m\n\u001b[0;32m----> 4\u001b[0;31m \u001b[0mstock_by_week\u001b[0m \u001b[0;34m=\u001b[0m \u001b[0mdf\u001b[0m\u001b[0;34m.\u001b[0m\u001b[0mquery\u001b[0m\u001b[0;34m(\u001b[0m\u001b[0;34m'state_num==2'\u001b[0m\u001b[0;34m)\u001b[0m\u001b[0;34m[\u001b[0m\u001b[0;34m'rutf_bal_carton'\u001b[0m\u001b[0;34m]\u001b[0m\u001b[0;34m.\u001b[0m\u001b[0mgroupby\u001b[0m\u001b[0;34m(\u001b[0m\u001b[0mdf\u001b[0m\u001b[0;34m[\u001b[0m\u001b[0;34m'year_weeknum'\u001b[0m\u001b[0;34m]\u001b[0m\u001b[0;34m)\u001b[0m        \u001b[0;34m.\u001b[0m\u001b[0msum\u001b[0m\u001b[0;34m(\u001b[0m\u001b[0;34m)\u001b[0m\u001b[0;34m.\u001b[0m\u001b[0mplot\u001b[0m\u001b[0;34m(\u001b[0m\u001b[0mkind\u001b[0m \u001b[0;34m=\u001b[0m \u001b[0;34m'bar'\u001b[0m\u001b[0;34m,\u001b[0m \u001b[0mfigsize\u001b[0m\u001b[0;34m=\u001b[0m\u001b[0;34m(\u001b[0m\u001b[0;36m20\u001b[0m\u001b[0;34m,\u001b[0m\u001b[0;36m10\u001b[0m\u001b[0;34m)\u001b[0m\u001b[0;34m)\u001b[0m\u001b[0;34m\u001b[0m\u001b[0m\n\u001b[0m",
      "\u001b[0;32m/home/robert/PycharmProjects/IMAM/ve/local/lib/python2.7/site-packages/pandas/tools/plotting.pyc\u001b[0m in \u001b[0;36m__call__\u001b[0;34m(self, kind, ax, figsize, use_index, title, grid, legend, style, logx, logy, loglog, xticks, yticks, xlim, ylim, rot, fontsize, colormap, table, yerr, xerr, label, secondary_y, **kwds)\u001b[0m\n\u001b[1;32m   3598\u001b[0m                            \u001b[0mcolormap\u001b[0m\u001b[0;34m=\u001b[0m\u001b[0mcolormap\u001b[0m\u001b[0;34m,\u001b[0m \u001b[0mtable\u001b[0m\u001b[0;34m=\u001b[0m\u001b[0mtable\u001b[0m\u001b[0;34m,\u001b[0m \u001b[0myerr\u001b[0m\u001b[0;34m=\u001b[0m\u001b[0myerr\u001b[0m\u001b[0;34m,\u001b[0m\u001b[0;34m\u001b[0m\u001b[0m\n\u001b[1;32m   3599\u001b[0m                            \u001b[0mxerr\u001b[0m\u001b[0;34m=\u001b[0m\u001b[0mxerr\u001b[0m\u001b[0;34m,\u001b[0m \u001b[0mlabel\u001b[0m\u001b[0;34m=\u001b[0m\u001b[0mlabel\u001b[0m\u001b[0;34m,\u001b[0m \u001b[0msecondary_y\u001b[0m\u001b[0;34m=\u001b[0m\u001b[0msecondary_y\u001b[0m\u001b[0;34m,\u001b[0m\u001b[0;34m\u001b[0m\u001b[0m\n\u001b[0;32m-> 3600\u001b[0;31m                            **kwds)\n\u001b[0m\u001b[1;32m   3601\u001b[0m     \u001b[0m__call__\u001b[0m\u001b[0;34m.\u001b[0m\u001b[0m__doc__\u001b[0m \u001b[0;34m=\u001b[0m \u001b[0mplot_series\u001b[0m\u001b[0;34m.\u001b[0m\u001b[0m__doc__\u001b[0m\u001b[0;34m\u001b[0m\u001b[0m\n\u001b[1;32m   3602\u001b[0m \u001b[0;34m\u001b[0m\u001b[0m\n",
      "\u001b[0;32m/home/robert/PycharmProjects/IMAM/ve/local/lib/python2.7/site-packages/pandas/tools/plotting.pyc\u001b[0m in \u001b[0;36mplot_series\u001b[0;34m(data, kind, ax, figsize, use_index, title, grid, legend, style, logx, logy, loglog, xticks, yticks, xlim, ylim, rot, fontsize, colormap, table, yerr, xerr, label, secondary_y, **kwds)\u001b[0m\n\u001b[1;32m   2672\u001b[0m                  \u001b[0myerr\u001b[0m\u001b[0;34m=\u001b[0m\u001b[0myerr\u001b[0m\u001b[0;34m,\u001b[0m \u001b[0mxerr\u001b[0m\u001b[0;34m=\u001b[0m\u001b[0mxerr\u001b[0m\u001b[0;34m,\u001b[0m\u001b[0;34m\u001b[0m\u001b[0m\n\u001b[1;32m   2673\u001b[0m                  \u001b[0mlabel\u001b[0m\u001b[0;34m=\u001b[0m\u001b[0mlabel\u001b[0m\u001b[0;34m,\u001b[0m \u001b[0msecondary_y\u001b[0m\u001b[0;34m=\u001b[0m\u001b[0msecondary_y\u001b[0m\u001b[0;34m,\u001b[0m\u001b[0;34m\u001b[0m\u001b[0m\n\u001b[0;32m-> 2674\u001b[0;31m                  **kwds)\n\u001b[0m\u001b[1;32m   2675\u001b[0m \u001b[0;34m\u001b[0m\u001b[0m\n\u001b[1;32m   2676\u001b[0m \u001b[0;34m\u001b[0m\u001b[0m\n",
      "\u001b[0;32m/home/robert/PycharmProjects/IMAM/ve/local/lib/python2.7/site-packages/pandas/tools/plotting.pyc\u001b[0m in \u001b[0;36m_plot\u001b[0;34m(data, x, y, subplots, ax, kind, **kwds)\u001b[0m\n\u001b[1;32m   2468\u001b[0m         \u001b[0mplot_obj\u001b[0m \u001b[0;34m=\u001b[0m \u001b[0mklass\u001b[0m\u001b[0;34m(\u001b[0m\u001b[0mdata\u001b[0m\u001b[0;34m,\u001b[0m \u001b[0msubplots\u001b[0m\u001b[0;34m=\u001b[0m\u001b[0msubplots\u001b[0m\u001b[0;34m,\u001b[0m \u001b[0max\u001b[0m\u001b[0;34m=\u001b[0m\u001b[0max\u001b[0m\u001b[0;34m,\u001b[0m \u001b[0mkind\u001b[0m\u001b[0;34m=\u001b[0m\u001b[0mkind\u001b[0m\u001b[0;34m,\u001b[0m \u001b[0;34m**\u001b[0m\u001b[0mkwds\u001b[0m\u001b[0;34m)\u001b[0m\u001b[0;34m\u001b[0m\u001b[0m\n\u001b[1;32m   2469\u001b[0m \u001b[0;34m\u001b[0m\u001b[0m\n\u001b[0;32m-> 2470\u001b[0;31m     \u001b[0mplot_obj\u001b[0m\u001b[0;34m.\u001b[0m\u001b[0mgenerate\u001b[0m\u001b[0;34m(\u001b[0m\u001b[0;34m)\u001b[0m\u001b[0;34m\u001b[0m\u001b[0m\n\u001b[0m\u001b[1;32m   2471\u001b[0m     \u001b[0mplot_obj\u001b[0m\u001b[0;34m.\u001b[0m\u001b[0mdraw\u001b[0m\u001b[0;34m(\u001b[0m\u001b[0;34m)\u001b[0m\u001b[0;34m\u001b[0m\u001b[0m\n\u001b[1;32m   2472\u001b[0m     \u001b[0;32mreturn\u001b[0m \u001b[0mplot_obj\u001b[0m\u001b[0;34m.\u001b[0m\u001b[0mresult\u001b[0m\u001b[0;34m\u001b[0m\u001b[0m\n",
      "\u001b[0;32m/home/robert/PycharmProjects/IMAM/ve/local/lib/python2.7/site-packages/pandas/tools/plotting.pyc\u001b[0m in \u001b[0;36mgenerate\u001b[0;34m(self)\u001b[0m\n\u001b[1;32m   1039\u001b[0m     \u001b[0;32mdef\u001b[0m \u001b[0mgenerate\u001b[0m\u001b[0;34m(\u001b[0m\u001b[0mself\u001b[0m\u001b[0;34m)\u001b[0m\u001b[0;34m:\u001b[0m\u001b[0;34m\u001b[0m\u001b[0m\n\u001b[1;32m   1040\u001b[0m         \u001b[0mself\u001b[0m\u001b[0;34m.\u001b[0m\u001b[0m_args_adjust\u001b[0m\u001b[0;34m(\u001b[0m\u001b[0;34m)\u001b[0m\u001b[0;34m\u001b[0m\u001b[0m\n\u001b[0;32m-> 1041\u001b[0;31m         \u001b[0mself\u001b[0m\u001b[0;34m.\u001b[0m\u001b[0m_compute_plot_data\u001b[0m\u001b[0;34m(\u001b[0m\u001b[0;34m)\u001b[0m\u001b[0;34m\u001b[0m\u001b[0m\n\u001b[0m\u001b[1;32m   1042\u001b[0m         \u001b[0mself\u001b[0m\u001b[0;34m.\u001b[0m\u001b[0m_setup_subplots\u001b[0m\u001b[0;34m(\u001b[0m\u001b[0;34m)\u001b[0m\u001b[0;34m\u001b[0m\u001b[0m\n\u001b[1;32m   1043\u001b[0m         \u001b[0mself\u001b[0m\u001b[0;34m.\u001b[0m\u001b[0m_make_plot\u001b[0m\u001b[0;34m(\u001b[0m\u001b[0;34m)\u001b[0m\u001b[0;34m\u001b[0m\u001b[0m\n",
      "\u001b[0;32m/home/robert/PycharmProjects/IMAM/ve/local/lib/python2.7/site-packages/pandas/tools/plotting.pyc\u001b[0m in \u001b[0;36m_compute_plot_data\u001b[0;34m(self)\u001b[0m\n\u001b[1;32m   1148\u001b[0m         \u001b[0;32mif\u001b[0m \u001b[0mis_empty\u001b[0m\u001b[0;34m:\u001b[0m\u001b[0;34m\u001b[0m\u001b[0m\n\u001b[1;32m   1149\u001b[0m             raise TypeError('Empty {0!r}: no numeric data to '\n\u001b[0;32m-> 1150\u001b[0;31m                             'plot'.format(numeric_data.__class__.__name__))\n\u001b[0m\u001b[1;32m   1151\u001b[0m \u001b[0;34m\u001b[0m\u001b[0m\n\u001b[1;32m   1152\u001b[0m         \u001b[0mself\u001b[0m\u001b[0;34m.\u001b[0m\u001b[0mdata\u001b[0m \u001b[0;34m=\u001b[0m \u001b[0mnumeric_data\u001b[0m\u001b[0;34m\u001b[0m\u001b[0m\n",
      "\u001b[0;31mTypeError\u001b[0m: Empty 'DataFrame': no numeric data to plot"
     ]
    }
   ],
   "source": [
    "# LGA level stocks must use LGA stock df\n",
    "\n",
    "# Calculate median stock use over time. \n",
    "stock_by_week = df.query('state_num==2')['rutf_bal_carton'].groupby(df['year_weeknum'])\\\n",
    "        .sum().plot(kind = 'bar', figsize=(20,10))"
   ]
  },
  {
   "cell_type": "code",
   "execution_count": 206,
   "metadata": {
    "collapsed": false,
    "deletable": true,
    "editable": true
   },
   "outputs": [
    {
     "data": {
      "image/png": "[encoded data removed]",
      "text/plain": [
       "<matplotlib.figure.Figure at 0x7f3fa836e750>"
      ]
     },
     "metadata": {},
     "output_type": "display_data"
    }
   ],
   "source": [
    "# For site level queries\n",
    "stock_by_week = df.query('siteid==211110029 & type==\"OTP\"')['rutf_bal_carton'].groupby(df['year_weeknum']).sum().plot(kind = 'bar', figsize=(20,10))"
   ]
  },
  {
   "cell_type": "code",
   "execution_count": 9,
   "metadata": {
    "collapsed": false,
    "deletable": true,
    "editable": true
   },
   "outputs": [
    {
     "data": {
      "image/png": "[encoded data removed]",
      "text/plain": [
       "<matplotlib.figure.Figure at 0x7fdd66728050>"
      ]
     },
     "metadata": {},
     "output_type": "display_data"
    }
   ],
   "source": [
    "# sort data\n",
    "df = df.sort_values(by=['since_x_weeks'])    \n",
    "\n",
    "# Plot count of reports over year_weeknum\n",
    "# Presents the counts of data received\n",
    "report_counts = df['index'].groupby(df['year_weeknum']).count().plot(kind = 'bar', figsize=(20,10))\n",
    "\n",
    "# significant missing data from week 50, 51, 52\n",
    "# appears these data are incorrectly assigned to year 2017\n",
    "# are these incorrect 2017 data all reported after weeknumber 8 in year 2017? "
   ]
  },
  {
   "cell_type": "code",
   "execution_count": 10,
   "metadata": {
    "collapsed": false,
    "deletable": true,
    "editable": true
   },
   "outputs": [
    {
     "data": {
      "text/plain": [
       "<matplotlib.axes._subplots.AxesSubplot at 0x7fdd64dd9310>"
      ]
     },
     "execution_count": 10,
     "metadata": {},
     "output_type": "execute_result"
    },
    {
     "data": {
      "image/png": "[encoded data removed]",
      "text/plain": [
       "<matplotlib.figure.Figure at 0x7fdd64992950>"
      ]
     },
     "metadata": {},
     "output_type": "display_data"
    }
   ],
   "source": [
    "df['index'].groupby(df['since_x_weeks']).count().plot(kind = 'bar', figsize=(20,10))\n",
    "\n"
   ]
  },
  {
   "cell_type": "code",
   "execution_count": 11,
   "metadata": {
    "collapsed": false
   },
   "outputs": [
    {
     "data": {
      "text/plain": [
       "array([ 1,  2,  3,  4,  5,  6,  7,  8,  9, 10, 11, 12, 13, 14, 15, 16, 17,\n",
       "       18, 19, 20, 21, 22, 23, 24, 25, 26, 27, 28, 29, 30, 31, 32, 33, 34,\n",
       "       35, 36, 37, 38, 39, 40, 41, 42, 43, 44, 45, 46, 47, 48, 49, 50, 51])"
      ]
     },
     "execution_count": 11,
     "metadata": {},
     "output_type": "execute_result"
    }
   ],
   "source": [
    "# What is the median stock consumption over past 8 weeks\n",
    "\n",
    "df['since_x_weeks'].unique()"
   ]
  },
  {
   "cell_type": "code",
   "execution_count": 26,
   "metadata": {
    "collapsed": false
   },
   "outputs": [
    {
     "data": {
      "text/html": [
       "<div>\n",
       "<table border=\"1\" class=\"dataframe\">\n",
       "  <thead>\n",
       "    <tr style=\"text-align: right;\">\n",
       "      <th></th>\n",
       "      <th>isoweek</th>\n",
       "      <th>rutf_used_carton</th>\n",
       "    </tr>\n",
       "  </thead>\n",
       "  <tbody>\n",
       "    <tr>\n",
       "      <th>0</th>\n",
       "      <td>(2017, 20)</td>\n",
       "      <td>5.0</td>\n",
       "    </tr>\n",
       "    <tr>\n",
       "      <th>1</th>\n",
       "      <td>(2017, 19)</td>\n",
       "      <td>5.0</td>\n",
       "    </tr>\n",
       "    <tr>\n",
       "      <th>2</th>\n",
       "      <td>(2017, 18)</td>\n",
       "      <td>5.0</td>\n",
       "    </tr>\n",
       "    <tr>\n",
       "      <th>3</th>\n",
       "      <td>(2017, 17)</td>\n",
       "      <td>5.0</td>\n",
       "    </tr>\n",
       "    <tr>\n",
       "      <th>4</th>\n",
       "      <td>(2017, 16)</td>\n",
       "      <td>5.0</td>\n",
       "    </tr>\n",
       "    <tr>\n",
       "      <th>5</th>\n",
       "      <td>(2017, 15)</td>\n",
       "      <td>5.0</td>\n",
       "    </tr>\n",
       "    <tr>\n",
       "      <th>6</th>\n",
       "      <td>(2017, 14)</td>\n",
       "      <td>5.0</td>\n",
       "    </tr>\n",
       "    <tr>\n",
       "      <th>7</th>\n",
       "      <td>(2017, 13)</td>\n",
       "      <td>5.0</td>\n",
       "    </tr>\n",
       "    <tr>\n",
       "      <th>8</th>\n",
       "      <td>(2017, 12)</td>\n",
       "      <td>5.0</td>\n",
       "    </tr>\n",
       "    <tr>\n",
       "      <th>9</th>\n",
       "      <td>(2017, 11)</td>\n",
       "      <td>5.0</td>\n",
       "    </tr>\n",
       "    <tr>\n",
       "      <th>10</th>\n",
       "      <td>(2017, 10)</td>\n",
       "      <td>5.0</td>\n",
       "    </tr>\n",
       "    <tr>\n",
       "      <th>11</th>\n",
       "      <td>(2017, 9)</td>\n",
       "      <td>5.0</td>\n",
       "    </tr>\n",
       "    <tr>\n",
       "      <th>12</th>\n",
       "      <td>(2017, 8)</td>\n",
       "      <td>5.0</td>\n",
       "    </tr>\n",
       "    <tr>\n",
       "      <th>13</th>\n",
       "      <td>(2017, 7)</td>\n",
       "      <td>5.0</td>\n",
       "    </tr>\n",
       "    <tr>\n",
       "      <th>14</th>\n",
       "      <td>(2017, 6)</td>\n",
       "      <td>6.0</td>\n",
       "    </tr>\n",
       "    <tr>\n",
       "      <th>15</th>\n",
       "      <td>(2017, 5)</td>\n",
       "      <td>6.0</td>\n",
       "    </tr>\n",
       "    <tr>\n",
       "      <th>16</th>\n",
       "      <td>(2017, 4)</td>\n",
       "      <td>6.0</td>\n",
       "    </tr>\n",
       "    <tr>\n",
       "      <th>17</th>\n",
       "      <td>(2017, 3)</td>\n",
       "      <td>6.0</td>\n",
       "    </tr>\n",
       "    <tr>\n",
       "      <th>18</th>\n",
       "      <td>(2017, 2)</td>\n",
       "      <td>7.0</td>\n",
       "    </tr>\n",
       "    <tr>\n",
       "      <th>19</th>\n",
       "      <td>(2017, 1)</td>\n",
       "      <td>7.0</td>\n",
       "    </tr>\n",
       "    <tr>\n",
       "      <th>20</th>\n",
       "      <td>(2016, 52)</td>\n",
       "      <td>7.0</td>\n",
       "    </tr>\n",
       "    <tr>\n",
       "      <th>21</th>\n",
       "      <td>(2016, 51)</td>\n",
       "      <td>7.0</td>\n",
       "    </tr>\n",
       "    <tr>\n",
       "      <th>22</th>\n",
       "      <td>(2016, 50)</td>\n",
       "      <td>7.0</td>\n",
       "    </tr>\n",
       "    <tr>\n",
       "      <th>23</th>\n",
       "      <td>(2016, 49)</td>\n",
       "      <td>7.0</td>\n",
       "    </tr>\n",
       "    <tr>\n",
       "      <th>24</th>\n",
       "      <td>(2016, 48)</td>\n",
       "      <td>7.0</td>\n",
       "    </tr>\n",
       "    <tr>\n",
       "      <th>25</th>\n",
       "      <td>(2016, 47)</td>\n",
       "      <td>7.0</td>\n",
       "    </tr>\n",
       "    <tr>\n",
       "      <th>26</th>\n",
       "      <td>(2016, 46)</td>\n",
       "      <td>7.0</td>\n",
       "    </tr>\n",
       "    <tr>\n",
       "      <th>27</th>\n",
       "      <td>(2016, 45)</td>\n",
       "      <td>7.0</td>\n",
       "    </tr>\n",
       "    <tr>\n",
       "      <th>28</th>\n",
       "      <td>(2016, 44)</td>\n",
       "      <td>7.0</td>\n",
       "    </tr>\n",
       "    <tr>\n",
       "      <th>29</th>\n",
       "      <td>(2016, 43)</td>\n",
       "      <td>7.0</td>\n",
       "    </tr>\n",
       "    <tr>\n",
       "      <th>30</th>\n",
       "      <td>(2016, 42)</td>\n",
       "      <td>7.0</td>\n",
       "    </tr>\n",
       "    <tr>\n",
       "      <th>31</th>\n",
       "      <td>(2016, 41)</td>\n",
       "      <td>7.0</td>\n",
       "    </tr>\n",
       "    <tr>\n",
       "      <th>32</th>\n",
       "      <td>(2016, 40)</td>\n",
       "      <td>7.0</td>\n",
       "    </tr>\n",
       "    <tr>\n",
       "      <th>33</th>\n",
       "      <td>(2016, 39)</td>\n",
       "      <td>8.0</td>\n",
       "    </tr>\n",
       "    <tr>\n",
       "      <th>34</th>\n",
       "      <td>(2016, 38)</td>\n",
       "      <td>8.0</td>\n",
       "    </tr>\n",
       "    <tr>\n",
       "      <th>35</th>\n",
       "      <td>(2016, 37)</td>\n",
       "      <td>8.0</td>\n",
       "    </tr>\n",
       "    <tr>\n",
       "      <th>36</th>\n",
       "      <td>(2016, 36)</td>\n",
       "      <td>10.0</td>\n",
       "    </tr>\n",
       "    <tr>\n",
       "      <th>37</th>\n",
       "      <td>(2016, 35)</td>\n",
       "      <td>10.0</td>\n",
       "    </tr>\n",
       "    <tr>\n",
       "      <th>38</th>\n",
       "      <td>(2016, 34)</td>\n",
       "      <td>10.0</td>\n",
       "    </tr>\n",
       "    <tr>\n",
       "      <th>39</th>\n",
       "      <td>(2016, 33)</td>\n",
       "      <td>10.0</td>\n",
       "    </tr>\n",
       "    <tr>\n",
       "      <th>40</th>\n",
       "      <td>(2016, 32)</td>\n",
       "      <td>10.0</td>\n",
       "    </tr>\n",
       "    <tr>\n",
       "      <th>41</th>\n",
       "      <td>(2016, 31)</td>\n",
       "      <td>10.0</td>\n",
       "    </tr>\n",
       "    <tr>\n",
       "      <th>42</th>\n",
       "      <td>(2016, 30)</td>\n",
       "      <td>9.0</td>\n",
       "    </tr>\n",
       "    <tr>\n",
       "      <th>43</th>\n",
       "      <td>(2016, 29)</td>\n",
       "      <td>9.0</td>\n",
       "    </tr>\n",
       "  </tbody>\n",
       "</table>\n",
       "</div>"
      ],
      "text/plain": [
       "       isoweek  rutf_used_carton\n",
       "0   (2017, 20)               5.0\n",
       "1   (2017, 19)               5.0\n",
       "2   (2017, 18)               5.0\n",
       "3   (2017, 17)               5.0\n",
       "4   (2017, 16)               5.0\n",
       "5   (2017, 15)               5.0\n",
       "6   (2017, 14)               5.0\n",
       "7   (2017, 13)               5.0\n",
       "8   (2017, 12)               5.0\n",
       "9   (2017, 11)               5.0\n",
       "10  (2017, 10)               5.0\n",
       "11   (2017, 9)               5.0\n",
       "12   (2017, 8)               5.0\n",
       "13   (2017, 7)               5.0\n",
       "14   (2017, 6)               6.0\n",
       "15   (2017, 5)               6.0\n",
       "16   (2017, 4)               6.0\n",
       "17   (2017, 3)               6.0\n",
       "18   (2017, 2)               7.0\n",
       "19   (2017, 1)               7.0\n",
       "20  (2016, 52)               7.0\n",
       "21  (2016, 51)               7.0\n",
       "22  (2016, 50)               7.0\n",
       "23  (2016, 49)               7.0\n",
       "24  (2016, 48)               7.0\n",
       "25  (2016, 47)               7.0\n",
       "26  (2016, 46)               7.0\n",
       "27  (2016, 45)               7.0\n",
       "28  (2016, 44)               7.0\n",
       "29  (2016, 43)               7.0\n",
       "30  (2016, 42)               7.0\n",
       "31  (2016, 41)               7.0\n",
       "32  (2016, 40)               7.0\n",
       "33  (2016, 39)               8.0\n",
       "34  (2016, 38)               8.0\n",
       "35  (2016, 37)               8.0\n",
       "36  (2016, 36)              10.0\n",
       "37  (2016, 35)              10.0\n",
       "38  (2016, 34)              10.0\n",
       "39  (2016, 33)              10.0\n",
       "40  (2016, 32)              10.0\n",
       "41  (2016, 31)              10.0\n",
       "42  (2016, 30)               9.0\n",
       "43  (2016, 29)               9.0"
      ]
     },
     "execution_count": 26,
     "metadata": {},
     "output_type": "execute_result"
    }
   ],
   "source": [
    "max_since_x_weeks = df['since_x_weeks'].max()\n",
    "\n",
    "result = {\n",
    "    'rutf_used_carton': [],\n",
    "    'isoweek': [],\n",
    "}\n",
    "\n",
    "for i in sorted(df['since_x_weeks'].unique()):\n",
    "    if i > (max_since_x_weeks - 7):\n",
    "        break\n",
    "    # XXX do we need to break before the end because we move on a window of * weeks?\n",
    "    result['rutf_used_carton'].append(df.query('since_x_weeks >= %s & since_x_weeks < (%s + 8)' % (i, i))['rutf_used_carton'].median())\n",
    "    result['isoweek'].append(df.query('since_x_weeks >= %s & since_x_weeks < (%s + 8)' % (i, i))['iso_year_weeknum'].max())\n",
    "\n",
    "median_usage = pd.DataFrame(result)\n",
    "median_usage\n",
    "# print result\n"
   ]
  },
  {
   "cell_type": "code",
   "execution_count": 32,
   "metadata": {
    "collapsed": false
   },
   "outputs": [
    {
     "data": {
      "text/plain": [
       "<matplotlib.axes._subplots.AxesSubplot at 0x7fdd63f319d0>"
      ]
     },
     "execution_count": 32,
     "metadata": {},
     "output_type": "execute_result"
    },
    {
     "data": {
      "image/png": "[encoded data removed]",
      "text/plain": [
       "<matplotlib.figure.Figure at 0x7fdd65ac9bd0>"
      ]
     },
     "metadata": {},
     "output_type": "display_data"
    }
   ],
   "source": [
    "median_usage.groupby(['isoweek'])['rutf_used_carton'].max().plot(figsize=(20,10))"
   ]
  },
  {
   "cell_type": "code",
   "execution_count": null,
   "metadata": {
    "collapsed": true
   },
   "outputs": [],
   "source": []
  },
  {
   "cell_type": "code",
   "execution_count": null,
   "metadata": {
    "collapsed": true
   },
   "outputs": [],
   "source": []
  },
  {
   "cell_type": "code",
   "execution_count": null,
   "metadata": {
    "collapsed": true
   },
   "outputs": [],
   "source": []
  },
  {
   "cell_type": "code",
   "execution_count": 11,
   "metadata": {
    "collapsed": false,
    "deletable": true,
    "editable": true
   },
   "outputs": [
    {
     "data": {
      "text/plain": [
       "[0,\n",
       " 1,\n",
       " 2,\n",
       " 3,\n",
       " 4,\n",
       " 5,\n",
       " 6,\n",
       " 7,\n",
       " 8,\n",
       " 9,\n",
       " 10,\n",
       " 11,\n",
       " 12,\n",
       " 13,\n",
       " 14,\n",
       " 15,\n",
       " 16,\n",
       " 17,\n",
       " 18,\n",
       " 19,\n",
       " 20,\n",
       " 21,\n",
       " 22,\n",
       " 23,\n",
       " 24,\n",
       " 25,\n",
       " 26,\n",
       " 27,\n",
       " 28,\n",
       " 29,\n",
       " 30,\n",
       " 31,\n",
       " 32,\n",
       " 33,\n",
       " 34,\n",
       " 35,\n",
       " 36,\n",
       " 37,\n",
       " 38,\n",
       " 39,\n",
       " 40,\n",
       " 41,\n",
       " 42,\n",
       " 43,\n",
       " 44,\n",
       " 46,\n",
       " 47,\n",
       " 48,\n",
       " 49,\n",
       " 50,\n",
       " 51,\n",
       " 53,\n",
       " 54,\n",
       " 55,\n",
       " 56,\n",
       " 57,\n",
       " 58,\n",
       " 60,\n",
       " 62,\n",
       " 63,\n",
       " 66,\n",
       " 67,\n",
       " 68,\n",
       " 69,\n",
       " 70,\n",
       " 71,\n",
       " 74,\n",
       " 77,\n",
       " 79,\n",
       " 81,\n",
       " 84,\n",
       " 85,\n",
       " 86,\n",
       " 91,\n",
       " 94,\n",
       " 95,\n",
       " 96,\n",
       " 103,\n",
       " 109,\n",
       " 112,\n",
       " 118,\n",
       " 123,\n",
       " 127,\n",
       " 130,\n",
       " 133,\n",
       " 140,\n",
       " 150,\n",
       " 174,\n",
       " 175,\n",
       " 180,\n",
       " 181,\n",
       " 183,\n",
       " 258,\n",
       " 269,\n",
       " 499]"
      ]
     },
     "execution_count": 11,
     "metadata": {},
     "output_type": "execute_result"
    }
   ],
   "source": [
    "# Quantity of RUTF in last (most recent) stock report\n",
    "\n",
    "sorted(df.query('year==2017').sort_values(by='weeknum', ascending = False).drop_duplicates(['siteid'], keep ='last')['rutf_bal_carton'].unique())"
   ]
  },
  {
   "cell_type": "code",
   "execution_count": 56,
   "metadata": {
    "collapsed": false,
    "deletable": true,
    "editable": true
   },
   "outputs": [
    {
     "data": {
      "text/plain": [
       "<matplotlib.axes._subplots.AxesSubplot at 0x7f3fb94d1590>"
      ]
     },
     "execution_count": 56,
     "metadata": {},
     "output_type": "execute_result"
    },
    {
     "data": {
      "image/png": "[encoded data removed]",
      "text/plain": [
       "<matplotlib.figure.Figure at 0x7f3fb9c106d0>"
      ]
     },
     "metadata": {},
     "output_type": "display_data"
    }
   ],
   "source": [
    "# most recent stock report for sites\n",
    "df.query('year==2017').sort_values(by='weeknum', ascending = False).drop_duplicates(['siteid'],\\\n",
    "                keep ='last')['rutf_bal_carton'].plot.hist()"
   ]
  },
  {
   "cell_type": "code",
   "execution_count": 57,
   "metadata": {
    "collapsed": false,
    "deletable": true,
    "editable": true
   },
   "outputs": [
    {
     "name": "stdout",
     "output_type": "stream",
     "text": [
      "2853    24\n",
      "Name: rutf_bal_carton, dtype: int64\n",
      "2853    43\n",
      "Name: rutf_bal_sachet, dtype: int64\n"
     ]
    }
   ],
   "source": [
    "# most recent stock report for sites\n",
    "print df.query('year==2017').query('siteid==3613110051').sort_values(by='weeknum', ascending = False).drop_duplicates(['siteid'], keep ='last')['rutf_bal_carton']\n",
    "print df.query('year==2017').query('siteid==3613110051').sort_values(by='weeknum', ascending = False).drop_duplicates(['siteid'], keep ='last')['rutf_bal_sachet']"
   ]
  },
  {
   "cell_type": "code",
   "execution_count": 58,
   "metadata": {
    "collapsed": false,
    "deletable": true,
    "editable": true
   },
   "outputs": [
    {
     "data": {
      "text/plain": [
       "2853    43\n",
       "Name: rutf_bal_sachet, dtype: int64"
      ]
     },
     "execution_count": 58,
     "metadata": {},
     "output_type": "execute_result"
    }
   ],
   "source": [
    " df.query('year==2017').query('siteid==3613110051').sort_values(by='weeknum', ascending = False).drop_duplicates(['siteid'], keep ='last')['rutf_bal_sachet']"
   ]
  },
  {
   "cell_type": "code",
   "execution_count": 59,
   "metadata": {
    "collapsed": false,
    "deletable": true,
    "editable": true
   },
   "outputs": [
    {
     "data": {
      "text/plain": [
       "2853    1\n",
       "Name: weeknum, dtype: int64"
      ]
     },
     "execution_count": 59,
     "metadata": {},
     "output_type": "execute_result"
    }
   ],
   "source": [
    " df.query('year==2017').query('siteid==3613110051').sort_values(by='weeknum', ascending = False).drop_duplicates(['siteid'], keep ='last')['weeknum']"
   ]
  },
  {
   "cell_type": "code",
   "execution_count": 60,
   "metadata": {
    "collapsed": false,
    "deletable": true,
    "editable": true
   },
   "outputs": [],
   "source": [
    "import datetime as datetime"
   ]
  },
  {
   "cell_type": "code",
   "execution_count": 61,
   "metadata": {
    "collapsed": false,
    "deletable": true,
    "editable": true
   },
   "outputs": [
    {
     "name": "stdout",
     "output_type": "stream",
     "text": [
      "Weekly reminders sent at 19 May 2017 17:57:35\n"
     ]
    }
   ],
   "source": [
    "print datetime.datetime.now().strftime('Weekly reminders sent at %d %b %Y %-H:%M:%S')"
   ]
  },
  {
   "cell_type": "code",
   "execution_count": 62,
   "metadata": {
    "collapsed": false,
    "deletable": true,
    "editable": true
   },
   "outputs": [
    {
     "name": "stdout",
     "output_type": "stream",
     "text": [
      "Weekly reminders sent at Fri May 19 17:57:37 2017\n"
     ]
    }
   ],
   "source": [
    "print datetime.datetime.now().strftime('Weekly reminders sent at %c')\n",
    "#print datetime.datetime.now()"
   ]
  },
  {
   "cell_type": "code",
   "execution_count": null,
   "metadata": {
    "collapsed": true,
    "deletable": true,
    "editable": true
   },
   "outputs": [],
   "source": []
  }
 ],
 "metadata": {
  "kernelspec": {
   "display_name": "Python 2",
   "language": "python",
   "name": "python2"
  },
  "language_info": {
   "codemirror_mode": {
    "name": "ipython",
    "version": 2
   },
   "file_extension": ".py",
   "mimetype": "text/x-python",
   "name": "python",
   "nbconvert_exporter": "python",
   "pygments_lexer": "ipython2",
   "version": "2.7.12"
  }
 },
 "nbformat": 4,
 "nbformat_minor": 2
}
