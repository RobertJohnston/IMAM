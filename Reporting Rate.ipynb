{
 "cells": [
  {
   "cell_type": "code",
   "execution_count": 2,
   "metadata": {
    "collapsed": true,
    "deletable": true,
    "editable": true
   },
   "outputs": [],
   "source": [
    "# Calculation of complete reporting rates with program and stock data\n",
    "\n",
    "%matplotlib inline  \n",
    "# !pip install matplotlib\n",
    "\n",
    "import pandas as pd\n",
    "import numpy as np\n",
    "import pandas_highcharts.core\n",
    "from sqlalchemy import create_engine\n",
    "import psycopg2\n",
    "import matplotlib.pyplot \n",
    "\n",
    "# weird construct - if you don't from * import * you have to use datetime.datetime in commands\n",
    "from datetime import datetime, date, timedelta\n",
    "\n",
    "import os\n",
    "\n",
    "\n",
    "os.environ.setdefault(\"DJANGO_SETTINGS_MODULE\", \"IMAM.settings\")\n",
    "\n",
    "from django.conf import settings\n",
    "from home.management.commands.load_data import rename_cols, assign_state_lga_num\n",
    "\n",
    "import django\n",
    "django.setup()\n",
    "\n",
    "# is this line necessary?\n",
    "from home.models import Program, Stock, Site"
   ]
  },
  {
   "cell_type": "code",
   "execution_count": 3,
   "metadata": {
    "collapsed": true,
    "deletable": true,
    "editable": true
   },
   "outputs": [],
   "source": [
    "# Import Program Data\n",
    "engine = create_engine(\n",
    "    'postgresql://{USER}:{PASSWORD}@{HOST}:{PORT}/{NAME}'.format(**settings.DATABASES['default']))\n",
    "df = pd.read_sql_query(\"select * from program;\", con=engine)"
   ]
  },
  {
   "cell_type": "code",
   "execution_count": 270,
   "metadata": {
    "collapsed": false,
    "deletable": true,
    "editable": true
   },
   "outputs": [
    {
     "name": "stdout",
     "output_type": "stream",
     "text": [
      "Collecting isoweek\n",
      "  Downloading isoweek-1.3.3-py2.py3-none-any.whl\n",
      "Installing collected packages: isoweek\n",
      "Successfully installed isoweek-1.3.3\n"
     ]
    }
   ],
   "source": [
    "!pip install isoweek"
   ]
  },
  {
   "cell_type": "code",
   "execution_count": 4,
   "metadata": {
    "collapsed": false,
    "deletable": true,
    "editable": true
   },
   "outputs": [],
   "source": [
    "# Follow order for cleaning data for graph\n",
    "#  - convert from string to float\n",
    "#  - filter out incorrect data with query\n",
    "#  - convert from float to int\n",
    "\n",
    "df['siteid'] = pd.to_numeric(df.siteid, errors='coerce')\n",
    "df['weeknum'] = pd.to_numeric(df.weeknum, errors='coerce')\n",
    "\n",
    "df = df.query('siteid==siteid').query('0<siteid<3999990999')\n",
    "# 2015 had 53 weeks\n",
    "# 2016 had 52 weeks - current data is only for weeknumbers from 22-2016 to present\n",
    "df = df.query('weeknum==weeknum').query('0.99<weeknum<53')\n",
    "\n",
    "df['siteid'] = df.siteid.astype('int')\n",
    "df['weeknum'] = df.weeknum.astype('int')"
   ]
  },
  {
   "cell_type": "code",
   "execution_count": 5,
   "metadata": {
    "collapsed": false,
    "deletable": true,
    "editable": true
   },
   "outputs": [
    {
     "data": {
      "text/plain": [
       "36052"
      ]
     },
     "execution_count": 5,
     "metadata": {},
     "output_type": "execute_result"
    }
   ],
   "source": [
    "# Before filter - Sort data\n",
    "df = df.sort_values(by='last_seen', ascending = False)\n",
    "len(df)"
   ]
  },
  {
   "cell_type": "code",
   "execution_count": 6,
   "metadata": {
    "collapsed": false,
    "deletable": true,
    "editable": true
   },
   "outputs": [
    {
     "data": {
      "text/plain": [
       "24168"
      ]
     },
     "execution_count": 6,
     "metadata": {},
     "output_type": "execute_result"
    }
   ],
   "source": [
    "# Filter one entry per weeknum\n",
    "df = df.drop_duplicates(['siteid', 'weeknum', 'type'], keep ='first')\n",
    "len(df)"
   ]
  },
  {
   "cell_type": "code",
   "execution_count": 7,
   "metadata": {
    "collapsed": false,
    "deletable": true,
    "editable": true
   },
   "outputs": [
    {
     "data": {
      "text/plain": [
       "OTP    21963\n",
       "SC      1870\n",
       "Name: type, dtype: int64"
      ]
     },
     "execution_count": 7,
     "metadata": {},
     "output_type": "execute_result"
    }
   ],
   "source": [
    "# count of number of rows with each unique value of var\n",
    "df.type.value_counts()"
   ]
  },
  {
   "cell_type": "code",
   "execution_count": 8,
   "metadata": {
    "collapsed": false,
    "deletable": true,
    "editable": true
   },
   "outputs": [
    {
     "data": {
      "text/plain": [
       "3"
      ]
     },
     "execution_count": 8,
     "metadata": {},
     "output_type": "execute_result"
    }
   ],
   "source": [
    "# number of distinct values in column\n",
    "len(df['type'].unique())"
   ]
  },
  {
   "cell_type": "code",
   "execution_count": 9,
   "metadata": {
    "collapsed": false,
    "deletable": true,
    "editable": true
   },
   "outputs": [
    {
     "data": {
      "text/plain": [
       "array([u'OTP', None, u'SC'], dtype=object)"
      ]
     },
     "execution_count": 9,
     "metadata": {},
     "output_type": "execute_result"
    }
   ],
   "source": [
    "# the unique values for var in column\n",
    "df.type.unique()"
   ]
  },
  {
   "cell_type": "code",
   "execution_count": 11,
   "metadata": {
    "collapsed": false,
    "deletable": true,
    "editable": true
   },
   "outputs": [
    {
     "data": {
      "text/plain": [
       "Yes      29553\n",
       "No        1892\n",
       "Other      181\n",
       "X            2\n",
       "Name: confirm, dtype: int64"
      ]
     },
     "execution_count": 11,
     "metadata": {},
     "output_type": "execute_result"
    }
   ],
   "source": [
    "df.confirm.value_counts()"
   ]
  },
  {
   "cell_type": "code",
   "execution_count": null,
   "metadata": {
    "collapsed": true,
    "deletable": true,
    "editable": true
   },
   "outputs": [],
   "source": [
    "# to make reporting rates need to identify all data in past 8 weeks\n",
    "\n",
    "# create today's weeknum\n",
    "\n",
    "# create weeknum / year of report date\n",
    "\n",
    "#for range in todays weeknum-8 to todays weeknum\n",
    "#   count number of valid reports for program and stocks\n",
    "#   divide total over 16 (8 entries for program and 8 for stock)"
   ]
  },
  {
   "cell_type": "code",
   "execution_count": 319,
   "metadata": {
    "collapsed": false,
    "deletable": true,
    "editable": true
   },
   "outputs": [
    {
     "data": {
      "text/plain": [
       "13"
      ]
     },
     "execution_count": 319,
     "metadata": {},
     "output_type": "execute_result"
    }
   ],
   "source": [
    "# create today's weeknum\n",
    "df.curr_weeknum = datetime.now().isocalendar()[1]\n",
    "\n",
    "#print curr_weeknum\n",
    "df.curr_weeknum\n",
    "\n"
   ]
  },
  {
   "cell_type": "code",
   "execution_count": 9,
   "metadata": {
    "collapsed": false,
    "deletable": true,
    "editable": true
   },
   "outputs": [],
   "source": [
    "# print datetime.now(), type(datetime.now())\n",
    "# 2017-03-29 15:32:15.342119 \n",
    "\n",
    "#df.last_seen\n",
    "# 2017-03-20 07:12:32\n",
    "\n",
    "#datetime and numpy date64 appear the same\n",
    "\n",
    "#rep_week = date(2017, 1, 1).isocalendar()\n",
    "#rep_week\n",
    "\n",
    "#df.rep_weeknum = date(df.last_seen).strftime(\"%V\")\n",
    "#df.rep_weeknum = date(df.last_seen).isocalendar()\n",
    "# cannot use python commands on dataframes ?\n",
    "\n",
    "#df=df.assign(rep_weeknum=lambda df: date(df.last_seen).isocalendar())\n",
    "\n",
    "# this did not work when test, but now appears to work\n",
    "df['rep_year_wn'] = df['last_seen'].map(lambda x: x.isocalendar())\n",
    "\n",
    "#import time\n",
    "#from time import gmtime, strftime\n",
    "#df.rep_weeknum = time(df.last_seen, \"%Y %m %d\")\n",
    "# print(strftime(\"%W\", df.rep_weeknum))\n",
    "\n",
    "# This works but is a hack because there is an error between year and week number\n",
    "df['rep_year'] = df['last_seen'].map(lambda x: x.to_pydatetime().isocalendar()[0])\n",
    "\n",
    "# double check if the week number below is ISO standard\n",
    "# I don't know the reference for week below, but appears to be ISO week\n",
    "df['rep_weeknum'] = df['last_seen'].map(lambda x: x.to_pydatetime().isocalendar()[1])\n",
    "                                        \n",
    "# Isocalendar is better to use as it tracks (year, weeknum, day of week)                                        "
   ]
  },
  {
   "cell_type": "code",
   "execution_count": 10,
   "metadata": {
    "collapsed": false,
    "deletable": true,
    "editable": true
   },
   "outputs": [
    {
     "data": {
      "text/plain": [
       "Timestamp('2016-10-06 17:01:37')"
      ]
     },
     "execution_count": 10,
     "metadata": {},
     "output_type": "execute_result"
    }
   ],
   "source": [
    "df['last_seen'][0]"
   ]
  },
  {
   "cell_type": "code",
   "execution_count": 11,
   "metadata": {
    "collapsed": false,
    "deletable": true,
    "editable": true
   },
   "outputs": [
    {
     "data": {
      "text/plain": [
       "<matplotlib.axes._subplots.AxesSubplot at 0x7f9519759c50>"
      ]
     },
     "execution_count": 11,
     "metadata": {},
     "output_type": "execute_result"
    },
    {
     "data": {
      "image/png": "[encoded data removed]",
      "text/plain": [
       "<matplotlib.figure.Figure at 0x7f951b240690>"
      ]
     },
     "metadata": {},
     "output_type": "display_data"
    }
   ],
   "source": [
    "df.plot.scatter(x='rep_weeknum', y='rep_year')\n",
    "# problem with week number 52 year 2017"
   ]
  },
  {
   "cell_type": "code",
   "execution_count": 12,
   "metadata": {
    "collapsed": false,
    "deletable": true,
    "editable": true
   },
   "outputs": [],
   "source": [
    "# clean data\n",
    "\n",
    "# delete all future reporting - 10 am\n",
    "df['last_seen_dotw'] = df['last_seen'].map(lambda x: x.to_pydatetime().isocalendar()[2])\n",
    "df['last_seen_hour'] = df['last_seen'].map(lambda x: x.to_pydatetime().hour)\n",
    "#df.query('last_seen_dotw==1').query('last_seen_hour<10').query('rep_weeknum==weeknum')['name'].groupby(df['name']).count().plot(kind='bar', rot=90)\n",
    "bad_index = df.query('last_seen_dotw==1').query('last_seen_hour<10').query('rep_weeknum==weeknum').index.tolist()\n",
    "\n",
    "\n",
    "# print df.count()\n",
    "df = df[~df.index.isin(bad_index)]"
   ]
  },
  {
   "cell_type": "code",
   "execution_count": 13,
   "metadata": {
    "collapsed": false,
    "deletable": true,
    "editable": true
   },
   "outputs": [],
   "source": [
    "# remove reports for before 8 weeks\n",
    "\n",
    "df['last_seen_weeknum_8weekago'] = df['last_seen'].map(lambda x: (x.to_pydatetime() - timedelta(weeks=8)).isocalendar()[1])"
   ]
  },
  {
   "cell_type": "code",
   "execution_count": 14,
   "metadata": {
    "collapsed": false,
    "deletable": true,
    "editable": true
   },
   "outputs": [
    {
     "data": {
      "text/plain": [
       "15"
      ]
     },
     "execution_count": 14,
     "metadata": {},
     "output_type": "execute_result"
    }
   ],
   "source": [
    "(9 - 46) % 52"
   ]
  },
  {
   "cell_type": "code",
   "execution_count": 15,
   "metadata": {
    "collapsed": false,
    "deletable": true,
    "editable": true
   },
   "outputs": [
    {
     "data": {
      "text/html": [
       "<div>\n",
       "<table border=\"1\" class=\"dataframe\">\n",
       "  <thead>\n",
       "    <tr style=\"text-align: right;\">\n",
       "      <th></th>\n",
       "      <th>index</th>\n",
       "      <th>contact_uuid</th>\n",
       "      <th>urn</th>\n",
       "      <th>name</th>\n",
       "      <th>groups</th>\n",
       "      <th>siteid</th>\n",
       "      <th>first_seen</th>\n",
       "      <th>last_seen</th>\n",
       "      <th>weeknum</th>\n",
       "      <th>role</th>\n",
       "      <th>...</th>\n",
       "      <th>dmed</th>\n",
       "      <th>tout</th>\n",
       "      <th>confirm</th>\n",
       "      <th>unique</th>\n",
       "      <th>rep_year_wn</th>\n",
       "      <th>rep_year</th>\n",
       "      <th>rep_weeknum</th>\n",
       "      <th>last_seen_dotw</th>\n",
       "      <th>last_seen_hour</th>\n",
       "      <th>last_seen_weeknum_8weekago</th>\n",
       "    </tr>\n",
       "  </thead>\n",
       "  <tbody>\n",
       "    <tr>\n",
       "      <th>34607</th>\n",
       "      <td>34499</td>\n",
       "      <td>1fed4097-3edb-44ec-a04d-3dd8fd0f46a7</td>\n",
       "      <td>2348068838496</td>\n",
       "      <td>Hussain Umar Zamni.</td>\n",
       "      <td>Imam Supervision, Imam Supervision 2, Imam Sup...</td>\n",
       "      <td>818110008</td>\n",
       "      <td>2017-03-20 07:10:19</td>\n",
       "      <td>2017-03-20 07:12:32</td>\n",
       "      <td>11</td>\n",
       "      <td>Site</td>\n",
       "      <td>...</td>\n",
       "      <td>None</td>\n",
       "      <td>None</td>\n",
       "      <td>None</td>\n",
       "      <td>2348068838496 2017-03-20 07:10:19</td>\n",
       "      <td>(2017, 12, 1)</td>\n",
       "      <td>2017</td>\n",
       "      <td>12</td>\n",
       "      <td>1</td>\n",
       "      <td>7</td>\n",
       "      <td>4</td>\n",
       "    </tr>\n",
       "    <tr>\n",
       "      <th>27735</th>\n",
       "      <td>27625</td>\n",
       "      <td>893376dd-9df2-4a91-8f21-5e68cf724b41</td>\n",
       "      <td>2347069118684</td>\n",
       "      <td>Samaila Sulaiman .</td>\n",
       "      <td>Imam Supervision, Imam Supervision 2, Imam Sup...</td>\n",
       "      <td>3603210001</td>\n",
       "      <td>2017-03-20 07:10:08</td>\n",
       "      <td>2017-03-20 07:12:30</td>\n",
       "      <td>8</td>\n",
       "      <td>Site</td>\n",
       "      <td>...</td>\n",
       "      <td>None</td>\n",
       "      <td>None</td>\n",
       "      <td>None</td>\n",
       "      <td>2347069118684 2017-03-20 07:10:08</td>\n",
       "      <td>(2017, 12, 1)</td>\n",
       "      <td>2017</td>\n",
       "      <td>12</td>\n",
       "      <td>1</td>\n",
       "      <td>7</td>\n",
       "      <td>4</td>\n",
       "    </tr>\n",
       "    <tr>\n",
       "      <th>28082</th>\n",
       "      <td>27970</td>\n",
       "      <td>d745fc85-ffae-4cfc-935c-267a16bd7bca</td>\n",
       "      <td>2348067698638</td>\n",
       "      <td>Nafiu Bello.</td>\n",
       "      <td>Imam Supervision, Imam Supervision 2, Imam Sup...</td>\n",
       "      <td>3605110051</td>\n",
       "      <td>2017-03-20 07:04:00</td>\n",
       "      <td>2017-03-20 07:10:05</td>\n",
       "      <td>11</td>\n",
       "      <td>Site</td>\n",
       "      <td>...</td>\n",
       "      <td>0.0</td>\n",
       "      <td>2</td>\n",
       "      <td>Yes</td>\n",
       "      <td>2348067698638 2017-03-20 07:04:00</td>\n",
       "      <td>(2017, 12, 1)</td>\n",
       "      <td>2017</td>\n",
       "      <td>12</td>\n",
       "      <td>1</td>\n",
       "      <td>7</td>\n",
       "      <td>4</td>\n",
       "    </tr>\n",
       "    <tr>\n",
       "      <th>25619</th>\n",
       "      <td>25522</td>\n",
       "      <td>eadd9870-9e6a-483d-9669-97291071efe5</td>\n",
       "      <td>2347031104215</td>\n",
       "      <td>Abdullah Maaruf.</td>\n",
       "      <td>AlertRUTF, Imam Supervision, Imam Supervision ...</td>\n",
       "      <td>2034110031</td>\n",
       "      <td>2017-03-20 06:42:09</td>\n",
       "      <td>2017-03-20 06:46:13</td>\n",
       "      <td>11</td>\n",
       "      <td>Site</td>\n",
       "      <td>...</td>\n",
       "      <td>0</td>\n",
       "      <td>0</td>\n",
       "      <td>Yes</td>\n",
       "      <td>2347031104215 2017-03-20 06:42:09</td>\n",
       "      <td>(2017, 12, 1)</td>\n",
       "      <td>2017</td>\n",
       "      <td>12</td>\n",
       "      <td>1</td>\n",
       "      <td>6</td>\n",
       "      <td>4</td>\n",
       "    </tr>\n",
       "    <tr>\n",
       "      <th>3979</th>\n",
       "      <td>3959</td>\n",
       "      <td>c6ace209-1c2e-46f2-b008-950715e39df2</td>\n",
       "      <td>2348166722275</td>\n",
       "      <td>Abdulwahab Ismail.</td>\n",
       "      <td>Imam Supervision, Imam Supervision 2, Imam Sup...</td>\n",
       "      <td>1606110027</td>\n",
       "      <td>2017-03-19 22:47:40</td>\n",
       "      <td>2017-03-19 23:16:51</td>\n",
       "      <td>11</td>\n",
       "      <td>Site</td>\n",
       "      <td>...</td>\n",
       "      <td>1</td>\n",
       "      <td>0</td>\n",
       "      <td>Yes</td>\n",
       "      <td>2348166722275 2017-03-19 22:47:40</td>\n",
       "      <td>(2017, 11, 7)</td>\n",
       "      <td>2017</td>\n",
       "      <td>11</td>\n",
       "      <td>7</td>\n",
       "      <td>23</td>\n",
       "      <td>3</td>\n",
       "    </tr>\n",
       "  </tbody>\n",
       "</table>\n",
       "<p>5 rows × 30 columns</p>\n",
       "</div>"
      ],
      "text/plain": [
       "       index                          contact_uuid            urn  \\\n",
       "34607  34499  1fed4097-3edb-44ec-a04d-3dd8fd0f46a7  2348068838496   \n",
       "27735  27625  893376dd-9df2-4a91-8f21-5e68cf724b41  2347069118684   \n",
       "28082  27970  d745fc85-ffae-4cfc-935c-267a16bd7bca  2348067698638   \n",
       "25619  25522  eadd9870-9e6a-483d-9669-97291071efe5  2347031104215   \n",
       "3979    3959  c6ace209-1c2e-46f2-b008-950715e39df2  2348166722275   \n",
       "\n",
       "                      name                                             groups  \\\n",
       "34607  Hussain Umar Zamni.  Imam Supervision, Imam Supervision 2, Imam Sup...   \n",
       "27735   Samaila Sulaiman .  Imam Supervision, Imam Supervision 2, Imam Sup...   \n",
       "28082         Nafiu Bello.  Imam Supervision, Imam Supervision 2, Imam Sup...   \n",
       "25619     Abdullah Maaruf.  AlertRUTF, Imam Supervision, Imam Supervision ...   \n",
       "3979    Abdulwahab Ismail.  Imam Supervision, Imam Supervision 2, Imam Sup...   \n",
       "\n",
       "           siteid          first_seen           last_seen  weeknum  role  \\\n",
       "34607   818110008 2017-03-20 07:10:19 2017-03-20 07:12:32       11  Site   \n",
       "27735  3603210001 2017-03-20 07:10:08 2017-03-20 07:12:30        8  Site   \n",
       "28082  3605110051 2017-03-20 07:04:00 2017-03-20 07:10:05       11  Site   \n",
       "25619  2034110031 2017-03-20 06:42:09 2017-03-20 06:46:13       11  Site   \n",
       "3979   1606110027 2017-03-19 22:47:40 2017-03-19 23:16:51       11  Site   \n",
       "\n",
       "                 ...              dmed  tout confirm  \\\n",
       "34607            ...              None  None    None   \n",
       "27735            ...              None  None    None   \n",
       "28082            ...               0.0     2     Yes   \n",
       "25619            ...                 0     0     Yes   \n",
       "3979             ...                 1     0     Yes   \n",
       "\n",
       "                                  unique    rep_year_wn rep_year rep_weeknum  \\\n",
       "34607  2348068838496 2017-03-20 07:10:19  (2017, 12, 1)     2017          12   \n",
       "27735  2347069118684 2017-03-20 07:10:08  (2017, 12, 1)     2017          12   \n",
       "28082  2348067698638 2017-03-20 07:04:00  (2017, 12, 1)     2017          12   \n",
       "25619  2347031104215 2017-03-20 06:42:09  (2017, 12, 1)     2017          12   \n",
       "3979   2348166722275 2017-03-19 22:47:40  (2017, 11, 7)     2017          11   \n",
       "\n",
       "      last_seen_dotw last_seen_hour last_seen_weeknum_8weekago  \n",
       "34607              1              7                          4  \n",
       "27735              1              7                          4  \n",
       "28082              1              7                          4  \n",
       "25619              1              6                          4  \n",
       "3979               7             23                          3  \n",
       "\n",
       "[5 rows x 30 columns]"
      ]
     },
     "execution_count": 15,
     "metadata": {},
     "output_type": "execute_result"
    }
   ],
   "source": [
    "df.head()"
   ]
  },
  {
   "cell_type": "code",
   "execution_count": 207,
   "metadata": {
    "collapsed": false,
    "deletable": true,
    "editable": true
   },
   "outputs": [
    {
     "name": "stdout",
     "output_type": "stream",
     "text": [
      "2017 <type 'str'>\n",
      "03 <type 'str'>\n",
      "29 <type 'str'>\n"
     ]
    }
   ],
   "source": [
    "# Corrected Year Error with to_pydatetime\n",
    "\n",
    "# if all else fails\n",
    "# split out year, month, day to feed into datetime\n",
    "# and convert from string to int\n",
    "date = \"2017-03-29 15:32:15.342119\"\n",
    "year, month, day = date.split('-')\n",
    "day = day[0:2]\n",
    "print year, type(year)\n",
    "print month, type(year)\n",
    "print day, type(year)"
   ]
  },
  {
   "cell_type": "code",
   "execution_count": 18,
   "metadata": {
    "collapsed": false,
    "deletable": true,
    "editable": true
   },
   "outputs": [],
   "source": [
    "df['year'] = df['last_seen'].map(lambda x: x.year)\n",
    "\n",
    "df['last_seen_weeknum'] = df['last_seen'].map(lambda x: x.week)\n",
    "df['year'] = np.where(df['last_seen_weeknum'] < df['weeknum'],\n",
    "                                        df['year'] - 1, df['year'])\n",
    "\n",
    "df['year_weeknum'] = zip(df['year'], df['weeknum'])"
   ]
  },
  {
   "cell_type": "code",
   "execution_count": 17,
   "metadata": {
    "collapsed": false,
    "deletable": true,
    "editable": true
   },
   "outputs": [],
   "source": [
    "# from isoweek import Week\n",
    "# w = Week(2011, 20)\n",
    "\n",
    "from isoweek import Week\n",
    "df['iso_rep_year_wn'] = df['rep_year_wn'].map(lambda x: Week(x[0], x[1]))\n",
    "\n",
    "df['iso_year_weeknum'] = df['year_weeknum'].map(lambda x: Week(x[0], x[1]))"
   ]
  },
  {
   "cell_type": "code",
   "execution_count": 19,
   "metadata": {
    "collapsed": true,
    "deletable": true,
    "editable": true
   },
   "outputs": [],
   "source": [
    "bad_index2 = df.query('rep_year_wn<year_weeknum').index.tolist()\n",
    "df = df[~df.index.isin(bad_index2)]"
   ]
  },
  {
   "cell_type": "code",
   "execution_count": 20,
   "metadata": {
    "collapsed": false,
    "deletable": true,
    "editable": true
   },
   "outputs": [
    {
     "data": {
      "text/plain": [
       "count     24111\n",
       "unique        1\n",
       "top        True\n",
       "freq      24111\n",
       "dtype: object"
      ]
     },
     "execution_count": 20,
     "metadata": {},
     "output_type": "execute_result"
    }
   ],
   "source": [
    "# this mean that iso week comparison yield the sane result than tuple comparison\n",
    "((df['iso_rep_year_wn'] >= df['iso_year_weeknum']) == (df['rep_year_wn'] >= df['year_weeknum'])).describe()"
   ]
  },
  {
   "cell_type": "code",
   "execution_count": 21,
   "metadata": {
    "collapsed": false,
    "deletable": true,
    "editable": true
   },
   "outputs": [
    {
     "data": {
      "text/plain": [
       "count      52.000000\n",
       "mean      463.673077\n",
       "std      1346.973976\n",
       "min         1.000000\n",
       "25%         5.750000\n",
       "50%        14.500000\n",
       "75%        76.000000\n",
       "max      7848.000000\n",
       "Name: iso_diff, dtype: float64"
      ]
     },
     "execution_count": 21,
     "metadata": {},
     "output_type": "execute_result"
    }
   ],
   "source": [
    "df['iso_diff'] = (df['iso_year_weeknum'] - df['iso_rep_year_wn'] )\n",
    "df['iso_diff'].groupby(df['iso_diff']).count().describe()"
   ]
  },
  {
   "cell_type": "code",
   "execution_count": 22,
   "metadata": {
    "collapsed": false,
    "deletable": true,
    "editable": true
   },
   "outputs": [
    {
     "data": {
      "text/plain": [
       "<matplotlib.axes._subplots.AxesSubplot at 0x7f951871b190>"
      ]
     },
     "execution_count": 22,
     "metadata": {},
     "output_type": "execute_result"
    },
    {
     "data": {
      "image/png": "[encoded data removed]",
      "text/plain": [
       "<matplotlib.figure.Figure at 0x7f9517631b50>"
      ]
     },
     "metadata": {},
     "output_type": "display_data"
    }
   ],
   "source": [
    "df['iso_diff'].groupby(df['iso_diff']).count().plot.barh()"
   ]
  },
  {
   "cell_type": "code",
   "execution_count": 332,
   "metadata": {
    "collapsed": false,
    "deletable": true,
    "editable": true,
    "scrolled": true
   },
   "outputs": [
    {
     "data": {
      "text/plain": [
       "iso_diff\n",
       "-52      45\n",
       "-51       4\n",
       "-49       1\n",
       "-48       9\n",
       "-47       5\n",
       "-46       1\n",
       "-45       2\n",
       "-44       9\n",
       "-43      17\n",
       "-42      27\n",
       "-41      14\n",
       "-40      18\n",
       "-39      12\n",
       "-38       4\n",
       "-37       2\n",
       "-36       3\n",
       "-35      13\n",
       "-34       8\n",
       "-33       8\n",
       "-32       2\n",
       "-31       2\n",
       "-30       4\n",
       "-29       5\n",
       "-28       5\n",
       "-27      11\n",
       "-26       6\n",
       "-25      15\n",
       "-24       6\n",
       "-23       7\n",
       "-22      14\n",
       "-21      11\n",
       "-20      16\n",
       "-19      19\n",
       "-18      21\n",
       "-17      24\n",
       "-16      32\n",
       "-15      30\n",
       "-14      40\n",
       "-13      68\n",
       "-12     100\n",
       "-11     166\n",
       "-10     346\n",
       "-9      573\n",
       "-8      952\n",
       "-7      920\n",
       "-6     1012\n",
       "-5     1115\n",
       "-4     1284\n",
       "-3     1612\n",
       "-2     2382\n",
       "-1     5261\n",
       " 0     7848\n",
       "Name: iso_diff, dtype: int64"
      ]
     },
     "execution_count": 332,
     "metadata": {},
     "output_type": "execute_result"
    }
   ],
   "source": [
    "df['iso_diff'].groupby(df['iso_diff']).count()"
   ]
  },
  {
   "cell_type": "code",
   "execution_count": 338,
   "metadata": {
    "collapsed": false,
    "deletable": true,
    "editable": true
   },
   "outputs": [
    {
     "data": {
      "text/plain": [
       "<matplotlib.axes._subplots.AxesSubplot at 0x7fd8ba82e7d0>"
      ]
     },
     "execution_count": 338,
     "metadata": {},
     "output_type": "execute_result"
    },
    {
     "data": {
      "image/png": "[encoded data removed]",
      "text/plain": [
       "<matplotlib.figure.Figure at 0x7fd8bc6e1750>"
      ]
     },
     "metadata": {},
     "output_type": "display_data"
    }
   ],
   "source": [
    "df.query('iso_diff>=-8')['iso_diff'].groupby(df['iso_diff']).count().plot.pie(figsize=(6, 6))\n",
    "# reporting by the day of the week\n"
   ]
  },
  {
   "cell_type": "code",
   "execution_count": 33,
   "metadata": {
    "collapsed": false
   },
   "outputs": [],
   "source": [
    "year, week, dotw = date.today().isocalendar()\n",
    "current_week = Week(year, week)\n",
    "\n",
    "# since how many week this report is about\n",
    "df['since_x_weeks'] = df['iso_year_weeknum'].map(lambda x: current_week - x)"
   ]
  },
  {
   "cell_type": "code",
   "execution_count": 37,
   "metadata": {
    "collapsed": false
   },
   "outputs": [
    {
     "data": {
      "text/plain": [
       "34607    2\n",
       "27735    5\n",
       "28082    2\n",
       "25619    2\n",
       "3979     2\n",
       "27817    2\n",
       "20069    2\n",
       "911      2\n",
       "27816    3\n",
       "19641    4\n",
       "28551    2\n",
       "19640    8\n",
       "4543     2\n",
       "10485    2\n",
       "20143    2\n",
       "20142    3\n",
       "3900     2\n",
       "20141    4\n",
       "20140    5\n",
       "27734    6\n",
       "34532    2\n",
       "27563    2\n",
       "13539    3\n",
       "32246    2\n",
       "27732    7\n",
       "26778    2\n",
       "14672    2\n",
       "14770    2\n",
       "26777    3\n",
       "25921    2\n",
       "        ..\n",
       "34116    8\n",
       "25969    8\n",
       "17875    8\n",
       "21485    8\n",
       "34069    8\n",
       "1762     8\n",
       "8080     8\n",
       "11159    8\n",
       "33919    8\n",
       "22146    8\n",
       "28581    8\n",
       "13262    8\n",
       "4951     8\n",
       "23490    8\n",
       "30137    8\n",
       "24536    8\n",
       "26929    8\n",
       "3853     8\n",
       "28166    8\n",
       "18564    8\n",
       "26558    8\n",
       "36120    8\n",
       "27147    8\n",
       "20976    8\n",
       "6096     8\n",
       "17714    8\n",
       "27677    8\n",
       "10221    8\n",
       "25429    8\n",
       "5488     8\n",
       "Name: since_x_weeks, dtype: int64"
      ]
     },
     "execution_count": 37,
     "metadata": {},
     "output_type": "execute_result"
    }
   ],
   "source": [
    "df.query('since_x_weeks<=8')['since_x_weeks']"
   ]
  },
  {
   "cell_type": "code",
   "execution_count": 51,
   "metadata": {
    "collapsed": false
   },
   "outputs": [
    {
     "data": {
      "text/plain": [
       "siteid\n",
       "201110007             [9, 8, 7, 6, 5]\n",
       "201110009         [10, 9, 8, 7, 6, 5]\n",
       "201110026             [9, 8, 7, 6, 5]\n",
       "201110029            [10, 8, 7, 6, 5]\n",
       "201410014        [11, 10, 9, 7, 6, 5]\n",
       "202110019                [8, 7, 6, 5]\n",
       "202110021     [11, 10, 9, 8, 7, 6, 5]\n",
       "202110027     [11, 10, 9, 8, 7, 6, 5]\n",
       "202110035     [11, 10, 9, 8, 7, 6, 5]\n",
       "202110068         [10, 9, 8, 7, 6, 5]\n",
       "202610001             [9, 8, 7, 6, 5]\n",
       "203110002     [11, 10, 9, 8, 7, 6, 5]\n",
       "203110037     [11, 10, 9, 8, 7, 6, 5]\n",
       "203110038     [11, 10, 9, 8, 7, 6, 5]\n",
       "203110043     [11, 10, 9, 8, 7, 6, 5]\n",
       "203110053     [11, 10, 9, 8, 7, 6, 5]\n",
       "204110006         [10, 9, 8, 7, 6, 5]\n",
       "204110014             [9, 5, 8, 7, 6]\n",
       "204110026         [10, 9, 8, 7, 6, 5]\n",
       "204110029     [11, 10, 9, 8, 7, 6, 5]\n",
       "204110035     [11, 10, 9, 8, 7, 6, 5]\n",
       "205110025         [10, 9, 8, 7, 6, 5]\n",
       "205110030                [8, 7, 6, 5]\n",
       "206110004     [11, 10, 9, 8, 7, 6, 5]\n",
       "206110011     [11, 10, 9, 8, 7, 6, 5]\n",
       "206110020         [10, 9, 8, 7, 6, 5]\n",
       "206110032                   [7, 6, 5]\n",
       "206110034     [11, 10, 9, 8, 7, 6, 5]\n",
       "207110055     [11, 10, 9, 8, 7, 6, 5]\n",
       "207110082         [10, 9, 8, 7, 5, 6]\n",
       "                       ...           \n",
       "3605110020            [9, 8, 7, 6, 5]\n",
       "3605110027        [10, 9, 8, 7, 6, 5]\n",
       "3605110035    [11, 10, 9, 8, 7, 6, 5]\n",
       "3605110051    [11, 10, 9, 8, 7, 6, 5]\n",
       "3605110056        [10, 9, 8, 7, 6, 5]\n",
       "3605110058    [11, 10, 9, 8, 7, 6, 5]\n",
       "3605110063    [11, 10, 9, 8, 7, 6, 5]\n",
       "3605210026        [10, 9, 8, 7, 6, 5]\n",
       "3607210005    [11, 10, 9, 8, 7, 6, 5]\n",
       "3607210063    [11, 10, 9, 8, 7, 6, 5]\n",
       "3607210081    [11, 10, 9, 8, 7, 6, 5]\n",
       "3607310003        [10, 9, 8, 7, 6, 5]\n",
       "3609110002    [11, 10, 9, 8, 7, 6, 5]\n",
       "3609110014    [11, 10, 9, 7, 8, 6, 5]\n",
       "3609110026    [11, 10, 9, 8, 7, 6, 5]\n",
       "3609110043    [11, 10, 9, 8, 7, 6, 5]\n",
       "3609210040        [10, 9, 8, 7, 6, 5]\n",
       "3611110009    [11, 10, 9, 8, 7, 6, 5]\n",
       "3611110018    [11, 10, 9, 8, 7, 6, 5]\n",
       "3611110022    [11, 10, 9, 8, 7, 6, 5]\n",
       "3611110026    [11, 10, 9, 8, 7, 6, 5]\n",
       "3611110031                        [5]\n",
       "3611110033            [9, 8, 7, 6, 5]\n",
       "3611210034        [10, 9, 8, 7, 6, 5]\n",
       "3613110001    [11, 10, 9, 8, 7, 6, 5]\n",
       "3613110010    [11, 10, 9, 8, 7, 6, 5]\n",
       "3613110022    [11, 10, 9, 8, 7, 6, 5]\n",
       "3613110044    [11, 10, 9, 8, 7, 6, 5]\n",
       "3613110051    [11, 10, 9, 8, 7, 6, 5]\n",
       "3613210035                     [6, 5]\n",
       "Name: weeknum, dtype: object"
      ]
     },
     "execution_count": 51,
     "metadata": {},
     "output_type": "execute_result"
    }
   ],
   "source": [
    "df.query('since_x_weeks<=8').query('siteid>101110001').groupby(df['siteid'])['weeknum'].unique()"
   ]
  },
  {
   "cell_type": "code",
   "execution_count": 49,
   "metadata": {
    "collapsed": false
   },
   "outputs": [
    {
     "data": {
      "text/plain": [
       "<matplotlib.axes._subplots.AxesSubplot at 0x7f9516a14dd0>"
      ]
     },
     "execution_count": 49,
     "metadata": {},
     "output_type": "execute_result"
    },
    {
     "data": {
      "image/png": "[encoded data removed]",
      "text/plain": [
       "<matplotlib.figure.Figure at 0x7f9516d51210>"
      ]
     },
     "metadata": {},
     "output_type": "display_data"
    }
   ],
   "source": [
    "df.query('since_x_weeks<=8').query('siteid>101110001').groupby(df['siteid'])['weeknum'].unique().map(lambda x: (len(x) / 8.) * 100).plot.hist()"
   ]
  },
  {
   "cell_type": "code",
   "execution_count": 52,
   "metadata": {
    "collapsed": false
   },
   "outputs": [
    {
     "data": {
      "text/plain": [
       "{5, 6, 7, 8, 9, 10, 11, 12}"
      ]
     },
     "execution_count": 52,
     "metadata": {},
     "output_type": "execute_result"
    }
   ],
   "source": [
    "set(range(5, 13))"
   ]
  },
  {
   "cell_type": "code",
   "execution_count": 53,
   "metadata": {
    "collapsed": false
   },
   "outputs": [
    {
     "data": {
      "text/plain": [
       "{10, 11, 12}"
      ]
     },
     "execution_count": 53,
     "metadata": {},
     "output_type": "execute_result"
    }
   ],
   "source": [
    "# set operation to calculate missing report week nubers\n",
    "set(range(5, 13)) - set([9, 8, 7, 6, 5])"
   ]
  },
  {
   "cell_type": "code",
   "execution_count": 54,
   "metadata": {
    "collapsed": false
   },
   "outputs": [
    {
     "data": {
      "text/plain": [
       "[5, 6, 7, 8, 9, 10, 11, 12]"
      ]
     },
     "execution_count": 54,
     "metadata": {},
     "output_type": "execute_result"
    }
   ],
   "source": [
    "week = date.today().isocalendar()[1]\n",
    "range(week - 8, week)"
   ]
  },
  {
   "cell_type": "code",
   "execution_count": 55,
   "metadata": {
    "collapsed": false
   },
   "outputs": [
    {
     "data": {
      "text/plain": [
       "{10, 11, 12}"
      ]
     },
     "execution_count": 55,
     "metadata": {},
     "output_type": "execute_result"
    }
   ],
   "source": [
    "# making things generic\n",
    "set(range(week - 8, week)) - set([9, 8, 7, 6, 5])"
   ]
  },
  {
   "cell_type": "code",
   "execution_count": 61,
   "metadata": {
    "collapsed": false
   },
   "outputs": [
    {
     "data": {
      "text/plain": [
       "siteid\n",
       "201110007                 {10, 11, 12}\n",
       "201110009                     {11, 12}\n",
       "201110026                 {10, 11, 12}\n",
       "201110029                  {9, 11, 12}\n",
       "201410014                      {8, 12}\n",
       "202110019              {9, 10, 11, 12}\n",
       "202110021                         {12}\n",
       "202110027                         {12}\n",
       "202110035                         {12}\n",
       "202110068                     {11, 12}\n",
       "202610001                 {10, 11, 12}\n",
       "203110002                         {12}\n",
       "203110037                         {12}\n",
       "203110038                         {12}\n",
       "203110043                         {12}\n",
       "203110053                         {12}\n",
       "204110006                     {11, 12}\n",
       "204110014                 {10, 11, 12}\n",
       "204110026                     {11, 12}\n",
       "204110029                         {12}\n",
       "204110035                         {12}\n",
       "205110025                     {11, 12}\n",
       "205110030              {9, 10, 11, 12}\n",
       "206110004                         {12}\n",
       "206110011                         {12}\n",
       "206110020                     {11, 12}\n",
       "206110032           {8, 9, 10, 11, 12}\n",
       "206110034                         {12}\n",
       "207110055                         {12}\n",
       "207110082                     {11, 12}\n",
       "                        ...           \n",
       "3605110020                {10, 11, 12}\n",
       "3605110027                    {11, 12}\n",
       "3605110035                        {12}\n",
       "3605110051                        {12}\n",
       "3605110056                    {11, 12}\n",
       "3605110058                        {12}\n",
       "3605110063                        {12}\n",
       "3605210026                    {11, 12}\n",
       "3607210005                        {12}\n",
       "3607210063                        {12}\n",
       "3607210081                        {12}\n",
       "3607310003                    {11, 12}\n",
       "3609110002                        {12}\n",
       "3609110014                        {12}\n",
       "3609110026                        {12}\n",
       "3609110043                        {12}\n",
       "3609210040                    {11, 12}\n",
       "3611110009                        {12}\n",
       "3611110018                        {12}\n",
       "3611110022                        {12}\n",
       "3611110026                        {12}\n",
       "3611110031    {6, 7, 8, 9, 10, 11, 12}\n",
       "3611110033                {10, 11, 12}\n",
       "3611210034                    {11, 12}\n",
       "3613110001                        {12}\n",
       "3613110010                        {12}\n",
       "3613110022                        {12}\n",
       "3613110044                        {12}\n",
       "3613110051                        {12}\n",
       "3613210035       {7, 8, 9, 10, 11, 12}\n",
       "Name: weeknum, dtype: object"
      ]
     },
     "execution_count": 61,
     "metadata": {},
     "output_type": "execute_result"
    }
   ],
   "source": [
    "# missing weeks\n",
    "df.query('since_x_weeks<=8').query('siteid>101110001').groupby(df['siteid'])['weeknum'].unique().map(lambda x: set(range(week - 8, week)) - set(x))"
   ]
  },
  {
   "cell_type": "code",
   "execution_count": 70,
   "metadata": {
    "collapsed": false
   },
   "outputs": [
    {
     "data": {
      "text/plain": [
       "62.5"
      ]
     },
     "execution_count": 70,
     "metadata": {},
     "output_type": "execute_result"
    }
   ],
   "source": [
    "# percentage of complet reporting for one site\n",
    "df.query('since_x_weeks<=8').query('siteid>101110001').query('3611110033==siteid').groupby(df['siteid'])['weeknum'].unique().map(lambda x: (len(x) / 8.) * 100).tolist()[0]"
   ]
  },
  {
   "cell_type": "code",
   "execution_count": 77,
   "metadata": {
    "collapsed": false
   },
   "outputs": [
    {
     "data": {
      "text/plain": [
       "62.5"
      ]
     },
     "execution_count": 77,
     "metadata": {},
     "output_type": "execute_result"
    }
   ],
   "source": [
    "(5 / 8.) * 100"
   ]
  },
  {
   "cell_type": "code",
   "execution_count": 71,
   "metadata": {
    "collapsed": false
   },
   "outputs": [
    {
     "data": {
      "text/plain": [
       "91"
      ]
     },
     "execution_count": 71,
     "metadata": {},
     "output_type": "execute_result"
    }
   ],
   "source": [
    "df['since_x_weeks'].max()"
   ]
  },
  {
   "cell_type": "code",
   "execution_count": 81,
   "metadata": {
    "collapsed": false
   },
   "outputs": [
    {
     "name": "stdout",
     "output_type": "stream",
     "text": [
      "0 [62.5]\n",
      "1 [75.0]\n",
      "2 [87.5]\n",
      "3 [100.0]\n",
      "4 [100.0]\n",
      "5 [100.0]\n",
      "6 [100.0]\n",
      "7 [100.0]\n",
      "8 [100.0]\n",
      "9 [100.0]\n",
      "10 [100.0]\n",
      "11 [100.0]\n",
      "12 [100.0]\n",
      "13 [100.0]\n",
      "14 [100.0]\n",
      "15 [100.0]\n",
      "16 [100.0]\n",
      "17 [100.0]\n",
      "18 [100.0]\n",
      "19 [100.0]\n",
      "20 [100.0]\n",
      "21 [100.0]\n",
      "22 [87.5]\n",
      "23 [75.0]\n",
      "24 [62.5]\n",
      "25 [50.0]\n",
      "26 [37.5]\n",
      "27 [25.0]\n",
      "28 [12.5]\n",
      "29 []\n",
      "30 []\n",
      "31 []\n",
      "32 []\n",
      "33 []\n",
      "34 []\n",
      "35 []\n",
      "36 []\n",
      "37 []\n",
      "38 []\n",
      "39 []\n",
      "40 []\n",
      "41 []\n",
      "42 []\n",
      "43 []\n",
      "44 []\n",
      "45 []\n",
      "46 []\n",
      "47 []\n",
      "48 []\n",
      "49 []\n",
      "50 []\n",
      "51 []\n",
      "52 []\n",
      "53 []\n",
      "54 []\n",
      "55 []\n",
      "56 []\n",
      "57 []\n",
      "58 []\n",
      "59 []\n",
      "60 []\n",
      "61 []\n",
      "62 []\n",
      "63 []\n",
      "64 []\n",
      "65 []\n",
      "66 []\n",
      "67 []\n",
      "68 []\n",
      "69 []\n",
      "70 []\n",
      "71 []\n",
      "72 []\n",
      "73 []\n",
      "74 []\n",
      "75 []\n",
      "76 []\n",
      "77 []\n",
      "78 []\n",
      "79 []\n",
      "80 []\n",
      "81 []\n",
      "82 []\n",
      "83 []\n",
      "84 []\n",
      "85 []\n",
      "86 []\n",
      "87 []\n",
      "88 []\n",
      "89 []\n",
      "90 []\n"
     ]
    }
   ],
   "source": [
    "for i in range(0, df['since_x_weeks'].max()):\n",
    "    print i, df.query('%s<since_x_weeks<=%s' % (i, i + 8)).query('siteid>101110001').query('3611110033==siteid').groupby(df['siteid'])['weeknum'].unique().map(lambda x: (len(x) / 8.) * 100).tolist()"
   ]
  },
  {
   "cell_type": "code",
   "execution_count": 29,
   "metadata": {
    "collapsed": false
   },
   "outputs": [
    {
     "data": {
      "text/plain": [
       "6.5"
      ]
     },
     "execution_count": 29,
     "metadata": {},
     "output_type": "execute_result"
    }
   ],
   "source": [
    "52 / 8."
   ]
  },
  {
   "cell_type": "code",
   "execution_count": null,
   "metadata": {
    "collapsed": true
   },
   "outputs": [],
   "source": []
  },
  {
   "cell_type": "code",
   "execution_count": 108,
   "metadata": {
    "collapsed": false,
    "deletable": true,
    "editable": true,
    "scrolled": true
   },
   "outputs": [
    {
     "data": {
      "text/html": [
       "<div>\n",
       "<table border=\"1\" class=\"dataframe\">\n",
       "  <thead>\n",
       "    <tr style=\"text-align: right;\">\n",
       "      <th></th>\n",
       "      <th>index</th>\n",
       "      <th>contact_uuid</th>\n",
       "      <th>urn</th>\n",
       "      <th>name</th>\n",
       "      <th>groups</th>\n",
       "      <th>siteid</th>\n",
       "      <th>first_seen</th>\n",
       "      <th>last_seen</th>\n",
       "      <th>weeknum</th>\n",
       "      <th>role</th>\n",
       "      <th>...</th>\n",
       "      <th>tin</th>\n",
       "      <th>dcur</th>\n",
       "      <th>dead</th>\n",
       "      <th>defu</th>\n",
       "      <th>dmed</th>\n",
       "      <th>tout</th>\n",
       "      <th>confirm</th>\n",
       "      <th>unique</th>\n",
       "      <th>rep_weeknum</th>\n",
       "      <th>rep_year</th>\n",
       "    </tr>\n",
       "  </thead>\n",
       "  <tbody>\n",
       "    <tr>\n",
       "      <th>34607</th>\n",
       "      <td>34499</td>\n",
       "      <td>1fed4097-3edb-44ec-a04d-3dd8fd0f46a7</td>\n",
       "      <td>2348068838496</td>\n",
       "      <td>Hussain Umar Zamni.</td>\n",
       "      <td>Imam Supervision, Imam Supervision 2, Imam Sup...</td>\n",
       "      <td>818110008</td>\n",
       "      <td>2017-03-20 07:10:19</td>\n",
       "      <td>2017-03-20 07:12:32</td>\n",
       "      <td>11</td>\n",
       "      <td>Site</td>\n",
       "      <td>...</td>\n",
       "      <td>0</td>\n",
       "      <td>None</td>\n",
       "      <td>None</td>\n",
       "      <td>None</td>\n",
       "      <td>None</td>\n",
       "      <td>None</td>\n",
       "      <td>None</td>\n",
       "      <td>2348068838496 2017-03-20 07:10:19</td>\n",
       "      <td>12</td>\n",
       "      <td>2017</td>\n",
       "    </tr>\n",
       "    <tr>\n",
       "      <th>27735</th>\n",
       "      <td>27625</td>\n",
       "      <td>893376dd-9df2-4a91-8f21-5e68cf724b41</td>\n",
       "      <td>2347069118684</td>\n",
       "      <td>Samaila Sulaiman .</td>\n",
       "      <td>Imam Supervision, Imam Supervision 2, Imam Sup...</td>\n",
       "      <td>3603210001</td>\n",
       "      <td>2017-03-20 07:10:08</td>\n",
       "      <td>2017-03-20 07:12:30</td>\n",
       "      <td>8</td>\n",
       "      <td>Site</td>\n",
       "      <td>...</td>\n",
       "      <td>0</td>\n",
       "      <td>None</td>\n",
       "      <td>None</td>\n",
       "      <td>None</td>\n",
       "      <td>None</td>\n",
       "      <td>None</td>\n",
       "      <td>None</td>\n",
       "      <td>2347069118684 2017-03-20 07:10:08</td>\n",
       "      <td>12</td>\n",
       "      <td>2017</td>\n",
       "    </tr>\n",
       "    <tr>\n",
       "      <th>28082</th>\n",
       "      <td>27970</td>\n",
       "      <td>d745fc85-ffae-4cfc-935c-267a16bd7bca</td>\n",
       "      <td>2348067698638</td>\n",
       "      <td>Nafiu Bello.</td>\n",
       "      <td>Imam Supervision, Imam Supervision 2, Imam Sup...</td>\n",
       "      <td>3605110051</td>\n",
       "      <td>2017-03-20 07:04:00</td>\n",
       "      <td>2017-03-20 07:10:05</td>\n",
       "      <td>11</td>\n",
       "      <td>Site</td>\n",
       "      <td>...</td>\n",
       "      <td>0</td>\n",
       "      <td>2.0</td>\n",
       "      <td>0.0</td>\n",
       "      <td>0.0</td>\n",
       "      <td>0.0</td>\n",
       "      <td>2</td>\n",
       "      <td>Yes</td>\n",
       "      <td>2348067698638 2017-03-20 07:04:00</td>\n",
       "      <td>12</td>\n",
       "      <td>2017</td>\n",
       "    </tr>\n",
       "    <tr>\n",
       "      <th>25619</th>\n",
       "      <td>25522</td>\n",
       "      <td>eadd9870-9e6a-483d-9669-97291071efe5</td>\n",
       "      <td>2347031104215</td>\n",
       "      <td>Abdullah Maaruf.</td>\n",
       "      <td>AlertRUTF, Imam Supervision, Imam Supervision ...</td>\n",
       "      <td>2034110031</td>\n",
       "      <td>2017-03-20 06:42:09</td>\n",
       "      <td>2017-03-20 06:46:13</td>\n",
       "      <td>11</td>\n",
       "      <td>Site</td>\n",
       "      <td>...</td>\n",
       "      <td>0</td>\n",
       "      <td>0</td>\n",
       "      <td>0</td>\n",
       "      <td>0</td>\n",
       "      <td>0</td>\n",
       "      <td>0</td>\n",
       "      <td>Yes</td>\n",
       "      <td>2347031104215 2017-03-20 06:42:09</td>\n",
       "      <td>12</td>\n",
       "      <td>2017</td>\n",
       "    </tr>\n",
       "    <tr>\n",
       "      <th>3979</th>\n",
       "      <td>3959</td>\n",
       "      <td>c6ace209-1c2e-46f2-b008-950715e39df2</td>\n",
       "      <td>2348166722275</td>\n",
       "      <td>Abdulwahab Ismail.</td>\n",
       "      <td>Imam Supervision, Imam Supervision 2, Imam Sup...</td>\n",
       "      <td>1606110027</td>\n",
       "      <td>2017-03-19 22:47:40</td>\n",
       "      <td>2017-03-19 23:16:51</td>\n",
       "      <td>11</td>\n",
       "      <td>Site</td>\n",
       "      <td>...</td>\n",
       "      <td>0</td>\n",
       "      <td>6</td>\n",
       "      <td>0</td>\n",
       "      <td>0</td>\n",
       "      <td>1</td>\n",
       "      <td>0</td>\n",
       "      <td>Yes</td>\n",
       "      <td>2348166722275 2017-03-19 22:47:40</td>\n",
       "      <td>11</td>\n",
       "      <td>2017</td>\n",
       "    </tr>\n",
       "  </tbody>\n",
       "</table>\n",
       "<p>5 rows × 26 columns</p>\n",
       "</div>"
      ],
      "text/plain": [
       "       index                          contact_uuid            urn  \\\n",
       "34607  34499  1fed4097-3edb-44ec-a04d-3dd8fd0f46a7  2348068838496   \n",
       "27735  27625  893376dd-9df2-4a91-8f21-5e68cf724b41  2347069118684   \n",
       "28082  27970  d745fc85-ffae-4cfc-935c-267a16bd7bca  2348067698638   \n",
       "25619  25522  eadd9870-9e6a-483d-9669-97291071efe5  2347031104215   \n",
       "3979    3959  c6ace209-1c2e-46f2-b008-950715e39df2  2348166722275   \n",
       "\n",
       "                      name                                             groups  \\\n",
       "34607  Hussain Umar Zamni.  Imam Supervision, Imam Supervision 2, Imam Sup...   \n",
       "27735   Samaila Sulaiman .  Imam Supervision, Imam Supervision 2, Imam Sup...   \n",
       "28082         Nafiu Bello.  Imam Supervision, Imam Supervision 2, Imam Sup...   \n",
       "25619     Abdullah Maaruf.  AlertRUTF, Imam Supervision, Imam Supervision ...   \n",
       "3979    Abdulwahab Ismail.  Imam Supervision, Imam Supervision 2, Imam Sup...   \n",
       "\n",
       "           siteid          first_seen           last_seen  weeknum  role  \\\n",
       "34607   818110008 2017-03-20 07:10:19 2017-03-20 07:12:32       11  Site   \n",
       "27735  3603210001 2017-03-20 07:10:08 2017-03-20 07:12:30        8  Site   \n",
       "28082  3605110051 2017-03-20 07:04:00 2017-03-20 07:10:05       11  Site   \n",
       "25619  2034110031 2017-03-20 06:42:09 2017-03-20 06:46:13       11  Site   \n",
       "3979   1606110027 2017-03-19 22:47:40 2017-03-19 23:16:51       11  Site   \n",
       "\n",
       "        ...    tin  dcur  dead  defu  dmed  tout confirm  \\\n",
       "34607   ...      0  None  None  None  None  None    None   \n",
       "27735   ...      0  None  None  None  None  None    None   \n",
       "28082   ...      0   2.0   0.0   0.0   0.0     2     Yes   \n",
       "25619   ...      0     0     0     0     0     0     Yes   \n",
       "3979    ...      0     6     0     0     1     0     Yes   \n",
       "\n",
       "                                  unique rep_weeknum rep_year  \n",
       "34607  2348068838496 2017-03-20 07:10:19          12     2017  \n",
       "27735  2347069118684 2017-03-20 07:10:08          12     2017  \n",
       "28082  2348067698638 2017-03-20 07:04:00          12     2017  \n",
       "25619  2347031104215 2017-03-20 06:42:09          12     2017  \n",
       "3979   2348166722275 2017-03-19 22:47:40          11     2017  \n",
       "\n",
       "[5 rows x 26 columns]"
      ]
     },
     "execution_count": 108,
     "metadata": {},
     "output_type": "execute_result"
    }
   ],
   "source": [
    "df.head()"
   ]
  },
  {
   "cell_type": "code",
   "execution_count": 23,
   "metadata": {
    "collapsed": true,
    "deletable": true,
    "editable": true
   },
   "outputs": [],
   "source": [
    "df['rep_iso'] = df['last_seen'].map(lambda x: x.isocalendar())\n",
    "# why is this working now and not yesterday ? "
   ]
  },
  {
   "cell_type": "code",
   "execution_count": 24,
   "metadata": {
    "collapsed": false,
    "deletable": true,
    "editable": true
   },
   "outputs": [
    {
     "data": {
      "text/plain": [
       "34607    (2017, 12, 1)\n",
       "27735    (2017, 12, 1)\n",
       "28082    (2017, 12, 1)\n",
       "25619    (2017, 12, 1)\n",
       "3979     (2017, 11, 7)\n",
       "Name: rep_iso, dtype: object"
      ]
     },
     "execution_count": 24,
     "metadata": {},
     "output_type": "execute_result"
    }
   ],
   "source": [
    "df['rep_iso'].head()"
   ]
  },
  {
   "cell_type": "code",
   "execution_count": 208,
   "metadata": {
    "collapsed": false,
    "deletable": true,
    "editable": true
   },
   "outputs": [
    {
     "data": {
      "text/plain": [
       "<matplotlib.axes._subplots.AxesSubplot at 0x7fd8cdc2cf50>"
      ]
     },
     "execution_count": 208,
     "metadata": {},
     "output_type": "execute_result"
    },
    {
     "data": {
      "image/png": "[encoded data removed]",
      "text/plain": [
       "<matplotlib.figure.Figure at 0x7fd8d0fa4350>"
      ]
     },
     "metadata": {},
     "output_type": "display_data"
    }
   ],
   "source": [
    "entries_by_week = df['rep_iso'].groupby(df['rep_iso']).count()\n",
    "entries_by_week.plot()\n",
    "# here can see the sine wave related to reporting by week day"
   ]
  },
  {
   "cell_type": "code",
   "execution_count": 183,
   "metadata": {
    "collapsed": false,
    "deletable": true,
    "editable": true
   },
   "outputs": [
    {
     "data": {
      "text/plain": [
       "array([12, 11, 10,  9,  8,  7,  6,  5,  4,  3,  2,  1, 52, 51, 50, 49, 48,\n",
       "       47, 46, 45, 44, 43, 42, 41, 40, 39, 38, 37, 36, 35, 34, 32, 31, 30,\n",
       "       29, 28, 27, 26])"
      ]
     },
     "execution_count": 183,
     "metadata": {},
     "output_type": "execute_result"
    }
   ],
   "source": [
    "# calculate ISO year, weeknum, day for var weeknum\n",
    "\n",
    "\n",
    "\n",
    "# take first value (year) out of rep_weeknum (year, weeknum, day)\n",
    "df['rep_year'] = df['last_seen'].map(lambda x: x.isocalendar()[0])\n",
    "df['rep_weeknum'] = df['last_seen'].map(lambda x: x.isocalendar()[1])\n",
    "\n",
    "df['rep_weeknum'].unique()"
   ]
  },
  {
   "cell_type": "code",
   "execution_count": null,
   "metadata": {
    "collapsed": true,
    "deletable": true,
    "editable": true
   },
   "outputs": [],
   "source": [
    "firstjan = datetime(2010, 1, 1).isocalendar()\n",
    "fourjan = datetime(2010, 1, 4).isocalendar()\n",
    "print firstjan, type(firstjan)\n",
    "print fourjan\n",
    "#print fourjan - firstjan\n",
    "# Cannot add and subtract from two instances of isocalendar"
   ]
  },
  {
   "cell_type": "code",
   "execution_count": 150,
   "metadata": {
    "collapsed": false,
    "deletable": true,
    "editable": true
   },
   "outputs": [],
   "source": [
    "# to extract a date from isocalendar tuple\n",
    "# in python 3.6\n",
    "# datetime.strptime('2010 1 1','%G %V %u').date()\n",
    "\n",
    "# Create an isocalendar tuple and assign it to isocalendar format\n",
    "#df['weeknum_date'] = datetime(df['rep_year'],df['weeknum'],1).isocalendar()\n",
    "#df['weeknum_date'] = datetime(df['rep_year'],df['weeknum'],1).map(lambda x: x.isocalendar())\n",
    "# Is weeknum a string? NO - This is not the problem\n",
    "# isocalendar takes a date as input\n",
    "df['year_wn'] =list(zip(df['rep_year'], df['weeknum']))"
   ]
  },
  {
   "cell_type": "code",
   "execution_count": 162,
   "metadata": {
    "collapsed": false,
    "deletable": true,
    "editable": true
   },
   "outputs": [
    {
     "name": "stdout",
     "output_type": "stream",
     "text": [
      "2017-01-08 00:00:00\n"
     ]
    }
   ],
   "source": [
    "# Either create two dates and subtract, or\n",
    "# subtract the rep_week from weeknum and correct the year\n",
    "\n",
    "# create date from week number\n",
    "d = \"2017-W1\"\n",
    "r = datetime.strptime(d + '-0', \"%Y-W%W-%w\")\n",
    "print r\n",
    "# does not use ISO week numbers - do not use\n",
    "\n",
    "#from isoweek import Week\n",
    "#w = Week(2016, 52)\n",
    "#print \"Week %s starts on %s\" % (w, w.monday())\n",
    "# no module named isoweek"
   ]
  },
  {
   "cell_type": "code",
   "execution_count": 210,
   "metadata": {
    "collapsed": false,
    "deletable": true,
    "editable": true
   },
   "outputs": [
    {
     "data": {
      "text/html": [
       "<div>\n",
       "<table border=\"1\" class=\"dataframe\">\n",
       "  <thead>\n",
       "    <tr style=\"text-align: right;\">\n",
       "      <th></th>\n",
       "      <th>weeknum</th>\n",
       "      <th>rep_weeknum</th>\n",
       "      <th>weekdiff</th>\n",
       "    </tr>\n",
       "  </thead>\n",
       "  <tbody>\n",
       "    <tr>\n",
       "      <th>34607</th>\n",
       "      <td>11</td>\n",
       "      <td>12</td>\n",
       "      <td>-1</td>\n",
       "    </tr>\n",
       "    <tr>\n",
       "      <th>27735</th>\n",
       "      <td>8</td>\n",
       "      <td>12</td>\n",
       "      <td>-4</td>\n",
       "    </tr>\n",
       "    <tr>\n",
       "      <th>28082</th>\n",
       "      <td>11</td>\n",
       "      <td>12</td>\n",
       "      <td>-1</td>\n",
       "    </tr>\n",
       "    <tr>\n",
       "      <th>25619</th>\n",
       "      <td>11</td>\n",
       "      <td>12</td>\n",
       "      <td>-1</td>\n",
       "    </tr>\n",
       "    <tr>\n",
       "      <th>3979</th>\n",
       "      <td>11</td>\n",
       "      <td>11</td>\n",
       "      <td>0</td>\n",
       "    </tr>\n",
       "    <tr>\n",
       "      <th>27817</th>\n",
       "      <td>11</td>\n",
       "      <td>11</td>\n",
       "      <td>0</td>\n",
       "    </tr>\n",
       "    <tr>\n",
       "      <th>20069</th>\n",
       "      <td>11</td>\n",
       "      <td>11</td>\n",
       "      <td>0</td>\n",
       "    </tr>\n",
       "    <tr>\n",
       "      <th>911</th>\n",
       "      <td>11</td>\n",
       "      <td>11</td>\n",
       "      <td>0</td>\n",
       "    </tr>\n",
       "    <tr>\n",
       "      <th>27816</th>\n",
       "      <td>10</td>\n",
       "      <td>11</td>\n",
       "      <td>-1</td>\n",
       "    </tr>\n",
       "    <tr>\n",
       "      <th>19641</th>\n",
       "      <td>9</td>\n",
       "      <td>11</td>\n",
       "      <td>-2</td>\n",
       "    </tr>\n",
       "    <tr>\n",
       "      <th>28551</th>\n",
       "      <td>11</td>\n",
       "      <td>11</td>\n",
       "      <td>0</td>\n",
       "    </tr>\n",
       "    <tr>\n",
       "      <th>19640</th>\n",
       "      <td>5</td>\n",
       "      <td>11</td>\n",
       "      <td>-6</td>\n",
       "    </tr>\n",
       "    <tr>\n",
       "      <th>4543</th>\n",
       "      <td>11</td>\n",
       "      <td>11</td>\n",
       "      <td>0</td>\n",
       "    </tr>\n",
       "    <tr>\n",
       "      <th>19639</th>\n",
       "      <td>3</td>\n",
       "      <td>11</td>\n",
       "      <td>-8</td>\n",
       "    </tr>\n",
       "    <tr>\n",
       "      <th>10485</th>\n",
       "      <td>11</td>\n",
       "      <td>11</td>\n",
       "      <td>0</td>\n",
       "    </tr>\n",
       "    <tr>\n",
       "      <th>20143</th>\n",
       "      <td>11</td>\n",
       "      <td>11</td>\n",
       "      <td>0</td>\n",
       "    </tr>\n",
       "    <tr>\n",
       "      <th>20142</th>\n",
       "      <td>10</td>\n",
       "      <td>11</td>\n",
       "      <td>-1</td>\n",
       "    </tr>\n",
       "    <tr>\n",
       "      <th>3900</th>\n",
       "      <td>11</td>\n",
       "      <td>11</td>\n",
       "      <td>0</td>\n",
       "    </tr>\n",
       "    <tr>\n",
       "      <th>20141</th>\n",
       "      <td>9</td>\n",
       "      <td>11</td>\n",
       "      <td>-2</td>\n",
       "    </tr>\n",
       "    <tr>\n",
       "      <th>20140</th>\n",
       "      <td>8</td>\n",
       "      <td>11</td>\n",
       "      <td>-3</td>\n",
       "    </tr>\n",
       "    <tr>\n",
       "      <th>27734</th>\n",
       "      <td>7</td>\n",
       "      <td>11</td>\n",
       "      <td>-4</td>\n",
       "    </tr>\n",
       "    <tr>\n",
       "      <th>34532</th>\n",
       "      <td>11</td>\n",
       "      <td>11</td>\n",
       "      <td>0</td>\n",
       "    </tr>\n",
       "    <tr>\n",
       "      <th>27563</th>\n",
       "      <td>11</td>\n",
       "      <td>11</td>\n",
       "      <td>0</td>\n",
       "    </tr>\n",
       "    <tr>\n",
       "      <th>13539</th>\n",
       "      <td>10</td>\n",
       "      <td>11</td>\n",
       "      <td>-1</td>\n",
       "    </tr>\n",
       "    <tr>\n",
       "      <th>32246</th>\n",
       "      <td>11</td>\n",
       "      <td>11</td>\n",
       "      <td>0</td>\n",
       "    </tr>\n",
       "    <tr>\n",
       "      <th>27732</th>\n",
       "      <td>6</td>\n",
       "      <td>11</td>\n",
       "      <td>-5</td>\n",
       "    </tr>\n",
       "    <tr>\n",
       "      <th>26778</th>\n",
       "      <td>11</td>\n",
       "      <td>11</td>\n",
       "      <td>0</td>\n",
       "    </tr>\n",
       "    <tr>\n",
       "      <th>14672</th>\n",
       "      <td>11</td>\n",
       "      <td>11</td>\n",
       "      <td>0</td>\n",
       "    </tr>\n",
       "    <tr>\n",
       "      <th>14770</th>\n",
       "      <td>11</td>\n",
       "      <td>11</td>\n",
       "      <td>0</td>\n",
       "    </tr>\n",
       "    <tr>\n",
       "      <th>26777</th>\n",
       "      <td>10</td>\n",
       "      <td>11</td>\n",
       "      <td>-1</td>\n",
       "    </tr>\n",
       "    <tr>\n",
       "      <th>...</th>\n",
       "      <td>...</td>\n",
       "      <td>...</td>\n",
       "      <td>...</td>\n",
       "    </tr>\n",
       "    <tr>\n",
       "      <th>1892</th>\n",
       "      <td>22</td>\n",
       "      <td>26</td>\n",
       "      <td>-4</td>\n",
       "    </tr>\n",
       "    <tr>\n",
       "      <th>3025</th>\n",
       "      <td>1</td>\n",
       "      <td>26</td>\n",
       "      <td>-25</td>\n",
       "    </tr>\n",
       "    <tr>\n",
       "      <th>3099</th>\n",
       "      <td>18</td>\n",
       "      <td>26</td>\n",
       "      <td>-8</td>\n",
       "    </tr>\n",
       "    <tr>\n",
       "      <th>3104</th>\n",
       "      <td>18</td>\n",
       "      <td>26</td>\n",
       "      <td>-8</td>\n",
       "    </tr>\n",
       "    <tr>\n",
       "      <th>3013</th>\n",
       "      <td>1</td>\n",
       "      <td>26</td>\n",
       "      <td>-25</td>\n",
       "    </tr>\n",
       "    <tr>\n",
       "      <th>2041</th>\n",
       "      <td>1</td>\n",
       "      <td>26</td>\n",
       "      <td>-25</td>\n",
       "    </tr>\n",
       "    <tr>\n",
       "      <th>2824</th>\n",
       "      <td>18</td>\n",
       "      <td>26</td>\n",
       "      <td>-8</td>\n",
       "    </tr>\n",
       "    <tr>\n",
       "      <th>1959</th>\n",
       "      <td>21</td>\n",
       "      <td>26</td>\n",
       "      <td>-5</td>\n",
       "    </tr>\n",
       "    <tr>\n",
       "      <th>3394</th>\n",
       "      <td>26</td>\n",
       "      <td>26</td>\n",
       "      <td>0</td>\n",
       "    </tr>\n",
       "    <tr>\n",
       "      <th>3090</th>\n",
       "      <td>1</td>\n",
       "      <td>26</td>\n",
       "      <td>-25</td>\n",
       "    </tr>\n",
       "    <tr>\n",
       "      <th>2567</th>\n",
       "      <td>1</td>\n",
       "      <td>26</td>\n",
       "      <td>-25</td>\n",
       "    </tr>\n",
       "    <tr>\n",
       "      <th>546</th>\n",
       "      <td>23</td>\n",
       "      <td>26</td>\n",
       "      <td>-3</td>\n",
       "    </tr>\n",
       "    <tr>\n",
       "      <th>882</th>\n",
       "      <td>26</td>\n",
       "      <td>26</td>\n",
       "      <td>0</td>\n",
       "    </tr>\n",
       "    <tr>\n",
       "      <th>1360</th>\n",
       "      <td>23</td>\n",
       "      <td>26</td>\n",
       "      <td>-3</td>\n",
       "    </tr>\n",
       "    <tr>\n",
       "      <th>1812</th>\n",
       "      <td>26</td>\n",
       "      <td>26</td>\n",
       "      <td>0</td>\n",
       "    </tr>\n",
       "    <tr>\n",
       "      <th>1886</th>\n",
       "      <td>23</td>\n",
       "      <td>26</td>\n",
       "      <td>-3</td>\n",
       "    </tr>\n",
       "    <tr>\n",
       "      <th>1768</th>\n",
       "      <td>15</td>\n",
       "      <td>26</td>\n",
       "      <td>-11</td>\n",
       "    </tr>\n",
       "    <tr>\n",
       "      <th>1457</th>\n",
       "      <td>19</td>\n",
       "      <td>26</td>\n",
       "      <td>-7</td>\n",
       "    </tr>\n",
       "    <tr>\n",
       "      <th>1359</th>\n",
       "      <td>23</td>\n",
       "      <td>26</td>\n",
       "      <td>-3</td>\n",
       "    </tr>\n",
       "    <tr>\n",
       "      <th>1767</th>\n",
       "      <td>18</td>\n",
       "      <td>26</td>\n",
       "      <td>-8</td>\n",
       "    </tr>\n",
       "    <tr>\n",
       "      <th>1293</th>\n",
       "      <td>21</td>\n",
       "      <td>26</td>\n",
       "      <td>-5</td>\n",
       "    </tr>\n",
       "    <tr>\n",
       "      <th>1343</th>\n",
       "      <td>22</td>\n",
       "      <td>26</td>\n",
       "      <td>-4</td>\n",
       "    </tr>\n",
       "    <tr>\n",
       "      <th>1456</th>\n",
       "      <td>18</td>\n",
       "      <td>26</td>\n",
       "      <td>-8</td>\n",
       "    </tr>\n",
       "    <tr>\n",
       "      <th>1704</th>\n",
       "      <td>26</td>\n",
       "      <td>26</td>\n",
       "      <td>0</td>\n",
       "    </tr>\n",
       "    <tr>\n",
       "      <th>1237</th>\n",
       "      <td>18</td>\n",
       "      <td>26</td>\n",
       "      <td>-8</td>\n",
       "    </tr>\n",
       "    <tr>\n",
       "      <th>1701</th>\n",
       "      <td>27</td>\n",
       "      <td>26</td>\n",
       "      <td>1</td>\n",
       "    </tr>\n",
       "    <tr>\n",
       "      <th>554</th>\n",
       "      <td>14</td>\n",
       "      <td>26</td>\n",
       "      <td>-12</td>\n",
       "    </tr>\n",
       "    <tr>\n",
       "      <th>738</th>\n",
       "      <td>25</td>\n",
       "      <td>26</td>\n",
       "      <td>-1</td>\n",
       "    </tr>\n",
       "    <tr>\n",
       "      <th>552</th>\n",
       "      <td>22</td>\n",
       "      <td>26</td>\n",
       "      <td>-4</td>\n",
       "    </tr>\n",
       "    <tr>\n",
       "      <th>2</th>\n",
       "      <td>26</td>\n",
       "      <td>26</td>\n",
       "      <td>0</td>\n",
       "    </tr>\n",
       "  </tbody>\n",
       "</table>\n",
       "<p>24168 rows × 3 columns</p>\n",
       "</div>"
      ],
      "text/plain": [
       "       weeknum  rep_weeknum  weekdiff\n",
       "34607       11           12        -1\n",
       "27735        8           12        -4\n",
       "28082       11           12        -1\n",
       "25619       11           12        -1\n",
       "3979        11           11         0\n",
       "27817       11           11         0\n",
       "20069       11           11         0\n",
       "911         11           11         0\n",
       "27816       10           11        -1\n",
       "19641        9           11        -2\n",
       "28551       11           11         0\n",
       "19640        5           11        -6\n",
       "4543        11           11         0\n",
       "19639        3           11        -8\n",
       "10485       11           11         0\n",
       "20143       11           11         0\n",
       "20142       10           11        -1\n",
       "3900        11           11         0\n",
       "20141        9           11        -2\n",
       "20140        8           11        -3\n",
       "27734        7           11        -4\n",
       "34532       11           11         0\n",
       "27563       11           11         0\n",
       "13539       10           11        -1\n",
       "32246       11           11         0\n",
       "27732        6           11        -5\n",
       "26778       11           11         0\n",
       "14672       11           11         0\n",
       "14770       11           11         0\n",
       "26777       10           11        -1\n",
       "...        ...          ...       ...\n",
       "1892        22           26        -4\n",
       "3025         1           26       -25\n",
       "3099        18           26        -8\n",
       "3104        18           26        -8\n",
       "3013         1           26       -25\n",
       "2041         1           26       -25\n",
       "2824        18           26        -8\n",
       "1959        21           26        -5\n",
       "3394        26           26         0\n",
       "3090         1           26       -25\n",
       "2567         1           26       -25\n",
       "546         23           26        -3\n",
       "882         26           26         0\n",
       "1360        23           26        -3\n",
       "1812        26           26         0\n",
       "1886        23           26        -3\n",
       "1768        15           26       -11\n",
       "1457        19           26        -7\n",
       "1359        23           26        -3\n",
       "1767        18           26        -8\n",
       "1293        21           26        -5\n",
       "1343        22           26        -4\n",
       "1456        18           26        -8\n",
       "1704        26           26         0\n",
       "1237        18           26        -8\n",
       "1701        27           26         1\n",
       "554         14           26       -12\n",
       "738         25           26        -1\n",
       "552         22           26        -4\n",
       "2           26           26         0\n",
       "\n",
       "[24168 rows x 3 columns]"
      ]
     },
     "execution_count": 210,
     "metadata": {},
     "output_type": "execute_result"
    }
   ],
   "source": [
    "# to convert iso week number to correct date \n",
    "# either change to Python 3.6 or\n",
    "# calculate first week of year and then convert week number to date, correcting year. \n",
    "\n",
    "df['weekdiff'] = df.weeknum - df.rep_weeknum \n",
    "# When creating new variables, you cannot refer to the new variable as df.weekdiff\n",
    "\n",
    "# Change the order (the index) of the columns\n",
    "columnsTitles = ['weeknum',\n",
    "                'rep_weeknum',\n",
    "                 'weekdiff']\n",
    "\n",
    "df2 = df.reindex(columns=columnsTitles)\n",
    "df2"
   ]
  },
  {
   "cell_type": "code",
   "execution_count": 211,
   "metadata": {
    "collapsed": false,
    "deletable": true,
    "editable": true
   },
   "outputs": [
    {
     "data": {
      "text/plain": [
       "<matplotlib.axes._subplots.AxesSubplot at 0x7fd8cdd38d10>"
      ]
     },
     "execution_count": 211,
     "metadata": {},
     "output_type": "execute_result"
    },
    {
     "data": {
      "image/png": "[encoded data removed]",
      "text/plain": [
       "<matplotlib.figure.Figure at 0x7fd8cdde6250>"
      ]
     },
     "metadata": {},
     "output_type": "display_data"
    }
   ],
   "source": [
    "# Univariate plot of values by count of value\n",
    "wd = df['weekdiff'].groupby(df['weekdiff']).count()\n",
    "wd.plot()\n",
    "# have to correct the values that are near weeknum 46"
   ]
  },
  {
   "cell_type": "code",
   "execution_count": 189,
   "metadata": {
    "collapsed": false,
    "deletable": true,
    "editable": true
   },
   "outputs": [
    {
     "name": "stdout",
     "output_type": "stream",
     "text": [
      "weekdiff\n",
      "-49      1\n",
      "-48      8\n",
      "-47      2\n",
      "-45      1\n",
      "-44      8\n",
      "-43     15\n",
      "-42     26\n",
      "-41     10\n",
      "-40     18\n",
      "-39     11\n",
      "-38      3\n",
      "-37      1\n",
      "-36      2\n",
      "-35     11\n",
      "-34      7\n",
      "-33      7\n",
      "-32      2\n",
      "-31      1\n",
      "-30      2\n",
      "-29      3\n",
      "-28      3\n",
      "-27     10\n",
      "-26      3\n",
      "-25     13\n",
      "-24      3\n",
      "-23      2\n",
      "-22      6\n",
      "-21      4\n",
      "-20      7\n",
      "-19      5\n",
      "      ... \n",
      " 22      2\n",
      " 23      2\n",
      " 24      2\n",
      " 25      1\n",
      " 26      3\n",
      " 27      3\n",
      " 28      3\n",
      " 29      5\n",
      " 30      8\n",
      " 31      7\n",
      " 32      9\n",
      " 33     14\n",
      " 34     16\n",
      " 35     15\n",
      " 36     22\n",
      " 37     19\n",
      " 38     19\n",
      " 39     21\n",
      " 40     28\n",
      " 41     25\n",
      " 42     38\n",
      " 43     51\n",
      " 44     84\n",
      " 45     90\n",
      " 46    103\n",
      " 47    110\n",
      " 48    116\n",
      " 49    172\n",
      " 50    195\n",
      " 51    127\n",
      "Name: weekdiff, dtype: int64\n"
     ]
    }
   ],
   "source": [
    "print wd"
   ]
  },
  {
   "cell_type": "code",
   "execution_count": null,
   "metadata": {
    "collapsed": true,
    "deletable": true,
    "editable": true
   },
   "outputs": [],
   "source": [
    "# test if report is made in past, current time or future.\n",
    "\n",
    "# calculate 8 weeks into past\n"
   ]
  },
  {
   "cell_type": "code",
   "execution_count": 195,
   "metadata": {
    "collapsed": false,
    "deletable": true,
    "editable": true
   },
   "outputs": [],
   "source": [
    "\n"
   ]
  },
  {
   "cell_type": "code",
   "execution_count": 196,
   "metadata": {
    "collapsed": false,
    "deletable": true,
    "editable": true
   },
   "outputs": [
    {
     "data": {
      "text/plain": [
       "34607    (2017, 11)\n",
       "27735     (2017, 8)\n",
       "28082    (2017, 11)\n",
       "25619    (2017, 11)\n",
       "3979     (2017, 11)\n",
       "Name: year_wn, dtype: object"
      ]
     },
     "execution_count": 196,
     "metadata": {},
     "output_type": "execute_result"
    }
   ],
   "source": [
    "df.year_wn.head()"
   ]
  },
  {
   "cell_type": "code",
   "execution_count": null,
   "metadata": {
    "collapsed": true,
    "deletable": true,
    "editable": true
   },
   "outputs": [],
   "source": []
  }
 ],
 "metadata": {
  "kernelspec": {
   "display_name": "Python 2",
   "language": "python",
   "name": "python2"
  },
  "language_info": {
   "codemirror_mode": {
    "name": "ipython",
    "version": 2
   },
   "file_extension": ".py",
   "mimetype": "text/x-python",
   "name": "python",
   "nbconvert_exporter": "python",
   "pygments_lexer": "ipython2",
   "version": "2.7.12"
  }
 },
 "nbformat": 4,
 "nbformat_minor": 2
}
