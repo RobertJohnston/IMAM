{
 "cells": [
  {
   "cell_type": "code",
   "execution_count": 19,
   "metadata": {
    "collapsed": false
   },
   "outputs": [],
   "source": [
    "import pandas as pd\n",
    "from pandas import ExcelWriter"
   ]
  },
  {
   "cell_type": "raw",
   "metadata": {},
   "source": [
    "import xlwt"
   ]
  },
  {
   "cell_type": "code",
   "execution_count": 20,
   "metadata": {
    "collapsed": false
   },
   "outputs": [
    {
     "ename": "ImportError",
     "evalue": "No module named openpyxl",
     "output_type": "error",
     "traceback": [
      "\u001b[0;31m---------------------------------------------------------------------------\u001b[0m",
      "\u001b[0;31mImportError\u001b[0m                               Traceback (most recent call last)",
      "\u001b[0;32m<ipython-input-20-f329d7c31ea3>\u001b[0m in \u001b[0;36m<module>\u001b[0;34m()\u001b[0m\n\u001b[0;32m----> 1\u001b[0;31m \u001b[0;32mimport\u001b[0m \u001b[0mopenpyxl\u001b[0m\u001b[0;34m\u001b[0m\u001b[0m\n\u001b[0m",
      "\u001b[0;31mImportError\u001b[0m: No module named openpyxl"
     ]
    }
   ],
   "source": [
    "import openpyxl"
   ]
  },
  {
   "cell_type": "code",
   "execution_count": 21,
   "metadata": {
    "collapsed": false
   },
   "outputs": [
    {
     "ename": "ImportError",
     "evalue": "No module named xlsxwriter",
     "output_type": "error",
     "traceback": [
      "\u001b[0;31m---------------------------------------------------------------------------\u001b[0m",
      "\u001b[0;31mImportError\u001b[0m                               Traceback (most recent call last)",
      "\u001b[0;32m<ipython-input-21-7f575fc76df5>\u001b[0m in \u001b[0;36m<module>\u001b[0;34m()\u001b[0m\n\u001b[0;32m----> 1\u001b[0;31m \u001b[0;32mimport\u001b[0m \u001b[0mxlsxwriter\u001b[0m\u001b[0;34m\u001b[0m\u001b[0m\n\u001b[0m",
      "\u001b[0;31mImportError\u001b[0m: No module named xlsxwriter"
     ]
    }
   ],
   "source": [
    "import xlsxwriter"
   ]
  },
  {
   "cell_type": "code",
   "execution_count": 24,
   "metadata": {
    "collapsed": false
   },
   "outputs": [
    {
     "data": {
      "text/html": [
       "<div>\n",
       "<table border=\"1\" class=\"dataframe\">\n",
       "  <thead>\n",
       "    <tr style=\"text-align: right;\">\n",
       "      <th></th>\n",
       "      <th>Contact UUID</th>\n",
       "      <th>URN</th>\n",
       "      <th>Name</th>\n",
       "      <th>Groups</th>\n",
       "      <th>SiteID</th>\n",
       "      <th>Type</th>\n",
       "      <th>First Seen</th>\n",
       "      <th>Last Seen</th>\n",
       "      <th>Name (Category) - IMAM Register</th>\n",
       "      <th>Name (Value) - IMAM Register</th>\n",
       "      <th>...</th>\n",
       "      <th>Post_sup (Text) - IMAM Register</th>\n",
       "      <th>Type (Category) - IMAM Register</th>\n",
       "      <th>Type (Value) - IMAM Register</th>\n",
       "      <th>Type (Text) - IMAM Register</th>\n",
       "      <th>Post_imp (Category) - IMAM Register</th>\n",
       "      <th>Post_imp (Value) - IMAM Register</th>\n",
       "      <th>Post_imp (Text) - IMAM Register</th>\n",
       "      <th>Mail (Category) - IMAM Register</th>\n",
       "      <th>Mail (Value) - IMAM Register</th>\n",
       "      <th>Mail (Text) - IMAM Register</th>\n",
       "    </tr>\n",
       "  </thead>\n",
       "  <tbody>\n",
       "    <tr>\n",
       "      <th>0</th>\n",
       "      <td>00771990-6cda-4987-b329-90eda5b43683</td>\n",
       "      <td>2348067418765</td>\n",
       "      <td>Oladapo Osunkentan</td>\n",
       "      <td>MNP EOP, MNP Low stock, MNP MiSL, MNP stock no...</td>\n",
       "      <td>443100048</td>\n",
       "      <td>OTP</td>\n",
       "      <td>2016-10-04 16:21:51</td>\n",
       "      <td>2016-10-06 16:44:27</td>\n",
       "      <td>Other</td>\n",
       "      <td>Tobi Osunkentan</td>\n",
       "      <td>...</td>\n",
       "      <td>NaN</td>\n",
       "      <td>OTP</td>\n",
       "      <td>OTP</td>\n",
       "      <td>OTP</td>\n",
       "      <td>Community Health Officer</td>\n",
       "      <td>Hw</td>\n",
       "      <td>Hw</td>\n",
       "      <td>Email</td>\n",
       "      <td>oladapoosunkentan@gmail.com</td>\n",
       "      <td>oladapoosunkentan@gmail.com</td>\n",
       "    </tr>\n",
       "    <tr>\n",
       "      <th>1</th>\n",
       "      <td>2e7621dc-e78e-44ab-9b38-bc2c7b3d58d5</td>\n",
       "      <td>2348141375767</td>\n",
       "      <td>Annette Imohe</td>\n",
       "      <td>Federal Level Monitors 2, MNCHW NFP, MNP Careg...</td>\n",
       "      <td>1</td>\n",
       "      <td>NaN</td>\n",
       "      <td>2016-06-23 12:23:17</td>\n",
       "      <td>2016-06-23 12:23:18</td>\n",
       "      <td>NaN</td>\n",
       "      <td>NaN</td>\n",
       "      <td>...</td>\n",
       "      <td>NaN</td>\n",
       "      <td>NaN</td>\n",
       "      <td>NaN</td>\n",
       "      <td>NaN</td>\n",
       "      <td>NaN</td>\n",
       "      <td>NaN</td>\n",
       "      <td>NaN</td>\n",
       "      <td>NaN</td>\n",
       "      <td>NaN</td>\n",
       "      <td>NaN</td>\n",
       "    </tr>\n",
       "    <tr>\n",
       "      <th>2</th>\n",
       "      <td>41b874c9-1eae-4847-b417-17bb7d04f3c6</td>\n",
       "      <td>2348037955881</td>\n",
       "      <td>Aliyu Galadima Libata .</td>\n",
       "      <td>Federal Level Monitors, Federal Level Monitors...</td>\n",
       "      <td>21</td>\n",
       "      <td>NaN</td>\n",
       "      <td>2016-11-10 10:14:38</td>\n",
       "      <td>2016-11-10 11:58:37</td>\n",
       "      <td>Other</td>\n",
       "      <td>Aliyu Galadima libata</td>\n",
       "      <td>...</td>\n",
       "      <td>Ta</td>\n",
       "      <td>NaN</td>\n",
       "      <td>NaN</td>\n",
       "      <td>NaN</td>\n",
       "      <td>NaN</td>\n",
       "      <td>NaN</td>\n",
       "      <td>NaN</td>\n",
       "      <td>Email</td>\n",
       "      <td>kabanjali@yahoo.com.hk</td>\n",
       "      <td>kabanjali@yahoo.com.hk</td>\n",
       "    </tr>\n",
       "    <tr>\n",
       "      <th>3</th>\n",
       "      <td>acf7f7a2-393b-4a13-bdb5-4ca4aab05353</td>\n",
       "      <td>2347035678763</td>\n",
       "      <td>Hauwa Zoakah.</td>\n",
       "      <td>Imam Supervision, Imam Supervision 2, Imam Sup...</td>\n",
       "      <td>2</td>\n",
       "      <td>NaN</td>\n",
       "      <td>2016-10-24 12:50:53</td>\n",
       "      <td>2016-10-24 12:53:39</td>\n",
       "      <td>Other</td>\n",
       "      <td>Hauwa zoakah</td>\n",
       "      <td>...</td>\n",
       "      <td>C</td>\n",
       "      <td>NaN</td>\n",
       "      <td>NaN</td>\n",
       "      <td>NaN</td>\n",
       "      <td>NaN</td>\n",
       "      <td>NaN</td>\n",
       "      <td>NaN</td>\n",
       "      <td>Email</td>\n",
       "      <td>hauwabata@yahoo.com</td>\n",
       "      <td>hauwabata@yahoo.com</td>\n",
       "    </tr>\n",
       "    <tr>\n",
       "      <th>4</th>\n",
       "      <td>8d2fd841-1c20-459f-b270-8629b71b8cf4</td>\n",
       "      <td>2348039323034</td>\n",
       "      <td>Suleiman Mamman.</td>\n",
       "      <td>Imam Supervision, Imam Supervision 2, Imam Sup...</td>\n",
       "      <td>16</td>\n",
       "      <td>NaN</td>\n",
       "      <td>2016-09-01 12:19:57</td>\n",
       "      <td>2016-09-01 15:00:26</td>\n",
       "      <td>Other</td>\n",
       "      <td>Suleiman mamman</td>\n",
       "      <td>...</td>\n",
       "      <td>C</td>\n",
       "      <td>NaN</td>\n",
       "      <td>NaN</td>\n",
       "      <td>NaN</td>\n",
       "      <td>NaN</td>\n",
       "      <td>NaN</td>\n",
       "      <td>NaN</td>\n",
       "      <td>Email</td>\n",
       "      <td>smamson@yahoo.con</td>\n",
       "      <td>smamson@yahoo.con</td>\n",
       "    </tr>\n",
       "  </tbody>\n",
       "</table>\n",
       "<p>5 rows × 26 columns</p>\n",
       "</div>"
      ],
      "text/plain": [
       "                           Contact UUID            URN  \\\n",
       "0  00771990-6cda-4987-b329-90eda5b43683  2348067418765   \n",
       "1  2e7621dc-e78e-44ab-9b38-bc2c7b3d58d5  2348141375767   \n",
       "2  41b874c9-1eae-4847-b417-17bb7d04f3c6  2348037955881   \n",
       "3  acf7f7a2-393b-4a13-bdb5-4ca4aab05353  2347035678763   \n",
       "4  8d2fd841-1c20-459f-b270-8629b71b8cf4  2348039323034   \n",
       "\n",
       "                      Name                                             Groups  \\\n",
       "0       Oladapo Osunkentan  MNP EOP, MNP Low stock, MNP MiSL, MNP stock no...   \n",
       "1            Annette Imohe  Federal Level Monitors 2, MNCHW NFP, MNP Careg...   \n",
       "2  Aliyu Galadima Libata .  Federal Level Monitors, Federal Level Monitors...   \n",
       "3            Hauwa Zoakah.  Imam Supervision, Imam Supervision 2, Imam Sup...   \n",
       "4         Suleiman Mamman.  Imam Supervision, Imam Supervision 2, Imam Sup...   \n",
       "\n",
       "      SiteID Type          First Seen           Last Seen  \\\n",
       "0  443100048  OTP 2016-10-04 16:21:51 2016-10-06 16:44:27   \n",
       "1          1  NaN 2016-06-23 12:23:17 2016-06-23 12:23:18   \n",
       "2         21  NaN 2016-11-10 10:14:38 2016-11-10 11:58:37   \n",
       "3          2  NaN 2016-10-24 12:50:53 2016-10-24 12:53:39   \n",
       "4         16  NaN 2016-09-01 12:19:57 2016-09-01 15:00:26   \n",
       "\n",
       "  Name (Category) - IMAM Register Name (Value) - IMAM Register  \\\n",
       "0                           Other              Tobi Osunkentan   \n",
       "1                             NaN                          NaN   \n",
       "2                           Other       Aliyu Galadima libata    \n",
       "3                           Other                 Hauwa zoakah   \n",
       "4                           Other              Suleiman mamman   \n",
       "\n",
       "              ...              Post_sup (Text) - IMAM Register  \\\n",
       "0             ...                                          NaN   \n",
       "1             ...                                          NaN   \n",
       "2             ...                                           Ta   \n",
       "3             ...                                            C   \n",
       "4             ...                                            C   \n",
       "\n",
       "  Type (Category) - IMAM Register Type (Value) - IMAM Register  \\\n",
       "0                             OTP                          OTP   \n",
       "1                             NaN                          NaN   \n",
       "2                             NaN                          NaN   \n",
       "3                             NaN                          NaN   \n",
       "4                             NaN                          NaN   \n",
       "\n",
       "  Type (Text) - IMAM Register Post_imp (Category) - IMAM Register  \\\n",
       "0                         OTP            Community Health Officer   \n",
       "1                         NaN                                 NaN   \n",
       "2                         NaN                                 NaN   \n",
       "3                         NaN                                 NaN   \n",
       "4                         NaN                                 NaN   \n",
       "\n",
       "  Post_imp (Value) - IMAM Register Post_imp (Text) - IMAM Register  \\\n",
       "0                               Hw                              Hw   \n",
       "1                              NaN                             NaN   \n",
       "2                              NaN                             NaN   \n",
       "3                              NaN                             NaN   \n",
       "4                              NaN                             NaN   \n",
       "\n",
       "  Mail (Category) - IMAM Register Mail (Value) - IMAM Register  \\\n",
       "0                           Email  oladapoosunkentan@gmail.com   \n",
       "1                             NaN                          NaN   \n",
       "2                           Email       kabanjali@yahoo.com.hk   \n",
       "3                           Email          hauwabata@yahoo.com   \n",
       "4                           Email            smamson@yahoo.con   \n",
       "\n",
       "   Mail (Text) - IMAM Register  \n",
       "0  oladapoosunkentan@gmail.com  \n",
       "1                          NaN  \n",
       "2       kabanjali@yahoo.com.hk  \n",
       "3          hauwabata@yahoo.com  \n",
       "4            smamson@yahoo.con  \n",
       "\n",
       "[5 rows x 26 columns]"
      ]
     },
     "execution_count": 24,
     "metadata": {},
     "output_type": "execute_result"
    }
   ],
   "source": [
    "# If there is no data in PostGres\n",
    "df = pd.ExcelFile('/home/robert/Downloads/reg.xlsx').parse('Contacts')\n",
    "df.head()"
   ]
  },
  {
   "cell_type": "code",
   "execution_count": 27,
   "metadata": {
    "collapsed": false
   },
   "outputs": [
    {
     "ename": "ImportError",
     "evalue": "No module named openpyxl",
     "output_type": "error",
     "traceback": [
      "\u001b[0;31m---------------------------------------------------------------------------\u001b[0m",
      "\u001b[0;31mImportError\u001b[0m                               Traceback (most recent call last)",
      "\u001b[0;32m<ipython-input-27-c804e7425e68>\u001b[0m in \u001b[0;36m<module>\u001b[0;34m()\u001b[0m\n\u001b[1;32m      1\u001b[0m \u001b[0mengine\u001b[0m \u001b[0;34m=\u001b[0m \u001b[0;34m'openpyxl'\u001b[0m\u001b[0;34m\u001b[0m\u001b[0m\n\u001b[1;32m      2\u001b[0m \u001b[0mfilename\u001b[0m \u001b[0;34m=\u001b[0m \u001b[0;34m\"df_%s.xlsx\"\u001b[0m \u001b[0;34m%\u001b[0m \u001b[0mengine\u001b[0m\u001b[0;34m\u001b[0m\u001b[0m\n\u001b[0;32m----> 3\u001b[0;31m \u001b[0mwriter\u001b[0m \u001b[0;34m=\u001b[0m \u001b[0mpd\u001b[0m\u001b[0;34m.\u001b[0m\u001b[0mExcelWriter\u001b[0m\u001b[0;34m(\u001b[0m\u001b[0mfilename\u001b[0m\u001b[0;34m,\u001b[0m \u001b[0mengine\u001b[0m\u001b[0;34m=\u001b[0m\u001b[0mengine\u001b[0m\u001b[0;34m)\u001b[0m\u001b[0;34m\u001b[0m\u001b[0m\n\u001b[0m\u001b[1;32m      4\u001b[0m \u001b[0mdf\u001b[0m\u001b[0;34m.\u001b[0m\u001b[0mto_excel\u001b[0m\u001b[0;34m(\u001b[0m\u001b[0mwriter\u001b[0m\u001b[0;34m,\u001b[0m\u001b[0;34m'Sheet1'\u001b[0m\u001b[0;34m)\u001b[0m\u001b[0;34m\u001b[0m\u001b[0m\n\u001b[1;32m      5\u001b[0m \u001b[0mwriter\u001b[0m\u001b[0;34m.\u001b[0m\u001b[0msave\u001b[0m\u001b[0;34m(\u001b[0m\u001b[0;34m)\u001b[0m\u001b[0;34m\u001b[0m\u001b[0m\n",
      "\u001b[0;32m/home/robert/PycharmProjects/IMAM/ve/local/lib/python2.7/site-packages/pandas/io/excel.pyc\u001b[0m in \u001b[0;36m__init__\u001b[0;34m(self, path, engine, **engine_kwargs)\u001b[0m\n\u001b[1;32m    769\u001b[0m \u001b[0;34m\u001b[0m\u001b[0m\n\u001b[1;32m    770\u001b[0m     \u001b[0;32mdef\u001b[0m \u001b[0m__init__\u001b[0m\u001b[0;34m(\u001b[0m\u001b[0mself\u001b[0m\u001b[0;34m,\u001b[0m \u001b[0mpath\u001b[0m\u001b[0;34m,\u001b[0m \u001b[0mengine\u001b[0m\u001b[0;34m=\u001b[0m\u001b[0mNone\u001b[0m\u001b[0;34m,\u001b[0m \u001b[0;34m**\u001b[0m\u001b[0mengine_kwargs\u001b[0m\u001b[0;34m)\u001b[0m\u001b[0;34m:\u001b[0m\u001b[0;34m\u001b[0m\u001b[0m\n\u001b[0;32m--> 771\u001b[0;31m         \u001b[0;32mif\u001b[0m \u001b[0;32mnot\u001b[0m \u001b[0mopenpyxl_compat\u001b[0m\u001b[0;34m.\u001b[0m\u001b[0mis_compat\u001b[0m\u001b[0;34m(\u001b[0m\u001b[0mmajor_ver\u001b[0m\u001b[0;34m=\u001b[0m\u001b[0mself\u001b[0m\u001b[0;34m.\u001b[0m\u001b[0mopenpyxl_majorver\u001b[0m\u001b[0;34m)\u001b[0m\u001b[0;34m:\u001b[0m\u001b[0;34m\u001b[0m\u001b[0m\n\u001b[0m\u001b[1;32m    772\u001b[0m             raise ValueError('Installed openpyxl is not supported at this '\n\u001b[1;32m    773\u001b[0m                              \u001b[0;34m'time. Use {0}.x.y.'\u001b[0m\u001b[0;34m\u001b[0m\u001b[0m\n",
      "\u001b[0;32m/home/robert/PycharmProjects/IMAM/ve/local/lib/python2.7/site-packages/pandas/compat/openpyxl_compat.pyc\u001b[0m in \u001b[0;36mis_compat\u001b[0;34m(major_ver)\u001b[0m\n\u001b[1;32m     25\u001b[0m         \u001b[0;34m`\u001b[0m\u001b[0;34m`\u001b[0m\u001b[0mFalse\u001b[0m\u001b[0;34m`\u001b[0m\u001b[0;34m`\u001b[0m \u001b[0motherwise\u001b[0m\u001b[0;34m.\u001b[0m\u001b[0;34m\u001b[0m\u001b[0m\n\u001b[1;32m     26\u001b[0m     \"\"\"\n\u001b[0;32m---> 27\u001b[0;31m     \u001b[0;32mimport\u001b[0m \u001b[0mopenpyxl\u001b[0m\u001b[0;34m\u001b[0m\u001b[0m\n\u001b[0m\u001b[1;32m     28\u001b[0m     \u001b[0mver\u001b[0m \u001b[0;34m=\u001b[0m \u001b[0mLooseVersion\u001b[0m\u001b[0;34m(\u001b[0m\u001b[0mopenpyxl\u001b[0m\u001b[0;34m.\u001b[0m\u001b[0m__version__\u001b[0m\u001b[0;34m)\u001b[0m\u001b[0;34m\u001b[0m\u001b[0m\n\u001b[1;32m     29\u001b[0m     \u001b[0;32mif\u001b[0m \u001b[0mmajor_ver\u001b[0m \u001b[0;34m==\u001b[0m \u001b[0;36m1\u001b[0m\u001b[0;34m:\u001b[0m\u001b[0;34m\u001b[0m\u001b[0m\n",
      "\u001b[0;31mImportError\u001b[0m: No module named openpyxl"
     ]
    }
   ],
   "source": [
    "engine = 'openpyxl'\n",
    "filename = \"df_%s.xlsx\" % engine\n",
    "writer = pd.ExcelWriter(filename, engine=engine)\n",
    "df.to_excel(writer,'Sheet1')\n",
    "writer.save()\n",
    "writer.close()"
   ]
  },
  {
   "cell_type": "code",
   "execution_count": 28,
   "metadata": {
    "collapsed": false
   },
   "outputs": [
    {
     "ename": "ImportError",
     "evalue": "No module named xlsxwriter",
     "output_type": "error",
     "traceback": [
      "\u001b[0;31m---------------------------------------------------------------------------\u001b[0m",
      "\u001b[0;31mImportError\u001b[0m                               Traceback (most recent call last)",
      "\u001b[0;32m<ipython-input-28-dcefe5281498>\u001b[0m in \u001b[0;36m<module>\u001b[0;34m()\u001b[0m\n\u001b[1;32m      1\u001b[0m \u001b[0mengine\u001b[0m \u001b[0;34m=\u001b[0m \u001b[0;34m'xlsxwriter'\u001b[0m\u001b[0;34m\u001b[0m\u001b[0m\n\u001b[1;32m      2\u001b[0m \u001b[0mfilename\u001b[0m \u001b[0;34m=\u001b[0m \u001b[0;34m\"df_%s.xlsx\"\u001b[0m \u001b[0;34m%\u001b[0m \u001b[0mengine\u001b[0m\u001b[0;34m\u001b[0m\u001b[0m\n\u001b[0;32m----> 3\u001b[0;31m \u001b[0mwriter\u001b[0m \u001b[0;34m=\u001b[0m \u001b[0mpd\u001b[0m\u001b[0;34m.\u001b[0m\u001b[0mExcelWriter\u001b[0m\u001b[0;34m(\u001b[0m\u001b[0mfilename\u001b[0m\u001b[0;34m,\u001b[0m \u001b[0mengine\u001b[0m\u001b[0;34m=\u001b[0m\u001b[0mengine\u001b[0m\u001b[0;34m)\u001b[0m\u001b[0;34m\u001b[0m\u001b[0m\n\u001b[0m\u001b[1;32m      4\u001b[0m \u001b[0mdf\u001b[0m\u001b[0;34m.\u001b[0m\u001b[0mto_excel\u001b[0m\u001b[0;34m(\u001b[0m\u001b[0mwriter\u001b[0m\u001b[0;34m,\u001b[0m\u001b[0;34m'Sheet1'\u001b[0m\u001b[0;34m)\u001b[0m\u001b[0;34m\u001b[0m\u001b[0m\n\u001b[1;32m      5\u001b[0m \u001b[0mwriter\u001b[0m\u001b[0;34m.\u001b[0m\u001b[0msave\u001b[0m\u001b[0;34m(\u001b[0m\u001b[0;34m)\u001b[0m\u001b[0;34m\u001b[0m\u001b[0m\n",
      "\u001b[0;32m/home/robert/PycharmProjects/IMAM/ve/local/lib/python2.7/site-packages/pandas/io/excel.pyc\u001b[0m in \u001b[0;36m__init__\u001b[0;34m(self, path, engine, date_format, datetime_format, **engine_kwargs)\u001b[0m\n\u001b[1;32m   1487\u001b[0m                  date_format=None, datetime_format=None, **engine_kwargs):\n\u001b[1;32m   1488\u001b[0m         \u001b[0;31m# Use the xlsxwriter module as the Excel writer.\u001b[0m\u001b[0;34m\u001b[0m\u001b[0;34m\u001b[0m\u001b[0m\n\u001b[0;32m-> 1489\u001b[0;31m         \u001b[0;32mimport\u001b[0m \u001b[0mxlsxwriter\u001b[0m\u001b[0;34m\u001b[0m\u001b[0m\n\u001b[0m\u001b[1;32m   1490\u001b[0m \u001b[0;34m\u001b[0m\u001b[0m\n\u001b[1;32m   1491\u001b[0m         super(_XlsxWriter, self).__init__(path, engine=engine,\n",
      "\u001b[0;31mImportError\u001b[0m: No module named xlsxwriter"
     ]
    }
   ],
   "source": [
    "engine = 'xlsxwriter'\n",
    "filename = \"df_%s.xlsx\" % engine\n",
    "writer = pd.ExcelWriter(filename, engine=engine)\n",
    "df.to_excel(writer,'Sheet1')\n",
    "writer.save()\n",
    "writer.close()"
   ]
  },
  {
   "cell_type": "code",
   "execution_count": 31,
   "metadata": {
    "collapsed": false
   },
   "outputs": [
    {
     "ename": "ImportError",
     "evalue": "No module named xlwt",
     "output_type": "error",
     "traceback": [
      "\u001b[0;31m---------------------------------------------------------------------------\u001b[0m",
      "\u001b[0;31mImportError\u001b[0m                               Traceback (most recent call last)",
      "\u001b[0;32m<ipython-input-31-66549afbe002>\u001b[0m in \u001b[0;36m<module>\u001b[0;34m()\u001b[0m\n\u001b[1;32m      1\u001b[0m \u001b[0mengine\u001b[0m \u001b[0;34m=\u001b[0m \u001b[0;34m'xlwt'\u001b[0m\u001b[0;34m\u001b[0m\u001b[0m\n\u001b[1;32m      2\u001b[0m \u001b[0mfilename\u001b[0m \u001b[0;34m=\u001b[0m \u001b[0;34m\"df_%s.xlsx\"\u001b[0m \u001b[0;34m%\u001b[0m \u001b[0mengine\u001b[0m\u001b[0;34m\u001b[0m\u001b[0m\n\u001b[0;32m----> 3\u001b[0;31m \u001b[0mwriter\u001b[0m \u001b[0;34m=\u001b[0m \u001b[0mpd\u001b[0m\u001b[0;34m.\u001b[0m\u001b[0mExcelWriter\u001b[0m\u001b[0;34m(\u001b[0m\u001b[0mfilename\u001b[0m\u001b[0;34m,\u001b[0m \u001b[0mengine\u001b[0m\u001b[0;34m=\u001b[0m\u001b[0mengine\u001b[0m\u001b[0;34m)\u001b[0m\u001b[0;34m\u001b[0m\u001b[0m\n\u001b[0m\u001b[1;32m      4\u001b[0m \u001b[0mdf\u001b[0m\u001b[0;34m.\u001b[0m\u001b[0mto_excel\u001b[0m\u001b[0;34m(\u001b[0m\u001b[0mwriter\u001b[0m\u001b[0;34m,\u001b[0m\u001b[0;34m'Sheet1'\u001b[0m\u001b[0;34m)\u001b[0m\u001b[0;34m\u001b[0m\u001b[0m\n\u001b[1;32m      5\u001b[0m \u001b[0mwriter\u001b[0m\u001b[0;34m.\u001b[0m\u001b[0msave\u001b[0m\u001b[0;34m(\u001b[0m\u001b[0;34m)\u001b[0m\u001b[0;34m\u001b[0m\u001b[0m\n",
      "\u001b[0;32m/home/robert/PycharmProjects/IMAM/ve/local/lib/python2.7/site-packages/pandas/io/excel.pyc\u001b[0m in \u001b[0;36m__init__\u001b[0;34m(self, path, engine, encoding, **engine_kwargs)\u001b[0m\n\u001b[1;32m   1363\u001b[0m     \u001b[0;32mdef\u001b[0m \u001b[0m__init__\u001b[0m\u001b[0;34m(\u001b[0m\u001b[0mself\u001b[0m\u001b[0;34m,\u001b[0m \u001b[0mpath\u001b[0m\u001b[0;34m,\u001b[0m \u001b[0mengine\u001b[0m\u001b[0;34m=\u001b[0m\u001b[0mNone\u001b[0m\u001b[0;34m,\u001b[0m \u001b[0mencoding\u001b[0m\u001b[0;34m=\u001b[0m\u001b[0mNone\u001b[0m\u001b[0;34m,\u001b[0m \u001b[0;34m**\u001b[0m\u001b[0mengine_kwargs\u001b[0m\u001b[0;34m)\u001b[0m\u001b[0;34m:\u001b[0m\u001b[0;34m\u001b[0m\u001b[0m\n\u001b[1;32m   1364\u001b[0m         \u001b[0;31m# Use the xlwt module as the Excel writer.\u001b[0m\u001b[0;34m\u001b[0m\u001b[0;34m\u001b[0m\u001b[0m\n\u001b[0;32m-> 1365\u001b[0;31m         \u001b[0;32mimport\u001b[0m \u001b[0mxlwt\u001b[0m\u001b[0;34m\u001b[0m\u001b[0m\n\u001b[0m\u001b[1;32m   1366\u001b[0m         \u001b[0mengine_kwargs\u001b[0m\u001b[0;34m[\u001b[0m\u001b[0;34m'engine'\u001b[0m\u001b[0;34m]\u001b[0m \u001b[0;34m=\u001b[0m \u001b[0mengine\u001b[0m\u001b[0;34m\u001b[0m\u001b[0m\n\u001b[1;32m   1367\u001b[0m         \u001b[0msuper\u001b[0m\u001b[0;34m(\u001b[0m\u001b[0m_XlwtWriter\u001b[0m\u001b[0;34m,\u001b[0m \u001b[0mself\u001b[0m\u001b[0;34m)\u001b[0m\u001b[0;34m.\u001b[0m\u001b[0m__init__\u001b[0m\u001b[0;34m(\u001b[0m\u001b[0mpath\u001b[0m\u001b[0;34m,\u001b[0m \u001b[0;34m**\u001b[0m\u001b[0mengine_kwargs\u001b[0m\u001b[0;34m)\u001b[0m\u001b[0;34m\u001b[0m\u001b[0m\n",
      "\u001b[0;31mImportError\u001b[0m: No module named xlwt"
     ]
    }
   ],
   "source": [
    "engine = 'xlwt'\n",
    "filename = \"df_%s.xlsx\" % engine\n",
    "writer = pd.ExcelWriter(filename, engine=engine)\n",
    "df.to_excel(writer,'Sheet1')\n",
    "writer.save()\n",
    "writer.close()"
   ]
  },
  {
   "cell_type": "code",
   "execution_count": null,
   "metadata": {
    "collapsed": true
   },
   "outputs": [],
   "source": []
  }
 ],
 "metadata": {
  "kernelspec": {
   "display_name": "Python 2",
   "language": "python",
   "name": "python2"
  },
  "language_info": {
   "codemirror_mode": {
    "name": "ipython",
    "version": 2
   },
   "file_extension": ".py",
   "mimetype": "text/x-python",
   "name": "python",
   "nbconvert_exporter": "python",
   "pygments_lexer": "ipython2",
   "version": "2.7.12"
  }
 },
 "nbformat": 4,
 "nbformat_minor": 2
}
