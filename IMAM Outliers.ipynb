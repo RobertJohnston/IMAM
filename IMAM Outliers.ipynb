{
 "cells": [
  {
   "cell_type": "code",
   "execution_count": 1,
   "metadata": {
    "collapsed": false
   },
   "outputs": [],
   "source": [
    "# Use distance over median over MAD to calculate z-score and identify outliers\n",
    "import pandas as pd\n",
    "import matplotlib.pyplot as plt\n",
    "import numpy as np\n",
    "\n",
    "%matplotlib inline"
   ]
  },
  {
   "cell_type": "code",
   "execution_count": 35,
   "metadata": {
    "collapsed": false
   },
   "outputs": [],
   "source": [
    "# df = pandas.read_excel(open('pro','rb'), sheetname='Runs')\n",
    "df = pd.read_excel(\"C:\\TEMP\\pro.xlsx\", sheetname='Runs')"
   ]
  },
  {
   "cell_type": "code",
   "execution_count": 78,
   "metadata": {
    "collapsed": false
   },
   "outputs": [
    {
     "data": {
      "text/html": [
       "<div>\n",
       "<table border=\"1\" class=\"dataframe\">\n",
       "  <thead>\n",
       "    <tr style=\"text-align: right;\">\n",
       "      <th></th>\n",
       "      <th>siteid</th>\n",
       "      <th>amar</th>\n",
       "      <th>beg</th>\n",
       "      <th>median_amar</th>\n",
       "    </tr>\n",
       "  </thead>\n",
       "  <tbody>\n",
       "    <tr>\n",
       "      <th>2</th>\n",
       "      <td>1604110045</td>\n",
       "      <td>16.0</td>\n",
       "      <td>124.0</td>\n",
       "      <td>7.0</td>\n",
       "    </tr>\n",
       "    <tr>\n",
       "      <th>3</th>\n",
       "      <td>1604110045</td>\n",
       "      <td>16.0</td>\n",
       "      <td>143.0</td>\n",
       "      <td>7.0</td>\n",
       "    </tr>\n",
       "    <tr>\n",
       "      <th>4</th>\n",
       "      <td>1604110045</td>\n",
       "      <td>11.0</td>\n",
       "      <td>146.0</td>\n",
       "      <td>7.0</td>\n",
       "    </tr>\n",
       "    <tr>\n",
       "      <th>5</th>\n",
       "      <td>1604110045</td>\n",
       "      <td>19.0</td>\n",
       "      <td>106.0</td>\n",
       "      <td>7.0</td>\n",
       "    </tr>\n",
       "    <tr>\n",
       "      <th>6</th>\n",
       "      <td>1604110045</td>\n",
       "      <td>12.0</td>\n",
       "      <td>143.0</td>\n",
       "      <td>7.0</td>\n",
       "    </tr>\n",
       "  </tbody>\n",
       "</table>\n",
       "</div>"
      ],
      "text/plain": [
       "       siteid  amar    beg  median_amar\n",
       "2  1604110045  16.0  124.0          7.0\n",
       "3  1604110045  16.0  143.0          7.0\n",
       "4  1604110045  11.0  146.0          7.0\n",
       "5  1604110045  19.0  106.0          7.0\n",
       "6  1604110045  12.0  143.0          7.0"
      ]
     },
     "execution_count": 78,
     "metadata": {},
     "output_type": "execute_result"
    }
   ],
   "source": [
    "df.head()"
   ]
  },
  {
   "cell_type": "code",
   "execution_count": 60,
   "metadata": {
    "collapsed": false
   },
   "outputs": [
    {
     "data": {
      "text/plain": [
       "array([u'Yes'], dtype=object)"
      ]
     },
     "execution_count": 60,
     "metadata": {},
     "output_type": "execute_result"
    }
   ],
   "source": [
    "df.rename(columns = {'Confirm (Category) - IMAM Program':'confirm'}, inplace = True)\n",
    "df.confirm.unique()"
   ]
  },
  {
   "cell_type": "code",
   "execution_count": 39,
   "metadata": {
    "collapsed": false
   },
   "outputs": [],
   "source": [
    "# drop all unconfirmed data\n",
    "# df.confirm = df[\"Confirm (Category) - IMAM Program\"] \n",
    "#                Confirm (Category) - IMAM Program  \n",
    "\n",
    "df = df[df.confirm == 'Yes']\n",
    "\n",
    "# df[df['coverage'] > 50]\n",
    "# df_filtered = df.query('salary>30000')\n",
    "# df[df[\"Country\"] == 'US']\n",
    "# df_filtered = df[(df.salary >= 30000) & (df.year == 2017)]"
   ]
  },
  {
   "cell_type": "code",
   "execution_count": 61,
   "metadata": {
    "collapsed": true
   },
   "outputs": [],
   "source": [
    "# rename vars\n",
    "df.rename(columns = {'SiteID':'siteid'}, inplace = True)\n",
    "df.rename(columns = {'Beg_o (Value) - IMAM Program':'beg'}, inplace = True)\n",
    "df.rename(columns = {'Amar_o (Value) - IMAM Program':'amar'}, inplace = True)"
   ]
  },
  {
   "cell_type": "code",
   "execution_count": 62,
   "metadata": {
    "collapsed": false
   },
   "outputs": [],
   "source": [
    "# df = df.drop(['SiteID', 'Last Seen', 'WeekNum (Value) - IMAM Program ', 'Amar_o (Value) - IMAM Program'], axis=1)\n",
    "# how to drop several columns ?\n",
    "\n",
    "# Include only a small number of vars. \n",
    "df =  df[['siteid','amar','beg']]"
   ]
  },
  {
   "cell_type": "code",
   "execution_count": 63,
   "metadata": {
    "collapsed": false
   },
   "outputs": [
    {
     "name": "stdout",
     "output_type": "stream",
     "text": [
      "<class 'pandas.core.frame.DataFrame'>\n",
      "Int64Index: 43756 entries, 2 to 54368\n",
      "Data columns (total 3 columns):\n",
      "siteid    43756 non-null object\n",
      "amar      40429 non-null float64\n",
      "beg       40429 non-null float64\n",
      "dtypes: float64(2), object(1)\n",
      "memory usage: 1.3+ MB\n"
     ]
    }
   ],
   "source": [
    "df.info()"
   ]
  },
  {
   "cell_type": "code",
   "execution_count": 9,
   "metadata": {
    "collapsed": false
   },
   "outputs": [
    {
     "ename": "SyntaxError",
     "evalue": "invalid syntax (<ipython-input-9-06070bf1f385>, line 17)",
     "output_type": "error",
     "traceback": [
      "\u001b[0;36m  File \u001b[0;32m\"<ipython-input-9-06070bf1f385>\"\u001b[0;36m, line \u001b[0;32m17\u001b[0m\n\u001b[0;31m    df.year = df[\"Last Seen\"].datetime.isocalendar()[0]\u001b[0m\n\u001b[0m            ^\u001b[0m\n\u001b[0;31mSyntaxError\u001b[0m\u001b[0;31m:\u001b[0m invalid syntax\n"
     ]
    }
   ],
   "source": [
    "# remove rows from 2016 ? \n",
    "\n",
    "# import isocalendar\n",
    "# datetime.date(2010, 6, 16).isocalendar()[1]\n",
    "\n",
    "# extract year from last seen\n",
    "import datetime\n",
    "# year = df[\"Last Seen\"].datetime.date\n",
    "# iterate over rows\n",
    "year = datetime.datetime.df[\"Last Seen\"].isocalendar()[0]\n",
    "print year\n",
    "\n",
    "# one method to make a univariate list of counts of variable outcomes\n",
    "# iterate over rows\n",
    "def create_year():\n",
    "    for row in df[\"Last Seen\":\n",
    "        # Last Seen not formatted as Datetime\n",
    "        df.year = df[\"Last Seen\"].datetime.isocalendar()[0]\n",
    "    return df.year\n",
    "\n",
    "# Take 1st 4 chars from date to = year\n",
    "# df.year = df.[\"Last Seen\"][0:3]"
   ]
  },
  {
   "cell_type": "code",
   "execution_count": 86,
   "metadata": {
    "collapsed": false
   },
   "outputs": [],
   "source": [
    "# Data cleaning\n",
    "# change string to integer\n",
    "df.amar = pd.to_numeric(df.amar, errors='force', downcast='integer')\n",
    "df.beg = pd.to_numeric(df.beg, errors='force', downcast='integer')\n",
    "# Remove all Nan\n",
    "df = df.query('amar == amar')\n",
    "df = df.query('beg == beg')"
   ]
  },
  {
   "cell_type": "code",
   "execution_count": 103,
   "metadata": {
    "collapsed": false
   },
   "outputs": [
    {
     "data": {
      "text/plain": [
       "(array([  1.52750000e+04,   8.45000000e+03,   5.57100000e+03,\n",
       "          3.49100000e+03,   2.32900000e+03,   1.39400000e+03,\n",
       "          9.71000000e+02,   6.71000000e+02,   4.72000000e+02,\n",
       "          3.46000000e+02,   2.53000000e+02,   2.00000000e+02,\n",
       "          1.42000000e+02,   1.32000000e+02,   1.18000000e+02,\n",
       "          8.00000000e+01,   8.60000000e+01,   6.10000000e+01,\n",
       "          3.60000000e+01,   4.20000000e+01,   3.30000000e+01,\n",
       "          3.70000000e+01,   2.80000000e+01,   1.80000000e+01,\n",
       "          2.50000000e+01,   1.00000000e+01,   1.80000000e+01,\n",
       "          9.00000000e+00,   8.00000000e+00,   9.00000000e+00,\n",
       "          7.00000000e+00,   9.00000000e+00,   1.00000000e+01,\n",
       "          1.00000000e+00,   4.00000000e+00,   2.00000000e+00,\n",
       "          3.00000000e+00,   2.00000000e+00,   3.00000000e+00,\n",
       "          7.00000000e+00]),\n",
       " array([   0.,    5.,   10.,   15.,   20.,   25.,   30.,   35.,   40.,\n",
       "          45.,   50.,   55.,   60.,   65.,   70.,   75.,   80.,   85.,\n",
       "          90.,   95.,  100.,  105.,  110.,  115.,  120.,  125.,  130.,\n",
       "         135.,  140.,  145.,  150.,  155.,  160.,  165.,  170.,  175.,\n",
       "         180.,  185.,  190.,  195.,  200.]),\n",
       " <a list of 40 Patch objects>)"
      ]
     },
     "execution_count": 103,
     "metadata": {},
     "output_type": "execute_result"
    },
    {
     "data": {
      "image/png": "[encoded data removed]",
      "text/plain": [
       "<matplotlib.figure.Figure at 0xf4b51d0>"
      ]
     },
     "metadata": {},
     "output_type": "display_data"
    }
   ],
   "source": [
    "# Histogram of Amar\n",
    "plt.hist(df.amar, bins = 40, range = (df.amar.min(),200))"
   ]
  },
  {
   "cell_type": "code",
   "execution_count": 93,
   "metadata": {
    "collapsed": false
   },
   "outputs": [
    {
     "name": "stdout",
     "output_type": "stream",
     "text": [
      "0.25     2.0\n",
      "0.75    16.0\n",
      "Name: amar, dtype: float64\n"
     ]
    }
   ],
   "source": [
    "print df.amar.quantile([0.25,0.75])\n",
    "# Quantiles of each object."
   ]
  },
  {
   "cell_type": "code",
   "execution_count": null,
   "metadata": {
    "collapsed": true
   },
   "outputs": [],
   "source": []
  },
  {
   "cell_type": "code",
   "execution_count": 67,
   "metadata": {
    "collapsed": false
   },
   "outputs": [
    {
     "data": {
      "text/plain": [
       "(array([  1.26550000e+04,   1.06100000e+04,   6.10600000e+03,\n",
       "          3.27300000e+03,   2.03500000e+03,   1.39700000e+03,\n",
       "          1.06300000e+03,   6.21000000e+02,   5.13000000e+02,\n",
       "          4.53000000e+02,   2.93000000e+02,   2.20000000e+02,\n",
       "          1.92000000e+02,   1.49000000e+02,   1.29000000e+02,\n",
       "          8.00000000e+01,   6.00000000e+01,   4.90000000e+01,\n",
       "          5.30000000e+01,   3.10000000e+01,   3.40000000e+01,\n",
       "          3.20000000e+01,   3.60000000e+01,   2.00000000e+01,\n",
       "          2.00000000e+01,   2.00000000e+01,   2.70000000e+01,\n",
       "          1.70000000e+01,   1.90000000e+01,   1.10000000e+01,\n",
       "          1.10000000e+01,   1.20000000e+01,   1.70000000e+01,\n",
       "          2.00000000e+01,   5.00000000e+00,   6.00000000e+00,\n",
       "          2.10000000e+01,   1.60000000e+01,   5.00000000e+00,\n",
       "          1.60000000e+01]),\n",
       " array([    0.   ,    49.975,    99.95 ,   149.925,   199.9  ,   249.875,\n",
       "          299.85 ,   349.825,   399.8  ,   449.775,   499.75 ,   549.725,\n",
       "          599.7  ,   649.675,   699.65 ,   749.625,   799.6  ,   849.575,\n",
       "          899.55 ,   949.525,   999.5  ,  1049.475,  1099.45 ,  1149.425,\n",
       "         1199.4  ,  1249.375,  1299.35 ,  1349.325,  1399.3  ,  1449.275,\n",
       "         1499.25 ,  1549.225,  1599.2  ,  1649.175,  1699.15 ,  1749.125,\n",
       "         1799.1  ,  1849.075,  1899.05 ,  1949.025,  1999.   ]),\n",
       " <a list of 40 Patch objects>)"
      ]
     },
     "execution_count": 67,
     "metadata": {},
     "output_type": "execute_result"
    },
    {
     "data": {
      "image/png": "[encoded data removed]",
      "text/plain": [
       "<matplotlib.figure.Figure at 0xd1b4a20>"
      ]
     },
     "metadata": {},
     "output_type": "display_data"
    }
   ],
   "source": []
  },
  {
   "cell_type": "code",
   "execution_count": 73,
   "metadata": {
    "collapsed": false
   },
   "outputs": [
    {
     "data": {
      "text/plain": [
       "7.0"
      ]
     },
     "execution_count": 73,
     "metadata": {},
     "output_type": "execute_result"
    }
   ],
   "source": [
    "df['median_amar'] = df.amar.median()\n",
    "# how to use simple python vars instead of col vars\n",
    "# just calculate everything at once\n",
    "df.median_amar"
   ]
  },
  {
   "cell_type": "code",
   "execution_count": 83,
   "metadata": {
    "collapsed": false
   },
   "outputs": [
    {
     "data": {
      "text/plain": [
       "array([ 6.])"
      ]
     },
     "execution_count": 83,
     "metadata": {},
     "output_type": "execute_result"
    }
   ],
   "source": [
    "# Median absolute deviation\n",
    "from statsmodels.robust.scale import mad\n",
    "# constant = 1\n",
    "df['mad_amar'] = mad(df.amar, c=1)\n",
    "\n",
    "df.mad_amar.unique()"
   ]
  },
  {
   "cell_type": "code",
   "execution_count": 85,
   "metadata": {
    "collapsed": false
   },
   "outputs": [
    {
     "data": {
      "text/plain": [
       "6.0"
      ]
     },
     "execution_count": 85,
     "metadata": {},
     "output_type": "execute_result"
    }
   ],
   "source": [
    "# Median of the differences of absolute value of (median - value)\n",
    "mad_amar2 =(abs(df.amar - df.amar.median())).median()\n",
    "mad_amar2"
   ]
  },
  {
   "cell_type": "code",
   "execution_count": 94,
   "metadata": {
    "collapsed": false
   },
   "outputs": [
    {
     "name": "stdout",
     "output_type": "stream",
     "text": [
      "0.0625\n",
      "0.866025403784\n"
     ]
    }
   ],
   "source": [
    "# Consistency constant and outlier cut-off\n",
    "\n",
    "# if the distribution of observations is normal, we can use 1.4826 as a normalization factor\n",
    "# with the  normalization factor, we can interpret the results as Z-scores\n",
    "\n",
    "# if the distribution is not normal\n",
    "# use 1 / median. 75 Percentile\n",
    "\n",
    "# 1 divided by value of 75th percentile of amar\n",
    "print 1. / 16\n",
    "\n",
    "print 1 / (2 / 3 ** 0.5)"
   ]
  },
  {
   "cell_type": "code",
   "execution_count": 116,
   "metadata": {
    "collapsed": false
   },
   "outputs": [
    {
     "name": "stdout",
     "output_type": "stream",
     "text": [
      "-3 SD = -14.76 +3 SD is 26.76\n"
     ]
    }
   ],
   "source": [
    "consistency_constant = 1 / (2 / 3 ** 0.5)\n",
    "df['mad_amar2'] = mad(df.amar, c=consistency_constant)\n",
    "\n",
    "mad_amar2 = 6.92\n",
    "print \"-3 SD = %s +3 SD is %s\" % (6 - mad_amar2 * 3, 6 + mad_amar2 * 3)\n",
    "# this is not appropriate as the distribution is not normal"
   ]
  },
  {
   "cell_type": "code",
   "execution_count": 110,
   "metadata": {
    "collapsed": false
   },
   "outputs": [
    {
     "name": "stdout",
     "output_type": "stream",
     "text": [
      "12.8436362512\n",
      "31.0570323431\n"
     ]
    }
   ],
   "source": [
    "print df.amar.mean()\n",
    "print df.amar.std()"
   ]
  },
  {
   "cell_type": "code",
   "execution_count": 120,
   "metadata": {
    "collapsed": false
   },
   "outputs": [
    {
     "ename": "UnboundLocalError",
     "evalue": "local variable 'df' referenced before assignment",
     "output_type": "error",
     "traceback": [
      "\u001b[0;31m---------------------------------------------------------------------------\u001b[0m",
      "\u001b[0;31mUnboundLocalError\u001b[0m                         Traceback (most recent call last)",
      "\u001b[0;32m<ipython-input-120-132125d31ea5>\u001b[0m in \u001b[0;36m<module>\u001b[0;34m()\u001b[0m\n\u001b[1;32m      6\u001b[0m     \u001b[1;32mreturn\u001b[0m \u001b[0mmedian\u001b[0m\u001b[1;33m\u001b[0m\u001b[0m\n\u001b[1;32m      7\u001b[0m \u001b[1;33m\u001b[0m\u001b[0m\n\u001b[0;32m----> 8\u001b[0;31m \u001b[1;32mprint\u001b[0m \u001b[0mdouble_mad\u001b[0m\u001b[1;33m(\u001b[0m\u001b[1;34m'amar'\u001b[0m\u001b[1;33m)\u001b[0m\u001b[1;33m\u001b[0m\u001b[0m\n\u001b[0m\u001b[1;32m      9\u001b[0m \u001b[1;33m\u001b[0m\u001b[0m\n\u001b[1;32m     10\u001b[0m \u001b[1;31m# Double MAD with, say, a cutoff of 3:\u001b[0m\u001b[1;33m\u001b[0m\u001b[1;33m\u001b[0m\u001b[0m\n",
      "\u001b[0;32m<ipython-input-120-132125d31ea5>\u001b[0m in \u001b[0;36mdouble_mad\u001b[0;34m(var)\u001b[0m\n\u001b[1;32m      2\u001b[0m \u001b[1;33m\u001b[0m\u001b[0m\n\u001b[1;32m      3\u001b[0m \u001b[1;32mdef\u001b[0m \u001b[0mdouble_mad\u001b[0m\u001b[1;33m(\u001b[0m\u001b[0mvar\u001b[0m\u001b[1;33m)\u001b[0m\u001b[1;33m:\u001b[0m\u001b[1;33m\u001b[0m\u001b[0m\n\u001b[0;32m----> 4\u001b[0;31m     \u001b[0mdf\u001b[0m \u001b[1;33m=\u001b[0m \u001b[0mdf\u001b[0m\u001b[1;33m.\u001b[0m\u001b[0mquery\u001b[0m\u001b[1;33m(\u001b[0m\u001b[1;34m'var == var'\u001b[0m\u001b[1;33m)\u001b[0m\u001b[1;33m\u001b[0m\u001b[0m\n\u001b[0m\u001b[1;32m      5\u001b[0m     \u001b[0mmedian\u001b[0m \u001b[1;33m=\u001b[0m \u001b[0mdf\u001b[0m\u001b[1;33m.\u001b[0m\u001b[0mvar\u001b[0m\u001b[1;33m.\u001b[0m\u001b[0mmedian\u001b[0m\u001b[1;33m(\u001b[0m\u001b[1;33m)\u001b[0m\u001b[1;33m\u001b[0m\u001b[0m\n\u001b[1;32m      6\u001b[0m     \u001b[1;32mreturn\u001b[0m \u001b[0mmedian\u001b[0m\u001b[1;33m\u001b[0m\u001b[0m\n",
      "\u001b[0;31mUnboundLocalError\u001b[0m: local variable 'df' referenced before assignment"
     ]
    }
   ],
   "source": [
    "# to use MAD with non-symetrical distributions - use Double MAD\n",
    "\n",
    "def double_mad(var): \n",
    "    df = df.query('var == var')\n",
    "    median = df.var.median()\n",
    "    left_med = median(abs.dev[x<=m])\n",
    "    right_med = median(abs.dev[x>m])\n",
    "    \n",
    "    if left_med==0 | right_med==0:\n",
    "        break\n",
    "    \n",
    "    return median\n",
    "\n",
    "print double_mad()\n",
    "\n",
    "# Double MAD with, say, a cutoff of 3:\n",
    "# DoubleMAD <- function(x, zero.mad.action=\"warn\"){\n",
    "#    # The zero.mad.action determines the action in the event of an MAD of zero.\n",
    "#    # Possible values: \"stop\", \"warn\", \"na\" and \"warn and na\".\n",
    "#    x         <- x[!is.na(x)]\n",
    "#    m         <- median(x)\n",
    "#    abs.dev   <- abs(x - m)\n",
    "#    left.mad  <- median(abs.dev[x<=m])\n",
    "#    right.mad <- median(abs.dev[x>=m])\n",
    "#    if (left.mad == 0 || right.mad == 0){\n",
    "#       if (zero.mad.action == \"stop\") stop(\"MAD is 0\")\n",
    "#       if (zero.mad.action %in% c(\"warn\", \"warn and na\")) warning(\"MAD is 0\")\n",
    "#       if (zero.mad.action %in% c(  \"na\", \"warn and na\")){\n",
    "#          if (left.mad  == 0) left.mad  <- NA\n",
    "#          if (right.mad == 0) right.mad <- NA\n",
    "#       }\n",
    "#    }\n",
    "#    return(c(left.mad, right.mad))"
   ]
  },
  {
   "cell_type": "code",
   "execution_count": 136,
   "metadata": {
    "collapsed": false
   },
   "outputs": [
    {
     "name": "stderr",
     "output_type": "stream",
     "text": [
      "C:\\Users\\Robert\\Anaconda2\\lib\\site-packages\\ipykernel\\__main__.py:10: SettingWithCopyWarning: \n",
      "A value is trying to be set on a copy of a slice from a DataFrame.\n",
      "Try using .loc[row_indexer,col_indexer] = value instead\n",
      "\n",
      "See the caveats in the documentation: http://pandas.pydata.org/pandas-docs/stable/indexing.html#indexing-view-versus-copy\n",
      "C:\\Users\\Robert\\Anaconda2\\lib\\site-packages\\ipykernel\\__main__.py:11: SettingWithCopyWarning: \n",
      "A value is trying to be set on a copy of a slice from a DataFrame.\n",
      "Try using .loc[row_indexer,col_indexer] = value instead\n",
      "\n",
      "See the caveats in the documentation: http://pandas.pydata.org/pandas-docs/stable/indexing.html#indexing-view-versus-copy\n"
     ]
    },
    {
     "data": {
      "text/html": [
       "<div>\n",
       "<table border=\"1\" class=\"dataframe\">\n",
       "  <thead>\n",
       "    <tr style=\"text-align: right;\">\n",
       "      <th></th>\n",
       "      <th>siteid</th>\n",
       "      <th>amar</th>\n",
       "      <th>beg</th>\n",
       "      <th>median_amar</th>\n",
       "      <th>mad_amar</th>\n",
       "      <th>mad_amar2</th>\n",
       "      <th>median</th>\n",
       "      <th>left_mad</th>\n",
       "    </tr>\n",
       "  </thead>\n",
       "  <tbody>\n",
       "    <tr>\n",
       "      <th>20</th>\n",
       "      <td>3308110010</td>\n",
       "      <td>6.0</td>\n",
       "      <td>71.0</td>\n",
       "      <td>7.0</td>\n",
       "      <td>6.0</td>\n",
       "      <td>6.928203</td>\n",
       "      <td>7.0</td>\n",
       "      <td>2.0</td>\n",
       "    </tr>\n",
       "    <tr>\n",
       "      <th>37</th>\n",
       "      <td>3308110010</td>\n",
       "      <td>0.0</td>\n",
       "      <td>125.0</td>\n",
       "      <td>7.0</td>\n",
       "      <td>6.0</td>\n",
       "      <td>6.928203</td>\n",
       "      <td>7.0</td>\n",
       "      <td>2.0</td>\n",
       "    </tr>\n",
       "    <tr>\n",
       "      <th>38</th>\n",
       "      <td>3308110010</td>\n",
       "      <td>0.0</td>\n",
       "      <td>125.0</td>\n",
       "      <td>7.0</td>\n",
       "      <td>6.0</td>\n",
       "      <td>6.928203</td>\n",
       "      <td>7.0</td>\n",
       "      <td>2.0</td>\n",
       "    </tr>\n",
       "    <tr>\n",
       "      <th>43</th>\n",
       "      <td>3308110010</td>\n",
       "      <td>0.0</td>\n",
       "      <td>125.0</td>\n",
       "      <td>7.0</td>\n",
       "      <td>6.0</td>\n",
       "      <td>6.928203</td>\n",
       "      <td>7.0</td>\n",
       "      <td>2.0</td>\n",
       "    </tr>\n",
       "    <tr>\n",
       "      <th>44</th>\n",
       "      <td>3308110010</td>\n",
       "      <td>0.0</td>\n",
       "      <td>125.0</td>\n",
       "      <td>7.0</td>\n",
       "      <td>6.0</td>\n",
       "      <td>6.928203</td>\n",
       "      <td>7.0</td>\n",
       "      <td>2.0</td>\n",
       "    </tr>\n",
       "    <tr>\n",
       "      <th>61</th>\n",
       "      <td>3308110010</td>\n",
       "      <td>6.0</td>\n",
       "      <td>134.0</td>\n",
       "      <td>7.0</td>\n",
       "      <td>6.0</td>\n",
       "      <td>6.928203</td>\n",
       "      <td>7.0</td>\n",
       "      <td>2.0</td>\n",
       "    </tr>\n",
       "    <tr>\n",
       "      <th>62</th>\n",
       "      <td>3308110010</td>\n",
       "      <td>5.0</td>\n",
       "      <td>109.0</td>\n",
       "      <td>7.0</td>\n",
       "      <td>6.0</td>\n",
       "      <td>6.928203</td>\n",
       "      <td>7.0</td>\n",
       "      <td>2.0</td>\n",
       "    </tr>\n",
       "    <tr>\n",
       "      <th>63</th>\n",
       "      <td>3308110010</td>\n",
       "      <td>7.0</td>\n",
       "      <td>86.0</td>\n",
       "      <td>7.0</td>\n",
       "      <td>6.0</td>\n",
       "      <td>6.928203</td>\n",
       "      <td>7.0</td>\n",
       "      <td>2.0</td>\n",
       "    </tr>\n",
       "    <tr>\n",
       "      <th>65</th>\n",
       "      <td>3308110010</td>\n",
       "      <td>6.0</td>\n",
       "      <td>134.0</td>\n",
       "      <td>7.0</td>\n",
       "      <td>6.0</td>\n",
       "      <td>6.928203</td>\n",
       "      <td>7.0</td>\n",
       "      <td>2.0</td>\n",
       "    </tr>\n",
       "    <tr>\n",
       "      <th>66</th>\n",
       "      <td>3308110010</td>\n",
       "      <td>5.0</td>\n",
       "      <td>109.0</td>\n",
       "      <td>7.0</td>\n",
       "      <td>6.0</td>\n",
       "      <td>6.928203</td>\n",
       "      <td>7.0</td>\n",
       "      <td>2.0</td>\n",
       "    </tr>\n",
       "    <tr>\n",
       "      <th>67</th>\n",
       "      <td>3308110010</td>\n",
       "      <td>7.0</td>\n",
       "      <td>86.0</td>\n",
       "      <td>7.0</td>\n",
       "      <td>6.0</td>\n",
       "      <td>6.928203</td>\n",
       "      <td>7.0</td>\n",
       "      <td>2.0</td>\n",
       "    </tr>\n",
       "    <tr>\n",
       "      <th>68</th>\n",
       "      <td>3308110010</td>\n",
       "      <td>5.0</td>\n",
       "      <td>71.0</td>\n",
       "      <td>7.0</td>\n",
       "      <td>6.0</td>\n",
       "      <td>6.928203</td>\n",
       "      <td>7.0</td>\n",
       "      <td>2.0</td>\n",
       "    </tr>\n",
       "    <tr>\n",
       "      <th>70</th>\n",
       "      <td>3308110010</td>\n",
       "      <td>5.0</td>\n",
       "      <td>72.0</td>\n",
       "      <td>7.0</td>\n",
       "      <td>6.0</td>\n",
       "      <td>6.928203</td>\n",
       "      <td>7.0</td>\n",
       "      <td>2.0</td>\n",
       "    </tr>\n",
       "    <tr>\n",
       "      <th>71</th>\n",
       "      <td>3308110010</td>\n",
       "      <td>4.0</td>\n",
       "      <td>70.0</td>\n",
       "      <td>7.0</td>\n",
       "      <td>6.0</td>\n",
       "      <td>6.928203</td>\n",
       "      <td>7.0</td>\n",
       "      <td>2.0</td>\n",
       "    </tr>\n",
       "    <tr>\n",
       "      <th>76</th>\n",
       "      <td>3308110010</td>\n",
       "      <td>6.0</td>\n",
       "      <td>71.0</td>\n",
       "      <td>7.0</td>\n",
       "      <td>6.0</td>\n",
       "      <td>6.928203</td>\n",
       "      <td>7.0</td>\n",
       "      <td>2.0</td>\n",
       "    </tr>\n",
       "    <tr>\n",
       "      <th>81</th>\n",
       "      <td>3308110010</td>\n",
       "      <td>7.0</td>\n",
       "      <td>79.0</td>\n",
       "      <td>7.0</td>\n",
       "      <td>6.0</td>\n",
       "      <td>6.928203</td>\n",
       "      <td>7.0</td>\n",
       "      <td>2.0</td>\n",
       "    </tr>\n",
       "    <tr>\n",
       "      <th>84</th>\n",
       "      <td>3308110010</td>\n",
       "      <td>7.0</td>\n",
       "      <td>79.0</td>\n",
       "      <td>7.0</td>\n",
       "      <td>6.0</td>\n",
       "      <td>6.928203</td>\n",
       "      <td>7.0</td>\n",
       "      <td>2.0</td>\n",
       "    </tr>\n",
       "    <tr>\n",
       "      <th>97</th>\n",
       "      <td>3308110010</td>\n",
       "      <td>7.0</td>\n",
       "      <td>79.0</td>\n",
       "      <td>7.0</td>\n",
       "      <td>6.0</td>\n",
       "      <td>6.928203</td>\n",
       "      <td>7.0</td>\n",
       "      <td>2.0</td>\n",
       "    </tr>\n",
       "    <tr>\n",
       "      <th>116</th>\n",
       "      <td>3304110025</td>\n",
       "      <td>0.0</td>\n",
       "      <td>68.0</td>\n",
       "      <td>7.0</td>\n",
       "      <td>6.0</td>\n",
       "      <td>6.928203</td>\n",
       "      <td>7.0</td>\n",
       "      <td>2.0</td>\n",
       "    </tr>\n",
       "    <tr>\n",
       "      <th>120</th>\n",
       "      <td>3304110025</td>\n",
       "      <td>0.0</td>\n",
       "      <td>91.0</td>\n",
       "      <td>7.0</td>\n",
       "      <td>6.0</td>\n",
       "      <td>6.928203</td>\n",
       "      <td>7.0</td>\n",
       "      <td>2.0</td>\n",
       "    </tr>\n",
       "    <tr>\n",
       "      <th>127</th>\n",
       "      <td>3304110025</td>\n",
       "      <td>0.0</td>\n",
       "      <td>105.0</td>\n",
       "      <td>7.0</td>\n",
       "      <td>6.0</td>\n",
       "      <td>6.928203</td>\n",
       "      <td>7.0</td>\n",
       "      <td>2.0</td>\n",
       "    </tr>\n",
       "    <tr>\n",
       "      <th>133</th>\n",
       "      <td>3304110025</td>\n",
       "      <td>0.0</td>\n",
       "      <td>105.0</td>\n",
       "      <td>7.0</td>\n",
       "      <td>6.0</td>\n",
       "      <td>6.928203</td>\n",
       "      <td>7.0</td>\n",
       "      <td>2.0</td>\n",
       "    </tr>\n",
       "    <tr>\n",
       "      <th>139</th>\n",
       "      <td>3304110025</td>\n",
       "      <td>0.0</td>\n",
       "      <td>101.0</td>\n",
       "      <td>7.0</td>\n",
       "      <td>6.0</td>\n",
       "      <td>6.928203</td>\n",
       "      <td>7.0</td>\n",
       "      <td>2.0</td>\n",
       "    </tr>\n",
       "    <tr>\n",
       "      <th>141</th>\n",
       "      <td>3304110025</td>\n",
       "      <td>0.0</td>\n",
       "      <td>101.0</td>\n",
       "      <td>7.0</td>\n",
       "      <td>6.0</td>\n",
       "      <td>6.928203</td>\n",
       "      <td>7.0</td>\n",
       "      <td>2.0</td>\n",
       "    </tr>\n",
       "    <tr>\n",
       "      <th>158</th>\n",
       "      <td>3304110025</td>\n",
       "      <td>5.0</td>\n",
       "      <td>93.0</td>\n",
       "      <td>7.0</td>\n",
       "      <td>6.0</td>\n",
       "      <td>6.928203</td>\n",
       "      <td>7.0</td>\n",
       "      <td>2.0</td>\n",
       "    </tr>\n",
       "    <tr>\n",
       "      <th>174</th>\n",
       "      <td>3304110025</td>\n",
       "      <td>0.0</td>\n",
       "      <td>92.0</td>\n",
       "      <td>7.0</td>\n",
       "      <td>6.0</td>\n",
       "      <td>6.928203</td>\n",
       "      <td>7.0</td>\n",
       "      <td>2.0</td>\n",
       "    </tr>\n",
       "    <tr>\n",
       "      <th>180</th>\n",
       "      <td>3304110025</td>\n",
       "      <td>6.0</td>\n",
       "      <td>92.0</td>\n",
       "      <td>7.0</td>\n",
       "      <td>6.0</td>\n",
       "      <td>6.928203</td>\n",
       "      <td>7.0</td>\n",
       "      <td>2.0</td>\n",
       "    </tr>\n",
       "    <tr>\n",
       "      <th>184</th>\n",
       "      <td>3304110025</td>\n",
       "      <td>7.0</td>\n",
       "      <td>62.0</td>\n",
       "      <td>7.0</td>\n",
       "      <td>6.0</td>\n",
       "      <td>6.928203</td>\n",
       "      <td>7.0</td>\n",
       "      <td>2.0</td>\n",
       "    </tr>\n",
       "    <tr>\n",
       "      <th>185</th>\n",
       "      <td>3304110025</td>\n",
       "      <td>0.0</td>\n",
       "      <td>65.0</td>\n",
       "      <td>7.0</td>\n",
       "      <td>6.0</td>\n",
       "      <td>6.928203</td>\n",
       "      <td>7.0</td>\n",
       "      <td>2.0</td>\n",
       "    </tr>\n",
       "    <tr>\n",
       "      <th>186</th>\n",
       "      <td>3308110033</td>\n",
       "      <td>6.0</td>\n",
       "      <td>58.0</td>\n",
       "      <td>7.0</td>\n",
       "      <td>6.0</td>\n",
       "      <td>6.928203</td>\n",
       "      <td>7.0</td>\n",
       "      <td>2.0</td>\n",
       "    </tr>\n",
       "    <tr>\n",
       "      <th>...</th>\n",
       "      <td>...</td>\n",
       "      <td>...</td>\n",
       "      <td>...</td>\n",
       "      <td>...</td>\n",
       "      <td>...</td>\n",
       "      <td>...</td>\n",
       "      <td>...</td>\n",
       "      <td>...</td>\n",
       "    </tr>\n",
       "    <tr>\n",
       "      <th>54283</th>\n",
       "      <td>821110045</td>\n",
       "      <td>7.0</td>\n",
       "      <td>188.0</td>\n",
       "      <td>7.0</td>\n",
       "      <td>6.0</td>\n",
       "      <td>6.928203</td>\n",
       "      <td>7.0</td>\n",
       "      <td>2.0</td>\n",
       "    </tr>\n",
       "    <tr>\n",
       "      <th>54287</th>\n",
       "      <td>821110045</td>\n",
       "      <td>5.0</td>\n",
       "      <td>136.0</td>\n",
       "      <td>7.0</td>\n",
       "      <td>6.0</td>\n",
       "      <td>6.928203</td>\n",
       "      <td>7.0</td>\n",
       "      <td>2.0</td>\n",
       "    </tr>\n",
       "    <tr>\n",
       "      <th>54290</th>\n",
       "      <td>821110045</td>\n",
       "      <td>6.0</td>\n",
       "      <td>108.0</td>\n",
       "      <td>7.0</td>\n",
       "      <td>6.0</td>\n",
       "      <td>6.928203</td>\n",
       "      <td>7.0</td>\n",
       "      <td>2.0</td>\n",
       "    </tr>\n",
       "    <tr>\n",
       "      <th>54293</th>\n",
       "      <td>821110045</td>\n",
       "      <td>3.0</td>\n",
       "      <td>85.0</td>\n",
       "      <td>7.0</td>\n",
       "      <td>6.0</td>\n",
       "      <td>6.928203</td>\n",
       "      <td>7.0</td>\n",
       "      <td>2.0</td>\n",
       "    </tr>\n",
       "    <tr>\n",
       "      <th>54294</th>\n",
       "      <td>821110045</td>\n",
       "      <td>5.0</td>\n",
       "      <td>58.0</td>\n",
       "      <td>7.0</td>\n",
       "      <td>6.0</td>\n",
       "      <td>6.928203</td>\n",
       "      <td>7.0</td>\n",
       "      <td>2.0</td>\n",
       "    </tr>\n",
       "    <tr>\n",
       "      <th>54296</th>\n",
       "      <td>821110045</td>\n",
       "      <td>4.0</td>\n",
       "      <td>56.0</td>\n",
       "      <td>7.0</td>\n",
       "      <td>6.0</td>\n",
       "      <td>6.928203</td>\n",
       "      <td>7.0</td>\n",
       "      <td>2.0</td>\n",
       "    </tr>\n",
       "    <tr>\n",
       "      <th>54297</th>\n",
       "      <td>821110045</td>\n",
       "      <td>6.0</td>\n",
       "      <td>51.0</td>\n",
       "      <td>7.0</td>\n",
       "      <td>6.0</td>\n",
       "      <td>6.928203</td>\n",
       "      <td>7.0</td>\n",
       "      <td>2.0</td>\n",
       "    </tr>\n",
       "    <tr>\n",
       "      <th>54298</th>\n",
       "      <td>821110045</td>\n",
       "      <td>6.0</td>\n",
       "      <td>52.0</td>\n",
       "      <td>7.0</td>\n",
       "      <td>6.0</td>\n",
       "      <td>6.928203</td>\n",
       "      <td>7.0</td>\n",
       "      <td>2.0</td>\n",
       "    </tr>\n",
       "    <tr>\n",
       "      <th>54299</th>\n",
       "      <td>821110045</td>\n",
       "      <td>4.0</td>\n",
       "      <td>51.0</td>\n",
       "      <td>7.0</td>\n",
       "      <td>6.0</td>\n",
       "      <td>6.928203</td>\n",
       "      <td>7.0</td>\n",
       "      <td>2.0</td>\n",
       "    </tr>\n",
       "    <tr>\n",
       "      <th>54300</th>\n",
       "      <td>821110045</td>\n",
       "      <td>2.0</td>\n",
       "      <td>51.0</td>\n",
       "      <td>7.0</td>\n",
       "      <td>6.0</td>\n",
       "      <td>6.928203</td>\n",
       "      <td>7.0</td>\n",
       "      <td>2.0</td>\n",
       "    </tr>\n",
       "    <tr>\n",
       "      <th>54302</th>\n",
       "      <td>821110045</td>\n",
       "      <td>2.0</td>\n",
       "      <td>51.0</td>\n",
       "      <td>7.0</td>\n",
       "      <td>6.0</td>\n",
       "      <td>6.928203</td>\n",
       "      <td>7.0</td>\n",
       "      <td>2.0</td>\n",
       "    </tr>\n",
       "    <tr>\n",
       "      <th>54303</th>\n",
       "      <td>821110045</td>\n",
       "      <td>2.0</td>\n",
       "      <td>51.0</td>\n",
       "      <td>7.0</td>\n",
       "      <td>6.0</td>\n",
       "      <td>6.928203</td>\n",
       "      <td>7.0</td>\n",
       "      <td>2.0</td>\n",
       "    </tr>\n",
       "    <tr>\n",
       "      <th>54304</th>\n",
       "      <td>821110045</td>\n",
       "      <td>6.0</td>\n",
       "      <td>35.0</td>\n",
       "      <td>7.0</td>\n",
       "      <td>6.0</td>\n",
       "      <td>6.928203</td>\n",
       "      <td>7.0</td>\n",
       "      <td>2.0</td>\n",
       "    </tr>\n",
       "    <tr>\n",
       "      <th>54311</th>\n",
       "      <td>3514110001</td>\n",
       "      <td>7.0</td>\n",
       "      <td>96.0</td>\n",
       "      <td>7.0</td>\n",
       "      <td>6.0</td>\n",
       "      <td>6.928203</td>\n",
       "      <td>7.0</td>\n",
       "      <td>2.0</td>\n",
       "    </tr>\n",
       "    <tr>\n",
       "      <th>54312</th>\n",
       "      <td>3514110001</td>\n",
       "      <td>4.0</td>\n",
       "      <td>86.0</td>\n",
       "      <td>7.0</td>\n",
       "      <td>6.0</td>\n",
       "      <td>6.928203</td>\n",
       "      <td>7.0</td>\n",
       "      <td>2.0</td>\n",
       "    </tr>\n",
       "    <tr>\n",
       "      <th>54313</th>\n",
       "      <td>3514110001</td>\n",
       "      <td>5.0</td>\n",
       "      <td>85.0</td>\n",
       "      <td>7.0</td>\n",
       "      <td>6.0</td>\n",
       "      <td>6.928203</td>\n",
       "      <td>7.0</td>\n",
       "      <td>2.0</td>\n",
       "    </tr>\n",
       "    <tr>\n",
       "      <th>54316</th>\n",
       "      <td>3514110001</td>\n",
       "      <td>5.0</td>\n",
       "      <td>79.0</td>\n",
       "      <td>7.0</td>\n",
       "      <td>6.0</td>\n",
       "      <td>6.928203</td>\n",
       "      <td>7.0</td>\n",
       "      <td>2.0</td>\n",
       "    </tr>\n",
       "    <tr>\n",
       "      <th>54320</th>\n",
       "      <td>3514110001</td>\n",
       "      <td>1.0</td>\n",
       "      <td>80.0</td>\n",
       "      <td>7.0</td>\n",
       "      <td>6.0</td>\n",
       "      <td>6.928203</td>\n",
       "      <td>7.0</td>\n",
       "      <td>2.0</td>\n",
       "    </tr>\n",
       "    <tr>\n",
       "      <th>54323</th>\n",
       "      <td>818110006</td>\n",
       "      <td>6.0</td>\n",
       "      <td>87.0</td>\n",
       "      <td>7.0</td>\n",
       "      <td>6.0</td>\n",
       "      <td>6.928203</td>\n",
       "      <td>7.0</td>\n",
       "      <td>2.0</td>\n",
       "    </tr>\n",
       "    <tr>\n",
       "      <th>54324</th>\n",
       "      <td>818110006</td>\n",
       "      <td>6.0</td>\n",
       "      <td>79.0</td>\n",
       "      <td>7.0</td>\n",
       "      <td>6.0</td>\n",
       "      <td>6.928203</td>\n",
       "      <td>7.0</td>\n",
       "      <td>2.0</td>\n",
       "    </tr>\n",
       "    <tr>\n",
       "      <th>54330</th>\n",
       "      <td>3308110018</td>\n",
       "      <td>3.0</td>\n",
       "      <td>74.0</td>\n",
       "      <td>7.0</td>\n",
       "      <td>6.0</td>\n",
       "      <td>6.928203</td>\n",
       "      <td>7.0</td>\n",
       "      <td>2.0</td>\n",
       "    </tr>\n",
       "    <tr>\n",
       "      <th>54334</th>\n",
       "      <td>3308110018</td>\n",
       "      <td>2.0</td>\n",
       "      <td>66.0</td>\n",
       "      <td>7.0</td>\n",
       "      <td>6.0</td>\n",
       "      <td>6.928203</td>\n",
       "      <td>7.0</td>\n",
       "      <td>2.0</td>\n",
       "    </tr>\n",
       "    <tr>\n",
       "      <th>54336</th>\n",
       "      <td>3306110011</td>\n",
       "      <td>6.0</td>\n",
       "      <td>66.0</td>\n",
       "      <td>7.0</td>\n",
       "      <td>6.0</td>\n",
       "      <td>6.928203</td>\n",
       "      <td>7.0</td>\n",
       "      <td>2.0</td>\n",
       "    </tr>\n",
       "    <tr>\n",
       "      <th>54344</th>\n",
       "      <td>3306110011</td>\n",
       "      <td>6.0</td>\n",
       "      <td>55.0</td>\n",
       "      <td>7.0</td>\n",
       "      <td>6.0</td>\n",
       "      <td>6.928203</td>\n",
       "      <td>7.0</td>\n",
       "      <td>2.0</td>\n",
       "    </tr>\n",
       "    <tr>\n",
       "      <th>54345</th>\n",
       "      <td>3306110011</td>\n",
       "      <td>1.0</td>\n",
       "      <td>54.0</td>\n",
       "      <td>7.0</td>\n",
       "      <td>6.0</td>\n",
       "      <td>6.928203</td>\n",
       "      <td>7.0</td>\n",
       "      <td>2.0</td>\n",
       "    </tr>\n",
       "    <tr>\n",
       "      <th>54346</th>\n",
       "      <td>3306110017</td>\n",
       "      <td>6.0</td>\n",
       "      <td>74.0</td>\n",
       "      <td>7.0</td>\n",
       "      <td>6.0</td>\n",
       "      <td>6.928203</td>\n",
       "      <td>7.0</td>\n",
       "      <td>2.0</td>\n",
       "    </tr>\n",
       "    <tr>\n",
       "      <th>54348</th>\n",
       "      <td>3306110017</td>\n",
       "      <td>2.0</td>\n",
       "      <td>88.0</td>\n",
       "      <td>7.0</td>\n",
       "      <td>6.0</td>\n",
       "      <td>6.928203</td>\n",
       "      <td>7.0</td>\n",
       "      <td>2.0</td>\n",
       "    </tr>\n",
       "    <tr>\n",
       "      <th>54349</th>\n",
       "      <td>3306110017</td>\n",
       "      <td>7.0</td>\n",
       "      <td>91.0</td>\n",
       "      <td>7.0</td>\n",
       "      <td>6.0</td>\n",
       "      <td>6.928203</td>\n",
       "      <td>7.0</td>\n",
       "      <td>2.0</td>\n",
       "    </tr>\n",
       "    <tr>\n",
       "      <th>54350</th>\n",
       "      <td>3306110017</td>\n",
       "      <td>3.0</td>\n",
       "      <td>61.0</td>\n",
       "      <td>7.0</td>\n",
       "      <td>6.0</td>\n",
       "      <td>6.928203</td>\n",
       "      <td>7.0</td>\n",
       "      <td>2.0</td>\n",
       "    </tr>\n",
       "    <tr>\n",
       "      <th>54352</th>\n",
       "      <td>3306110017</td>\n",
       "      <td>2.0</td>\n",
       "      <td>50.0</td>\n",
       "      <td>7.0</td>\n",
       "      <td>6.0</td>\n",
       "      <td>6.928203</td>\n",
       "      <td>7.0</td>\n",
       "      <td>2.0</td>\n",
       "    </tr>\n",
       "  </tbody>\n",
       "</table>\n",
       "<p>20805 rows × 8 columns</p>\n",
       "</div>"
      ],
      "text/plain": [
       "           siteid  amar    beg  median_amar  mad_amar  mad_amar2  median  \\\n",
       "20     3308110010   6.0   71.0          7.0       6.0   6.928203     7.0   \n",
       "37     3308110010   0.0  125.0          7.0       6.0   6.928203     7.0   \n",
       "38     3308110010   0.0  125.0          7.0       6.0   6.928203     7.0   \n",
       "43     3308110010   0.0  125.0          7.0       6.0   6.928203     7.0   \n",
       "44     3308110010   0.0  125.0          7.0       6.0   6.928203     7.0   \n",
       "61     3308110010   6.0  134.0          7.0       6.0   6.928203     7.0   \n",
       "62     3308110010   5.0  109.0          7.0       6.0   6.928203     7.0   \n",
       "63     3308110010   7.0   86.0          7.0       6.0   6.928203     7.0   \n",
       "65     3308110010   6.0  134.0          7.0       6.0   6.928203     7.0   \n",
       "66     3308110010   5.0  109.0          7.0       6.0   6.928203     7.0   \n",
       "67     3308110010   7.0   86.0          7.0       6.0   6.928203     7.0   \n",
       "68     3308110010   5.0   71.0          7.0       6.0   6.928203     7.0   \n",
       "70     3308110010   5.0   72.0          7.0       6.0   6.928203     7.0   \n",
       "71     3308110010   4.0   70.0          7.0       6.0   6.928203     7.0   \n",
       "76     3308110010   6.0   71.0          7.0       6.0   6.928203     7.0   \n",
       "81     3308110010   7.0   79.0          7.0       6.0   6.928203     7.0   \n",
       "84     3308110010   7.0   79.0          7.0       6.0   6.928203     7.0   \n",
       "97     3308110010   7.0   79.0          7.0       6.0   6.928203     7.0   \n",
       "116    3304110025   0.0   68.0          7.0       6.0   6.928203     7.0   \n",
       "120    3304110025   0.0   91.0          7.0       6.0   6.928203     7.0   \n",
       "127    3304110025   0.0  105.0          7.0       6.0   6.928203     7.0   \n",
       "133    3304110025   0.0  105.0          7.0       6.0   6.928203     7.0   \n",
       "139    3304110025   0.0  101.0          7.0       6.0   6.928203     7.0   \n",
       "141    3304110025   0.0  101.0          7.0       6.0   6.928203     7.0   \n",
       "158    3304110025   5.0   93.0          7.0       6.0   6.928203     7.0   \n",
       "174    3304110025   0.0   92.0          7.0       6.0   6.928203     7.0   \n",
       "180    3304110025   6.0   92.0          7.0       6.0   6.928203     7.0   \n",
       "184    3304110025   7.0   62.0          7.0       6.0   6.928203     7.0   \n",
       "185    3304110025   0.0   65.0          7.0       6.0   6.928203     7.0   \n",
       "186    3308110033   6.0   58.0          7.0       6.0   6.928203     7.0   \n",
       "...           ...   ...    ...          ...       ...        ...     ...   \n",
       "54283   821110045   7.0  188.0          7.0       6.0   6.928203     7.0   \n",
       "54287   821110045   5.0  136.0          7.0       6.0   6.928203     7.0   \n",
       "54290   821110045   6.0  108.0          7.0       6.0   6.928203     7.0   \n",
       "54293   821110045   3.0   85.0          7.0       6.0   6.928203     7.0   \n",
       "54294   821110045   5.0   58.0          7.0       6.0   6.928203     7.0   \n",
       "54296   821110045   4.0   56.0          7.0       6.0   6.928203     7.0   \n",
       "54297   821110045   6.0   51.0          7.0       6.0   6.928203     7.0   \n",
       "54298   821110045   6.0   52.0          7.0       6.0   6.928203     7.0   \n",
       "54299   821110045   4.0   51.0          7.0       6.0   6.928203     7.0   \n",
       "54300   821110045   2.0   51.0          7.0       6.0   6.928203     7.0   \n",
       "54302   821110045   2.0   51.0          7.0       6.0   6.928203     7.0   \n",
       "54303   821110045   2.0   51.0          7.0       6.0   6.928203     7.0   \n",
       "54304   821110045   6.0   35.0          7.0       6.0   6.928203     7.0   \n",
       "54311  3514110001   7.0   96.0          7.0       6.0   6.928203     7.0   \n",
       "54312  3514110001   4.0   86.0          7.0       6.0   6.928203     7.0   \n",
       "54313  3514110001   5.0   85.0          7.0       6.0   6.928203     7.0   \n",
       "54316  3514110001   5.0   79.0          7.0       6.0   6.928203     7.0   \n",
       "54320  3514110001   1.0   80.0          7.0       6.0   6.928203     7.0   \n",
       "54323   818110006   6.0   87.0          7.0       6.0   6.928203     7.0   \n",
       "54324   818110006   6.0   79.0          7.0       6.0   6.928203     7.0   \n",
       "54330  3308110018   3.0   74.0          7.0       6.0   6.928203     7.0   \n",
       "54334  3308110018   2.0   66.0          7.0       6.0   6.928203     7.0   \n",
       "54336  3306110011   6.0   66.0          7.0       6.0   6.928203     7.0   \n",
       "54344  3306110011   6.0   55.0          7.0       6.0   6.928203     7.0   \n",
       "54345  3306110011   1.0   54.0          7.0       6.0   6.928203     7.0   \n",
       "54346  3306110017   6.0   74.0          7.0       6.0   6.928203     7.0   \n",
       "54348  3306110017   2.0   88.0          7.0       6.0   6.928203     7.0   \n",
       "54349  3306110017   7.0   91.0          7.0       6.0   6.928203     7.0   \n",
       "54350  3306110017   3.0   61.0          7.0       6.0   6.928203     7.0   \n",
       "54352  3306110017   2.0   50.0          7.0       6.0   6.928203     7.0   \n",
       "\n",
       "       left_mad  \n",
       "20          2.0  \n",
       "37          2.0  \n",
       "38          2.0  \n",
       "43          2.0  \n",
       "44          2.0  \n",
       "61          2.0  \n",
       "62          2.0  \n",
       "63          2.0  \n",
       "65          2.0  \n",
       "66          2.0  \n",
       "67          2.0  \n",
       "68          2.0  \n",
       "70          2.0  \n",
       "71          2.0  \n",
       "76          2.0  \n",
       "81          2.0  \n",
       "84          2.0  \n",
       "97          2.0  \n",
       "116         2.0  \n",
       "120         2.0  \n",
       "127         2.0  \n",
       "133         2.0  \n",
       "139         2.0  \n",
       "141         2.0  \n",
       "158         2.0  \n",
       "174         2.0  \n",
       "180         2.0  \n",
       "184         2.0  \n",
       "185         2.0  \n",
       "186         2.0  \n",
       "...         ...  \n",
       "54283       2.0  \n",
       "54287       2.0  \n",
       "54290       2.0  \n",
       "54293       2.0  \n",
       "54294       2.0  \n",
       "54296       2.0  \n",
       "54297       2.0  \n",
       "54298       2.0  \n",
       "54299       2.0  \n",
       "54300       2.0  \n",
       "54302       2.0  \n",
       "54303       2.0  \n",
       "54304       2.0  \n",
       "54311       2.0  \n",
       "54312       2.0  \n",
       "54313       2.0  \n",
       "54316       2.0  \n",
       "54320       2.0  \n",
       "54323       2.0  \n",
       "54324       2.0  \n",
       "54330       2.0  \n",
       "54334       2.0  \n",
       "54336       2.0  \n",
       "54344       2.0  \n",
       "54345       2.0  \n",
       "54346       2.0  \n",
       "54348       2.0  \n",
       "54349       2.0  \n",
       "54350       2.0  \n",
       "54352       2.0  \n",
       "\n",
       "[20805 rows x 8 columns]"
      ]
     },
     "execution_count": 136,
     "metadata": {},
     "output_type": "execute_result"
    }
   ],
   "source": [
    "# x = remove Nan\n",
    "df['median'] = df.amar.median()\n",
    "\n",
    "# np.where\n",
    "\n",
    "# filter entire dataset\n",
    "left = df.loc[(df[\"amar\"] <= df[\"median\"])]\n",
    "right = df.loc[(df[\"amar\"] > df[\"median\"])]\n",
    "\n",
    "left['left_mad'] = (abs(left.amar - left.amar.median())).median()\n",
    "right['right_mad'] = (abs(right.amar - right.amar.median())).median()\n",
    "\n",
    "left = 2\n",
    "right = 6\n"
   ]
  },
  {
   "cell_type": "code",
   "execution_count": null,
   "metadata": {
    "collapsed": true
   },
   "outputs": [],
   "source": [
    "df.z_amar = (df.amar - df.amar.median()) / (abs(df.amar - df.amar.median())).median()\n",
    "\n",
    "# these are individual values\n",
    "print df.z_amar\n",
    "print mad_amar"
   ]
  },
  {
   "cell_type": "code",
   "execution_count": 136,
   "metadata": {
    "collapsed": false
   },
   "outputs": [
    {
     "data": {
      "text/plain": [
       "(array([    0.,     0.,     0.,     0.,     0.,     0.,     0.,     0.,\n",
       "            0.,     0.,     0.,     0.,     0.,     0.,     0.,     0.,\n",
       "            0.,  8183.,  5991.,  7123.,  5131.,  4207.,  3083.,  2372.,\n",
       "         1909.,  1367.,  1087.,   820.,   657.,   548.,   466.,   401.,\n",
       "          312.,   285.,   233.,   188.,   175.,   133.,   100.,   143.]),\n",
       " array([-10. ,  -9.5,  -9. ,  -8.5,  -8. ,  -7.5,  -7. ,  -6.5,  -6. ,\n",
       "         -5.5,  -5. ,  -4.5,  -4. ,  -3.5,  -3. ,  -2.5,  -2. ,  -1.5,\n",
       "         -1. ,  -0.5,   0. ,   0.5,   1. ,   1.5,   2. ,   2.5,   3. ,\n",
       "          3.5,   4. ,   4.5,   5. ,   5.5,   6. ,   6.5,   7. ,   7.5,\n",
       "          8. ,   8.5,   9. ,   9.5,  10. ]),\n",
       " <a list of 40 Patch objects>)"
      ]
     },
     "execution_count": 136,
     "metadata": {},
     "output_type": "execute_result"
    },
    {
     "data": {
      "image/png": "[encoded data removed]",
      "text/plain": [
       "<matplotlib.figure.Figure at 0xf444390>"
      ]
     },
     "metadata": {},
     "output_type": "display_data"
    }
   ],
   "source": [
    "# df.boxplot(column='z_amar')\n",
    "plt.hist(df.z_amar, bins = 40, range = (-10,10))\n",
    "\n",
    "# There are  + and - values"
   ]
  },
  {
   "cell_type": "code",
   "execution_count": null,
   "metadata": {
    "collapsed": true
   },
   "outputs": [],
   "source": [
    "# BEG Number of cases under treatment\n",
    "plt.hist(df.beg, bins = 40, range = (df.beg.min(),1999))\n",
    "\n",
    "# There are serious errors in beg\n",
    "# Needs greater analysis"
   ]
  },
  {
   "cell_type": "code",
   "execution_count": null,
   "metadata": {
    "collapsed": true
   },
   "outputs": [],
   "source": [
    "print df.beg.quantile([0.25,0.75])\n",
    "# Quantiles of each object."
   ]
  },
  {
   "cell_type": "code",
   "execution_count": 138,
   "metadata": {
    "collapsed": false
   },
   "outputs": [
    {
     "name": "stdout",
     "output_type": "stream",
     "text": [
      "-0.433333333333\n"
     ]
    }
   ],
   "source": [
    "print -1.3 / 3"
   ]
  },
  {
   "cell_type": "code",
   "execution_count": null,
   "metadata": {
    "collapsed": true
   },
   "outputs": [],
   "source": [
    "# %quickref\n",
    "# help\n",
    "help(datetime)"
   ]
  },
  {
   "cell_type": "code",
   "execution_count": null,
   "metadata": {
    "collapsed": true
   },
   "outputs": [],
   "source": [
    "  #Define min and max values:\n",
    "  minval = col.min()\n",
    "  maxval = col.max()\n",
    "\n",
    "  #create list by adding min and max to cut_points\n",
    "  break_points = [minval] + cut_points + [maxval]\n",
    "\n",
    "  #if no labels provided, use default labels 0 ... (n-1)\n",
    "  if not labels:\n",
    "    labels = range(len(cut_points)+1)\n",
    "\n",
    "  #Binning using cut function of pandas\n",
    "  colBin = pd.cut(col,bins=break_points,labels=labels,include_lowest=True)\n",
    "  return colBin\n",
    "\n",
    "#Binning age:\n",
    "cut_points = [90,140,190]\n",
    "labels = [\"low\",\"medium\",\"high\",\"very high\"]\n",
    "data[\"LoanAmount_Bin\"] = binning(data[\"LoanAmount\"], cut_points, labels)\n",
    "print pd.value_counts(data[\"LoanAmount_Bin\"], sort=False)"
   ]
  }
 ],
 "metadata": {
  "kernelspec": {
   "display_name": "Python 2",
   "language": "python",
   "name": "python2"
  },
  "language_info": {
   "codemirror_mode": {
    "name": "ipython",
    "version": 2
   },
   "file_extension": ".py",
   "mimetype": "text/x-python",
   "name": "python",
   "nbconvert_exporter": "python",
   "pygments_lexer": "ipython2",
   "version": "2.7.13"
  }
 },
 "nbformat": 4,
 "nbformat_minor": 2
}
