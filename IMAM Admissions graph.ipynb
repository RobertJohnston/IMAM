{
 "cells": [
  {
   "cell_type": "code",
   "execution_count": 15,
   "metadata": {
    "collapsed": false,
    "deletable": true,
    "editable": true
   },
   "outputs": [],
   "source": [
    "%matplotlib inline  \n",
    "# !pip install matplotlib\n",
    "\n",
    "import pandas as pd\n",
    "import pandas_highcharts.core\n",
    "from sqlalchemy import create_engine\n",
    "import psycopg2\n",
    "import matplotlib.pyplot \n",
    "\n",
    "\n",
    "\n",
    "import os\n",
    "\n",
    "\n",
    "os.environ.setdefault(\"DJANGO_SETTINGS_MODULE\", \"IMAM.settings\")\n",
    "\n",
    "from django.conf import settings\n",
    "from home.management.commands.load_data import rename_cols, assign_state_lga_num\n",
    "\n",
    "import django\n",
    "django.setup()\n",
    "\n",
    "from home.models import Site"
   ]
  },
  {
   "cell_type": "code",
   "execution_count": 16,
   "metadata": {
    "collapsed": false,
    "deletable": true,
    "editable": true
   },
   "outputs": [],
   "source": [
    "engine = create_engine(\n",
    "    'postgresql://{USER}:{PASSWORD}@{HOST}:{PORT}/{NAME}'.format(**settings.DATABASES['default']))\n",
    "df = pd.read_sql_query(\"select * from program;\", con=engine)"
   ]
  },
  {
   "cell_type": "code",
   "execution_count": 17,
   "metadata": {
    "collapsed": false,
    "deletable": true,
    "editable": true
   },
   "outputs": [
    {
     "data": {
      "text/plain": [
       "array([u'42', u'26', u'23', u'22', u'24', u'25', u'27', u'28', u'29',\n",
       "       u'30', u'31', u'32', u'33', u'34', u'35', u'36', u'37', u'38',\n",
       "       u'39', u'40', u'41', u'43', u'44', u'45', u'46', u'47', u'48',\n",
       "       u'49', u'50', u'51', u'52', u'1', u'2', u'3', u'4', u'5', u'6',\n",
       "       u'Pro', u'PRO', u'53', u'54', u'14', u'P', u'Reg', u'Y', u'18',\n",
       "       u'11', u'21', u'20', u'19', u'7', u'82', u'Same', u'REGISTRATION',\n",
       "       u'70', u'15', u'10',\n",
       "       u'No peament for rapid pro treaning no report.',\n",
       "       u'You have send SMS training  allaunces to anyone except me', u'N',\n",
       "       u'No', u'.32', u'197',\n",
       "       u'You a not sending data with pay for the traning',\n",
       "       u'I WILL NOT SEND REPORT UNTILL OUR TRENING MONEY HAS PAID', u'Pso',\n",
       "       u'222', u'56', u'1.5', u'9', u'YES', u'0', u'Week', u'215', u'Yes',\n",
       "       u'SaAM', u'NO', u'STO', u'Death', u'S', u'8', u'Sto', u'WEEK49',\n",
       "       None, u'252', u'N ', u'PRO   ', u'Valid', u'y',\n",
       "       u'Why charging my report', u'.31', u'84', u'Need to change site ID',\n",
       "       u'16', u'.42', u'120', u'PR0', u'WN44', u'12', u'Stocks  Data',\n",
       "       u'Otp Weekly Report', u'Sidte Id  35081', u'Otp',\n",
       "       u'Name Auwal Dauda Prn  Otp Sc Name Teteba Site Id 3508',\n",
       "       u'TRANSFER OUT IS 0', u'Week31',\n",
       "       u'Sorry I did not understand WK39 TOTAL START OF WK118;OTHER0;FROM OTP0;NEWADMISSIONS1;CURED14;DEFAULTER0;RE_COVERED0;DISCHARGES14;. Please enter refer to your week number calendar and enter the week number.',\n",
       "       u'Konduga mch', u'101', u'pro', u'Scr.wk49', u'217110028', u'85',\n",
       "       u'ACEO 1234567890', u'WEEK2 2017', u'13', u'Wk1', u'REG', u'Wk44',\n",
       "       u'Acello', u'PRO ', u'wEEK44', u'WEEK38', u'NMP', u'SALMAH  AHMED',\n",
       "       u'WEEK  ONE ', u'OTP', u'WEEK37', u'Wk37', u'Wk37  sam', u'Wk41',\n",
       "       u'Wk45', u'Wk46', u'Wk k46', u'Wk47', u'702', u'5.1', u'52.1',\n",
       "       u'235', u'748', u'Pro ', u'Week 54', u'SCR', u'137',\n",
       "       u'Welcome to RapidPro. Enter PRO to send Programme data, STO to send Stock data, SCR to send Screening data or REG to register.',\n",
       "       u'\\n\\n', u'Im', u'September to October is a monthly report', u'63',\n",
       "       u'198', u'HW ', u'PRO  TO  STO', u'102', u'PRO.',\n",
       "       u'Sir I Mean That I Want Send My Data Report On Week Number Fourty You Send To Me Faile For Several Times I Need To Correct Where Imade Mistake Thank You Sir',\n",
       "       u'59', u'WK  !', u'O', u'PRO STO', u'91', u'72221', u'W53', u'W1',\n",
       "       u'Week1', u'W2', u'W2 2017', u'Scr', u'17', u'74', u'PRO WEEK4',\n",
       "       u'WK2', u'AIsha Mai Kano'], dtype=object)"
      ]
     },
     "execution_count": 17,
     "metadata": {},
     "output_type": "execute_result"
    }
   ],
   "source": [
    "df.weeknum.unique()"
   ]
  },
  {
   "cell_type": "code",
   "execution_count": 18,
   "metadata": {
    "collapsed": true,
    "deletable": true,
    "editable": true
   },
   "outputs": [],
   "source": [
    "# Convert to int\n",
    "df['amar'] = pd.to_numeric(df.amar, errors='coerce')\n",
    "df['weeknum'] = pd.to_numeric(df.weeknum, errors='coerce')"
   ]
  },
  {
   "cell_type": "code",
   "execution_count": 19,
   "metadata": {
    "collapsed": false,
    "deletable": true,
    "editable": true,
    "scrolled": false
   },
   "outputs": [],
   "source": [
    "# df_filtered\n",
    "# remove crap data\n",
    "df_filtered = df.query('weeknum==weeknum').query('0.99<weeknum<53')"
   ]
  },
  {
   "cell_type": "code",
   "execution_count": 20,
   "metadata": {
    "collapsed": false,
    "deletable": true,
    "editable": true,
    "scrolled": true
   },
   "outputs": [
    {
     "data": {
      "text/plain": [
       "array([ 42. ,  26. ,  23. ,  22. ,  24. ,  25. ,  27. ,  28. ,  29. ,\n",
       "        30. ,  31. ,  32. ,  33. ,  34. ,  35. ,  36. ,  37. ,  38. ,\n",
       "        39. ,  40. ,  41. ,  43. ,  44. ,  45. ,  46. ,  47. ,  48. ,\n",
       "        49. ,  50. ,  51. ,  52. ,   1. ,   2. ,   3. ,   4. ,   5. ,\n",
       "         6. ,  14. ,  18. ,  11. ,  21. ,  20. ,  19. ,   7. ,  15. ,\n",
       "        10. ,   1.5,   9. ,   8. ,  16. ,  12. ,  13. ,   5.1,  52.1,  17. ])"
      ]
     },
     "execution_count": 20,
     "metadata": {},
     "output_type": "execute_result"
    }
   ],
   "source": [
    "df_filtered.weeknum.unique()\n",
    "# remove decimals points"
   ]
  },
  {
   "cell_type": "code",
   "execution_count": 21,
   "metadata": {
    "collapsed": true,
    "deletable": true,
    "editable": true
   },
   "outputs": [],
   "source": [
    "df_filtered['weeknum'] = df_filtered.weeknum.astype('int')"
   ]
  },
  {
   "cell_type": "code",
   "execution_count": 22,
   "metadata": {
    "collapsed": false,
    "deletable": true,
    "editable": true
   },
   "outputs": [
    {
     "data": {
      "text/plain": [
       "array([42, 26, 23, 22, 24, 25, 27, 28, 29, 30, 31, 32, 33, 34, 35, 36, 37,\n",
       "       38, 39, 40, 41, 43, 44, 45, 46, 47, 48, 49, 50, 51, 52,  1,  2,  3,\n",
       "        4,  5,  6, 14, 18, 11, 21, 20, 19,  7, 15, 10,  9,  8, 16, 12, 13,\n",
       "       17])"
      ]
     },
     "execution_count": 22,
     "metadata": {},
     "output_type": "execute_result"
    }
   ],
   "source": [
    "df_filtered.weeknum.unique()"
   ]
  },
  {
   "cell_type": "code",
   "execution_count": 23,
   "metadata": {
    "collapsed": false,
    "deletable": true,
    "editable": true
   },
   "outputs": [
    {
     "data": {
      "text/plain": [
       "0         NaN\n",
       "1         NaN\n",
       "2        10.0\n",
       "3         8.0\n",
       "4        13.0\n",
       "5         8.0\n",
       "6        14.0\n",
       "7        13.0\n",
       "8        13.0\n",
       "9        17.0\n",
       "10        8.0\n",
       "11       14.0\n",
       "12       13.0\n",
       "13       17.0\n",
       "14        6.0\n",
       "15       14.0\n",
       "16       14.0\n",
       "17       14.0\n",
       "18       20.0\n",
       "19       10.0\n",
       "20       15.0\n",
       "21        NaN\n",
       "22       22.0\n",
       "23       27.0\n",
       "24       20.0\n",
       "25       22.0\n",
       "26       27.0\n",
       "27       20.0\n",
       "28       22.0\n",
       "29       14.0\n",
       "         ... \n",
       "31285     5.0\n",
       "31286     6.0\n",
       "31287     5.0\n",
       "31288    10.0\n",
       "31289     4.0\n",
       "31290     8.0\n",
       "31291    17.0\n",
       "31292     2.0\n",
       "31293    10.0\n",
       "31294     7.0\n",
       "31295    11.0\n",
       "31296     0.0\n",
       "31297     2.0\n",
       "31298     7.0\n",
       "31299     5.0\n",
       "31300     3.0\n",
       "31301     NaN\n",
       "31302     7.0\n",
       "31303     7.0\n",
       "31304    10.0\n",
       "31305     6.0\n",
       "31306     5.0\n",
       "31307    68.0\n",
       "31308    15.0\n",
       "31309     5.0\n",
       "31310     5.0\n",
       "31311    19.0\n",
       "31312    15.0\n",
       "31313    12.0\n",
       "31314    12.0\n",
       "Name: amar, dtype: float64"
      ]
     },
     "execution_count": 23,
     "metadata": {},
     "output_type": "execute_result"
    }
   ],
   "source": [
    "df_filtered[\"amar\"]"
   ]
  },
  {
   "cell_type": "code",
   "execution_count": 24,
   "metadata": {
    "collapsed": false,
    "deletable": true,
    "editable": true
   },
   "outputs": [
    {
     "data": {
      "text/plain": [
       "0         NaN\n",
       "1         NaN\n",
       "2        10.0\n",
       "3         8.0\n",
       "4        13.0\n",
       "5         8.0\n",
       "6        14.0\n",
       "7        13.0\n",
       "8        13.0\n",
       "9        17.0\n",
       "10        8.0\n",
       "11       14.0\n",
       "12       13.0\n",
       "13       17.0\n",
       "14        6.0\n",
       "15       14.0\n",
       "16       14.0\n",
       "17       14.0\n",
       "18       20.0\n",
       "19       10.0\n",
       "20       15.0\n",
       "21        NaN\n",
       "22       22.0\n",
       "23       27.0\n",
       "24       20.0\n",
       "25       22.0\n",
       "26       27.0\n",
       "27       20.0\n",
       "28       22.0\n",
       "29       14.0\n",
       "         ... \n",
       "31285     5.0\n",
       "31286     6.0\n",
       "31287     5.0\n",
       "31288    10.0\n",
       "31289     4.0\n",
       "31290     8.0\n",
       "31291    17.0\n",
       "31292     2.0\n",
       "31293    10.0\n",
       "31294     7.0\n",
       "31295    11.0\n",
       "31296     0.0\n",
       "31297     2.0\n",
       "31298     7.0\n",
       "31299     5.0\n",
       "31300     3.0\n",
       "31301     NaN\n",
       "31302     7.0\n",
       "31303     7.0\n",
       "31304    10.0\n",
       "31305     6.0\n",
       "31306     5.0\n",
       "31307    68.0\n",
       "31308    15.0\n",
       "31309     5.0\n",
       "31310     5.0\n",
       "31311    19.0\n",
       "31312    15.0\n",
       "31313    12.0\n",
       "31314    12.0\n",
       "Name: amar, dtype: float64"
      ]
     },
     "execution_count": 24,
     "metadata": {},
     "output_type": "execute_result"
    }
   ],
   "source": [
    "# with non id variables - set NaN to zero\n",
    "\n",
    "# df_filtered[\"amar\"] = df_filtered[\"amar\"].fillna((0), inplace=True)\n",
    "# sets everything to none\n",
    "\n",
    "# df[\"preTestScore\"].fillna(df[\"preTestScore\"].mean(), inplace=True)\n",
    "#  df_filtered[\"amar\"].fillna((0), inplace=True)\n",
    "\n",
    "df_filtered[\"amar\"]"
   ]
  },
  {
   "cell_type": "code",
   "execution_count": 26,
   "metadata": {
    "collapsed": false,
    "deletable": true,
    "editable": true
   },
   "outputs": [],
   "source": [
    "#df_filtered['amar'] = df_filtered.amar.astype('int')\n",
    "# cannot cast variable with NaN to int\n",
    "\n",
    "# df_filtered.sort_values(by='amar')\n"
   ]
  },
  {
   "cell_type": "code",
   "execution_count": 31,
   "metadata": {
    "collapsed": false,
    "deletable": true,
    "editable": true
   },
   "outputs": [
    {
     "name": "stdout",
     "output_type": "stream",
     "text": [
      "<class 'pandas.core.series.Series'>\n"
     ]
    }
   ],
   "source": [
    "import math\n",
    "print type(df_filtered['amar'])\n",
    "# TypeError: cannot convert the series to <type 'float'>\n",
    "# df_filtered['amar'] = math.floor(df_filtered['amar'])"
   ]
  },
  {
   "cell_type": "code",
   "execution_count": 32,
   "metadata": {
    "collapsed": false,
    "deletable": true,
    "editable": true
   },
   "outputs": [
    {
     "data": {
      "text/plain": [
       "array([             nan,   1.00000000e+01,   8.00000000e+00,\n",
       "         1.30000000e+01,   1.40000000e+01,   1.70000000e+01,\n",
       "         6.00000000e+00,   2.00000000e+01,   1.50000000e+01,\n",
       "         2.20000000e+01,   2.70000000e+01,   0.00000000e+00,\n",
       "         2.10000000e+01,   2.40000000e+01,   2.30000000e+01,\n",
       "         1.80000000e+01,   5.00000000e+00,   7.00000000e+00,\n",
       "         1.60000000e+01,   3.20000000e+01,   3.60000000e+01,\n",
       "         1.01000000e+02,   9.00000000e+00,   1.90000000e+01,\n",
       "         3.30000000e+01,   8.80000000e+01,   1.20000000e+01,\n",
       "         4.00000000e+00,   1.10000000e+01,   2.80000000e+01,\n",
       "         2.50000000e+01,   2.08000000e+02,   7.90000000e+01,\n",
       "         3.70000000e+01,   2.00000000e+00,   1.00000000e+00,\n",
       "         3.00000000e+00,   6.00000000e+01,   2.60000000e+01,\n",
       "         4.80000000e+01,   1.18000000e+02,   3.45000000e+02,\n",
       "         3.23000000e+02,   3.10000000e+01,   4.70000000e+01,\n",
       "         1.13000000e+02,   4.60000000e+01,   1.08000000e+02,\n",
       "         5.90000000e+01,   5.10000000e+01,   1.53000000e+02,\n",
       "         8.60000000e+01,   7.70000000e+01,   7.50000000e+01,\n",
       "         5.60000000e+01,   3.40000000e+01,   3.90000000e+01,\n",
       "         4.50000000e+01,   5.00000000e+01,   5.20000000e+01,\n",
       "         4.40000000e+01,   9.80000000e+01,   2.68000000e+02,\n",
       "         1.00000000e+02,   2.03000000e+02,   1.70000000e-01,\n",
       "         6.10000000e+01,   2.90000000e+01,   1.05000000e+02,\n",
       "         9.60000000e+01,   1.02000000e+02,   6.90000000e+01,\n",
       "         8.50000000e+01,   8.00000000e+01,   3.00000000e+01,\n",
       "         4.10000000e+01,   5.80000000e+01,   2.41000000e+02,\n",
       "         3.50000000e+01,   8.20000000e+01,   1.15000000e+02,\n",
       "         3.80000000e+01,   1.06000000e+02,   1.12000000e+02,\n",
       "         1.34000000e+02,   1.62000000e+02,   1.46000000e+02,\n",
       "         8.10000000e+01,   6.60000000e+01,   4.00000000e+01,\n",
       "         6.70000000e+01,   4.30000000e+01,   4.20000000e+01,\n",
       "         2.19000000e+02,   1.73000000e+02,   1.71000000e+02,\n",
       "         3.00000000e+02,   3.51000000e+02,   1.39000000e+02,\n",
       "         1.51000000e+02,   8.70000000e+01,   9.30000000e+01,\n",
       "         9.50000000e+01,   5.40000000e+01,   5.50000000e+01,\n",
       "         7.10000000e+01,   5.22000000e+02,   7.80000000e+01,\n",
       "         7.00000000e+01,   8.40000000e+01,   1.09000000e+02,\n",
       "         6.50000000e+01,   9.10000000e+01,   7.40000000e+01,\n",
       "         1.22600000e+03,   1.45000000e+03,   4.90000000e+01,\n",
       "         1.31000000e+02,   6.20000000e+01,   9.70000000e+01,\n",
       "         8.30000000e+01,   1.23000000e+02,   1.63000000e+02,\n",
       "         1.14000000e+02,   1.25000000e+02,   9.00000000e+01,\n",
       "         9.90000000e+01,   1.44000000e+02,   1.35000000e+02,\n",
       "         1.42000000e+02,   7.60000000e+01,   1.40000000e-01,\n",
       "         5.30000000e+01,   2.42000000e+02,   2.84000000e+02,\n",
       "         2.09000000e+02,   1.20000000e+02,   2.26000000e+02,\n",
       "         2.15000000e+02,   1.57000000e+02,   7.20000000e+01,\n",
       "         3.28000000e+02,   3.16000000e+02,   4.92000000e+02,\n",
       "         1.40000000e+02,   1.26000000e+02,   5.70000000e+01,\n",
       "         6.30000000e+01,   1.32000000e+02,   3.30000000e+02,\n",
       "         6.40000000e+01,   1.03000000e+02,   4.62000000e+02,\n",
       "         1.70000000e+02,   2.11000000e+02,   1.39500000e+03,\n",
       "         9.20000000e+01,   7.30000000e+01,   4.23000000e+02,\n",
       "         1.97000000e+02,   9.40000000e+01,   1.37000000e+02,\n",
       "         1.17000000e+02,   1.85000000e+02,   4.37000000e+02,\n",
       "         2.70000000e+02,   1.48000000e+02,   1.10000000e+02,\n",
       "         2.13000000e+02,   1.45000000e+02,   1.55000000e+02,\n",
       "         1.29000000e+02,   7.86000000e+02,   8.90000000e+01,\n",
       "         1.21000000e+02,   1.11000000e+02,   1.99000000e+03,\n",
       "         1.30000000e+02,   1.16000000e+02,   1.47000000e+02,\n",
       "         9.01000000e+02,   6.80000000e+01,   1.59000000e+02,\n",
       "         2.23000000e+02,   2.58000000e+02,   2.66000000e+02,\n",
       "         2.59000000e+02,   1.41000000e+02,   5.18000000e+02,\n",
       "         5.42000000e+02,   5.93000000e+02,   5.51000000e+02,\n",
       "         5.68000000e+02,   5.75000000e+02,   6.30000000e+02,\n",
       "         3.57000000e+02,   6.09000000e+02,   6.14000000e+02,\n",
       "         6.13000000e+02,   6.01000000e+02,   2.90000000e+02,\n",
       "         2.88000000e+02,   1.94300000e+03,   1.68000000e+02,\n",
       "         1.52000000e+02,   2.05000000e+02,   2.17000000e+02,\n",
       "         3.27000000e+02,   3.61000000e+02,   3.24000000e+02,\n",
       "         2.92000000e+02,   1.00000000e-01,   1.20000000e-01,\n",
       "         4.81000000e+02,   2.55400000e+03,   2.51200000e+03,\n",
       "         6.28000000e+02,   2.00000000e+02,   2.25000000e+02,\n",
       "         3.01000000e+02,   1.15100000e+03,   3.58000000e+02,\n",
       "         2.02000000e+02,   3.52000000e+02,   1.64000000e+02,\n",
       "         1.54000000e+02,   2.89000000e+02,   4.79000000e+02,\n",
       "         2.48000000e+02,   1.99000000e+02,   6.94000000e+02,\n",
       "         3.92000000e+02,   2.56000000e+02,   5.00000000e+02,\n",
       "         2.47000000e+02,   4.21000000e+02,   3.98000000e+02,\n",
       "         3.93000000e+02,   4.22000000e+02,   2.21000000e+02,\n",
       "         2.55000000e+02,   2.78000000e+02,   2.50000000e+02,\n",
       "         1.66000000e+02,   1.49000000e+02,   1.61000000e+02,\n",
       "         2.06000000e+02,   1.65000000e+02,   1.27000000e+02,\n",
       "         1.36000000e+02,   7.02000000e+02,   7.05000000e+02,\n",
       "         1.07000000e+02,   1.22000000e+02,   9.58000000e+02,\n",
       "         1.27600000e+03,   3.18000000e+02,   3.34000000e+02,\n",
       "         4.03000000e+02,   7.46000000e+02,   1.72000000e+02,\n",
       "         1.04000000e+02,   1.77000000e+02,   1.33000000e+02,\n",
       "         1.14400000e+03,   2.93000000e+02,   3.51200000e+03,\n",
       "         5.99000000e+02,   3.87000000e+02,   5.43000000e+02,\n",
       "         6.42000000e+02,   6.75000000e+02,   6.60000000e+02,\n",
       "         6.86000000e+02,   4.07000000e+02,   4.97000000e+02,\n",
       "         2.85000000e+02,   2.38000000e+02,   1.91000000e+02,\n",
       "         2.20000000e+02,   1.96000000e+02,   3.54000000e+02,\n",
       "         1.19000000e+02,   5.94000000e+02,   2.01000000e+02,\n",
       "         2.12000000e+02,   5.28000000e+02,   7.20000000e+02,\n",
       "         2.61000000e+02,   1.50000000e-01,   4.73000000e+02,\n",
       "         3.38000000e+02,   2.71000000e+02,   1.95000000e+02,\n",
       "         1.79000000e+02,   1.88000000e+02,   1.81000000e+02,\n",
       "         2.53000000e+02,   1.94000000e+02,   2.18000000e+02])"
      ]
     },
     "execution_count": 32,
     "metadata": {},
     "output_type": "execute_result"
    }
   ],
   "source": [
    "df_filtered.amar.unique()"
   ]
  },
  {
   "cell_type": "code",
   "execution_count": 33,
   "metadata": {
    "collapsed": false,
    "deletable": true,
    "editable": true
   },
   "outputs": [
    {
     "name": "stdout",
     "output_type": "stream",
     "text": [
      "<class 'pandas.core.series.Series'>\n",
      "weeknum\n",
      "1     13553.14\n",
      "2      9550.12\n",
      "3      9123.00\n",
      "4      8981.00\n",
      "5      6784.00\n",
      "6      4780.00\n",
      "7       191.00\n",
      "8       115.00\n",
      "9       160.00\n",
      "10      234.00\n",
      "11       66.00\n",
      "12        4.00\n",
      "13       25.00\n",
      "14      103.00\n",
      "15       10.00\n",
      "16       64.00\n",
      "17         NaN\n",
      "18      362.00\n",
      "19        9.00\n",
      "20       32.00\n",
      "21       18.00\n",
      "22     1754.00\n",
      "23     2121.00\n",
      "24     1840.00\n",
      "25     1663.00\n",
      "26     2075.00\n",
      "27     3676.00\n",
      "28     5145.00\n",
      "29     4657.00\n",
      "30     4633.00\n",
      "31    12803.00\n",
      "32    10547.17\n",
      "33    15004.00\n",
      "34     9599.10\n",
      "35    11392.00\n",
      "36    19455.00\n",
      "37    12216.00\n",
      "38    24700.00\n",
      "39    22140.00\n",
      "40    19912.12\n",
      "41    22253.00\n",
      "42    19093.00\n",
      "43    19037.00\n",
      "44    21710.17\n",
      "45    25103.00\n",
      "46    21048.00\n",
      "47    16145.00\n",
      "48    14561.00\n",
      "49    17445.00\n",
      "50    15500.00\n",
      "51    13284.00\n",
      "52    12868.15\n",
      "Name: amar, dtype: float64\n"
     ]
    }
   ],
   "source": [
    "df_filtered = assign_state_lga_num(df_filtered)\n",
    "adm_by_week = df_filtered['amar'].groupby(df_filtered['weeknum']).sum()\n",
    "\n",
    "print type (adm_by_week)\n",
    "print adm_by_week\n"
   ]
  },
  {
   "cell_type": "code",
   "execution_count": 34,
   "metadata": {
    "collapsed": false,
    "deletable": true,
    "editable": true
   },
   "outputs": [
    {
     "data": {
      "text/plain": [
       "<matplotlib.axes._subplots.AxesSubplot at 0x7fa2b4005050>"
      ]
     },
     "execution_count": 34,
     "metadata": {},
     "output_type": "execute_result"
    },
    {
     "data": {
      "image/png": "[encoded data removed]",
      "text/plain": [
       "<matplotlib.figure.Figure at 0x7fa2b2497790>"
      ]
     },
     "metadata": {},
     "output_type": "display_data"
    }
   ],
   "source": [
    "adm_by_week.plot()"
   ]
  },
  {
   "cell_type": "code",
   "execution_count": 35,
   "metadata": {
    "collapsed": false,
    "deletable": true,
    "editable": true
   },
   "outputs": [
    {
     "data": {
      "text/plain": [
       "array([ 4, 33, 35,  1, 36, 16,  5, 17, 18,  8,  2, 21, 20, 22, 19,  3])"
      ]
     },
     "execution_count": 35,
     "metadata": {},
     "output_type": "execute_result"
    }
   ],
   "source": [
    "# data cleaning on state num\n",
    "df_filtered['state_num'] = pd.to_numeric(df_filtered.state_num, errors='coerce')\n",
    "df_filtered = df_filtered.query('state_num==state_num').query('0<state_num<37')\n",
    "df_filtered['state_num'] = df_filtered.state_num.astype('int')\n",
    "df_filtered.state_num.unique()"
   ]
  },
  {
   "cell_type": "code",
   "execution_count": 36,
   "metadata": {
    "collapsed": false,
    "deletable": true,
    "editable": true
   },
   "outputs": [
    {
     "data": {
      "text/plain": [
       "<matplotlib.axes._subplots.AxesSubplot at 0x7fa2b42f1290>"
      ]
     },
     "execution_count": 36,
     "metadata": {},
     "output_type": "execute_result"
    },
    {
     "data": {
      "image/png": "[encoded data removed]",
      "text/plain": [
       "<matplotlib.figure.Figure at 0x7fa2baddab90>"
      ]
     },
     "metadata": {},
     "output_type": "display_data"
    }
   ],
   "source": [
    "adm_by_week = df_filtered.query('state_num==33')['amar'].groupby(df_filtered['weeknum']).sum()\n",
    "\n",
    "adm_by_week.plot()"
   ]
  },
  {
   "cell_type": "code",
   "execution_count": 44,
   "metadata": {
    "collapsed": false,
    "deletable": true,
    "editable": true
   },
   "outputs": [
    {
     "data": {
      "text/plain": [
       "<matplotlib.axes._subplots.AxesSubplot at 0x7f0c741e6810>"
      ]
     },
     "execution_count": 44,
     "metadata": {},
     "output_type": "execute_result"
    },
    {
     "data": {
      "image/png": "[encoded data removed]",
      "text/plain": [
       "<matplotlib.figure.Figure at 0x7f0c7411cbd0>"
      ]
     },
     "metadata": {},
     "output_type": "display_data"
    }
   ],
   "source": [
    "adm_by_week.hist()"
   ]
  },
  {
   "cell_type": "code",
   "execution_count": 45,
   "metadata": {
    "collapsed": false,
    "deletable": true,
    "editable": true,
    "scrolled": true
   },
   "outputs": [
    {
     "data": {
      "text/plain": [
       "<matplotlib.axes._subplots.AxesSubplot at 0x7f0c71f9a850>"
      ]
     },
     "execution_count": 45,
     "metadata": {},
     "output_type": "execute_result"
    },
    {
     "data": {
      "image/png": "[encoded data removed]",
      "text/plain": [
       "<matplotlib.figure.Figure at 0x7f0c71d36350>"
      ]
     },
     "metadata": {},
     "output_type": "display_data"
    }
   ],
   "source": [
    "adm_by_week.plot(kind=\"box\")"
   ]
  },
  {
   "cell_type": "code",
   "execution_count": 1,
   "metadata": {
    "collapsed": false,
    "deletable": true,
    "editable": true
   },
   "outputs": [],
   "source": [
    "# No longer using pandas_highcharts\n",
    "# chart = pandas_highcharts.core.serialize(adm_by_week.to_frame(), render_to='my-chart',output_type='json')\n",
    "# chart"
   ]
  },
  {
   "cell_type": "code",
   "execution_count": 17,
   "metadata": {
    "collapsed": false,
    "deletable": true,
    "editable": true
   },
   "outputs": [
    {
     "data": {
      "text/plain": [
       "True"
      ]
     },
     "execution_count": 17,
     "metadata": {},
     "output_type": "execute_result"
    }
   ],
   "source": [
    "\"12\".isdigit()"
   ]
  },
  {
   "cell_type": "code",
   "execution_count": 18,
   "metadata": {
    "collapsed": false,
    "deletable": true,
    "editable": true
   },
   "outputs": [
    {
     "data": {
      "text/plain": [
       "False"
      ]
     },
     "execution_count": 18,
     "metadata": {},
     "output_type": "execute_result"
    }
   ],
   "source": [
    "\"something\".isdigit()"
   ]
  },
  {
   "cell_type": "code",
   "execution_count": 25,
   "metadata": {
    "collapsed": false,
    "deletable": true,
    "editable": true
   },
   "outputs": [
    {
     "data": {
      "text/plain": [
       "pandas.core.frame.DataFrame"
      ]
     },
     "execution_count": 25,
     "metadata": {},
     "output_type": "execute_result"
    }
   ],
   "source": [
    "type(df_filtered)\n"
   ]
  },
  {
   "cell_type": "code",
   "execution_count": 1,
   "metadata": {
    "collapsed": false
   },
   "outputs": [
    {
     "ename": "NameError",
     "evalue": "name 'df_filtered' is not defined",
     "output_type": "error",
     "traceback": [
      "\u001b[0;31m---------------------------------------------------------------------------\u001b[0m",
      "\u001b[0;31mNameError\u001b[0m                                 Traceback (most recent call last)",
      "\u001b[0;32m<ipython-input-1-4b198283a718>\u001b[0m in \u001b[0;36m<module>\u001b[0;34m()\u001b[0m\n\u001b[0;32m----> 1\u001b[0;31m \u001b[0mtype\u001b[0m\u001b[0;34m(\u001b[0m\u001b[0mdf_filtered\u001b[0m\u001b[0;34m[\u001b[0m\u001b[0;34m'amar'\u001b[0m\u001b[0;34m]\u001b[0m\u001b[0;34m)\u001b[0m\u001b[0;34m\u001b[0m\u001b[0m\n\u001b[0m",
      "\u001b[0;31mNameError\u001b[0m: name 'df_filtered' is not defined"
     ]
    }
   ],
   "source": [
    "type(df_filtered['amar'])\n"
   ]
  },
  {
   "cell_type": "code",
   "execution_count": 26,
   "metadata": {
    "collapsed": true,
    "deletable": true,
    "editable": true
   },
   "outputs": [],
   "source": [
    "# Assign state and LGA numbers to data frame\n",
    "df = assign_state_lga_num(df)\n"
   ]
  },
  {
   "cell_type": "code",
   "execution_count": 27,
   "metadata": {
    "collapsed": false,
    "deletable": true,
    "editable": true
   },
   "outputs": [],
   "source": [
    "# Convert to float\n",
    "df['amar'] = pd.to_numeric(df.amar, errors='coerce')\n",
    "df['weeknum'] = pd.to_numeric(df.weeknum, errors='coerce')\n",
    "df['state_num'] = pd.to_numeric(df.state_num, errors='coerce')\n",
    "df['lga_num'] = pd.to_numeric(df.lga_num, errors='coerce')"
   ]
  },
  {
   "cell_type": "code",
   "execution_count": 28,
   "metadata": {
    "collapsed": true,
    "deletable": true,
    "editable": true
   },
   "outputs": [],
   "source": [
    "# Clean out of range data\n",
    "df_filtered = df.query('weeknum==weeknum').query('0<weeknum<53')\n",
    "df_filtered = df_filtered.query('amar==amar').query('0<amar<99999')\n",
    "df_filtered = df_filtered.query('state_num==state_num').query('0<state_num<37')\n",
    "df_filtered = df_filtered.query('lga_num==lga_num').query('101<lga_num<3799')"
   ]
  },
  {
   "cell_type": "code",
   "execution_count": 29,
   "metadata": {
    "collapsed": true,
    "deletable": true,
    "editable": true
   },
   "outputs": [],
   "source": [
    "# Set to int - so that decimal points are not presented\n",
    "df_filtered['weeknum'] = df_filtered.weeknum.astype('int')\n",
    "df_filtered['amar'] = df_filtered.amar.astype('int')\n",
    "df_filtered['state_num'] = df_filtered.state_num.astype('int')\n",
    "df_filtered['lga_num'] = df_filtered.lga_num.astype('int')"
   ]
  },
  {
   "cell_type": "code",
   "execution_count": 30,
   "metadata": {
    "collapsed": false,
    "deletable": true,
    "editable": true
   },
   "outputs": [],
   "source": [
    "adm_by_week = df_filtered.query('lga_num==201')['amar'].groupby(df_filtered['weeknum']).sum()\n"
   ]
  },
  {
   "cell_type": "code",
   "execution_count": 31,
   "metadata": {
    "collapsed": false,
    "deletable": true,
    "editable": true
   },
   "outputs": [
    {
     "data": {
      "text/plain": [
       "<matplotlib.axes._subplots.AxesSubplot at 0x7f63946b9510>"
      ]
     },
     "execution_count": 31,
     "metadata": {},
     "output_type": "execute_result"
    },
    {
     "data": {
      "image/png": "[encoded data removed]",
      "text/plain": [
       "<matplotlib.figure.Figure at 0x7f63936694d0>"
      ]
     },
     "metadata": {},
     "output_type": "display_data"
    }
   ],
   "source": [
    "adm_by_week.plot()"
   ]
  },
  {
   "cell_type": "code",
   "execution_count": 33,
   "metadata": {
    "collapsed": false,
    "deletable": true,
    "editable": true
   },
   "outputs": [
    {
     "name": "stdout",
     "output_type": "stream",
     "text": [
      "24\n",
      "24\n"
     ]
    },
    {
     "data": {
      "text/plain": [
       "Int64Index([ 1,  2,  3,  4,  5,  6, 35, 36, 37, 38, 39, 40, 41, 42, 43, 44, 45,\n",
       "            46, 47, 48, 49, 50, 51, 52],\n",
       "           dtype='int64', name=u'weeknum')"
      ]
     },
     "execution_count": 33,
     "metadata": {},
     "output_type": "execute_result"
    }
   ],
   "source": [
    "# length of list of all indices of adm_by_week\n",
    "print len(list(adm_by_week))\n",
    "print len(adm_by_week)\n",
    "adm_by_week.index"
   ]
  },
  {
   "cell_type": "code",
   "execution_count": 34,
   "metadata": {
    "collapsed": false,
    "deletable": true,
    "editable": true
   },
   "outputs": [
    {
     "data": {
      "text/plain": [
       "[(1, 32),\n",
       " (2, 44),\n",
       " (3, 21),\n",
       " (4, 32),\n",
       " (5, 16),\n",
       " (6, 1),\n",
       " (35, 41),\n",
       " (36, 14),\n",
       " (37, 52),\n",
       " (38, 17),\n",
       " (39, 9),\n",
       " (40, 22),\n",
       " (41, 22),\n",
       " (42, 25),\n",
       " (43, 24),\n",
       " (44, 19),\n",
       " (45, 85),\n",
       " (46, 66),\n",
       " (47, 69),\n",
       " (48, 19),\n",
       " (49, 27),\n",
       " (50, 16),\n",
       " (51, 33),\n",
       " (52, 24)]"
      ]
     },
     "execution_count": 34,
     "metadata": {},
     "output_type": "execute_result"
    }
   ],
   "source": [
    "list(zip(adm_by_week.index, adm_by_week.values.tolist()))"
   ]
  },
  {
   "cell_type": "code",
   "execution_count": null,
   "metadata": {
    "collapsed": true,
    "deletable": true,
    "editable": true
   },
   "outputs": [],
   "source": []
  },
  {
   "cell_type": "code",
   "execution_count": null,
   "metadata": {
    "collapsed": false,
    "deletable": true,
    "editable": true
   },
   "outputs": [],
   "source": []
  },
  {
   "cell_type": "code",
   "execution_count": 35,
   "metadata": {
    "collapsed": true,
    "deletable": true,
    "editable": true
   },
   "outputs": [],
   "source": [
    "# Data cleaning"
   ]
  },
  {
   "cell_type": "code",
   "execution_count": 69,
   "metadata": {
    "collapsed": true,
    "deletable": true,
    "editable": true
   },
   "outputs": [],
   "source": [
    "dataframe = df_filtered\n",
    "list = ('amar', 'weeknum', 'state_num', 'lga_num', 'siteid', 'dcur', 'dead', 'defu', 'dmed', 'tout')\n"
   ]
  },
  {
   "cell_type": "code",
   "execution_count": 70,
   "metadata": {
    "collapsed": false,
    "deletable": true,
    "editable": true
   },
   "outputs": [],
   "source": [
    "def convert_to_float(dataframe, list):\n",
    "    # edit the data in pandas\n",
    "\n",
    "    for l in list:\n",
    "        dataframe[l] = pd.to_numeric(dataframe[l], errors='coerce')\n",
    "\n",
    "#     df['amar'] = pd.to_numeric(df.amar, errors='coerce')\n",
    "#     df['weeknum'] = pd.to_numeric(df.weeknum, errors='coerce')\n",
    "#     df['state_num'] = pd.to_numeric(df.state_num, errors='coerce')\n",
    "#     df['lga_num'] = pd.to_numeric(df.lga_num, errors='coerce')\n",
    "#     df['siteid'] = pd.to_numeric(df.siteid, errors='coerce')\n",
    "\n",
    "    return dataframe"
   ]
  },
  {
   "cell_type": "code",
   "execution_count": null,
   "metadata": {
    "collapsed": true,
    "deletable": true,
    "editable": true
   },
   "outputs": [],
   "source": []
  },
  {
   "cell_type": "code",
   "execution_count": 76,
   "metadata": {
    "collapsed": false,
    "deletable": true,
    "editable": true
   },
   "outputs": [
    {
     "name": "stdout",
     "output_type": "stream",
     "text": [
      "2        10\n",
      "3         8\n",
      "4        13\n",
      "5         8\n",
      "6        14\n",
      "7        13\n",
      "8        13\n",
      "9        17\n",
      "10        8\n",
      "11       14\n",
      "12       13\n",
      "13       17\n",
      "14        6\n",
      "15       14\n",
      "16       14\n",
      "17       14\n",
      "18       20\n",
      "19       10\n",
      "20       15\n",
      "22       22\n",
      "23       27\n",
      "24       20\n",
      "25       22\n",
      "26       27\n",
      "27       20\n",
      "28       22\n",
      "29       14\n",
      "30       14\n",
      "33       21\n",
      "34       22\n",
      "         ..\n",
      "31283     4\n",
      "31284     3\n",
      "31285     5\n",
      "31286     6\n",
      "31287     5\n",
      "31288    10\n",
      "31289     4\n",
      "31290     8\n",
      "31291    17\n",
      "31292     2\n",
      "31293    10\n",
      "31294     7\n",
      "31295    11\n",
      "31297     2\n",
      "31298     7\n",
      "31299     5\n",
      "31300     3\n",
      "31302     7\n",
      "31303     7\n",
      "31304    10\n",
      "31305     6\n",
      "31306     5\n",
      "31307    68\n",
      "31308    15\n",
      "31309     5\n",
      "31310     5\n",
      "31311    19\n",
      "31312    15\n",
      "31313    12\n",
      "31314    12\n",
      "Name: amar, dtype: int64\n",
      "2        26\n",
      "3        23\n",
      "4        22\n",
      "5        23\n",
      "6        24\n",
      "7        25\n",
      "8        25\n",
      "9        26\n",
      "10       23\n",
      "11       24\n",
      "12       25\n",
      "13       26\n",
      "14       27\n",
      "15       28\n",
      "16       28\n",
      "17       28\n",
      "18       29\n",
      "19       30\n",
      "20       31\n",
      "22       32\n",
      "23       33\n",
      "24       34\n",
      "25       32\n",
      "26       33\n",
      "27       34\n",
      "28       35\n",
      "29       36\n",
      "30       36\n",
      "33       39\n",
      "34       40\n",
      "         ..\n",
      "31283    42\n",
      "31284    43\n",
      "31285    44\n",
      "31286    45\n",
      "31287    46\n",
      "31288    47\n",
      "31289    48\n",
      "31290    49\n",
      "31291    50\n",
      "31292    51\n",
      "31293    51\n",
      "31294     1\n",
      "31295     2\n",
      "31297     4\n",
      "31298     5\n",
      "31299     2\n",
      "31300     1\n",
      "31302     2\n",
      "31303     2\n",
      "31304     3\n",
      "31305     4\n",
      "31306     5\n",
      "31307     6\n",
      "31308     6\n",
      "31309     5\n",
      "31310     5\n",
      "31311    50\n",
      "31312    51\n",
      "31313    52\n",
      "31314    52\n",
      "Name: weeknum, dtype: int64\n",
      "2        33\n",
      "3        33\n",
      "4        33\n",
      "5        33\n",
      "6        33\n",
      "7        33\n",
      "8        33\n",
      "9        33\n",
      "10       33\n",
      "11       33\n",
      "12       33\n",
      "13       33\n",
      "14       33\n",
      "15       33\n",
      "16       33\n",
      "17       33\n",
      "18       33\n",
      "19       33\n",
      "20       33\n",
      "22       33\n",
      "23       33\n",
      "24       33\n",
      "25       33\n",
      "26       33\n",
      "27       33\n",
      "28       33\n",
      "29       33\n",
      "30       33\n",
      "33       33\n",
      "34       33\n",
      "         ..\n",
      "31283     2\n",
      "31284     2\n",
      "31285     2\n",
      "31286     2\n",
      "31287     2\n",
      "31288     2\n",
      "31289     2\n",
      "31290     2\n",
      "31291     2\n",
      "31292     2\n",
      "31293     2\n",
      "31294     2\n",
      "31295     2\n",
      "31297     2\n",
      "31298     2\n",
      "31299    35\n",
      "31300     3\n",
      "31302     3\n",
      "31303     3\n",
      "31304     3\n",
      "31305     3\n",
      "31306     3\n",
      "31307     3\n",
      "31308     3\n",
      "31309     8\n",
      "31310     8\n",
      "31311    18\n",
      "31312    18\n",
      "31313    18\n",
      "31314    18\n",
      "Name: state_num, dtype: int64\n",
      "2        3313\n",
      "3        3308\n",
      "4        3308\n",
      "5        3308\n",
      "6        3308\n",
      "7        3308\n",
      "8        3308\n",
      "9        3308\n",
      "10       3308\n",
      "11       3308\n",
      "12       3308\n",
      "13       3308\n",
      "14       3308\n",
      "15       3308\n",
      "16       3308\n",
      "17       3308\n",
      "18       3308\n",
      "19       3308\n",
      "20       3308\n",
      "22       3308\n",
      "23       3308\n",
      "24       3308\n",
      "25       3308\n",
      "26       3308\n",
      "27       3308\n",
      "28       3308\n",
      "29       3308\n",
      "30       3308\n",
      "33       3308\n",
      "34       3308\n",
      "         ... \n",
      "31283     216\n",
      "31284     216\n",
      "31285     216\n",
      "31286     216\n",
      "31287     216\n",
      "31288     216\n",
      "31289     216\n",
      "31290     216\n",
      "31291     216\n",
      "31292     216\n",
      "31293     216\n",
      "31294     216\n",
      "31295     216\n",
      "31297     216\n",
      "31298     216\n",
      "31299    3506\n",
      "31300     350\n",
      "31302     350\n",
      "31303     350\n",
      "31304     350\n",
      "31305     350\n",
      "31306     350\n",
      "31307     350\n",
      "31308     350\n",
      "31309     821\n",
      "31310     821\n",
      "31311    1823\n",
      "31312    1823\n",
      "31313    1823\n",
      "31314    1823\n",
      "Name: lga_num, dtype: int64\n",
      "2              3313\n",
      "3        3308110010\n",
      "4        3308110010\n",
      "5        3308110010\n",
      "6        3308110010\n",
      "7        3308110010\n",
      "8        3308110010\n",
      "9        3308110010\n",
      "10       3308110010\n",
      "11       3308110010\n",
      "12       3308110010\n",
      "13       3308110010\n",
      "14       3308110010\n",
      "15       3308110010\n",
      "16       3308110010\n",
      "17       3308110010\n",
      "18       3308110010\n",
      "19       3308110010\n",
      "20       3308110010\n",
      "22       3308110010\n",
      "23       3308110010\n",
      "24       3308110010\n",
      "25       3308110010\n",
      "26       3308110010\n",
      "27       3308110010\n",
      "28       3308110010\n",
      "29       3308110010\n",
      "30       3308110010\n",
      "33       3308110010\n",
      "34       3308110010\n",
      "            ...    \n",
      "31283     216110032\n",
      "31284     216110032\n",
      "31285     216110032\n",
      "31286     216110032\n",
      "31287     216110032\n",
      "31288     216110032\n",
      "31289     216110032\n",
      "31290     216110032\n",
      "31291     216110032\n",
      "31292     216110032\n",
      "31293     216110032\n",
      "31294     216110032\n",
      "31295     216110032\n",
      "31297     216110032\n",
      "31298     216110032\n",
      "31299    3506110013\n",
      "31300     350110031\n",
      "31302     350110031\n",
      "31303     350110031\n",
      "31304     350110031\n",
      "31305     350110031\n",
      "31306     350110031\n",
      "31307     350110031\n",
      "31308     350110031\n",
      "31309     821110009\n",
      "31310     821110009\n",
      "31311    1823110013\n",
      "31312    1823110013\n",
      "31313    1823110013\n",
      "31314    1823110013\n",
      "Name: siteid, dtype: object\n",
      "2          12\n",
      "3          10\n",
      "4          15\n",
      "5          10\n",
      "6           2\n",
      "7           0\n",
      "8          24\n",
      "9           8\n",
      "10         10\n",
      "11          2\n",
      "12         24\n",
      "13          8\n",
      "14         18\n",
      "15          0\n",
      "16          5\n",
      "17          5\n",
      "18          7\n",
      "19          7\n",
      "20          2\n",
      "22         12\n",
      "23         10\n",
      "24         16\n",
      "25         12\n",
      "26         10\n",
      "27         16\n",
      "28         22\n",
      "29         13\n",
      "30         13\n",
      "33         13\n",
      "34         12\n",
      "         ... \n",
      "31283       0\n",
      "31284       0\n",
      "31285       0\n",
      "31286       0\n",
      "31287       0\n",
      "31288       0\n",
      "31289       0\n",
      "31290       0\n",
      "31291       0\n",
      "31292      72\n",
      "31293      72\n",
      "31294       7\n",
      "31295       7\n",
      "31297       2\n",
      "31298       2\n",
      "31299       0\n",
      "31300       1\n",
      "31302       3\n",
      "31303       3\n",
      "31304       4\n",
      "31305       0\n",
      "31306       4\n",
      "31307      10\n",
      "31308      10\n",
      "31309    None\n",
      "31310       2\n",
      "31311       9\n",
      "31312      11\n",
      "31313      17\n",
      "31314      17\n",
      "Name: dcur, dtype: object\n",
      "2           0\n",
      "3           0\n",
      "4           0\n",
      "5           0\n",
      "6           0\n",
      "7           0\n",
      "8           0\n",
      "9           0\n",
      "10          0\n",
      "11          0\n",
      "12          0\n",
      "13          0\n",
      "14          0\n",
      "15       None\n",
      "16          0\n",
      "17          0\n",
      "18          0\n",
      "19          0\n",
      "20          0\n",
      "22          0\n",
      "23          0\n",
      "24          0\n",
      "25          0\n",
      "26          0\n",
      "27          0\n",
      "28          0\n",
      "29          0\n",
      "30          0\n",
      "33          0\n",
      "34          0\n",
      "         ... \n",
      "31283       0\n",
      "31284       2\n",
      "31285       0\n",
      "31286       0\n",
      "31287       2\n",
      "31288       0\n",
      "31289       0\n",
      "31290       5\n",
      "31291       0\n",
      "31292       1\n",
      "31293       1\n",
      "31294       2\n",
      "31295       0\n",
      "31297       1\n",
      "31298       0\n",
      "31299       0\n",
      "31300       0\n",
      "31302       0\n",
      "31303       0\n",
      "31304       0\n",
      "31305       0\n",
      "31306       0\n",
      "31307       0\n",
      "31308       0\n",
      "31309    None\n",
      "31310       0\n",
      "31311       0\n",
      "31312       1\n",
      "31313       0\n",
      "31314       0\n",
      "Name: dead, dtype: object\n",
      "2           1\n",
      "3           0\n",
      "4           1\n",
      "5           0\n",
      "6           1\n",
      "7           0\n",
      "8           0\n",
      "9           0\n",
      "10          0\n",
      "11          1\n",
      "12          0\n",
      "13          2\n",
      "14          0\n",
      "15       None\n",
      "16          0\n",
      "17          0\n",
      "18          0\n",
      "19          0\n",
      "20          1\n",
      "22          0\n",
      "23          0\n",
      "24          1\n",
      "25          0\n",
      "26          0\n",
      "27          1\n",
      "28          0\n",
      "29          0\n",
      "30          0\n",
      "33          2\n",
      "34          2\n",
      "         ... \n",
      "31283       5\n",
      "31284       3\n",
      "31285       9\n",
      "31286       4\n",
      "31287       0\n",
      "31288       0\n",
      "31289       0\n",
      "31290       0\n",
      "31291       0\n",
      "31292       3\n",
      "31293       0\n",
      "31294       1\n",
      "31295       0\n",
      "31297       1\n",
      "31298       0\n",
      "31299       0\n",
      "31300       0\n",
      "31302       1\n",
      "31303       0\n",
      "31304       0\n",
      "31305       0\n",
      "31306       0\n",
      "31307       2\n",
      "31308       2\n",
      "31309    None\n",
      "31310       5\n",
      "31311       1\n",
      "31312       2\n",
      "31313       1\n",
      "31314       1\n",
      "Name: defu, dtype: object\n",
      "2           0\n",
      "3           0\n",
      "4           0\n",
      "5           0\n",
      "6           0\n",
      "7           0\n",
      "8           0\n",
      "9           2\n",
      "10          0\n",
      "11          0\n",
      "12          0\n",
      "13          2\n",
      "14          0\n",
      "15       None\n",
      "16          0\n",
      "17          0\n",
      "18          0\n",
      "19          0\n",
      "20          1\n",
      "22          0\n",
      "23          1\n",
      "24          1\n",
      "25          0\n",
      "26          1\n",
      "27          1\n",
      "28          0\n",
      "29          0\n",
      "30          0\n",
      "33          2\n",
      "34          1\n",
      "         ... \n",
      "31283       0\n",
      "31284       0\n",
      "31285       0\n",
      "31286       0\n",
      "31287       0\n",
      "31288       0\n",
      "31289       0\n",
      "31290       0\n",
      "31291       0\n",
      "31292       0\n",
      "31293       0\n",
      "31294       0\n",
      "31295       0\n",
      "31297       0\n",
      "31298       0\n",
      "31299       0\n",
      "31300       5\n",
      "31302       3\n",
      "31303       1\n",
      "31304      11\n",
      "31305      17\n",
      "31306      18\n",
      "31307      41\n",
      "31308      41\n",
      "31309    None\n",
      "31310       0\n",
      "31311       0\n",
      "31312       1\n",
      "31313       2\n",
      "31314       0\n",
      "Name: dmed, dtype: object\n",
      "2         0\n",
      "3         0\n",
      "4         0\n",
      "5         0\n",
      "6         0\n",
      "7         0\n",
      "8         0\n",
      "9         0\n",
      "10        0\n",
      "11        0\n",
      "12        0\n",
      "13        0\n",
      "14        0\n",
      "15        0\n",
      "16        0\n",
      "17        0\n",
      "18        0\n",
      "19        0\n",
      "20        1\n",
      "22        0\n",
      "23        1\n",
      "24        1\n",
      "25        0\n",
      "26        1\n",
      "27        1\n",
      "28        0\n",
      "29        0\n",
      "30        0\n",
      "33        2\n",
      "34        1\n",
      "         ..\n",
      "31283     0\n",
      "31284     0\n",
      "31285     0\n",
      "31286     0\n",
      "31287     0\n",
      "31288     0\n",
      "31289     0\n",
      "31290     0\n",
      "31291     0\n",
      "31292    51\n",
      "31293     0\n",
      "31294     4\n",
      "31295     0\n",
      "31297     0\n",
      "31298     2\n",
      "31299     0\n",
      "31300     0\n",
      "31302     0\n",
      "31303     3\n",
      "31304     0\n",
      "31305     0\n",
      "31306     0\n",
      "31307    41\n",
      "31308     0\n",
      "31309     0\n",
      "31310     0\n",
      "31311     0\n",
      "31312     1\n",
      "31313     0\n",
      "31314     0\n",
      "Name: tout, dtype: object\n"
     ]
    }
   ],
   "source": [
    "for l in list:\n",
    "    print dataframe[l]"
   ]
  },
  {
   "cell_type": "code",
   "execution_count": 72,
   "metadata": {
    "collapsed": false,
    "deletable": true,
    "editable": true
   },
   "outputs": [],
   "source": [
    "# Set data points to NaN\n",
    "# import numpy as np\n",
    "# df_filtered.tout = df_filtered.tout.replace(np.NaN,0)\n",
    "# df_filtered.tout = df_filtered.tout.replace(None,0)\n",
    "\n",
    "# # Replace none with NaN\n",
    "# DataFrame.fillna(value=np.nan, inplace=True)\n",
    "# # Replace NaN with zero\n",
    "# df = df.fillna(0)\n"
   ]
  },
  {
   "cell_type": "code",
   "execution_count": 75,
   "metadata": {
    "collapsed": false,
    "deletable": true,
    "editable": true
   },
   "outputs": [
    {
     "ename": "KeyError",
     "evalue": "'dmed'",
     "output_type": "error",
     "traceback": [
      "\u001b[0;31m---------------------------------------------------------------------------\u001b[0m",
      "\u001b[0;31mKeyError\u001b[0m                                  Traceback (most recent call last)",
      "\u001b[0;32m<ipython-input-75-de7280d72bbb>\u001b[0m in \u001b[0;36m<module>\u001b[0;34m()\u001b[0m\n\u001b[1;32m      1\u001b[0m \u001b[0;31m# Does fillna replace None ?\u001b[0m\u001b[0;34m\u001b[0m\u001b[0;34m\u001b[0m\u001b[0m\n\u001b[0;32m----> 2\u001b[0;31m \u001b[0mdf\u001b[0m\u001b[0;34m[\u001b[0m\u001b[0;34m'dmed'\u001b[0m\u001b[0;34m]\u001b[0m \u001b[0;34m=\u001b[0m \u001b[0mdf\u001b[0m\u001b[0;34m[\u001b[0m\u001b[0;34m'dmed'\u001b[0m\u001b[0;34m]\u001b[0m\u001b[0;34m.\u001b[0m\u001b[0mfillna\u001b[0m\u001b[0;34m(\u001b[0m\u001b[0;36m0\u001b[0m\u001b[0;34m)\u001b[0m\u001b[0;34m\u001b[0m\u001b[0m\n\u001b[0m\u001b[1;32m      3\u001b[0m \u001b[0;32mprint\u001b[0m \u001b[0mdf\u001b[0m\u001b[0;34m[\u001b[0m\u001b[0;34m'dmed'\u001b[0m\u001b[0;34m]\u001b[0m\u001b[0;34m\u001b[0m\u001b[0m\n",
      "\u001b[0;32m/home/robert/PycharmProjects/IMAM/ve/local/lib/python2.7/site-packages/pandas/core/frame.pyc\u001b[0m in \u001b[0;36m__getitem__\u001b[0;34m(self, key)\u001b[0m\n\u001b[1;32m   2057\u001b[0m             \u001b[0;32mreturn\u001b[0m \u001b[0mself\u001b[0m\u001b[0;34m.\u001b[0m\u001b[0m_getitem_multilevel\u001b[0m\u001b[0;34m(\u001b[0m\u001b[0mkey\u001b[0m\u001b[0;34m)\u001b[0m\u001b[0;34m\u001b[0m\u001b[0m\n\u001b[1;32m   2058\u001b[0m         \u001b[0;32melse\u001b[0m\u001b[0;34m:\u001b[0m\u001b[0;34m\u001b[0m\u001b[0m\n\u001b[0;32m-> 2059\u001b[0;31m             \u001b[0;32mreturn\u001b[0m \u001b[0mself\u001b[0m\u001b[0;34m.\u001b[0m\u001b[0m_getitem_column\u001b[0m\u001b[0;34m(\u001b[0m\u001b[0mkey\u001b[0m\u001b[0;34m)\u001b[0m\u001b[0;34m\u001b[0m\u001b[0m\n\u001b[0m\u001b[1;32m   2060\u001b[0m \u001b[0;34m\u001b[0m\u001b[0m\n\u001b[1;32m   2061\u001b[0m     \u001b[0;32mdef\u001b[0m \u001b[0m_getitem_column\u001b[0m\u001b[0;34m(\u001b[0m\u001b[0mself\u001b[0m\u001b[0;34m,\u001b[0m \u001b[0mkey\u001b[0m\u001b[0;34m)\u001b[0m\u001b[0;34m:\u001b[0m\u001b[0;34m\u001b[0m\u001b[0m\n",
      "\u001b[0;32m/home/robert/PycharmProjects/IMAM/ve/local/lib/python2.7/site-packages/pandas/core/frame.pyc\u001b[0m in \u001b[0;36m_getitem_column\u001b[0;34m(self, key)\u001b[0m\n\u001b[1;32m   2064\u001b[0m         \u001b[0;31m# get column\u001b[0m\u001b[0;34m\u001b[0m\u001b[0;34m\u001b[0m\u001b[0m\n\u001b[1;32m   2065\u001b[0m         \u001b[0;32mif\u001b[0m \u001b[0mself\u001b[0m\u001b[0;34m.\u001b[0m\u001b[0mcolumns\u001b[0m\u001b[0;34m.\u001b[0m\u001b[0mis_unique\u001b[0m\u001b[0;34m:\u001b[0m\u001b[0;34m\u001b[0m\u001b[0m\n\u001b[0;32m-> 2066\u001b[0;31m             \u001b[0;32mreturn\u001b[0m \u001b[0mself\u001b[0m\u001b[0;34m.\u001b[0m\u001b[0m_get_item_cache\u001b[0m\u001b[0;34m(\u001b[0m\u001b[0mkey\u001b[0m\u001b[0;34m)\u001b[0m\u001b[0;34m\u001b[0m\u001b[0m\n\u001b[0m\u001b[1;32m   2067\u001b[0m \u001b[0;34m\u001b[0m\u001b[0m\n\u001b[1;32m   2068\u001b[0m         \u001b[0;31m# duplicate columns & possible reduce dimensionality\u001b[0m\u001b[0;34m\u001b[0m\u001b[0;34m\u001b[0m\u001b[0m\n",
      "\u001b[0;32m/home/robert/PycharmProjects/IMAM/ve/local/lib/python2.7/site-packages/pandas/core/generic.pyc\u001b[0m in \u001b[0;36m_get_item_cache\u001b[0;34m(self, item)\u001b[0m\n\u001b[1;32m   1384\u001b[0m         \u001b[0mres\u001b[0m \u001b[0;34m=\u001b[0m \u001b[0mcache\u001b[0m\u001b[0;34m.\u001b[0m\u001b[0mget\u001b[0m\u001b[0;34m(\u001b[0m\u001b[0mitem\u001b[0m\u001b[0;34m)\u001b[0m\u001b[0;34m\u001b[0m\u001b[0m\n\u001b[1;32m   1385\u001b[0m         \u001b[0;32mif\u001b[0m \u001b[0mres\u001b[0m \u001b[0;32mis\u001b[0m \u001b[0mNone\u001b[0m\u001b[0;34m:\u001b[0m\u001b[0;34m\u001b[0m\u001b[0m\n\u001b[0;32m-> 1386\u001b[0;31m             \u001b[0mvalues\u001b[0m \u001b[0;34m=\u001b[0m \u001b[0mself\u001b[0m\u001b[0;34m.\u001b[0m\u001b[0m_data\u001b[0m\u001b[0;34m.\u001b[0m\u001b[0mget\u001b[0m\u001b[0;34m(\u001b[0m\u001b[0mitem\u001b[0m\u001b[0;34m)\u001b[0m\u001b[0;34m\u001b[0m\u001b[0m\n\u001b[0m\u001b[1;32m   1387\u001b[0m             \u001b[0mres\u001b[0m \u001b[0;34m=\u001b[0m \u001b[0mself\u001b[0m\u001b[0;34m.\u001b[0m\u001b[0m_box_item_values\u001b[0m\u001b[0;34m(\u001b[0m\u001b[0mitem\u001b[0m\u001b[0;34m,\u001b[0m \u001b[0mvalues\u001b[0m\u001b[0;34m)\u001b[0m\u001b[0;34m\u001b[0m\u001b[0m\n\u001b[1;32m   1388\u001b[0m             \u001b[0mcache\u001b[0m\u001b[0;34m[\u001b[0m\u001b[0mitem\u001b[0m\u001b[0;34m]\u001b[0m \u001b[0;34m=\u001b[0m \u001b[0mres\u001b[0m\u001b[0;34m\u001b[0m\u001b[0m\n",
      "\u001b[0;32m/home/robert/PycharmProjects/IMAM/ve/local/lib/python2.7/site-packages/pandas/core/internals.pyc\u001b[0m in \u001b[0;36mget\u001b[0;34m(self, item, fastpath)\u001b[0m\n\u001b[1;32m   3541\u001b[0m \u001b[0;34m\u001b[0m\u001b[0m\n\u001b[1;32m   3542\u001b[0m             \u001b[0;32mif\u001b[0m \u001b[0;32mnot\u001b[0m \u001b[0misnull\u001b[0m\u001b[0;34m(\u001b[0m\u001b[0mitem\u001b[0m\u001b[0;34m)\u001b[0m\u001b[0;34m:\u001b[0m\u001b[0;34m\u001b[0m\u001b[0m\n\u001b[0;32m-> 3543\u001b[0;31m                 \u001b[0mloc\u001b[0m \u001b[0;34m=\u001b[0m \u001b[0mself\u001b[0m\u001b[0;34m.\u001b[0m\u001b[0mitems\u001b[0m\u001b[0;34m.\u001b[0m\u001b[0mget_loc\u001b[0m\u001b[0;34m(\u001b[0m\u001b[0mitem\u001b[0m\u001b[0;34m)\u001b[0m\u001b[0;34m\u001b[0m\u001b[0m\n\u001b[0m\u001b[1;32m   3544\u001b[0m             \u001b[0;32melse\u001b[0m\u001b[0;34m:\u001b[0m\u001b[0;34m\u001b[0m\u001b[0m\n\u001b[1;32m   3545\u001b[0m                 \u001b[0mindexer\u001b[0m \u001b[0;34m=\u001b[0m \u001b[0mnp\u001b[0m\u001b[0;34m.\u001b[0m\u001b[0marange\u001b[0m\u001b[0;34m(\u001b[0m\u001b[0mlen\u001b[0m\u001b[0;34m(\u001b[0m\u001b[0mself\u001b[0m\u001b[0;34m.\u001b[0m\u001b[0mitems\u001b[0m\u001b[0;34m)\u001b[0m\u001b[0;34m)\u001b[0m\u001b[0;34m[\u001b[0m\u001b[0misnull\u001b[0m\u001b[0;34m(\u001b[0m\u001b[0mself\u001b[0m\u001b[0;34m.\u001b[0m\u001b[0mitems\u001b[0m\u001b[0;34m)\u001b[0m\u001b[0;34m]\u001b[0m\u001b[0;34m\u001b[0m\u001b[0m\n",
      "\u001b[0;32m/home/robert/PycharmProjects/IMAM/ve/local/lib/python2.7/site-packages/pandas/indexes/base.pyc\u001b[0m in \u001b[0;36mget_loc\u001b[0;34m(self, key, method, tolerance)\u001b[0m\n\u001b[1;32m   2134\u001b[0m                 \u001b[0;32mreturn\u001b[0m \u001b[0mself\u001b[0m\u001b[0;34m.\u001b[0m\u001b[0m_engine\u001b[0m\u001b[0;34m.\u001b[0m\u001b[0mget_loc\u001b[0m\u001b[0;34m(\u001b[0m\u001b[0mkey\u001b[0m\u001b[0;34m)\u001b[0m\u001b[0;34m\u001b[0m\u001b[0m\n\u001b[1;32m   2135\u001b[0m             \u001b[0;32mexcept\u001b[0m \u001b[0mKeyError\u001b[0m\u001b[0;34m:\u001b[0m\u001b[0;34m\u001b[0m\u001b[0m\n\u001b[0;32m-> 2136\u001b[0;31m                 \u001b[0;32mreturn\u001b[0m \u001b[0mself\u001b[0m\u001b[0;34m.\u001b[0m\u001b[0m_engine\u001b[0m\u001b[0;34m.\u001b[0m\u001b[0mget_loc\u001b[0m\u001b[0;34m(\u001b[0m\u001b[0mself\u001b[0m\u001b[0;34m.\u001b[0m\u001b[0m_maybe_cast_indexer\u001b[0m\u001b[0;34m(\u001b[0m\u001b[0mkey\u001b[0m\u001b[0;34m)\u001b[0m\u001b[0;34m)\u001b[0m\u001b[0;34m\u001b[0m\u001b[0m\n\u001b[0m\u001b[1;32m   2137\u001b[0m \u001b[0;34m\u001b[0m\u001b[0m\n\u001b[1;32m   2138\u001b[0m         \u001b[0mindexer\u001b[0m \u001b[0;34m=\u001b[0m \u001b[0mself\u001b[0m\u001b[0;34m.\u001b[0m\u001b[0mget_indexer\u001b[0m\u001b[0;34m(\u001b[0m\u001b[0;34m[\u001b[0m\u001b[0mkey\u001b[0m\u001b[0;34m]\u001b[0m\u001b[0;34m,\u001b[0m \u001b[0mmethod\u001b[0m\u001b[0;34m=\u001b[0m\u001b[0mmethod\u001b[0m\u001b[0;34m,\u001b[0m \u001b[0mtolerance\u001b[0m\u001b[0;34m=\u001b[0m\u001b[0mtolerance\u001b[0m\u001b[0;34m)\u001b[0m\u001b[0;34m\u001b[0m\u001b[0m\n",
      "\u001b[0;32mpandas/index.pyx\u001b[0m in \u001b[0;36mpandas.index.IndexEngine.get_loc (pandas/index.c:4433)\u001b[0;34m()\u001b[0m\n",
      "\u001b[0;32mpandas/index.pyx\u001b[0m in \u001b[0;36mpandas.index.IndexEngine.get_loc (pandas/index.c:4279)\u001b[0;34m()\u001b[0m\n",
      "\u001b[0;32mpandas/src/hashtable_class_helper.pxi\u001b[0m in \u001b[0;36mpandas.hashtable.PyObjectHashTable.get_item (pandas/hashtable.c:13742)\u001b[0;34m()\u001b[0m\n",
      "\u001b[0;32mpandas/src/hashtable_class_helper.pxi\u001b[0m in \u001b[0;36mpandas.hashtable.PyObjectHashTable.get_item (pandas/hashtable.c:13696)\u001b[0;34m()\u001b[0m\n",
      "\u001b[0;31mKeyError\u001b[0m: 'dmed'"
     ]
    }
   ],
   "source": [
    "# Does fillna replace None ?\n",
    "df['dmed'] = df['dmed'].fillna(0)\n",
    "print df['dmed']"
   ]
  },
  {
   "cell_type": "code",
   "execution_count": 63,
   "metadata": {
    "collapsed": false,
    "deletable": true,
    "editable": true
   },
   "outputs": [
    {
     "data": {
      "text/html": [
       "<div>\n",
       "<table border=\"1\" class=\"dataframe\">\n",
       "  <thead>\n",
       "    <tr style=\"text-align: right;\">\n",
       "      <th></th>\n",
       "      <th>A</th>\n",
       "    </tr>\n",
       "  </thead>\n",
       "  <tbody>\n",
       "    <tr>\n",
       "      <th>0</th>\n",
       "      <td>NaN</td>\n",
       "    </tr>\n",
       "    <tr>\n",
       "      <th>1</th>\n",
       "      <td>NaN</td>\n",
       "    </tr>\n",
       "    <tr>\n",
       "      <th>2</th>\n",
       "      <td>NaN</td>\n",
       "    </tr>\n",
       "    <tr>\n",
       "      <th>3</th>\n",
       "      <td>NaN</td>\n",
       "    </tr>\n",
       "  </tbody>\n",
       "</table>\n",
       "</div>"
      ],
      "text/plain": [
       "    A\n",
       "0 NaN\n",
       "1 NaN\n",
       "2 NaN\n",
       "3 NaN"
      ]
     },
     "execution_count": 63,
     "metadata": {},
     "output_type": "execute_result"
    }
   ],
   "source": [
    "# create dataframe with NaN\n",
    "df = pd.DataFrame(np.nan, index=[0,1,2,3], columns=['A'])\n",
    "df"
   ]
  },
  {
   "cell_type": "code",
   "execution_count": 62,
   "metadata": {
    "collapsed": false,
    "deletable": true,
    "editable": true
   },
   "outputs": [
    {
     "data": {
      "text/html": [
       "<div>\n",
       "<table border=\"1\" class=\"dataframe\">\n",
       "  <thead>\n",
       "    <tr style=\"text-align: right;\">\n",
       "      <th></th>\n",
       "      <th>A</th>\n",
       "    </tr>\n",
       "  </thead>\n",
       "  <tbody>\n",
       "    <tr>\n",
       "      <th>0</th>\n",
       "      <td>0.0</td>\n",
       "    </tr>\n",
       "    <tr>\n",
       "      <th>1</th>\n",
       "      <td>0.0</td>\n",
       "    </tr>\n",
       "    <tr>\n",
       "      <th>2</th>\n",
       "      <td>0.0</td>\n",
       "    </tr>\n",
       "    <tr>\n",
       "      <th>3</th>\n",
       "      <td>0.0</td>\n",
       "    </tr>\n",
       "  </tbody>\n",
       "</table>\n",
       "</div>"
      ],
      "text/plain": [
       "     A\n",
       "0  0.0\n",
       "1  0.0\n",
       "2  0.0\n",
       "3  0.0"
      ]
     },
     "execution_count": 62,
     "metadata": {},
     "output_type": "execute_result"
    }
   ],
   "source": [
    "# convert those NaN into zeros\n",
    "df['A'] = df['A'].fillna(0)\n",
    "df"
   ]
  },
  {
   "cell_type": "code",
   "execution_count": null,
   "metadata": {
    "collapsed": true,
    "deletable": true,
    "editable": true
   },
   "outputs": [],
   "source": []
  },
  {
   "cell_type": "code",
   "execution_count": 68,
   "metadata": {
    "collapsed": false,
    "deletable": true,
    "editable": true
   },
   "outputs": [
    {
     "data": {
      "text/html": [
       "<div>\n",
       "<table border=\"1\" class=\"dataframe\">\n",
       "  <thead>\n",
       "    <tr style=\"text-align: right;\">\n",
       "      <th></th>\n",
       "      <th>A</th>\n",
       "    </tr>\n",
       "  </thead>\n",
       "  <tbody>\n",
       "    <tr>\n",
       "      <th>0</th>\n",
       "      <td>NaN</td>\n",
       "    </tr>\n",
       "    <tr>\n",
       "      <th>1</th>\n",
       "      <td>NaN</td>\n",
       "    </tr>\n",
       "    <tr>\n",
       "      <th>2</th>\n",
       "      <td>NaN</td>\n",
       "    </tr>\n",
       "    <tr>\n",
       "      <th>3</th>\n",
       "      <td>NaN</td>\n",
       "    </tr>\n",
       "  </tbody>\n",
       "</table>\n",
       "</div>"
      ],
      "text/plain": [
       "     A\n",
       "0  NaN\n",
       "1  NaN\n",
       "2  NaN\n",
       "3  NaN"
      ]
     },
     "execution_count": 68,
     "metadata": {},
     "output_type": "execute_result"
    }
   ],
   "source": [
    "df = pd.DataFrame(None, index=[0,1,2,3], columns=['A'])\n",
    "df"
   ]
  },
  {
   "cell_type": "code",
   "execution_count": 67,
   "metadata": {
    "collapsed": false,
    "deletable": true,
    "editable": true
   },
   "outputs": [
    {
     "data": {
      "text/html": [
       "<div>\n",
       "<table border=\"1\" class=\"dataframe\">\n",
       "  <thead>\n",
       "    <tr style=\"text-align: right;\">\n",
       "      <th></th>\n",
       "      <th>1</th>\n",
       "      <th>2</th>\n",
       "      <th>3</th>\n",
       "    </tr>\n",
       "  </thead>\n",
       "  <tbody>\n",
       "    <tr>\n",
       "      <th>0</th>\n",
       "      <td>NaN</td>\n",
       "      <td>NaN</td>\n",
       "      <td>NaN</td>\n",
       "    </tr>\n",
       "    <tr>\n",
       "      <th>1</th>\n",
       "      <td>NaN</td>\n",
       "      <td>NaN</td>\n",
       "      <td>NaN</td>\n",
       "    </tr>\n",
       "    <tr>\n",
       "      <th>2</th>\n",
       "      <td>NaN</td>\n",
       "      <td>NaN</td>\n",
       "      <td>NaN</td>\n",
       "    </tr>\n",
       "  </tbody>\n",
       "</table>\n",
       "</div>"
      ],
      "text/plain": [
       "    1   2   3\n",
       "0 NaN NaN NaN\n",
       "1 NaN NaN NaN\n",
       "2 NaN NaN NaN"
      ]
     },
     "execution_count": 67,
     "metadata": {},
     "output_type": "execute_result"
    }
   ],
   "source": [
    "data = [{'1': None},\n",
    "         {'2': None},\n",
    "         {'3': None}]\n",
    "df = pd.DataFrame(data)\n",
    "df"
   ]
  },
  {
   "cell_type": "code",
   "execution_count": 39,
   "metadata": {
    "collapsed": false,
    "deletable": true,
    "editable": true
   },
   "outputs": [],
   "source": [
    "# Total Discharges\n",
    "df_filtered['total_discharges'] = df_filtered.dcur + df_filtered.dead + df_filtered.defu + df_filtered.dmed\n",
    "\n",
    "# Total Exits - Cout (Mike Golden term)\n",
    "df_filtered['total_exits'] = df_filtered.total_discharges + df_filtered.tout"
   ]
  },
  {
   "cell_type": "code",
   "execution_count": null,
   "metadata": {
    "collapsed": true,
    "deletable": true,
    "editable": true
   },
   "outputs": [],
   "source": []
  },
  {
   "cell_type": "code",
   "execution_count": 40,
   "metadata": {
    "collapsed": false,
    "deletable": true,
    "editable": true
   },
   "outputs": [
    {
     "name": "stdout",
     "output_type": "stream",
     "text": [
      "       dcur  dead  defu  dmed  tout total_discharges total_exits\n",
      "2        12     0     1     0     0            12010      120100\n",
      "3        10     0     0     0     0            10000      100000\n",
      "4        15     0     1     0     0            15010      150100\n",
      "5        10     0     0     0     0            10000      100000\n",
      "6         2     0     1     0     0             2010       20100\n",
      "7         0     0     0     0     0             0000       00000\n",
      "8        24     0     0     0     0            24000      240000\n",
      "9         8     0     0     2     0             8002       80020\n",
      "10       10     0     0     0     0            10000      100000\n",
      "11        2     0     1     0     0             2010       20100\n",
      "12       24     0     0     0     0            24000      240000\n",
      "13        8     0     2     2     0             8022       80220\n",
      "14       18     0     0     0     0            18000      180000\n",
      "15        0  None  None  None  None              NaN         NaN\n",
      "16        5     0     0     0     0             5000       50000\n",
      "17        5     0     0     0     0             5000       50000\n",
      "18        7     0     0     0     0             7000       70000\n",
      "19        7     0     0     0     0             7000       70000\n",
      "20        2     0     1     1     1             2011       20111\n",
      "22       12     0     0     0     0            12000      120000\n",
      "23       10     0     0     1     1            10001      100011\n",
      "24       16     0     1     1     1            16011      160111\n",
      "25       12     0     0     0     0            12000      120000\n",
      "26       10     0     0     1     1            10001      100011\n",
      "27       16     0     1     1     1            16011      160111\n",
      "28       22     0     0     0     0            22000      220000\n",
      "29       13     0     0     0     0            13000      130000\n",
      "30       13     0     0     0     0            13000      130000\n",
      "33       13     0     2     2     2            13022      130222\n",
      "34       12     0     2     1     1            12021      120211\n",
      "...     ...   ...   ...   ...   ...              ...         ...\n",
      "31283     0     0     5     0     0             0050       00500\n",
      "31284     0     2     3     0     0             0230       02300\n",
      "31285     0     0     9     0     0             0090       00900\n",
      "31286     0     0     4     0     0             0040       00400\n",
      "31287     0     2     0     0     0             0200       02000\n",
      "31288     0     0     0     0     0             0000       00000\n",
      "31289     0     0     0     0     0             0000       00000\n",
      "31290     0     5     0     0     0             0500       05000\n",
      "31291     0     0     0     0     0             0000       00000\n",
      "31292    72     1     3     0    51            72130     7213051\n",
      "31293    72     1     0     0     0            72100      721000\n",
      "31294     7     2     1     0     4             7210       72104\n",
      "31295     7     0     0     0     0             7000       70000\n",
      "31297     2     1     1     0     0             2110       21100\n",
      "31298     2     0     0     0     2             2000       20002\n",
      "31299     0     0     0     0     0             0000       00000\n",
      "31300     1     0     0     5     0             1005       10050\n",
      "31302     3     0     1     3     0             3013       30130\n",
      "31303     3     0     0     1     3             3001       30013\n",
      "31304     4     0     0    11     0            40011      400110\n",
      "31305     0     0     0    17     0            00017      000170\n",
      "31306     4     0     0    18     0            40018      400180\n",
      "31307    10     0     2    41    41           100241    10024141\n",
      "31308    10     0     2    41     0           100241     1002410\n",
      "31309  None  None  None  None  None              NaN         NaN\n",
      "31310     2     0     5     0     0             2050       20500\n",
      "31311     9     0     1     0     0             9010       90100\n",
      "31312    11     1     2     1     1            11121      111211\n",
      "31313    17     0     1     2     0            17012      170120\n",
      "31314    17     0     1     0     0            17010      170100\n",
      "\n",
      "[23395 rows x 7 columns]\n"
     ]
    }
   ],
   "source": [
    "# Print columns\n",
    "columnsTitles = ['dcur', 'dead', 'defu', 'dmed', 'tout','total_discharges', 'total_exits']\n",
    "\n",
    "df2 = df_filtered.reindex(columns=columnsTitles)\n",
    "print df2"
   ]
  },
  {
   "cell_type": "code",
   "execution_count": 94,
   "metadata": {
    "collapsed": false,
    "deletable": true,
    "editable": true
   },
   "outputs": [],
   "source": [
    "\n"
   ]
  },
  {
   "cell_type": "code",
   "execution_count": 41,
   "metadata": {
    "collapsed": false,
    "deletable": true,
    "editable": true
   },
   "outputs": [],
   "source": [
    "# df_filtered.head()"
   ]
  },
  {
   "cell_type": "code",
   "execution_count": 99,
   "metadata": {
    "collapsed": true,
    "deletable": true,
    "editable": true
   },
   "outputs": [],
   "source": [
    "# Recast to int\n",
    "def cast_to_int(dataframe, list):\n",
    "    for l in list:\n",
    "        dataframe[l] = dataframe[l].astype('int')\n",
    "        # Remove all instances of NaN\n",
    "        dataframe[l] = dataframe[l].where((pd.notnull(df)), 0)\n",
    "    return dataframe"
   ]
  },
  {
   "cell_type": "code",
   "execution_count": 100,
   "metadata": {
    "collapsed": false,
    "deletable": true,
    "editable": true
   },
   "outputs": [
    {
     "name": "stdout",
     "output_type": "stream",
     "text": [
      "2    10\n",
      "3     8\n",
      "4    13\n",
      "5     8\n",
      "6    14\n",
      "Name: amar, dtype: int64\n",
      "2    26\n",
      "3    23\n",
      "4    22\n",
      "5    23\n",
      "6    24\n",
      "Name: weeknum, dtype: int64\n",
      "2    33\n",
      "3    33\n",
      "4    33\n",
      "5    33\n",
      "6    33\n",
      "Name: state_num, dtype: int64\n",
      "2    3313\n",
      "3    3308\n",
      "4    3308\n",
      "5    3308\n",
      "6    3308\n",
      "Name: lga_num, dtype: object\n",
      "2          3313\n",
      "3    3308110010\n",
      "4    3308110010\n",
      "5    3308110010\n",
      "6    3308110010\n",
      "Name: siteid, dtype: object\n",
      "2    12\n",
      "3    10\n",
      "4    15\n",
      "5    10\n",
      "6     2\n",
      "Name: dcur, dtype: int64\n",
      "2    12\n",
      "3    10\n",
      "4    15\n",
      "5    10\n",
      "6     2\n",
      "Name: dead, dtype: int64\n",
      "2    12\n",
      "3    10\n",
      "4    15\n",
      "5    10\n",
      "6     2\n",
      "Name: defu, dtype: int64\n",
      "2    12\n",
      "3    99\n",
      "4    15\n",
      "5    99\n",
      "6    99\n",
      "Name: dmed, dtype: int64\n",
      "2    12\n",
      "3    10\n",
      "4    15\n",
      "5    10\n",
      "6     2\n",
      "Name: tout, dtype: int64\n"
     ]
    }
   ],
   "source": [
    "for l in list:\n",
    "    print dataframe[l].head()"
   ]
  },
  {
   "cell_type": "code",
   "execution_count": null,
   "metadata": {
    "collapsed": true,
    "deletable": true,
    "editable": true
   },
   "outputs": [],
   "source": []
  },
  {
   "cell_type": "code",
   "execution_count": 71,
   "metadata": {
    "collapsed": false,
    "deletable": true,
    "editable": true
   },
   "outputs": [],
   "source": [
    "import numpy as np\n",
    "df_filtered['dmed'] = np.where((df_filtered['dmed']<11),99,df_filtered['dmed'])\n",
    "# # df = df.where((pd.notnull(df)), None)"
   ]
  },
  {
   "cell_type": "code",
   "execution_count": 72,
   "metadata": {
    "collapsed": false,
    "deletable": true,
    "editable": true
   },
   "outputs": [
    {
     "data": {
      "text/plain": [
       "2    12\n",
       "3    99\n",
       "4    15\n",
       "5    99\n",
       "6    99\n",
       "Name: dmed, dtype: int64"
      ]
     },
     "execution_count": 72,
     "metadata": {},
     "output_type": "execute_result"
    }
   ],
   "source": [
    "df_filtered['dmed'].head()"
   ]
  },
  {
   "cell_type": "code",
   "execution_count": null,
   "metadata": {
    "collapsed": true,
    "deletable": true,
    "editable": true
   },
   "outputs": [],
   "source": [
    "# Conditional \n",
    "df['color'] = np.where(df['Set'] == 'Z', 'green', 'red')"
   ]
  },
  {
   "cell_type": "code",
   "execution_count": null,
   "metadata": {
    "collapsed": true,
    "deletable": true,
    "editable": true
   },
   "outputs": [],
   "source": []
  },
  {
   "cell_type": "code",
   "execution_count": 58,
   "metadata": {
    "collapsed": false,
    "deletable": true,
    "editable": true
   },
   "outputs": [
    {
     "data": {
      "text/plain": [
       "2         60\n",
       "3         50\n",
       "4         75\n",
       "5         50\n",
       "6         10\n",
       "7          0\n",
       "8        120\n",
       "9         40\n",
       "10        50\n",
       "11        10\n",
       "12       120\n",
       "13        40\n",
       "14        90\n",
       "16        25\n",
       "17        25\n",
       "18        35\n",
       "19        35\n",
       "20        10\n",
       "22        60\n",
       "23        50\n",
       "24        80\n",
       "25        60\n",
       "26        50\n",
       "27        80\n",
       "28       110\n",
       "29        65\n",
       "30        65\n",
       "33        65\n",
       "34        60\n",
       "35        70\n",
       "        ... \n",
       "31281     35\n",
       "31283      0\n",
       "31284      0\n",
       "31285      0\n",
       "31286      0\n",
       "31287      0\n",
       "31288      0\n",
       "31289      0\n",
       "31290      0\n",
       "31291      0\n",
       "31292    360\n",
       "31293    360\n",
       "31294     35\n",
       "31295     35\n",
       "31297     10\n",
       "31298     10\n",
       "31299      0\n",
       "31300      5\n",
       "31302     15\n",
       "31303     15\n",
       "31304     20\n",
       "31305      0\n",
       "31306     20\n",
       "31307     50\n",
       "31308     50\n",
       "31310     10\n",
       "31311     45\n",
       "31312     55\n",
       "31313     85\n",
       "31314     85\n",
       "Name: total_exits, dtype: int64"
      ]
     },
     "execution_count": 58,
     "metadata": {},
     "output_type": "execute_result"
    }
   ],
   "source": [
    "df_filtered['total_exits']"
   ]
  },
  {
   "cell_type": "code",
   "execution_count": 19,
   "metadata": {
    "collapsed": true,
    "deletable": true,
    "editable": true
   },
   "outputs": [],
   "source": [
    "# Transfers out - to another implementation site in the program - note different denominator\n",
    "# must first ensure that all values are integers / numbers\n",
    "\n",
    "# Data cleaning for exit rates\n",
    "for i in ('dcur', 'dead', 'defu', 'dmed', 'tout'):\n",
    "    df_filtered[i] = pd.to_numeric(df_filtered[i], errors='coerce')\n",
    "    # line below deletes entire row where a NaN is found\n",
    "    df_filtered = df_filtered.query('%s==%s' % (i, i)).query('0<=%s' % i)\n",
    "    df_filtered[i] = df_filtered.dcur.astype(int)"
   ]
  },
  {
   "cell_type": "code",
   "execution_count": null,
   "metadata": {
    "collapsed": false,
    "deletable": true,
    "editable": true
   },
   "outputs": [],
   "source": []
  },
  {
   "cell_type": "code",
   "execution_count": 23,
   "metadata": {
    "collapsed": false,
    "deletable": true,
    "editable": true
   },
   "outputs": [
    {
     "name": "stderr",
     "output_type": "stream",
     "text": [
      "/home/robert/PycharmProjects/IMAM/ve/lib/python2.7/site-packages/ipykernel/__main__.py:2: SettingWithCopyWarning: \n",
      "A value is trying to be set on a copy of a slice from a DataFrame\n",
      "\n",
      "See the caveats in the documentation: http://pandas.pydata.org/pandas-docs/stable/indexing.html#indexing-view-versus-copy\n",
      "  from ipykernel import kernelapp as app\n"
     ]
    }
   ],
   "source": [
    "# recast to integer - remove NaN\n",
    "df_filtered.total_exits[df_filtered.total_exits != df_filtered.total_exits] = 0"
   ]
  },
  {
   "cell_type": "code",
   "execution_count": 27,
   "metadata": {
    "collapsed": false,
    "deletable": true,
    "editable": true
   },
   "outputs": [
    {
     "data": {
      "text/plain": [
       "2    120100\n",
       "3    100000\n",
       "4    150100\n",
       "5    100000\n",
       "6     20100\n",
       "Name: total_exits, dtype: object"
      ]
     },
     "execution_count": 27,
     "metadata": {},
     "output_type": "execute_result"
    }
   ],
   "source": [
    "df_filtered['total_exits'].head()"
   ]
  },
  {
   "cell_type": "code",
   "execution_count": 28,
   "metadata": {
    "collapsed": false,
    "deletable": true,
    "editable": true
   },
   "outputs": [
    {
     "data": {
      "text/plain": [
       "array([u'120100', u'100000', u'150100', ..., u'10024141', u'1002410',\n",
       "       u'111211'], dtype=object)"
      ]
     },
     "execution_count": 28,
     "metadata": {},
     "output_type": "execute_result"
    }
   ],
   "source": [
    "df_filtered['total_exits'].unique()"
   ]
  },
  {
   "cell_type": "code",
   "execution_count": 24,
   "metadata": {
    "collapsed": false,
    "deletable": true,
    "editable": true
   },
   "outputs": [
    {
     "ename": "TypeError",
     "evalue": "unsupported operand type(s) for /: 'int' and 'unicode'",
     "output_type": "error",
     "traceback": [
      "\u001b[0;31m---------------------------------------------------------------------------\u001b[0m",
      "\u001b[0;31mTypeError\u001b[0m                                 Traceback (most recent call last)",
      "\u001b[0;32m<ipython-input-24-3f2241ae563f>\u001b[0m in \u001b[0;36m<module>\u001b[0;34m()\u001b[0m\n\u001b[1;32m      1\u001b[0m \u001b[0;31m# Transfers out - to another implementation site in the program - note different denominator\u001b[0m\u001b[0;34m\u001b[0m\u001b[0;34m\u001b[0m\u001b[0m\n\u001b[0;32m----> 2\u001b[0;31m \u001b[0mdf_filtered\u001b[0m\u001b[0;34m[\u001b[0m\u001b[0;34m'transfer_out_rate'\u001b[0m\u001b[0;34m]\u001b[0m \u001b[0;34m=\u001b[0m \u001b[0mdf_filtered\u001b[0m\u001b[0;34m.\u001b[0m\u001b[0mtout\u001b[0m \u001b[0;34m/\u001b[0m \u001b[0mdf_filtered\u001b[0m\u001b[0;34m.\u001b[0m\u001b[0mtotal_exits\u001b[0m\u001b[0;34m\u001b[0m\u001b[0m\n\u001b[0m",
      "\u001b[0;32m/home/robert/PycharmProjects/IMAM/ve/local/lib/python2.7/site-packages/pandas/core/ops.pyc\u001b[0m in \u001b[0;36mwrapper\u001b[0;34m(left, right, name, na_op)\u001b[0m\n\u001b[1;32m    713\u001b[0m                 \u001b[0mlvalues\u001b[0m \u001b[0;34m=\u001b[0m \u001b[0mlvalues\u001b[0m\u001b[0;34m.\u001b[0m\u001b[0mvalues\u001b[0m\u001b[0;34m\u001b[0m\u001b[0m\n\u001b[1;32m    714\u001b[0m \u001b[0;34m\u001b[0m\u001b[0m\n\u001b[0;32m--> 715\u001b[0;31m         \u001b[0mresult\u001b[0m \u001b[0;34m=\u001b[0m \u001b[0mwrap_results\u001b[0m\u001b[0;34m(\u001b[0m\u001b[0msafe_na_op\u001b[0m\u001b[0;34m(\u001b[0m\u001b[0mlvalues\u001b[0m\u001b[0;34m,\u001b[0m \u001b[0mrvalues\u001b[0m\u001b[0;34m)\u001b[0m\u001b[0;34m)\u001b[0m\u001b[0;34m\u001b[0m\u001b[0m\n\u001b[0m\u001b[1;32m    716\u001b[0m         return construct_result(\n\u001b[1;32m    717\u001b[0m             \u001b[0mleft\u001b[0m\u001b[0;34m,\u001b[0m\u001b[0;34m\u001b[0m\u001b[0m\n",
      "\u001b[0;32m/home/robert/PycharmProjects/IMAM/ve/local/lib/python2.7/site-packages/pandas/core/ops.pyc\u001b[0m in \u001b[0;36msafe_na_op\u001b[0;34m(lvalues, rvalues)\u001b[0m\n\u001b[1;32m    674\u001b[0m         \u001b[0;32mtry\u001b[0m\u001b[0;34m:\u001b[0m\u001b[0;34m\u001b[0m\u001b[0m\n\u001b[1;32m    675\u001b[0m             \u001b[0;32mwith\u001b[0m \u001b[0mnp\u001b[0m\u001b[0;34m.\u001b[0m\u001b[0merrstate\u001b[0m\u001b[0;34m(\u001b[0m\u001b[0mall\u001b[0m\u001b[0;34m=\u001b[0m\u001b[0;34m'ignore'\u001b[0m\u001b[0;34m)\u001b[0m\u001b[0;34m:\u001b[0m\u001b[0;34m\u001b[0m\u001b[0m\n\u001b[0;32m--> 676\u001b[0;31m                 \u001b[0;32mreturn\u001b[0m \u001b[0mna_op\u001b[0m\u001b[0;34m(\u001b[0m\u001b[0mlvalues\u001b[0m\u001b[0;34m,\u001b[0m \u001b[0mrvalues\u001b[0m\u001b[0;34m)\u001b[0m\u001b[0;34m\u001b[0m\u001b[0m\n\u001b[0m\u001b[1;32m    677\u001b[0m         \u001b[0;32mexcept\u001b[0m \u001b[0mException\u001b[0m\u001b[0;34m:\u001b[0m\u001b[0;34m\u001b[0m\u001b[0m\n\u001b[1;32m    678\u001b[0m             \u001b[0;32mif\u001b[0m \u001b[0misinstance\u001b[0m\u001b[0;34m(\u001b[0m\u001b[0mrvalues\u001b[0m\u001b[0;34m,\u001b[0m \u001b[0mABCSeries\u001b[0m\u001b[0;34m)\u001b[0m\u001b[0;34m:\u001b[0m\u001b[0;34m\u001b[0m\u001b[0m\n",
      "\u001b[0;32m/home/robert/PycharmProjects/IMAM/ve/local/lib/python2.7/site-packages/pandas/core/ops.pyc\u001b[0m in \u001b[0;36mna_op\u001b[0;34m(x, y)\u001b[0m\n\u001b[1;32m    656\u001b[0m                 \u001b[0mresult\u001b[0m \u001b[0;34m=\u001b[0m \u001b[0mnp\u001b[0m\u001b[0;34m.\u001b[0m\u001b[0mempty\u001b[0m\u001b[0;34m(\u001b[0m\u001b[0mx\u001b[0m\u001b[0;34m.\u001b[0m\u001b[0msize\u001b[0m\u001b[0;34m,\u001b[0m \u001b[0mdtype\u001b[0m\u001b[0;34m=\u001b[0m\u001b[0mdtype\u001b[0m\u001b[0;34m)\u001b[0m\u001b[0;34m\u001b[0m\u001b[0m\n\u001b[1;32m    657\u001b[0m                 \u001b[0mmask\u001b[0m \u001b[0;34m=\u001b[0m \u001b[0mnotnull\u001b[0m\u001b[0;34m(\u001b[0m\u001b[0mx\u001b[0m\u001b[0;34m)\u001b[0m \u001b[0;34m&\u001b[0m \u001b[0mnotnull\u001b[0m\u001b[0;34m(\u001b[0m\u001b[0my\u001b[0m\u001b[0;34m)\u001b[0m\u001b[0;34m\u001b[0m\u001b[0m\n\u001b[0;32m--> 658\u001b[0;31m                 \u001b[0mresult\u001b[0m\u001b[0;34m[\u001b[0m\u001b[0mmask\u001b[0m\u001b[0;34m]\u001b[0m \u001b[0;34m=\u001b[0m \u001b[0mop\u001b[0m\u001b[0;34m(\u001b[0m\u001b[0mx\u001b[0m\u001b[0;34m[\u001b[0m\u001b[0mmask\u001b[0m\u001b[0;34m]\u001b[0m\u001b[0;34m,\u001b[0m \u001b[0m_values_from_object\u001b[0m\u001b[0;34m(\u001b[0m\u001b[0my\u001b[0m\u001b[0;34m[\u001b[0m\u001b[0mmask\u001b[0m\u001b[0;34m]\u001b[0m\u001b[0;34m)\u001b[0m\u001b[0;34m)\u001b[0m\u001b[0;34m\u001b[0m\u001b[0m\n\u001b[0m\u001b[1;32m    659\u001b[0m             \u001b[0;32melif\u001b[0m \u001b[0misinstance\u001b[0m\u001b[0;34m(\u001b[0m\u001b[0mx\u001b[0m\u001b[0;34m,\u001b[0m \u001b[0mnp\u001b[0m\u001b[0;34m.\u001b[0m\u001b[0mndarray\u001b[0m\u001b[0;34m)\u001b[0m\u001b[0;34m:\u001b[0m\u001b[0;34m\u001b[0m\u001b[0m\n\u001b[1;32m    660\u001b[0m                 \u001b[0mresult\u001b[0m \u001b[0;34m=\u001b[0m \u001b[0mnp\u001b[0m\u001b[0;34m.\u001b[0m\u001b[0mempty\u001b[0m\u001b[0;34m(\u001b[0m\u001b[0mlen\u001b[0m\u001b[0;34m(\u001b[0m\u001b[0mx\u001b[0m\u001b[0;34m)\u001b[0m\u001b[0;34m,\u001b[0m \u001b[0mdtype\u001b[0m\u001b[0;34m=\u001b[0m\u001b[0mx\u001b[0m\u001b[0;34m.\u001b[0m\u001b[0mdtype\u001b[0m\u001b[0;34m)\u001b[0m\u001b[0;34m\u001b[0m\u001b[0m\n",
      "\u001b[0;31mTypeError\u001b[0m: unsupported operand type(s) for /: 'int' and 'unicode'"
     ]
    }
   ],
   "source": [
    "# Transfers out - to another implementation site in the program - note different denominator\n",
    "df_filtered['transfer_out_rate'] = df_filtered.tout / df_filtered.total_exits"
   ]
  },
  {
   "cell_type": "code",
   "execution_count": null,
   "metadata": {
    "collapsed": true,
    "deletable": true,
    "editable": true
   },
   "outputs": [],
   "source": []
  },
  {
   "cell_type": "code",
   "execution_count": 17,
   "metadata": {
    "collapsed": false,
    "deletable": true,
    "editable": true
   },
   "outputs": [
    {
     "ename": "AttributeError",
     "evalue": "'DataFrame' object has no attribute 'transfer_out_rate'",
     "output_type": "error",
     "traceback": [
      "\u001b[0;31m---------------------------------------------------------------------------\u001b[0m",
      "\u001b[0;31mAttributeError\u001b[0m                            Traceback (most recent call last)",
      "\u001b[0;32m<ipython-input-17-6741bb50ddb3>\u001b[0m in \u001b[0;36m<module>\u001b[0;34m()\u001b[0m\n\u001b[0;32m----> 1\u001b[0;31m \u001b[0mdf_filtered\u001b[0m\u001b[0;34m.\u001b[0m\u001b[0mtransfer_out_rate\u001b[0m\u001b[0;34m[\u001b[0m\u001b[0mdf_filtered\u001b[0m\u001b[0;34m.\u001b[0m\u001b[0mtransfer_out_rate\u001b[0m \u001b[0;34m!=\u001b[0m \u001b[0mdf_filtered\u001b[0m\u001b[0;34m.\u001b[0m\u001b[0mtransfer_out_rate\u001b[0m\u001b[0;34m]\u001b[0m \u001b[0;34m=\u001b[0m \u001b[0;36m0\u001b[0m\u001b[0;34m\u001b[0m\u001b[0m\n\u001b[0m",
      "\u001b[0;32m/home/robert/PycharmProjects/IMAM/ve/local/lib/python2.7/site-packages/pandas/core/generic.pyc\u001b[0m in \u001b[0;36m__getattr__\u001b[0;34m(self, name)\u001b[0m\n\u001b[1;32m   2742\u001b[0m             \u001b[0;32mif\u001b[0m \u001b[0mname\u001b[0m \u001b[0;32min\u001b[0m \u001b[0mself\u001b[0m\u001b[0;34m.\u001b[0m\u001b[0m_info_axis\u001b[0m\u001b[0;34m:\u001b[0m\u001b[0;34m\u001b[0m\u001b[0m\n\u001b[1;32m   2743\u001b[0m                 \u001b[0;32mreturn\u001b[0m \u001b[0mself\u001b[0m\u001b[0;34m[\u001b[0m\u001b[0mname\u001b[0m\u001b[0;34m]\u001b[0m\u001b[0;34m\u001b[0m\u001b[0m\n\u001b[0;32m-> 2744\u001b[0;31m             \u001b[0;32mreturn\u001b[0m \u001b[0mobject\u001b[0m\u001b[0;34m.\u001b[0m\u001b[0m__getattribute__\u001b[0m\u001b[0;34m(\u001b[0m\u001b[0mself\u001b[0m\u001b[0;34m,\u001b[0m \u001b[0mname\u001b[0m\u001b[0;34m)\u001b[0m\u001b[0;34m\u001b[0m\u001b[0m\n\u001b[0m\u001b[1;32m   2745\u001b[0m \u001b[0;34m\u001b[0m\u001b[0m\n\u001b[1;32m   2746\u001b[0m     \u001b[0;32mdef\u001b[0m \u001b[0m__setattr__\u001b[0m\u001b[0;34m(\u001b[0m\u001b[0mself\u001b[0m\u001b[0;34m,\u001b[0m \u001b[0mname\u001b[0m\u001b[0;34m,\u001b[0m \u001b[0mvalue\u001b[0m\u001b[0;34m)\u001b[0m\u001b[0;34m:\u001b[0m\u001b[0;34m\u001b[0m\u001b[0m\n",
      "\u001b[0;31mAttributeError\u001b[0m: 'DataFrame' object has no attribute 'transfer_out_rate'"
     ]
    }
   ],
   "source": [
    "df_filtered.transfer_out_rate[df_filtered.transfer_out_rate != df_filtered.transfer_out_rate] = 0"
   ]
  },
  {
   "cell_type": "code",
   "execution_count": 16,
   "metadata": {
    "collapsed": false,
    "deletable": true,
    "editable": true
   },
   "outputs": [
    {
     "ename": "KeyError",
     "evalue": "'transfer_out_rate'",
     "output_type": "error",
     "traceback": [
      "\u001b[0;31m---------------------------------------------------------------------------\u001b[0m",
      "\u001b[0;31mKeyError\u001b[0m                                  Traceback (most recent call last)",
      "\u001b[0;32m<ipython-input-16-6ad709180fcb>\u001b[0m in \u001b[0;36m<module>\u001b[0;34m()\u001b[0m\n\u001b[0;32m----> 1\u001b[0;31m \u001b[0mtransfer_out_rate_by_week\u001b[0m \u001b[0;34m=\u001b[0m \u001b[0mdf_filtered\u001b[0m\u001b[0;34m[\u001b[0m\u001b[0;34m'transfer_out_rate'\u001b[0m\u001b[0;34m]\u001b[0m\u001b[0;34m.\u001b[0m\u001b[0mgroupby\u001b[0m\u001b[0;34m(\u001b[0m\u001b[0mdf_filtered\u001b[0m\u001b[0;34m[\u001b[0m\u001b[0;34m'weeknum'\u001b[0m\u001b[0;34m]\u001b[0m\u001b[0;34m)\u001b[0m\u001b[0;34m.\u001b[0m\u001b[0msum\u001b[0m\u001b[0;34m(\u001b[0m\u001b[0;34m)\u001b[0m\u001b[0;34m\u001b[0m\u001b[0m\n\u001b[0m\u001b[1;32m      2\u001b[0m \u001b[0;31m# To filter\u001b[0m\u001b[0;34m\u001b[0m\u001b[0;34m\u001b[0m\u001b[0m\n\u001b[1;32m      3\u001b[0m \u001b[0;31m#adm_by_week = df_filtered.query('lga_num==201')['amar'].groupby(df_filtered['weeknum']).sum()\u001b[0m\u001b[0;34m\u001b[0m\u001b[0;34m\u001b[0m\u001b[0m\n",
      "\u001b[0;32m/home/robert/PycharmProjects/IMAM/ve/local/lib/python2.7/site-packages/pandas/core/frame.pyc\u001b[0m in \u001b[0;36m__getitem__\u001b[0;34m(self, key)\u001b[0m\n\u001b[1;32m   2057\u001b[0m             \u001b[0;32mreturn\u001b[0m \u001b[0mself\u001b[0m\u001b[0;34m.\u001b[0m\u001b[0m_getitem_multilevel\u001b[0m\u001b[0;34m(\u001b[0m\u001b[0mkey\u001b[0m\u001b[0;34m)\u001b[0m\u001b[0;34m\u001b[0m\u001b[0m\n\u001b[1;32m   2058\u001b[0m         \u001b[0;32melse\u001b[0m\u001b[0;34m:\u001b[0m\u001b[0;34m\u001b[0m\u001b[0m\n\u001b[0;32m-> 2059\u001b[0;31m             \u001b[0;32mreturn\u001b[0m \u001b[0mself\u001b[0m\u001b[0;34m.\u001b[0m\u001b[0m_getitem_column\u001b[0m\u001b[0;34m(\u001b[0m\u001b[0mkey\u001b[0m\u001b[0;34m)\u001b[0m\u001b[0;34m\u001b[0m\u001b[0m\n\u001b[0m\u001b[1;32m   2060\u001b[0m \u001b[0;34m\u001b[0m\u001b[0m\n\u001b[1;32m   2061\u001b[0m     \u001b[0;32mdef\u001b[0m \u001b[0m_getitem_column\u001b[0m\u001b[0;34m(\u001b[0m\u001b[0mself\u001b[0m\u001b[0;34m,\u001b[0m \u001b[0mkey\u001b[0m\u001b[0;34m)\u001b[0m\u001b[0;34m:\u001b[0m\u001b[0;34m\u001b[0m\u001b[0m\n",
      "\u001b[0;32m/home/robert/PycharmProjects/IMAM/ve/local/lib/python2.7/site-packages/pandas/core/frame.pyc\u001b[0m in \u001b[0;36m_getitem_column\u001b[0;34m(self, key)\u001b[0m\n\u001b[1;32m   2064\u001b[0m         \u001b[0;31m# get column\u001b[0m\u001b[0;34m\u001b[0m\u001b[0;34m\u001b[0m\u001b[0m\n\u001b[1;32m   2065\u001b[0m         \u001b[0;32mif\u001b[0m \u001b[0mself\u001b[0m\u001b[0;34m.\u001b[0m\u001b[0mcolumns\u001b[0m\u001b[0;34m.\u001b[0m\u001b[0mis_unique\u001b[0m\u001b[0;34m:\u001b[0m\u001b[0;34m\u001b[0m\u001b[0m\n\u001b[0;32m-> 2066\u001b[0;31m             \u001b[0;32mreturn\u001b[0m \u001b[0mself\u001b[0m\u001b[0;34m.\u001b[0m\u001b[0m_get_item_cache\u001b[0m\u001b[0;34m(\u001b[0m\u001b[0mkey\u001b[0m\u001b[0;34m)\u001b[0m\u001b[0;34m\u001b[0m\u001b[0m\n\u001b[0m\u001b[1;32m   2067\u001b[0m \u001b[0;34m\u001b[0m\u001b[0m\n\u001b[1;32m   2068\u001b[0m         \u001b[0;31m# duplicate columns & possible reduce dimensionality\u001b[0m\u001b[0;34m\u001b[0m\u001b[0;34m\u001b[0m\u001b[0m\n",
      "\u001b[0;32m/home/robert/PycharmProjects/IMAM/ve/local/lib/python2.7/site-packages/pandas/core/generic.pyc\u001b[0m in \u001b[0;36m_get_item_cache\u001b[0;34m(self, item)\u001b[0m\n\u001b[1;32m   1384\u001b[0m         \u001b[0mres\u001b[0m \u001b[0;34m=\u001b[0m \u001b[0mcache\u001b[0m\u001b[0;34m.\u001b[0m\u001b[0mget\u001b[0m\u001b[0;34m(\u001b[0m\u001b[0mitem\u001b[0m\u001b[0;34m)\u001b[0m\u001b[0;34m\u001b[0m\u001b[0m\n\u001b[1;32m   1385\u001b[0m         \u001b[0;32mif\u001b[0m \u001b[0mres\u001b[0m \u001b[0;32mis\u001b[0m \u001b[0mNone\u001b[0m\u001b[0;34m:\u001b[0m\u001b[0;34m\u001b[0m\u001b[0m\n\u001b[0;32m-> 1386\u001b[0;31m             \u001b[0mvalues\u001b[0m \u001b[0;34m=\u001b[0m \u001b[0mself\u001b[0m\u001b[0;34m.\u001b[0m\u001b[0m_data\u001b[0m\u001b[0;34m.\u001b[0m\u001b[0mget\u001b[0m\u001b[0;34m(\u001b[0m\u001b[0mitem\u001b[0m\u001b[0;34m)\u001b[0m\u001b[0;34m\u001b[0m\u001b[0m\n\u001b[0m\u001b[1;32m   1387\u001b[0m             \u001b[0mres\u001b[0m \u001b[0;34m=\u001b[0m \u001b[0mself\u001b[0m\u001b[0;34m.\u001b[0m\u001b[0m_box_item_values\u001b[0m\u001b[0;34m(\u001b[0m\u001b[0mitem\u001b[0m\u001b[0;34m,\u001b[0m \u001b[0mvalues\u001b[0m\u001b[0;34m)\u001b[0m\u001b[0;34m\u001b[0m\u001b[0m\n\u001b[1;32m   1388\u001b[0m             \u001b[0mcache\u001b[0m\u001b[0;34m[\u001b[0m\u001b[0mitem\u001b[0m\u001b[0;34m]\u001b[0m \u001b[0;34m=\u001b[0m \u001b[0mres\u001b[0m\u001b[0;34m\u001b[0m\u001b[0m\n",
      "\u001b[0;32m/home/robert/PycharmProjects/IMAM/ve/local/lib/python2.7/site-packages/pandas/core/internals.pyc\u001b[0m in \u001b[0;36mget\u001b[0;34m(self, item, fastpath)\u001b[0m\n\u001b[1;32m   3541\u001b[0m \u001b[0;34m\u001b[0m\u001b[0m\n\u001b[1;32m   3542\u001b[0m             \u001b[0;32mif\u001b[0m \u001b[0;32mnot\u001b[0m \u001b[0misnull\u001b[0m\u001b[0;34m(\u001b[0m\u001b[0mitem\u001b[0m\u001b[0;34m)\u001b[0m\u001b[0;34m:\u001b[0m\u001b[0;34m\u001b[0m\u001b[0m\n\u001b[0;32m-> 3543\u001b[0;31m                 \u001b[0mloc\u001b[0m \u001b[0;34m=\u001b[0m \u001b[0mself\u001b[0m\u001b[0;34m.\u001b[0m\u001b[0mitems\u001b[0m\u001b[0;34m.\u001b[0m\u001b[0mget_loc\u001b[0m\u001b[0;34m(\u001b[0m\u001b[0mitem\u001b[0m\u001b[0;34m)\u001b[0m\u001b[0;34m\u001b[0m\u001b[0m\n\u001b[0m\u001b[1;32m   3544\u001b[0m             \u001b[0;32melse\u001b[0m\u001b[0;34m:\u001b[0m\u001b[0;34m\u001b[0m\u001b[0m\n\u001b[1;32m   3545\u001b[0m                 \u001b[0mindexer\u001b[0m \u001b[0;34m=\u001b[0m \u001b[0mnp\u001b[0m\u001b[0;34m.\u001b[0m\u001b[0marange\u001b[0m\u001b[0;34m(\u001b[0m\u001b[0mlen\u001b[0m\u001b[0;34m(\u001b[0m\u001b[0mself\u001b[0m\u001b[0;34m.\u001b[0m\u001b[0mitems\u001b[0m\u001b[0;34m)\u001b[0m\u001b[0;34m)\u001b[0m\u001b[0;34m[\u001b[0m\u001b[0misnull\u001b[0m\u001b[0;34m(\u001b[0m\u001b[0mself\u001b[0m\u001b[0;34m.\u001b[0m\u001b[0mitems\u001b[0m\u001b[0;34m)\u001b[0m\u001b[0;34m]\u001b[0m\u001b[0;34m\u001b[0m\u001b[0m\n",
      "\u001b[0;32m/home/robert/PycharmProjects/IMAM/ve/local/lib/python2.7/site-packages/pandas/indexes/base.pyc\u001b[0m in \u001b[0;36mget_loc\u001b[0;34m(self, key, method, tolerance)\u001b[0m\n\u001b[1;32m   2134\u001b[0m                 \u001b[0;32mreturn\u001b[0m \u001b[0mself\u001b[0m\u001b[0;34m.\u001b[0m\u001b[0m_engine\u001b[0m\u001b[0;34m.\u001b[0m\u001b[0mget_loc\u001b[0m\u001b[0;34m(\u001b[0m\u001b[0mkey\u001b[0m\u001b[0;34m)\u001b[0m\u001b[0;34m\u001b[0m\u001b[0m\n\u001b[1;32m   2135\u001b[0m             \u001b[0;32mexcept\u001b[0m \u001b[0mKeyError\u001b[0m\u001b[0;34m:\u001b[0m\u001b[0;34m\u001b[0m\u001b[0m\n\u001b[0;32m-> 2136\u001b[0;31m                 \u001b[0;32mreturn\u001b[0m \u001b[0mself\u001b[0m\u001b[0;34m.\u001b[0m\u001b[0m_engine\u001b[0m\u001b[0;34m.\u001b[0m\u001b[0mget_loc\u001b[0m\u001b[0;34m(\u001b[0m\u001b[0mself\u001b[0m\u001b[0;34m.\u001b[0m\u001b[0m_maybe_cast_indexer\u001b[0m\u001b[0;34m(\u001b[0m\u001b[0mkey\u001b[0m\u001b[0;34m)\u001b[0m\u001b[0;34m)\u001b[0m\u001b[0;34m\u001b[0m\u001b[0m\n\u001b[0m\u001b[1;32m   2137\u001b[0m \u001b[0;34m\u001b[0m\u001b[0m\n\u001b[1;32m   2138\u001b[0m         \u001b[0mindexer\u001b[0m \u001b[0;34m=\u001b[0m \u001b[0mself\u001b[0m\u001b[0;34m.\u001b[0m\u001b[0mget_indexer\u001b[0m\u001b[0;34m(\u001b[0m\u001b[0;34m[\u001b[0m\u001b[0mkey\u001b[0m\u001b[0;34m]\u001b[0m\u001b[0;34m,\u001b[0m \u001b[0mmethod\u001b[0m\u001b[0;34m=\u001b[0m\u001b[0mmethod\u001b[0m\u001b[0;34m,\u001b[0m \u001b[0mtolerance\u001b[0m\u001b[0;34m=\u001b[0m\u001b[0mtolerance\u001b[0m\u001b[0;34m)\u001b[0m\u001b[0;34m\u001b[0m\u001b[0m\n",
      "\u001b[0;32mpandas/index.pyx\u001b[0m in \u001b[0;36mpandas.index.IndexEngine.get_loc (pandas/index.c:4433)\u001b[0;34m()\u001b[0m\n",
      "\u001b[0;32mpandas/index.pyx\u001b[0m in \u001b[0;36mpandas.index.IndexEngine.get_loc (pandas/index.c:4279)\u001b[0;34m()\u001b[0m\n",
      "\u001b[0;32mpandas/src/hashtable_class_helper.pxi\u001b[0m in \u001b[0;36mpandas.hashtable.PyObjectHashTable.get_item (pandas/hashtable.c:13742)\u001b[0;34m()\u001b[0m\n",
      "\u001b[0;32mpandas/src/hashtable_class_helper.pxi\u001b[0m in \u001b[0;36mpandas.hashtable.PyObjectHashTable.get_item (pandas/hashtable.c:13696)\u001b[0;34m()\u001b[0m\n",
      "\u001b[0;31mKeyError\u001b[0m: 'transfer_out_rate'"
     ]
    }
   ],
   "source": [
    "transfer_out_rate_by_week = df_filtered['transfer_out_rate'].groupby(df_filtered['weeknum']).sum()\n",
    "# To filter\n",
    "#adm_by_week = df_filtered.query('lga_num==201')['amar'].groupby(df_filtered['weeknum']).sum()"
   ]
  },
  {
   "cell_type": "code",
   "execution_count": null,
   "metadata": {
    "collapsed": false,
    "deletable": true,
    "editable": true
   },
   "outputs": [],
   "source": [
    "#adm_by_week = df_filtered.query('lga_num==201')['amar'].groupby(df_filtered['weeknum']).sum()\n"
   ]
  },
  {
   "cell_type": "code",
   "execution_count": null,
   "metadata": {
    "collapsed": false,
    "deletable": true,
    "editable": true
   },
   "outputs": [],
   "source": [
    "adm_by_week.plot()"
   ]
  },
  {
   "cell_type": "code",
   "execution_count": null,
   "metadata": {
    "collapsed": false,
    "deletable": true,
    "editable": true
   },
   "outputs": [],
   "source": []
  },
  {
   "cell_type": "code",
   "execution_count": null,
   "metadata": {
    "collapsed": true,
    "deletable": true,
    "editable": true
   },
   "outputs": [],
   "source": [
    "# Assign name to name_of_selected to output the name of the selected site\n",
    "name_of_selected = \"no name\"\n"
   ]
  },
  {
   "cell_type": "code",
   "execution_count": null,
   "metadata": {
    "collapsed": false,
    "deletable": true,
    "editable": true
   },
   "outputs": [],
   "source": [
    "Siteid = {\"siteid\": 1, \"sitename\": \"Murtala\"}"
   ]
  },
  {
   "cell_type": "code",
   "execution_count": null,
   "metadata": {
    "collapsed": false,
    "deletable": true,
    "editable": true
   },
   "outputs": [],
   "source": [
    "data_type = \"site\""
   ]
  },
  {
   "cell_type": "code",
   "execution_count": null,
   "metadata": {
    "collapsed": false,
    "deletable": true,
    "editable": true
   },
   "outputs": [],
   "source": [
    "if data_type == \"site\":\n",
    "    name_of_selected = Siteid.get(\"sitename\")"
   ]
  },
  {
   "cell_type": "code",
   "execution_count": null,
   "metadata": {
    "collapsed": false,
    "deletable": true,
    "editable": true
   },
   "outputs": [],
   "source": [
    "print name_of_selected "
   ]
  },
  {
   "cell_type": "code",
   "execution_count": null,
   "metadata": {
    "collapsed": true,
    "deletable": true,
    "editable": true
   },
   "outputs": [],
   "source": [
    "columnsTitles = ['state_num', 'state']\n",
    "first_admin_df = df.reindex(columns=columnsTitles)"
   ]
  },
  {
   "cell_type": "code",
   "execution_count": null,
   "metadata": {
    "collapsed": false,
    "deletable": true,
    "editable": true
   },
   "outputs": [],
   "source": [
    "# sort\n",
    "# first_admin_df = = first_admin_df.sort(['state_num'], ascending=[1], inplace='True')\n",
    "first_admin_df = first_admin_df.sort(['state_num'], ascending=[1])"
   ]
  },
  {
   "cell_type": "code",
   "execution_count": null,
   "metadata": {
    "collapsed": false,
    "deletable": true,
    "editable": true
   },
   "outputs": [],
   "source": [
    "# drop duplicates\n",
    "first_admin_df.drop_duplicates()"
   ]
  },
  {
   "cell_type": "code",
   "execution_count": null,
   "metadata": {
    "collapsed": true,
    "deletable": true,
    "editable": true
   },
   "outputs": [],
   "source": [
    "# Second Admin\n",
    "columnsTitles = ['lga_num', 'lga', 'state_num']\n",
    "second_admin_df = df.reindex(columns=columnsTitles)"
   ]
  },
  {
   "cell_type": "code",
   "execution_count": null,
   "metadata": {
    "collapsed": false,
    "deletable": true,
    "editable": true
   },
   "outputs": [],
   "source": [
    "# drop duplicates\n",
    "second_admin_df.drop_duplicates()"
   ]
  },
  {
   "cell_type": "code",
   "execution_count": null,
   "metadata": {
    "collapsed": false,
    "deletable": true,
    "editable": true
   },
   "outputs": [],
   "source": [
    "second_admin_df.reset_index()\n",
    "#del.second_admin_df.index"
   ]
  },
  {
   "cell_type": "code",
   "execution_count": 63,
   "metadata": {
    "collapsed": false,
    "deletable": true,
    "editable": true
   },
   "outputs": [
    {
     "data": {
      "text/plain": [
       "siteid\n",
       "1604110008     715\n",
       "1604110026     562\n",
       "1604110045     765\n",
       "1604110052     895\n",
       "1604110053     806\n",
       "1606110023     562\n",
       "1606110026     547\n",
       "1606110027    1072\n",
       "1606110028    1174\n",
       "1606110033     466\n",
       "1609           763\n",
       "1609110004     464\n",
       "1609110007     615\n",
       "1609110017     494\n",
       "1609110021     184\n",
       "1609110022      39\n",
       "1609110026     813\n",
       "1702110002    1466\n",
       "1702110006    1258\n",
       "1702110010    2968\n",
       "1702110014    2849\n",
       "1702110018    6488\n",
       "1702210001     223\n",
       "1703110007    1485\n",
       "1703110012    1527\n",
       "1703110023    1540\n",
       "1703110025    1623\n",
       "1703110030    3383\n",
       "1703110032    1722\n",
       "1703110036    1728\n",
       "              ... \n",
       "821110027      289\n",
       "821110028        4\n",
       "821110029      724\n",
       "821110030      601\n",
       "821110031      200\n",
       "821110032      350\n",
       "821110033      264\n",
       "821110034      168\n",
       "821110035      467\n",
       "821110036      164\n",
       "821210017        4\n",
       "824110002      398\n",
       "824110004       42\n",
       "824110020        4\n",
       "824110024        4\n",
       "824110025       18\n",
       "825110005      862\n",
       "825110010     1083\n",
       "827!!00!3       39\n",
       "827110001      291\n",
       "827110004      254\n",
       "827110007      368\n",
       "827110008      308\n",
       "827110009      220\n",
       "827110010      190\n",
       "827110012      486\n",
       "827110013      651\n",
       "827110015      141\n",
       "82711OOO4       94\n",
       "837110010      171\n",
       "Name: amar, dtype: int64"
      ]
     },
     "execution_count": 63,
     "metadata": {},
     "output_type": "execute_result"
    }
   ],
   "source": [
    "df_filtered['amar'].groupby(df_filtered['siteid']).sum()"
   ]
  },
  {
   "cell_type": "code",
   "execution_count": 92,
   "metadata": {
    "collapsed": false,
    "deletable": true,
    "editable": true
   },
   "outputs": [
    {
     "data": {
      "text/plain": [
       "<Site: Site Nassarawo Maternity Clinic>"
      ]
     },
     "execution_count": 92,
     "metadata": {},
     "output_type": "execute_result"
    }
   ],
   "source": [
    "Site.objects.get(siteid=1606110027)"
   ]
  },
  {
   "cell_type": "code",
   "execution_count": 89,
   "metadata": {
    "collapsed": false,
    "deletable": true,
    "editable": true
   },
   "outputs": [],
   "source": [
    "df_filtered['siteid'] = pd.to_numeric(df_filtered.siteid, errors='coerce')\n",
    "df_filtered = df_filtered.query('siteid==siteid')\n",
    "df_filtered['siteid'] = df_filtered.siteid.astype('int')"
   ]
  },
  {
   "cell_type": "code",
   "execution_count": 90,
   "metadata": {
    "collapsed": false,
    "deletable": true,
    "editable": true
   },
   "outputs": [
    {
     "data": {
      "text/plain": [
       "array([      3313, 3308110010, 3304110025, 3308110033, 3304110028,\n",
       "       3304110010, 3308110038, 3308110018, 3304110003, 3313110040,\n",
       "       3313110028,       3306, 3304110019, 3308110015, 3313110037,\n",
       "       3313110029, 3313110007, 3305110007, 3306110011, 3306110019,\n",
       "             3503, 3306110017, 3319110025, 3306110015, 3319110014,\n",
       "       3305110018,       3305, 3305110027, 3319110016, 3305110024,\n",
       "       3305110017, 3319110031, 3306110001, 3319110029, 3317210028,\n",
       "       3301210002, 3317110023, 3301110008, 3319210011, 3317110012,\n",
       "       3317110007, 3316210012, 3317110011, 3301110015, 3301110011,\n",
       "       3308210004, 3321110043, 3313110033, 3317220020, 3321110023,\n",
       "       3301110021, 3321110020, 3301110017, 3321110015, 3304210004,\n",
       "       3321110001, 3317110009, 3321310007, 3609110014, 1606110026,\n",
       "       1604110026, 1606110028, 1609110017, 1604110053, 1609110007,\n",
       "       1606110027,       1609, 1606110023, 1604110008, 1604110045,\n",
       "       1606110033, 1604110052, 1609110022, 1609110021, 1609110004,\n",
       "        512110040,  513110017,  504110027,  504110033,  512110003,\n",
       "        504210004,  513110042,  513210023,  512110044,  513110028,\n",
       "        512110027,  504110010,  513110003,  512210018,  504110020,\n",
       "        512110020,  513110021,  504110035, 1704110015, 1720110002,\n",
       "       1704210002, 1704110013, 1706210019, 1720110010, 1704110016,\n",
       "       1720110017, 1713210005, 1710110003, 1709210009,       1704,\n",
       "       1710110007, 1704110007, 1710110008, 1704110019, 1720110003,\n",
       "       1710110013, 1710110009, 1720110001, 1714110008, 1714110022,\n",
       "       1714110014, 1719110015, 1703110032,       1714, 1703110007,\n",
       "       1719110023, 1714110033, 1703110030, 1719110010, 1714210021,\n",
       "       1719110024, 1703310004, 1703110036, 1703110012, 1703110025,\n",
       "       1731110034, 1714110001, 1703210001, 1703110023, 1719110017,\n",
       "       1717110019, 1727110005, 1717110010, 1716110005, 1716110009,\n",
       "       1716110002, 1716110015, 1717110005, 1727110010, 1717110001,\n",
       "       1717110018, 1716110003, 1727110014, 1727110007, 1727110008,\n",
       "       1702110010, 1702110002, 1724110005, 1724110003, 1724110012,\n",
       "       1724110001, 1724110008, 1702110006, 1702110018, 1712110015,\n",
       "       1712110010, 1712110011, 1712110008, 1702110014, 1712110003,\n",
       "       1702210001, 1717110015, 3517110018, 3517110014, 3517110004,\n",
       "       3517110008, 3517110005, 3516110004, 3511110016, 3511110005,\n",
       "             3511, 3511110003, 3517110020, 3516110002, 3517110016,\n",
       "       3516110019, 3517110006, 3511110018, 3517110019, 3511110006,\n",
       "       3517110022, 3516110027, 3516210018, 3513110014, 3503110017,\n",
       "       3503110010, 3503210022, 3513110005, 3504110040,       3513,\n",
       "       3503110007, 3513110003, 3503110020, 3513110010, 3513110001,\n",
       "       3504110017, 3504110039, 3504110015, 3513110016, 3504110032,\n",
       "       3512110012, 3512110014, 3515110008, 3509110044, 3515110002,\n",
       "       3512110028, 3509110008, 3509110032, 3512110031, 3509110020,\n",
       "       3512110004, 3509110013, 3515110007, 3509110018, 3515110011,\n",
       "       3509110003, 3503110019, 3509110026, 3515110005, 3509110021,\n",
       "       3509110028,  202110027, 3514110035, 3505110032, 3514110025,\n",
       "       3514110006, 3505110012, 3505110024, 3514110032, 3505110025,\n",
       "       3514110033, 3514110010, 3514110005, 3514110026, 3514110031,\n",
       "       3505110014, 3505110034, 3505110002, 3505110003, 3514110024,\n",
       "       3505110041, 3514110009, 3514110001, 3505110016, 3514110023,\n",
       "       3514110015, 3505110045, 3505110028, 3505110049, 3505110038,\n",
       "       3505110037, 3502110027, 3501110006, 3501110023, 3502110005,\n",
       "       3513110017, 3514110017, 3501110011, 3501110024, 3513110006,\n",
       "       3502110019, 3502110012, 3501110003, 3501110014, 3501110002,\n",
       "       3502110025, 3502110031, 3502110002, 3503110016, 3501110007,\n",
       "       3501110013, 3502110028, 3503110012, 3501110009, 3513310012,\n",
       "       3502110041, 3503110013,       3515, 3513110008, 3513110004,\n",
       "       3501110010, 3506110013, 3510110019, 3506110016, 3510110005,\n",
       "       3506110008, 3510110013, 3503110018, 3506110005, 3506110021,\n",
       "       3510110001, 3510110006, 3510110007, 3510110009, 3506110003,\n",
       "       3506110002, 3503110014, 3510110011, 3510110004,       3506,\n",
       "       3510110018, 3503110004,       3507, 3507110022, 3508110005,\n",
       "       3508110009,       3508, 3505110040, 3506110014, 3507110006,\n",
       "       3507110008, 3512110033, 3507110014, 3507110016, 3508110008,\n",
       "       1609110026, 3502110014, 3512110010, 3505110006, 3508110020,\n",
       "       3508110021, 3508110034,  813110020,  808110002,  814110002,\n",
       "        807110009,  813110017,  813110016,  814110004,  807110016,\n",
       "        813110001,  803210026,  813110011,  807210007,  807110006,\n",
       "        813110003,  813110023,  803210010,  809110004,  809110001,\n",
       "        813110012, 3505110017, 3508110029,  816110007,  825110010,\n",
       "        825110005,  820110006,  820110007,  824110004,  824110025,\n",
       "        816110001,  824110002,  816110004,  821110001,  821110013,\n",
       "        821110009,  821110014,  809110008,  824110020,  816110003,\n",
       "        816110008,  821110027,  819110012,  816110005,  820110008,\n",
       "        821110012,  816110028,  813110007,  824110024,  816110029,\n",
       "        816110022,  813110006,  821110025,  821110007,  821210017,\n",
       "        816110013,  821110008,  813110024,  821110028,  821110029,\n",
       "        816110030,  821110033,  821110035,  821110036,  813110025,\n",
       "        813110027,  813110026,  821110034,  816110031,  821110032,\n",
       "        813110028,  821110031,  821110030,  813110029, 3512110011,\n",
       "        212110049,  209110019,  212110045,  217110028,  219110004,\n",
       "        217110037,  216110015,  209110011,  203110037,  216110001,\n",
       "        219110016,  212110003,  209110025,  216110035,  216110032,\n",
       "              208,  209110009,  203110053,  216110010,  212110010,\n",
       "        208110024,  208110006,  219110009,        203,  203110043,\n",
       "              212,  208110029,  206110004,  217110030,  217110038,\n",
       "        208110021,  209110005,  203110038,  206110020,  212110030,\n",
       "        219110020,  217110006,  206110011,  208110033,  206110034,\n",
       "        203110002,  206110032,  203110052,  204110026,        218,\n",
       "        201410014,  202110021,  218110030,  204110035,  201110026,\n",
       "        202110019,  218110063,  218110053,  202110035,  207110055,\n",
       "        218110025,  204110029,        221,  201110007,  202110068,\n",
       "        221110012,  201110009,  204110006,        204,  218110009,\n",
       "        221110009,  220110023,  221110007,  220110044,  205110030,\n",
       "        207110082,  220110045,  204110014,  201110021,  221110013,\n",
       "        207110015,  207110089,  201110029,  207110088,  220110012,\n",
       "        221110027,  211110015,  210110016,  210110027,  214110044,\n",
       "        215110017,  214110039,  215110046,  214110032,  211110029,\n",
       "        215110001, 1823110013,  215110024,  213110043,  210110042,\n",
       "              214,  213110055,  210110054,  211110047,  213110006,\n",
       "        214110013,  213110059,  213110012,  210110033,  214110004,\n",
       "              213,       3512, 2003110033, 2018110008, 2001110069,\n",
       "       1944110016, 1921110005, 2001110059, 1921110011, 2001110024,\n",
       "       1905110002, 1940110006, 1944110012, 2003110030, 2001110004,\n",
       "       2018110036, 2027110034, 2018110013, 2001110030, 1921110017,\n",
       "       2018110022, 1936110026, 2003110011, 1936110021, 2021210011,\n",
       "       1808210001, 1930110002, 2027110001, 2027110037, 2018110009,\n",
       "       2003110054, 1928110001, 1905110035, 2018110027, 2027110012,\n",
       "       2018110031, 2027110016, 2003110065, 3512110006, 1944110008,\n",
       "       1936110009,       2024, 1921210003, 2024110022, 1928110002,\n",
       "       2024110035, 2024110001, 2033110009, 1921210002, 2004110017,\n",
       "       1905110013, 2033110032, 2004110002, 2004110006, 2004110024,\n",
       "       2004110010, 2004110019, 1936110002, 2033110037, 2024110013,\n",
       "       2033110001, 2033110022, 1940110002, 2004210001, 2004110009,\n",
       "       2004110016, 2004110035, 2004110013, 2024110020, 2004110042,\n",
       "       1928110006, 2004110034, 1940110023, 2007210001, 2007110042,\n",
       "       2007110006, 2015110026, 2016110031, 1944110014, 2015210001,\n",
       "       2016110029, 2016110026, 2021210016, 2021310034, 2015110005,\n",
       "       2005110001, 1928110010, 2005110025, 1936110030, 1905110003,\n",
       "       2016110009, 2015110016, 2034110030, 1940110003, 2015110031,\n",
       "       2034110021, 2015110006, 1944110006, 1940110009, 2016110001,\n",
       "             1905, 1905210001, 2010110001, 2011110029, 1944210001,\n",
       "       2034110010, 2010110015, 1905110015, 1921110016, 2026110016,\n",
       "       2026110038, 2034110001, 2034110027, 2034110005, 2011120005,\n",
       "       2011110021, 2010110011, 2034110015, 2011120010, 2011120015,\n",
       "       2010110013, 1928110011, 3611110022, 2034110029, 2034110018,\n",
       "       2034110031, 2026110022, 2034110006, 2011110030, 2011110019,\n",
       "       2011120008, 2026110030, 2010110014, 2010110005, 2011110002,\n",
       "       2010110009, 2011120007, 2011110001, 2011120017, 2010110007,\n",
       "       2011110025, 2034110023, 2034110016, 2026110002, 3607210063,\n",
       "       2010110006, 2010210017, 3607210005, 3602110005, 3602110014,\n",
       "       3609110026, 3609110002, 3602110009, 3609110022, 3602110011,\n",
       "       3602110020, 3607310003, 3609110043, 3609210040, 3602110024,\n",
       "       3602110002, 3611210034, 3607210081, 3611110009, 3603110012,\n",
       "       3611110026, 3611110031, 3603110002, 3611110033, 3603110029,\n",
       "       3603110037, 3603210001, 3603110018,       3602, 3611110018,\n",
       "       3602210001, 3605110051, 3613110010, 3605110020, 3613110001,\n",
       "       3613110044, 3613110022, 3605210026,       3613, 3605110027,\n",
       "       3613110051, 3605110056, 3613210035, 3605110063, 3605110016,\n",
       "       3605110035, 3605110058,  350911013, 2109110003, 2114110011,\n",
       "       2105110021, 2109110025, 2114110001, 2117110009, 2105110007,\n",
       "       2117110018, 2105110001, 2114110020, 2117110001, 2105110014,\n",
       "       2117110016, 2119110009, 2119110003, 2109110016, 2114110013,\n",
       "       2114110007, 2119110001, 2117110010, 2119110014, 2105110015,\n",
       "       2109110008, 2109110026,       2119, 2119110020, 2004110027,\n",
       "       2118110014, 2113110001, 2113110008, 2108110009, 2118110005,\n",
       "       2118110003, 2115110001, 2118110018, 2108110003, 2118110015,\n",
       "       2108110007, 2113110003, 2113110010, 2115110017, 2108110005,\n",
       "             2108, 2115110016, 2115110011, 2108110014, 2113110004,\n",
       "       2112110011, 2112110003, 2112110009, 2112110001, 2111110006,\n",
       "       2112110013,  210811003, 2112210004, 2111110011, 2103110005,\n",
       "       2103110010, 2103110001, 2117210008, 2108210020, 2120210010,\n",
       "       2116210002, 2111210012, 2102110020, 2102110022, 2106210021,\n",
       "       2103210004, 2111110008, 2102110012, 2111110003, 2103110019,\n",
       "       2102110001, 2114210012, 2106310025, 2121210012, 2103110003,\n",
       "       2111110007, 2109210028, 2106110020, 2106110027, 2104110017,\n",
       "       2104110003, 2106110017, 2106110004, 2104110006, 2106110031,\n",
       "       2106110019, 2106110011, 2106110029, 2104110010, 2104110004,\n",
       "       2106110007, 2106110001, 2104110001, 2106110013, 2106110002,\n",
       "       2106110006, 2104110002, 2104110012, 2106110015, 2104110014,\n",
       "       2106110009, 2104110008, 3611210024, 3513220015,  202610001,\n",
       "       2102110023, 2109110019,  802110024,  812110015,  806110004,\n",
       "        802110002,  802110022,  806110018,  802110007,  812110019,\n",
       "        812110001,  812110016,  802110010,  806110012,  812210022,\n",
       "        812110006,  812120009,  812110005,  812210021,  806110017,\n",
       "        806110002,  805110013,  805110010,  805110021,  805210001,\n",
       "        805120003,  827110015,  805110019,  827110007,  827110013,\n",
       "        805110006,  805110020,  805110007,  805110005,  837110010,\n",
       "        827110010,  827110008,  827110004,  827110009,  827110001,\n",
       "        804110015,  804110003,  804110005,  804110001,  818110013,\n",
       "        804110016,  818110001,  804110007,  818120011,  818110004,\n",
       "        804110011,  818110014,  818110008,  804110023,  818110006,\n",
       "        818110005,  818110007,  804110009,  818210002,  804210002,\n",
       "        827110012, 2115110019, 1823210001, 1807210001, 1818110024,\n",
       "       1805110033, 1805110031, 1809210002, 1805110032, 1818110036,\n",
       "             1818,       1823, 1801210020, 1818110011, 1818110025,\n",
       "       1823110068, 1805110047, 1818110041, 1823110043, 1805110023,\n",
       "       1818210001, 1823110029, 1805210001, 1823110061,  207140015,\n",
       "        818118813,  205110025, 3508110015,  210611020, 2001110002,\n",
       "        350110031])"
      ]
     },
     "execution_count": 90,
     "metadata": {},
     "output_type": "execute_result"
    }
   ],
   "source": [
    "# df_filtered.query('siteid==%s' % 1606110027)['amar'].groupby(df_filtered['weeknum']).sum()\n",
    "\n",
    "df_filtered[\"siteid\"].unique()"
   ]
  },
  {
   "cell_type": "code",
   "execution_count": 93,
   "metadata": {
    "collapsed": false,
    "deletable": true,
    "editable": true
   },
   "outputs": [
    {
     "name": "stdout",
     "output_type": "stream",
     "text": [
      "3313\n",
      "3308110010\n",
      "3304110025\n",
      "3308110033\n",
      "3304110028\n",
      "3304110010\n",
      "3308110038\n",
      "3308110018\n",
      "3304110003\n",
      "3313110040\n",
      "3313110028\n",
      "3306\n",
      "3304110019\n",
      "3308110015\n",
      "3313110037\n",
      "3313110029\n",
      "3313110007\n",
      "3305110007\n",
      "3306110011\n",
      "3306110019\n",
      "3503\n",
      "3306110017\n",
      "3319110025\n",
      "3306110015\n",
      "3319110014\n",
      "3305110018\n",
      "3305\n",
      "3305110027\n",
      "3319110016\n",
      "3305110024\n",
      "3305110017\n",
      "3319110031\n",
      "3306110001\n",
      "3319110029\n",
      "3317210028\n",
      "3301210002\n",
      "3317110023\n",
      "3301110008\n",
      "3319210011\n",
      "3317110012\n",
      "3317110007\n",
      "3316210012\n",
      "3317110011\n",
      "3301110015\n",
      "3301110011\n",
      "3308210004\n",
      "3321110043\n",
      "3313110033\n",
      "3317220020\n",
      "3321110023\n",
      "3301110021\n",
      "3321110020\n",
      "3301110017\n",
      "3321110015\n",
      "3304210004\n",
      "3321110001\n",
      "3317110009\n",
      "3321310007\n",
      "3609110014\n",
      "1606110026\n",
      "1604110026\n",
      "1606110028\n",
      "1609110017\n",
      "1604110053\n",
      "1609110007\n",
      "1606110027\n",
      "1609\n",
      "1606110023\n",
      "1604110008\n",
      "1604110045\n",
      "1606110033\n",
      "1604110052\n",
      "1609110022\n",
      "1609110021\n",
      "1609110004\n",
      "512110040\n",
      "513110017\n",
      "504110027\n",
      "504110033\n",
      "512110003\n",
      "504210004\n",
      "513110042\n",
      "513210023\n",
      "512110044\n",
      "513110028\n",
      "512110027\n",
      "504110010\n",
      "513110003\n",
      "512210018\n",
      "504110020\n",
      "512110020\n",
      "513110021\n",
      "504110035\n",
      "1704110015\n",
      "1720110002\n",
      "1704210002\n",
      "1704110013\n",
      "1706210019\n",
      "1720110010\n",
      "1704110016\n",
      "1720110017\n",
      "1713210005\n",
      "1710110003\n",
      "1709210009\n",
      "1704\n",
      "1710110007\n",
      "1704110007\n",
      "1710110008\n",
      "1704110019\n",
      "1720110003\n",
      "1710110013\n",
      "1710110009\n",
      "1720110001\n",
      "1714110008\n",
      "1714110022\n",
      "1714110014\n",
      "1719110015\n",
      "1703110032\n",
      "1714\n",
      "1703110007\n",
      "1719110023\n",
      "1714110033\n",
      "1703110030\n",
      "1719110010\n",
      "1714210021\n",
      "1719110024\n",
      "1703310004\n",
      "1703110036\n",
      "1703110012\n",
      "1703110025\n",
      "1731110034\n",
      "1714110001\n",
      "1703210001\n",
      "1703110023\n",
      "1719110017\n",
      "1717110019\n",
      "1727110005\n",
      "1717110010\n",
      "1716110005\n",
      "1716110009\n",
      "1716110002\n",
      "1716110015\n",
      "1717110005\n",
      "1727110010\n",
      "1717110001\n",
      "1717110018\n",
      "1716110003\n",
      "1727110014\n",
      "1727110007\n",
      "1727110008\n",
      "1702110010\n",
      "1702110002\n",
      "1724110005\n",
      "1724110003\n",
      "1724110012\n",
      "1724110001\n",
      "1724110008\n",
      "1702110006\n",
      "1702110018\n",
      "1712110015\n",
      "1712110010\n",
      "1712110011\n",
      "1712110008\n",
      "1702110014\n",
      "1712110003\n",
      "1702210001\n",
      "1717110015\n",
      "3517110018\n",
      "3517110014\n",
      "3517110004\n",
      "3517110008\n",
      "3517110005\n",
      "3516110004\n",
      "3511110016\n",
      "3511110005\n",
      "3511\n",
      "3511110003\n",
      "3517110020\n",
      "3516110002\n",
      "3517110016\n",
      "3516110019\n",
      "3517110006\n",
      "3511110018\n",
      "3517110019\n",
      "3511110006\n",
      "3517110022\n",
      "3516110027\n",
      "3516210018\n",
      "3513110014\n",
      "3503110017\n",
      "3503110010\n",
      "3503210022\n",
      "3513110005\n",
      "3504110040\n",
      "3513\n",
      "3503110007\n",
      "3513110003\n",
      "3503110020\n",
      "3513110010\n",
      "3513110001\n",
      "3504110017\n",
      "3504110039\n",
      "3504110015\n",
      "3513110016\n",
      "3504110032\n",
      "3512110012\n",
      "3512110014\n",
      "3515110008\n",
      "3509110044\n",
      "3515110002\n",
      "3512110028\n",
      "3509110008\n",
      "3509110032\n",
      "3512110031\n",
      "3509110020\n",
      "3512110004\n",
      "3509110013\n",
      "3515110007\n",
      "3509110018\n",
      "3515110011\n",
      "3509110003\n",
      "3503110019\n",
      "3509110026\n",
      "3515110005\n",
      "3509110021\n",
      "3509110028\n",
      "202110027\n",
      "3514110035\n",
      "3505110032\n",
      "3514110025\n",
      "3514110006\n",
      "3505110012\n",
      "3505110024\n",
      "3514110032\n",
      "3505110025\n",
      "3514110033\n",
      "3514110010\n",
      "3514110005\n",
      "3514110026\n",
      "3514110031\n",
      "3505110014\n",
      "3505110034\n",
      "3505110002\n",
      "3505110003\n",
      "3514110024\n",
      "3505110041\n",
      "3514110009\n",
      "3514110001\n",
      "3505110016\n",
      "3514110023\n",
      "3514110015\n",
      "3505110045\n",
      "3505110028\n",
      "3505110049\n",
      "3505110038\n",
      "3505110037\n",
      "3502110027\n",
      "3501110006\n",
      "3501110023\n",
      "3502110005\n",
      "3513110017\n",
      "3514110017\n",
      "3501110011\n",
      "3501110024\n",
      "3513110006\n",
      "3502110019\n",
      "3502110012\n",
      "3501110003\n",
      "3501110014\n",
      "3501110002\n",
      "3502110025\n",
      "3502110031\n",
      "3502110002\n",
      "3503110016\n",
      "3501110007\n",
      "3501110013\n",
      "3502110028\n",
      "3503110012\n",
      "3501110009\n",
      "3513310012\n",
      "3502110041\n",
      "3503110013\n",
      "3515\n",
      "3513110008\n",
      "3513110004\n",
      "3501110010\n",
      "3506110013\n",
      "3510110019\n",
      "3506110016\n",
      "3510110005\n",
      "3506110008\n",
      "3510110013\n",
      "3503110018\n",
      "3506110005\n",
      "3506110021\n",
      "3510110001\n",
      "3510110006\n",
      "3510110007\n",
      "3510110009\n",
      "3506110003\n",
      "3506110002\n",
      "3503110014\n",
      "3510110011\n",
      "3510110004\n",
      "3506\n",
      "3510110018\n",
      "3503110004\n",
      "3507\n",
      "3507110022\n",
      "3508110005\n",
      "3508110009\n",
      "3508\n",
      "3505110040\n",
      "3506110014\n",
      "3507110006\n",
      "3507110008\n",
      "3512110033\n",
      "3507110014\n",
      "3507110016\n",
      "3508110008\n",
      "1609110026\n",
      "3502110014\n",
      "3512110010\n",
      "3505110006\n",
      "3508110020\n",
      "3508110021\n",
      "3508110034\n",
      "813110020\n",
      "808110002\n",
      "814110002\n",
      "807110009\n",
      "813110017\n",
      "813110016\n",
      "814110004\n",
      "807110016\n",
      "813110001\n",
      "803210026\n",
      "813110011\n",
      "807210007\n",
      "807110006\n",
      "813110003\n",
      "813110023\n",
      "803210010\n",
      "809110004\n",
      "809110001\n",
      "813110012\n",
      "3505110017\n",
      "3508110029\n",
      "816110007\n",
      "825110010\n",
      "825110005\n",
      "820110006\n",
      "820110007\n",
      "824110004\n",
      "824110025\n",
      "816110001\n",
      "824110002\n",
      "816110004\n",
      "821110001\n",
      "821110013\n",
      "821110009\n",
      "821110014\n",
      "809110008\n",
      "824110020\n",
      "816110003\n",
      "816110008\n",
      "821110027\n",
      "819110012\n",
      "816110005\n",
      "820110008\n",
      "821110012\n",
      "816110028\n",
      "813110007\n",
      "824110024\n",
      "816110029\n",
      "816110022\n",
      "813110006\n",
      "821110025\n",
      "821110007\n",
      "821210017\n",
      "816110013\n",
      "821110008\n",
      "813110024\n",
      "821110028\n",
      "821110029\n",
      "816110030\n",
      "821110033\n",
      "821110035\n",
      "821110036\n",
      "813110025\n",
      "813110027\n",
      "813110026\n",
      "821110034\n",
      "816110031\n",
      "821110032\n",
      "813110028\n",
      "821110031\n",
      "821110030\n",
      "813110029\n",
      "3512110011\n",
      "212110049\n",
      "209110019\n",
      "212110045\n",
      "217110028\n",
      "219110004\n",
      "217110037\n",
      "216110015\n",
      "209110011\n",
      "203110037\n",
      "216110001\n",
      "219110016\n",
      "212110003\n",
      "209110025\n",
      "216110035\n",
      "216110032\n",
      "208\n",
      "209110009\n",
      "203110053\n",
      "216110010\n",
      "212110010\n",
      "208110024\n",
      "208110006\n",
      "219110009\n",
      "203\n",
      "203110043\n",
      "212\n",
      "208110029\n",
      "206110004\n",
      "217110030\n",
      "217110038\n",
      "208110021\n",
      "209110005\n",
      "203110038\n",
      "206110020\n",
      "212110030\n",
      "219110020\n",
      "217110006\n",
      "206110011\n",
      "208110033\n",
      "206110034\n",
      "203110002\n",
      "206110032\n",
      "203110052\n",
      "204110026\n",
      "218\n",
      "201410014\n",
      "202110021\n",
      "218110030\n",
      "204110035\n",
      "201110026\n",
      "202110019\n",
      "218110063\n",
      "218110053\n",
      "202110035\n",
      "207110055\n",
      "218110025\n",
      "204110029\n",
      "221\n",
      "201110007\n",
      "202110068\n",
      "221110012\n",
      "201110009\n",
      "204110006\n",
      "204\n",
      "218110009\n",
      "221110009\n",
      "220110023\n",
      "221110007\n",
      "220110044\n",
      "205110030\n",
      "207110082\n",
      "220110045\n",
      "204110014\n",
      "201110021\n",
      "221110013\n",
      "207110015\n",
      "207110089\n",
      "201110029\n",
      "207110088\n",
      "220110012\n",
      "221110027\n",
      "211110015\n",
      "210110016\n",
      "210110027\n",
      "214110044\n",
      "215110017\n",
      "214110039\n",
      "215110046\n",
      "214110032\n",
      "211110029\n",
      "215110001\n",
      "1823110013\n",
      "215110024\n",
      "213110043\n",
      "210110042\n",
      "214\n",
      "213110055\n",
      "210110054\n",
      "211110047\n",
      "213110006\n",
      "214110013\n",
      "213110059\n",
      "213110012\n",
      "210110033\n",
      "214110004\n",
      "213\n",
      "3512\n",
      "2003110033\n",
      "2018110008\n",
      "2001110069\n",
      "1944110016\n",
      "1921110005\n",
      "2001110059\n",
      "1921110011\n",
      "2001110024\n",
      "1905110002\n",
      "1940110006\n",
      "1944110012\n",
      "2003110030\n",
      "2001110004\n",
      "2018110036\n",
      "2027110034\n",
      "2018110013\n",
      "2001110030\n",
      "1921110017\n",
      "2018110022\n",
      "1936110026\n",
      "2003110011\n",
      "1936110021\n",
      "2021210011\n",
      "1808210001\n",
      "1930110002\n",
      "2027110001\n",
      "2027110037\n",
      "2018110009\n",
      "2003110054\n",
      "1928110001\n",
      "1905110035\n",
      "2018110027\n",
      "2027110012\n",
      "2018110031\n",
      "2027110016\n",
      "2003110065\n",
      "3512110006\n",
      "1944110008\n",
      "1936110009\n",
      "2024\n",
      "1921210003\n",
      "2024110022\n",
      "1928110002\n",
      "2024110035\n",
      "2024110001\n",
      "2033110009\n",
      "1921210002\n",
      "2004110017\n",
      "1905110013\n",
      "2033110032\n",
      "2004110002\n",
      "2004110006\n",
      "2004110024\n",
      "2004110010\n",
      "2004110019\n",
      "1936110002\n",
      "2033110037\n",
      "2024110013\n",
      "2033110001\n",
      "2033110022\n",
      "1940110002\n",
      "2004210001\n",
      "2004110009\n",
      "2004110016\n",
      "2004110035\n",
      "2004110013\n",
      "2024110020\n",
      "2004110042\n",
      "1928110006\n",
      "2004110034\n",
      "1940110023\n",
      "2007210001\n",
      "2007110042\n",
      "2007110006\n",
      "2015110026\n",
      "2016110031\n",
      "1944110014\n",
      "2015210001\n",
      "2016110029\n",
      "2016110026\n",
      "2021210016\n",
      "2021310034\n",
      "2015110005\n",
      "2005110001\n",
      "1928110010\n",
      "2005110025\n",
      "1936110030\n",
      "1905110003\n",
      "2016110009\n",
      "2015110016\n",
      "2034110030\n",
      "1940110003\n",
      "2015110031\n",
      "2034110021\n",
      "2015110006\n",
      "1944110006\n",
      "1940110009\n",
      "2016110001\n",
      "1905\n",
      "1905210001\n",
      "2010110001\n",
      "2011110029\n",
      "1944210001\n",
      "2034110010\n",
      "2010110015\n",
      "1905110015\n",
      "1921110016\n",
      "2026110016\n",
      "2026110038\n",
      "2034110001\n",
      "2034110027\n",
      "2034110005\n",
      "2011120005\n",
      "2011110021\n",
      "2010110011\n",
      "2034110015\n",
      "2011120010\n",
      "2011120015\n",
      "2010110013\n",
      "1928110011\n",
      "3611110022\n",
      "2034110029\n",
      "2034110018\n",
      "2034110031\n",
      "2026110022\n",
      "2034110006\n",
      "2011110030\n",
      "2011110019\n",
      "2011120008\n",
      "2026110030\n",
      "2010110014\n",
      "2010110005\n",
      "2011110002\n",
      "2010110009\n",
      "2011120007\n",
      "2011110001\n",
      "2011120017\n",
      "2010110007\n",
      "2011110025\n",
      "2034110023\n",
      "2034110016\n",
      "2026110002\n",
      "3607210063\n",
      "2010110006\n",
      "2010210017\n",
      "3607210005\n",
      "3602110005\n",
      "3602110014\n",
      "3609110026\n",
      "3609110002\n",
      "3602110009\n",
      "3609110022\n",
      "3602110011\n",
      "3602110020\n",
      "3607310003\n",
      "3609110043\n",
      "3609210040\n",
      "3602110024\n",
      "3602110002\n",
      "3611210034\n",
      "3607210081\n",
      "3611110009\n",
      "3603110012\n",
      "3611110026\n",
      "3611110031\n",
      "3603110002\n",
      "3611110033\n",
      "3603110029\n",
      "3603110037\n",
      "3603210001\n",
      "3603110018\n",
      "3602\n",
      "3611110018\n",
      "3602210001\n",
      "3605110051\n",
      "3613110010\n",
      "3605110020\n",
      "3613110001\n",
      "3613110044\n",
      "3613110022\n",
      "3605210026\n",
      "3613\n",
      "3605110027\n",
      "3613110051\n",
      "3605110056\n",
      "3613210035\n",
      "3605110063\n",
      "3605110016\n",
      "3605110035\n",
      "3605110058\n",
      "350911013\n",
      "2109110003\n",
      "2114110011\n",
      "2105110021\n",
      "2109110025\n",
      "2114110001\n",
      "2117110009\n",
      "2105110007\n",
      "2117110018\n",
      "2105110001\n",
      "2114110020\n",
      "2117110001\n",
      "2105110014\n",
      "2117110016\n",
      "2119110009\n",
      "2119110003\n",
      "2109110016\n",
      "2114110013\n",
      "2114110007\n",
      "2119110001\n",
      "2117110010\n",
      "2119110014\n",
      "2105110015\n",
      "2109110008\n",
      "2109110026\n",
      "2119\n",
      "2119110020\n",
      "2004110027\n",
      "2118110014\n",
      "2113110001\n",
      "2113110008\n",
      "2108110009\n",
      "2118110005\n",
      "2118110003\n",
      "2115110001\n",
      "2118110018\n",
      "2108110003\n",
      "2118110015\n",
      "2108110007\n",
      "2113110003\n",
      "2113110010\n",
      "2115110017\n",
      "2108110005\n",
      "2108\n",
      "2115110016\n",
      "2115110011\n",
      "2108110014\n",
      "2113110004\n",
      "2112110011\n",
      "2112110003\n",
      "2112110009\n",
      "2112110001\n",
      "2111110006\n",
      "2112110013\n",
      "210811003\n",
      "2112210004\n",
      "2111110011\n",
      "2103110005\n",
      "2103110010\n",
      "2103110001\n",
      "2117210008\n",
      "2108210020\n",
      "2120210010\n",
      "2116210002\n",
      "2111210012\n",
      "2102110020\n",
      "2102110022\n",
      "2106210021\n",
      "2103210004\n",
      "2111110008\n",
      "2102110012\n",
      "2111110003\n",
      "2103110019\n",
      "2102110001\n",
      "2114210012\n",
      "2106310025\n",
      "2121210012\n",
      "2103110003\n",
      "2111110007\n",
      "2109210028\n",
      "2106110020\n",
      "2106110027\n",
      "2104110017\n",
      "2104110003\n",
      "2106110017\n",
      "2106110004\n",
      "2104110006\n",
      "2106110031\n",
      "2106110019\n",
      "2106110011\n",
      "2106110029\n",
      "2104110010\n",
      "2104110004\n",
      "2106110007\n",
      "2106110001\n",
      "2104110001\n",
      "2106110013\n",
      "2106110002\n",
      "2106110006\n",
      "2104110002\n",
      "2104110012\n",
      "2106110015\n",
      "2104110014\n",
      "2106110009\n",
      "2104110008\n",
      "3611210024\n",
      "3513220015\n",
      "202610001\n",
      "2102110023\n",
      "2109110019\n",
      "802110024\n",
      "812110015\n",
      "806110004\n",
      "802110002\n",
      "802110022\n",
      "806110018\n",
      "802110007\n",
      "812110019\n",
      "812110001\n",
      "812110016\n",
      "802110010\n",
      "806110012\n",
      "812210022\n",
      "812110006\n",
      "812120009\n",
      "812110005\n",
      "812210021\n",
      "806110017\n",
      "806110002\n",
      "805110013\n",
      "805110010\n",
      "805110021\n",
      "805210001\n",
      "805120003\n",
      "827110015\n",
      "805110019\n",
      "827110007\n",
      "827110013\n",
      "805110006\n",
      "805110020\n",
      "805110007\n",
      "805110005\n",
      "837110010\n",
      "827110010\n",
      "827110008\n",
      "827110004\n",
      "827110009\n",
      "827110001\n",
      "804110015\n",
      "804110003\n",
      "804110005\n",
      "804110001\n",
      "818110013\n",
      "804110016\n",
      "818110001\n",
      "804110007\n",
      "818120011\n",
      "818110004\n",
      "804110011\n",
      "818110014\n",
      "818110008\n",
      "804110023\n",
      "818110006\n",
      "818110005\n",
      "818110007\n",
      "804110009\n",
      "818210002\n",
      "804210002\n",
      "827110012\n",
      "2115110019\n",
      "1823210001\n",
      "1807210001\n",
      "1818110024\n",
      "1805110033\n",
      "1805110031\n",
      "1809210002\n",
      "1805110032\n",
      "1818110036\n",
      "1818\n",
      "1823\n",
      "1801210020\n",
      "1818110011\n",
      "1818110025\n",
      "1823110068\n",
      "1805110047\n",
      "1818110041\n",
      "1823110043\n",
      "1805110023\n",
      "1818210001\n",
      "1823110029\n",
      "1805210001\n",
      "1823110061\n",
      "207140015\n",
      "818118813\n",
      "205110025\n",
      "3508110015\n",
      "210611020\n",
      "2001110002\n",
      "350110031\n"
     ]
    }
   ],
   "source": [
    "for i in df_filtered[\"siteid\"].unique():\n",
    "    try:\n",
    "        if len(df_filtered.query('siteid==%s' % i)) > 0:\n",
    "            print i\n",
    "    except SyntaxError:\n",
    "        pass"
   ]
  },
  {
   "cell_type": "code",
   "execution_count": 101,
   "metadata": {
    "collapsed": false,
    "deletable": true,
    "editable": true
   },
   "outputs": [
    {
     "data": {
      "text/plain": [
       "<matplotlib.axes._subplots.AxesSubplot at 0x7f0c7bb92f90>"
      ]
     },
     "execution_count": 101,
     "metadata": {},
     "output_type": "execute_result"
    },
    {
     "data": {
      "image/png": "[encoded data removed]",
      "text/plain": [
       "<matplotlib.figure.Figure at 0x7f0c7a2380d0>"
      ]
     },
     "metadata": {},
     "output_type": "display_data"
    }
   ],
   "source": [
    "df_filtered.query('siteid==%s' % 3308110038)['amar'].groupby(df_filtered['weeknum']).sum().plot()"
   ]
  },
  {
   "cell_type": "code",
   "execution_count": 103,
   "metadata": {
    "collapsed": false,
    "deletable": true,
    "editable": true,
    "scrolled": true
   },
   "outputs": [
    {
     "data": {
      "text/plain": [
       "<Site: Site Kalmalo Dispensary>"
      ]
     },
     "execution_count": 103,
     "metadata": {},
     "output_type": "execute_result"
    }
   ],
   "source": [
    "Site.objects.get(siteid=3308110038)"
   ]
  },
  {
   "cell_type": "code",
   "execution_count": 104,
   "metadata": {
    "collapsed": false,
    "deletable": true,
    "editable": true
   },
   "outputs": [
    {
     "data": {
      "text/html": [
       "<div>\n",
       "<table border=\"1\" class=\"dataframe\">\n",
       "  <thead>\n",
       "    <tr style=\"text-align: right;\">\n",
       "      <th></th>\n",
       "      <th>index</th>\n",
       "      <th>contact_uuid</th>\n",
       "      <th>urn</th>\n",
       "      <th>name</th>\n",
       "      <th>groups</th>\n",
       "      <th>siteid</th>\n",
       "      <th>first_seen</th>\n",
       "      <th>last_seen</th>\n",
       "      <th>weeknum</th>\n",
       "      <th>role</th>\n",
       "      <th>...</th>\n",
       "      <th>dcur</th>\n",
       "      <th>dead</th>\n",
       "      <th>defu</th>\n",
       "      <th>dmed</th>\n",
       "      <th>tout</th>\n",
       "      <th>confirm</th>\n",
       "      <th>unique</th>\n",
       "      <th>siteid_lgt</th>\n",
       "      <th>state_num</th>\n",
       "      <th>lga_num</th>\n",
       "    </tr>\n",
       "  </thead>\n",
       "  <tbody>\n",
       "    <tr>\n",
       "      <th>2</th>\n",
       "      <td>2</td>\n",
       "      <td>343bd73a-ac74-4835-b2e5-13590d61d335</td>\n",
       "      <td>2348081798563</td>\n",
       "      <td>Muhammad Ibrahim.</td>\n",
       "      <td>Imam Supervision, Imam Supervision 2, Imam Sup...</td>\n",
       "      <td>3313</td>\n",
       "      <td>2016-06-28 13:12:56</td>\n",
       "      <td>2016-06-28 13:15:33</td>\n",
       "      <td>26</td>\n",
       "      <td>Site</td>\n",
       "      <td>...</td>\n",
       "      <td>12</td>\n",
       "      <td>0</td>\n",
       "      <td>1</td>\n",
       "      <td>0</td>\n",
       "      <td>0</td>\n",
       "      <td>Yes</td>\n",
       "      <td>2348081798563 2016-06-28 13:12:56</td>\n",
       "      <td>4</td>\n",
       "      <td>33</td>\n",
       "      <td>3313</td>\n",
       "    </tr>\n",
       "    <tr>\n",
       "      <th>3</th>\n",
       "      <td>3</td>\n",
       "      <td>25ad4c50-5316-4f41-9aaf-d58aba7216ff</td>\n",
       "      <td>2347032140235</td>\n",
       "      <td>Abdullahi Lawali Araba.</td>\n",
       "      <td>Imam Supervision, Imam Supervision 2, Imam Sup...</td>\n",
       "      <td>3308110010</td>\n",
       "      <td>2016-06-28 13:09:28</td>\n",
       "      <td>2016-06-28 13:19:16</td>\n",
       "      <td>23</td>\n",
       "      <td>Site</td>\n",
       "      <td>...</td>\n",
       "      <td>10</td>\n",
       "      <td>0</td>\n",
       "      <td>0</td>\n",
       "      <td>0</td>\n",
       "      <td>0</td>\n",
       "      <td>Yes</td>\n",
       "      <td>2347032140235 2016-06-28 13:09:28</td>\n",
       "      <td>10</td>\n",
       "      <td>33</td>\n",
       "      <td>3308</td>\n",
       "    </tr>\n",
       "    <tr>\n",
       "      <th>4</th>\n",
       "      <td>4</td>\n",
       "      <td>25ad4c50-5316-4f41-9aaf-d58aba7216ff</td>\n",
       "      <td>2347032140235</td>\n",
       "      <td>Abdullahi Lawali Araba.</td>\n",
       "      <td>Imam Supervision, Imam Supervision 2, Imam Sup...</td>\n",
       "      <td>3308110010</td>\n",
       "      <td>2016-07-10 09:20:25</td>\n",
       "      <td>2016-07-10 09:33:28</td>\n",
       "      <td>22</td>\n",
       "      <td>Site</td>\n",
       "      <td>...</td>\n",
       "      <td>15</td>\n",
       "      <td>0</td>\n",
       "      <td>1</td>\n",
       "      <td>0</td>\n",
       "      <td>0</td>\n",
       "      <td>Yes</td>\n",
       "      <td>2347032140235 2016-07-10 09:20:25</td>\n",
       "      <td>10</td>\n",
       "      <td>33</td>\n",
       "      <td>3308</td>\n",
       "    </tr>\n",
       "    <tr>\n",
       "      <th>5</th>\n",
       "      <td>5</td>\n",
       "      <td>25ad4c50-5316-4f41-9aaf-d58aba7216ff</td>\n",
       "      <td>2347032140235</td>\n",
       "      <td>Abdullahi Lawali Araba.</td>\n",
       "      <td>Imam Supervision, Imam Supervision 2, Imam Sup...</td>\n",
       "      <td>3308110010</td>\n",
       "      <td>2016-07-10 09:48:19</td>\n",
       "      <td>2016-07-10 10:02:26</td>\n",
       "      <td>23</td>\n",
       "      <td>Site</td>\n",
       "      <td>...</td>\n",
       "      <td>10</td>\n",
       "      <td>0</td>\n",
       "      <td>0</td>\n",
       "      <td>0</td>\n",
       "      <td>0</td>\n",
       "      <td>Yes</td>\n",
       "      <td>2347032140235 2016-07-10 09:48:19</td>\n",
       "      <td>10</td>\n",
       "      <td>33</td>\n",
       "      <td>3308</td>\n",
       "    </tr>\n",
       "    <tr>\n",
       "      <th>6</th>\n",
       "      <td>6</td>\n",
       "      <td>25ad4c50-5316-4f41-9aaf-d58aba7216ff</td>\n",
       "      <td>2347032140235</td>\n",
       "      <td>Abdullahi Lawali Araba.</td>\n",
       "      <td>Imam Supervision, Imam Supervision 2, Imam Sup...</td>\n",
       "      <td>3308110010</td>\n",
       "      <td>2016-07-10 12:39:12</td>\n",
       "      <td>2016-07-10 12:51:23</td>\n",
       "      <td>24</td>\n",
       "      <td>Site</td>\n",
       "      <td>...</td>\n",
       "      <td>2</td>\n",
       "      <td>0</td>\n",
       "      <td>1</td>\n",
       "      <td>0</td>\n",
       "      <td>0</td>\n",
       "      <td>Yes</td>\n",
       "      <td>2347032140235 2016-07-10 12:39:12</td>\n",
       "      <td>10</td>\n",
       "      <td>33</td>\n",
       "      <td>3308</td>\n",
       "    </tr>\n",
       "  </tbody>\n",
       "</table>\n",
       "<p>5 rows × 27 columns</p>\n",
       "</div>"
      ],
      "text/plain": [
       "   index                          contact_uuid            urn  \\\n",
       "2      2  343bd73a-ac74-4835-b2e5-13590d61d335  2348081798563   \n",
       "3      3  25ad4c50-5316-4f41-9aaf-d58aba7216ff  2347032140235   \n",
       "4      4  25ad4c50-5316-4f41-9aaf-d58aba7216ff  2347032140235   \n",
       "5      5  25ad4c50-5316-4f41-9aaf-d58aba7216ff  2347032140235   \n",
       "6      6  25ad4c50-5316-4f41-9aaf-d58aba7216ff  2347032140235   \n",
       "\n",
       "                      name                                             groups  \\\n",
       "2        Muhammad Ibrahim.  Imam Supervision, Imam Supervision 2, Imam Sup...   \n",
       "3  Abdullahi Lawali Araba.  Imam Supervision, Imam Supervision 2, Imam Sup...   \n",
       "4  Abdullahi Lawali Araba.  Imam Supervision, Imam Supervision 2, Imam Sup...   \n",
       "5  Abdullahi Lawali Araba.  Imam Supervision, Imam Supervision 2, Imam Sup...   \n",
       "6  Abdullahi Lawali Araba.  Imam Supervision, Imam Supervision 2, Imam Sup...   \n",
       "\n",
       "       siteid          first_seen           last_seen  weeknum  role   ...    \\\n",
       "2        3313 2016-06-28 13:12:56 2016-06-28 13:15:33       26  Site   ...     \n",
       "3  3308110010 2016-06-28 13:09:28 2016-06-28 13:19:16       23  Site   ...     \n",
       "4  3308110010 2016-07-10 09:20:25 2016-07-10 09:33:28       22  Site   ...     \n",
       "5  3308110010 2016-07-10 09:48:19 2016-07-10 10:02:26       23  Site   ...     \n",
       "6  3308110010 2016-07-10 12:39:12 2016-07-10 12:51:23       24  Site   ...     \n",
       "\n",
       "  dcur dead defu dmed tout  confirm                             unique  \\\n",
       "2   12    0    1    0    0      Yes  2348081798563 2016-06-28 13:12:56   \n",
       "3   10    0    0    0    0      Yes  2347032140235 2016-06-28 13:09:28   \n",
       "4   15    0    1    0    0      Yes  2347032140235 2016-07-10 09:20:25   \n",
       "5   10    0    0    0    0      Yes  2347032140235 2016-07-10 09:48:19   \n",
       "6    2    0    1    0    0      Yes  2347032140235 2016-07-10 12:39:12   \n",
       "\n",
       "  siteid_lgt state_num lga_num  \n",
       "2          4        33    3313  \n",
       "3         10        33    3308  \n",
       "4         10        33    3308  \n",
       "5         10        33    3308  \n",
       "6         10        33    3308  \n",
       "\n",
       "[5 rows x 27 columns]"
      ]
     },
     "execution_count": 104,
     "metadata": {},
     "output_type": "execute_result"
    }
   ],
   "source": [
    "df_filtered.head()\n"
   ]
  },
  {
   "cell_type": "code",
   "execution_count": 116,
   "metadata": {
    "collapsed": false,
    "deletable": true,
    "editable": true
   },
   "outputs": [
    {
     "data": {
      "text/plain": [
       "array([  12,   10,   15,    2,   24,    8,   18,    5,    7,   16,   22,\n",
       "         13,   14,   19,   25,   26,   28,   20,    4,   30,   29,    9,\n",
       "         31,   11,    6,   39,    3,    1,   21,   17,  496,   34,  168,\n",
       "         81,   53,   23,   36,   62,   32,   41,   33,   86,   27,   38,\n",
       "         45,   49,   40,   48,   37,   47,   46,   42,   67,    0,   35,\n",
       "         43,   99,   74,   79,   72,   61,   52,  219,   93,   65,   64,\n",
       "         57,   66,   56,   55,   51,   68,   50,   58,   44,   80,   82,\n",
       "         75,   78,   84,   60,   70,   89,   92,   77,  125,   54,  185,\n",
       "         59,   69,   96,   83,   76,   71,   73,  423,  108,   98,   88,\n",
       "        128,   85,   91,   94,  144,   90,   63,  118,  786,  123,  184,\n",
       "        186,  193,  201,  130,  110,  124,  142,  288, 1943,  152,   87,\n",
       "        113,  165,   97,  140,  114,  199,  102,  422,  101,   95,  107,\n",
       "        120,  104,  100,  150,  196,  146,  166,  161,  121,  214,  194,\n",
       "        109,  111,  187,  210,  295,  229,  148,  154,  351,  195,  122,\n",
       "        247])"
      ]
     },
     "execution_count": 116,
     "metadata": {},
     "output_type": "execute_result"
    }
   ],
   "source": [
    "df_filtered['dcur'] = pd.to_numeric(df_filtered.dcur, errors='coerce')\n",
    "df_filtered = df_filtered.query('dcur==dcur').query('0<dcur')\n",
    "df_filtered['dcur'] = df_filtered.dcur.astype(int)\n",
    "df_filtered['dcur'].unique()"
   ]
  },
  {
   "cell_type": "code",
   "execution_count": 117,
   "metadata": {
    "collapsed": false,
    "deletable": true,
    "editable": true
   },
   "outputs": [
    {
     "data": {
      "text/plain": [
       "array([  15,    1,    8,   22,   10,    3,    2,    4,    9,   12,   21,\n",
       "         20,   47,   46,   11,    7,    5,    6,    0,   16,   75,  235,\n",
       "        219,   25,   19,   18,   40,   14,   29,   27,   45,   28,   34,\n",
       "         39,   23,   96,  124,   33,   90, 1943,   52,   41,  152,   60,\n",
       "         26,  232,   17,   32,   37,   13,   64,   24,   95,  140,   62,\n",
       "         49,   44,   54,   36,   35,  265,   51,  162,   48,   30,   50,\n",
       "         42,  195,   55,   81,   38,   77,   84,  529])"
      ]
     },
     "execution_count": 117,
     "metadata": {},
     "output_type": "execute_result"
    }
   ],
   "source": [
    "df_filtered['dead'] = pd.to_numeric(df_filtered.dead, errors='coerce')\n",
    "df_filtered = df_filtered.query('dead==dead').query('0<dead')\n",
    "df_filtered['dead'] = df_filtered.dead.astype(int)\n",
    "df_filtered['dead'].unique()"
   ]
  },
  {
   "cell_type": "code",
   "execution_count": 118,
   "metadata": {
    "collapsed": false,
    "deletable": true,
    "editable": true
   },
   "outputs": [
    {
     "data": {
      "text/plain": [
       "array([  1,  22,  36,  23,   7,   3,   2,  46,   4,   8,  10,  12,   5,\n",
       "         6,  13,   0,  33,  20, 235,  29, 284,   9,  56,  39,  41,  18,\n",
       "       104,  40,  49,  89,  34,  21, 170,  17,  11,  15,  16,  26, 232,\n",
       "        52,  24,  45,  47,  14, 421,  31,  37,  27,  50,  54,  25,  19,\n",
       "       119,  48,  80,  43, 194, 144,  42,  32, 195,  84,  51])"
      ]
     },
     "execution_count": 118,
     "metadata": {},
     "output_type": "execute_result"
    }
   ],
   "source": [
    "df_filtered['defu'] = pd.to_numeric(df_filtered.defu, errors='coerce')\n",
    "df_filtered = df_filtered.query('defu==defu').query('0<defu')\n",
    "df_filtered['defu'] = df_filtered.defu.astype(int)\n",
    "df_filtered['defu'].unique()"
   ]
  },
  {
   "cell_type": "code",
   "execution_count": 119,
   "metadata": {
    "collapsed": false,
    "deletable": true,
    "editable": true
   },
   "outputs": [
    {
     "data": {
      "text/plain": [
       "array([ 22,   4,   1,  46,   2,  14,   5,   8,   3,   7,  15, 235,   9,\n",
       "        12,   6,  56,  19,  18, 786,  78,  51,  52,  55,  77,  41,  20,\n",
       "        24,  76,  25, 208,  45,  17,  47,  10,  11,  16, 162,  37,   0,\n",
       "        44,  99,  42,  94, 195,  33,  35,  36,  84,  49,  13])"
      ]
     },
     "execution_count": 119,
     "metadata": {},
     "output_type": "execute_result"
    }
   ],
   "source": [
    "df_filtered['dmed'] = pd.to_numeric(df_filtered.dmed, errors='coerce')\n",
    "df_filtered = df_filtered.query('dmed==dmed').query('0<dmed')\n",
    "df_filtered['dmed'] = df_filtered.dmed.astype(int)\n",
    "df_filtered['dmed'].unique()"
   ]
  },
  {
   "cell_type": "code",
   "execution_count": 120,
   "metadata": {
    "collapsed": false,
    "deletable": true,
    "editable": true
   },
   "outputs": [
    {
     "data": {
      "text/plain": [
       "array([496,  46,   2,  18,   5,   8,  16,   1,   4,  20,  11,  14,  10,\n",
       "        75,   3,   6,   7, 786,  41,  36, 232,  17,  52,  30,  28,  12,\n",
       "       208,  45,  47,   0,  50,  37, 187, 172,  26,  48,  23, 195,  13,\n",
       "        84,  49,  51,   9])"
      ]
     },
     "execution_count": 120,
     "metadata": {},
     "output_type": "execute_result"
    }
   ],
   "source": [
    "df_filtered['tout'] = pd.to_numeric(df_filtered.tout, errors='coerce')\n",
    "df_filtered = df_filtered.query('tout==tout').query('0<tout')\n",
    "df_filtered['tout'] = df_filtered.tout.astype(int)\n",
    "df_filtered['tout'].unique()"
   ]
  },
  {
   "cell_type": "code",
   "execution_count": 122,
   "metadata": {
    "collapsed": false,
    "deletable": true,
    "editable": true
   },
   "outputs": [],
   "source": [
    "# Default rate\n",
    "# Numerator - defaults\n",
    "# Denominator - total exits\n",
    "df_filtered['total_exits']=df_filtered.dcur.astype(int)+df_filtered.dead+df_filtered.defu+df_filtered.dmed+df_filtered.tout"
   ]
  },
  {
   "cell_type": "code",
   "execution_count": 123,
   "metadata": {
    "collapsed": false,
    "deletable": true,
    "editable": true
   },
   "outputs": [
    {
     "data": {
      "text/plain": [
       "128     1058\n",
       "736      230\n",
       "1167      32\n",
       "1251      62\n",
       "1253      26\n",
       "Name: total_exits, dtype: int64"
      ]
     },
     "execution_count": 123,
     "metadata": {},
     "output_type": "execute_result"
    }
   ],
   "source": [
    "df_filtered.total_exits.head()"
   ]
  },
  {
   "cell_type": "code",
   "execution_count": 124,
   "metadata": {
    "collapsed": false,
    "deletable": true,
    "editable": true
   },
   "outputs": [
    {
     "data": {
      "text/plain": [
       "<matplotlib.axes._subplots.AxesSubplot at 0x7f0c7aff9b50>"
      ]
     },
     "execution_count": 124,
     "metadata": {},
     "output_type": "execute_result"
    },
    {
     "data": {
      "image/png": "[encoded data removed]",
      "text/plain": [
       "<matplotlib.figure.Figure at 0x7f0c7a61a3d0>"
      ]
     },
     "metadata": {},
     "output_type": "display_data"
    }
   ],
   "source": [
    "df_filtered['total_exits'].groupby(df_filtered['weeknum']).sum().plot()"
   ]
  },
  {
   "cell_type": "code",
   "execution_count": 125,
   "metadata": {
    "collapsed": false,
    "deletable": true,
    "editable": true
   },
   "outputs": [],
   "source": [
    "df_filtered['default_rate']= df_filtered.defu / df_filtered.total_exits"
   ]
  },
  {
   "cell_type": "code",
   "execution_count": 126,
   "metadata": {
    "collapsed": false,
    "deletable": true,
    "editable": true
   },
   "outputs": [
    {
     "data": {
      "text/plain": [
       "<matplotlib.axes._subplots.AxesSubplot at 0x7f0c7c3a1310>"
      ]
     },
     "execution_count": 126,
     "metadata": {},
     "output_type": "execute_result"
    },
    {
     "data": {
      "image/png": "[encoded data removed]",
      "text/plain": [
       "<matplotlib.figure.Figure at 0x7f0c7c1b6f50>"
      ]
     },
     "metadata": {},
     "output_type": "display_data"
    }
   ],
   "source": [
    "df_filtered['default_rate'].groupby(df_filtered['weeknum']).sum().plot()"
   ]
  },
  {
   "cell_type": "code",
   "execution_count": null,
   "metadata": {
    "collapsed": true,
    "deletable": true,
    "editable": true
   },
   "outputs": [],
   "source": []
  }
 ],
 "metadata": {
  "kernelspec": {
   "display_name": "Python 2",
   "language": "python",
   "name": "python2"
  },
  "language_info": {
   "codemirror_mode": {
    "name": "ipython",
    "version": 2
   },
   "file_extension": ".py",
   "mimetype": "text/x-python",
   "name": "python",
   "nbconvert_exporter": "python",
   "pygments_lexer": "ipython2",
   "version": "2.7.12"
  }
 },
 "nbformat": 4,
 "nbformat_minor": 2
}
